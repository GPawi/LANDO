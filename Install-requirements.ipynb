{
 "cells": [
  {
   "cell_type": "markdown",
   "metadata": {
    "kernel": "SoS"
   },
   "source": [
    "## Windows and macOS users: Please run the following two cells to install all the necessary packages for the R kernel"
   ]
  },
  {
   "cell_type": "code",
   "execution_count": null,
   "metadata": {
    "kernel": "R"
   },
   "outputs": [],
   "source": [
    "get_os <- function(){\n",
    "  sysinf <- Sys.info()\n",
    "  if (!is.null(sysinf)){\n",
    "    os <- sysinf['sysname']\n",
    "    if (os == 'Darwin')\n",
    "      os <- \"osx\"\n",
    "  } else { ## mystery machine\n",
    "    os <- .Platform$OS.type\n",
    "    if (grepl(\"^darwin\", R.version$os))\n",
    "      os <- \"osx\"\n",
    "    if (grepl(\"linux-gnu\", R.version$os))\n",
    "      os <- \"linux\"\n",
    "  }\n",
    "  tolower(os)\n",
    "}"
   ]
  },
  {
   "cell_type": "code",
   "execution_count": null,
   "metadata": {
    "kernel": "R"
   },
   "outputs": [],
   "source": [
    "list.of.packages <- c('arrow'\n",
    "                      ,'Bchron'\n",
    "                      ,'changepoint'\n",
    "                      ,'clam'\n",
    "                      ,'DescTools'\n",
    "                      ,'devtools'\n",
    "                      ,'doParallel'\n",
    "                      ,'doRNG'\n",
    "                      ,'doSNOW'\n",
    "                      ,'dplyr'\n",
    "                      ,'ff'\n",
    "                      ,'ffbase'\n",
    "                      ,'foreach'\n",
    "                      ,'forecast'\n",
    "                      ,'FuzzyNumbers'\n",
    "                      ,'IntCal'\n",
    "                      ,'IRkernel'\n",
    "                      ,'knitr'\n",
    "                      ,'lubridate'\n",
    "                      ,'maptools'\n",
    "                      ,'Metrics'\n",
    "                      ,'R.devices'\n",
    "                      ,'raster'\n",
    "                      ,'remotes'\n",
    "                      ,'rstan'\n",
    "                      ,'sets'\n",
    "                      ,'tidyverse'\n",
    "                      ,'tseries')\n",
    "\n",
    "new.packages <- list.of.packages[!(list.of.packages %in% installed.packages()[,\"Package\"])]\n",
    "if(length(new.packages)) {\n",
    "    install.packages(new.packages, repos = \"https://cloud.r-project.org\")\n",
    "    }\n",
    "\n",
    "library('devtools')\n",
    "if (get_os() == 'osx'){\n",
    "    install_version('clam', version='2.3.9', repos= \"https://cloud.r-project.org\")\n",
    "    install_version('rbacon', version='2.5.2', repos= \"https://cloud.r-project.org\")\n",
    "} else if (get_os() == 'windows'){\n",
    "    install_version('clam', version='2.3.9', repos= \"https://cloud.r-project.org\")\n",
    "    install_version('rbacon', version='2.5.2', repos= \"https://cloud.r-project.org\")\n",
    "    install_version('arrow', version='2.0.0', repos= \"https://cloud.r-project.org\")\n",
    "} else {print ('No specification for linux!')}\n",
    "\n",
    "remotes::install_github(\"earthsystemdiagnostics/hamstr\")\n",
    "remotes::install_github(\"earthsystemdiagnostics/hamstrbacon\")"
   ]
  },
  {
   "cell_type": "markdown",
   "metadata": {
    "kernel": "R"
   },
   "source": [
    "## Only for macOS users"
   ]
  },
  {
   "cell_type": "code",
   "execution_count": null,
   "metadata": {
    "kernel": "Octave"
   },
   "outputs": [],
   "source": [
    "pkg install -forge io\n",
    "pkg install -forge statistics\n",
    "pkg install -forge dataframe\n",
    "pkg install -forge struct\n",
    "pkg install -forge parallel"
   ]
  }
 ],
 "metadata": {
  "kernelspec": {
   "display_name": "SoS",
   "language": "sos",
   "name": "sos"
  },
  "language_info": {
   "codemirror_mode": "sos",
   "file_extension": ".sos",
   "mimetype": "text/x-sos",
   "name": "sos",
   "nbconvert_exporter": "sos_notebook.converter.SoS_Exporter",
   "pygments_lexer": "sos"
  },
  "sos": {
   "kernels": [
    [
     "Octave",
     "octave",
     "Octave",
     "#dff8fb",
     ""
    ],
    [
     "R",
     "ir",
     "R",
     "#DCDCDA",
     "r"
    ]
   ],
   "panel": {
    "displayed": true,
    "height": 0
   },
   "version": "0.20.1"
  }
 },
 "nbformat": 4,
 "nbformat_minor": 5
}

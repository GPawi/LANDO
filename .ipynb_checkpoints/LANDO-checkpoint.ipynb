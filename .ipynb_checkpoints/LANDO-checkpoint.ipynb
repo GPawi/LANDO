{
 "cells": [
  {
   "cell_type": "markdown",
   "metadata": {
    "kernel": "SoS"
   },
   "source": [
    "# Setup"
   ]
  },
  {
   "cell_type": "markdown",
   "metadata": {
    "kernel": "SoS"
   },
   "source": [
    "### Import libraries"
   ]
  },
  {
   "cell_type": "code",
   "execution_count": 1,
   "metadata": {
    "kernel": "SoS",
    "tags": []
   },
   "outputs": [],
   "source": [
    "import numpy as np\n",
    "import pandas as pd\n",
    "import matplotlib.pyplot as plt\n",
    "import seaborn as sns\n",
    "import os\n",
    "import sys\n",
    "import datetime\n",
    "from src import (get_data as gd, \n",
    "                 prepare as prep, \n",
    "                 aggregate_data as aggregate,\n",
    "                 push_data,\n",
    "                 sedi_rate,\n",
    "                 age_sr_plot)\n",
    "###\n",
    "orig_dir = os.getcwd()"
   ]
  },
  {
   "cell_type": "markdown",
   "metadata": {
    "kernel": "SoS"
   },
   "source": [
    "# Main Data"
   ]
  },
  {
   "cell_type": "markdown",
   "metadata": {
    "kernel": "SoS"
   },
   "source": [
    "### Retrieve data "
   ]
  },
  {
   "cell_type": "code",
   "execution_count": 2,
   "metadata": {
    "kernel": "SoS",
    "tags": []
   },
   "outputs": [
    {
     "data": {
      "application/vnd.jupyter.widget-view+json": {
       "model_id": "97b74fc608ed4a358d6b038b90c614a3",
       "version_major": 2,
       "version_minor": 0
      },
      "text/plain": [
       "FileChooser(path='/home/jovyan/work/input_files', filename='', title='', show_hidden=False, select_desc='Selec…"
      ]
     },
     "metadata": {},
     "output_type": "display_data"
    }
   ],
   "source": [
    "dates = gd.AgeFromFileOneCore()"
   ]
  },
  {
   "cell_type": "code",
   "execution_count": 3,
   "metadata": {
    "kernel": "SoS",
    "tags": []
   },
   "outputs": [],
   "source": [
    "dates.get_dates()"
   ]
  },
  {
   "cell_type": "markdown",
   "metadata": {
    "kernel": "SoS"
   },
   "source": [
    "### Add calibration curve to data"
   ]
  },
  {
   "cell_type": "code",
   "execution_count": 4,
   "metadata": {
    "kernel": "SoS",
    "tags": []
   },
   "outputs": [],
   "source": [
    "dates.select_calibration_curve(default_curve = 'IntCal20', user_selection = False)"
   ]
  },
  {
   "cell_type": "code",
   "execution_count": 5,
   "metadata": {
    "kernel": "SoS",
    "tags": []
   },
   "outputs": [],
   "source": [
    "dates.add_calibration_curve()"
   ]
  },
  {
   "cell_type": "markdown",
   "metadata": {
    "kernel": "SoS"
   },
   "source": [
    "### Put data in variables"
   ]
  },
  {
   "cell_type": "code",
   "execution_count": 6,
   "metadata": {
    "kernel": "SoS",
    "tags": []
   },
   "outputs": [],
   "source": [
    "AllAges = dates.all_ages\n",
    "CoreIDs = dates.all_coreid_list\n",
    "CoreLengths = dates.all_core_lengths\n",
    "SR_mode = 'naive'"
   ]
  },
  {
   "cell_type": "code",
   "execution_count": 7,
   "metadata": {
    "kernel": "SoS",
    "tags": []
   },
   "outputs": [],
   "source": [
    "aggRC = lambda: None\n",
    "aggRC.dttp = \"No\""
   ]
  },
  {
   "cell_type": "markdown",
   "metadata": {
    "kernel": "SoS"
   },
   "source": [
    "# Reservoir correction"
   ]
  },
  {
   "cell_type": "markdown",
   "metadata": {
    "kernel": "SoS"
   },
   "source": [
    "#### Prep"
   ]
  },
  {
   "cell_type": "code",
   "execution_count": 16,
   "metadata": {
    "kernel": "SoS",
    "tags": []
   },
   "outputs": [],
   "source": [
    "os.chdir(orig_dir)\n",
    "RC = prep.PrepForReservoirCorrection(all_ages = AllAges)\n",
    "RC.prep_it()\n",
    "RC_Frame = RC.RC_Frame\n",
    "RC_CoreIDs = RC.RC_CoreIDs\n",
    "RC_CoreLengths = CoreLengths[CoreLengths.coreid.isin(RC_CoreIDs)]"
   ]
  },
  {
   "cell_type": "markdown",
   "metadata": {
    "kernel": "SoS"
   },
   "source": [
    "#### R run"
   ]
  },
  {
   "cell_type": "code",
   "execution_count": 17,
   "metadata": {
    "kernel": "R",
    "tags": []
   },
   "outputs": [],
   "source": [
    "%get RC_Frame\n",
    "%get RC_CoreIDs \n",
    "%get RC_CoreLengths"
   ]
  },
  {
   "cell_type": "code",
   "execution_count": 18,
   "metadata": {
    "kernel": "R",
    "tags": []
   },
   "outputs": [
    {
     "name": "stderr",
     "output_type": "stream",
     "text": [
      "Warning message:\n",
      "“Bulk Effective Samples Size (ESS) is too low, indicating posterior means and medians may be unreliable.\n",
      "Running the chains for more iterations may help. See\n",
      "https://mc-stan.org/misc/warnings.html#bulk-ess”\n",
      "Done with core number: 1 out of 1\n",
      "\n"
     ]
    }
   ],
   "source": [
    "K_fine <- 100\n",
    "source('src/Run_DefineReservoir.R', local = TRUE)"
   ]
  },
  {
   "cell_type": "code",
   "execution_count": 19,
   "metadata": {
    "kernel": "R",
    "tags": []
   },
   "outputs": [],
   "source": [
    "%put reservoir_core_results"
   ]
  },
  {
   "cell_type": "markdown",
   "metadata": {
    "kernel": "R"
   },
   "source": [
    "#### Aggregate results"
   ]
  },
  {
   "cell_type": "code",
   "execution_count": 20,
   "metadata": {
    "kernel": "SoS",
    "tags": []
   },
   "outputs": [],
   "source": [
    "aggRC = aggregate.AggDataReservoir(results = reservoir_core_results,\n",
    "                                   surface_dates = RC.desired_surface_dates,\n",
    "                                   verbose = 0)\n",
    "aggRC.results_agg()"
   ]
  },
  {
   "cell_type": "code",
   "execution_count": 21,
   "metadata": {
    "kernel": "SoS",
    "tags": []
   },
   "outputs": [],
   "source": [
    "AllAges = aggRC.add_reservoir(all_ages = AllAges)"
   ]
  },
  {
   "cell_type": "markdown",
   "metadata": {
    "kernel": "SoS"
   },
   "source": [
    "# Calibration\n",
    "#### Prep"
   ]
  },
  {
   "cell_type": "code",
   "execution_count": 22,
   "metadata": {
    "kernel": "SoS"
   },
   "outputs": [],
   "source": [
    "calib = prep.PrepForCalibration(all_ages = AllAges)\n",
    "calib.prep_it()\n",
    "calib_Frame = calib.calib_Frame"
   ]
  },
  {
   "cell_type": "markdown",
   "metadata": {
    "kernel": "SoS"
   },
   "source": [
    "#### R run"
   ]
  },
  {
   "cell_type": "code",
   "execution_count": 23,
   "metadata": {
    "kernel": "R"
   },
   "outputs": [],
   "source": [
    "%get calib_Frame --from SoS"
   ]
  },
  {
   "cell_type": "code",
   "execution_count": 24,
   "metadata": {
    "kernel": "R"
   },
   "outputs": [],
   "source": [
    "source('src/Run_calibration.R', local = TRUE)"
   ]
  },
  {
   "cell_type": "code",
   "execution_count": 25,
   "metadata": {
    "kernel": "R"
   },
   "outputs": [],
   "source": [
    "%put calib_dates"
   ]
  },
  {
   "cell_type": "markdown",
   "metadata": {
    "kernel": "SoS"
   },
   "source": [
    "# Age Modeling\n",
    "### UNDATABLE\n",
    "#### Prep"
   ]
  },
  {
   "cell_type": "code",
   "execution_count": 26,
   "metadata": {
    "kernel": "SoS",
    "scrolled": true
   },
   "outputs": [
    {
     "name": "stdout",
     "output_type": "stream",
     "text": [
      "Information: New files for Undatable created!\n"
     ]
    }
   ],
   "source": [
    "Undatable = prep.PrepForUndatable(all_ages = AllAges, \n",
    "                                  all_coreid_list = CoreIDs)\n",
    "Undatable.prep_it()\n",
    "CoreID_array = Undatable.CoreID_array"
   ]
  },
  {
   "cell_type": "markdown",
   "metadata": {
    "kernel": "SoS"
   },
   "source": [
    "#### Octave run"
   ]
  },
  {
   "cell_type": "code",
   "execution_count": 27,
   "metadata": {
    "kernel": "Octave"
   },
   "outputs": [],
   "source": [
    "%get CoreID_array"
   ]
  },
  {
   "cell_type": "code",
   "execution_count": 28,
   "metadata": {
    "kernel": "Octave"
   },
   "outputs": [
    {
     "name": "stdout",
     "output_type": "stream",
     "text": [
      "\u001b[?2004l\n",
      "\u001b[?2004h\u001b[?2004l\n",
      "\u001b[?2004h\u001b[?2004l\n",
      "\u001b[?2004h"
     ]
    }
   ],
   "source": [
    "xfactor = 0.1;\n",
    "bootpc = 30;\n",
    "run_Undatable(CoreID_array, xfactor, bootpc);"
   ]
  },
  {
   "cell_type": "markdown",
   "metadata": {
    "kernel": "MATLAB"
   },
   "source": [
    "#### Aggregate results"
   ]
  },
  {
   "cell_type": "code",
   "execution_count": 29,
   "metadata": {
    "kernel": "SoS"
   },
   "outputs": [],
   "source": [
    "aggU = aggregate.AggDataUndatable(Undatable, orig_dir, dttp = aggRC.dttp)\n",
    "aggU.results_agg()"
   ]
  },
  {
   "cell_type": "markdown",
   "metadata": {
    "kernel": "SoS"
   },
   "source": [
    "#### Calculate sedimentation rate"
   ]
  },
  {
   "cell_type": "code",
   "execution_count": 30,
   "metadata": {
    "kernel": "SoS"
   },
   "outputs": [],
   "source": [
    "SRUn = sedi_rate.CalculateSediRate(aggU, model = 'Undatable', coreid = CoreIDs, mode = SR_mode)\n",
    "SRUn.calculating_SR()"
   ]
  },
  {
   "cell_type": "markdown",
   "metadata": {
    "kernel": "SoS"
   },
   "source": [
    "#### Push results to database"
   ]
  },
  {
   "cell_type": "code",
   "execution_count": 31,
   "metadata": {
    "kernel": "SoS"
   },
   "outputs": [
    {
     "name": "stdout",
     "output_type": "stream",
     "text": [
      "Information: LANDO is not connected to a database, so nothing was uploaded.\n"
     ]
    }
   ],
   "source": [
    "push = push_data.PushIt(agg = aggU,\n",
    "                        engine = dates.engine,\n",
    "                        model = 'Undatable')\n",
    "push.push_to_db()"
   ]
  },
  {
   "cell_type": "code",
   "execution_count": 32,
   "metadata": {
    "kernel": "SoS"
   },
   "outputs": [
    {
     "name": "stdout",
     "output_type": "stream",
     "text": [
      "Information: All unwanted Undatable files have been deleted\n"
     ]
    }
   ],
   "source": [
    "os.chdir(orig_dir)\n",
    "push.delete_files(location_UndatableFolder = Undatable.location_UndatableFolder,\n",
    "                  coreids = Undatable.coreid_df)"
   ]
  },
  {
   "cell_type": "markdown",
   "metadata": {
    "kernel": "SoS"
   },
   "source": [
    "### Bchron"
   ]
  },
  {
   "cell_type": "markdown",
   "metadata": {
    "kernel": "SoS"
   },
   "source": [
    "#### Prep"
   ]
  },
  {
   "cell_type": "code",
   "execution_count": 33,
   "metadata": {
    "kernel": "SoS"
   },
   "outputs": [],
   "source": [
    "os.chdir(orig_dir)\n",
    "Bchron = prep.PrepForBchron(all_ages = AllAges)\n",
    "Bchron.prep_it()\n",
    "Bchron_Frame = Bchron.Bchron_Frame"
   ]
  },
  {
   "cell_type": "markdown",
   "metadata": {
    "kernel": "SoS"
   },
   "source": [
    "#### R run"
   ]
  },
  {
   "cell_type": "code",
   "execution_count": 34,
   "metadata": {
    "kernel": "R"
   },
   "outputs": [],
   "source": [
    "%get Bchron_Frame --from SoS \n",
    "%get CoreIDs --from SoS\n",
    "%get CoreLengths --from SoS"
   ]
  },
  {
   "cell_type": "code",
   "execution_count": 35,
   "metadata": {
    "kernel": "R"
   },
   "outputs": [
    {
     "name": "stdout",
     "output_type": "stream",
     "text": [
      "Running Bchronology...\n",
      "  |============================================================| 100%\n",
      "Run completed!\n"
     ]
    },
    {
     "name": "stderr",
     "output_type": "stream",
     "text": [
      " Done with core EN18218 - Number 1 out of 1\n",
      "\n"
     ]
    }
   ],
   "source": [
    "source('src/Run_Bchron.R')"
   ]
  },
  {
   "cell_type": "code",
   "execution_count": 36,
   "metadata": {
    "kernel": "R"
   },
   "outputs": [],
   "source": [
    "%put Bchron_core_results"
   ]
  },
  {
   "cell_type": "markdown",
   "metadata": {
    "kernel": "R"
   },
   "source": [
    "#### Aggregate results"
   ]
  },
  {
   "cell_type": "code",
   "execution_count": 37,
   "metadata": {
    "kernel": "SoS"
   },
   "outputs": [],
   "source": [
    "aggBc = aggregate.AggDataBchron(Bchron_core_results, dttp = aggRC.dttp)\n",
    "aggBc.results_agg()"
   ]
  },
  {
   "cell_type": "markdown",
   "metadata": {
    "kernel": "SoS"
   },
   "source": [
    "#### Calculating sedimentation rate"
   ]
  },
  {
   "cell_type": "code",
   "execution_count": 38,
   "metadata": {
    "kernel": "SoS"
   },
   "outputs": [],
   "source": [
    "SRBc = sedi_rate.CalculateSediRate(aggBc, model = 'Bchron', coreid = CoreIDs, mode = SR_mode)\n",
    "SRBc.calculating_SR()"
   ]
  },
  {
   "cell_type": "markdown",
   "metadata": {
    "kernel": "SoS"
   },
   "source": [
    "#### Push results to database"
   ]
  },
  {
   "cell_type": "code",
   "execution_count": 39,
   "metadata": {
    "kernel": "SoS"
   },
   "outputs": [
    {
     "name": "stdout",
     "output_type": "stream",
     "text": [
      "Information: LANDO is not connected to a database, so nothing was uploaded.\n"
     ]
    }
   ],
   "source": [
    "push = push_data.PushIt(agg = aggBc,\n",
    "                        engine = dates.engine,\n",
    "                        model = 'Bchron')\n",
    "push.push_to_db()"
   ]
  },
  {
   "cell_type": "markdown",
   "metadata": {
    "kernel": "SoS"
   },
   "source": [
    "### hamstr"
   ]
  },
  {
   "cell_type": "markdown",
   "metadata": {
    "kernel": "SoS"
   },
   "source": [
    "#### Prep"
   ]
  },
  {
   "cell_type": "code",
   "execution_count": 40,
   "metadata": {
    "kernel": "SoS"
   },
   "outputs": [],
   "source": [
    "hamstr = prep.PrepForHamstr(all_ages = AllAges)\n",
    "hamstr.prep_it()\n",
    "hamstr_Frame = hamstr.hamstr_Frame"
   ]
  },
  {
   "cell_type": "markdown",
   "metadata": {
    "kernel": "SoS"
   },
   "source": [
    "#### R Run"
   ]
  },
  {
   "cell_type": "code",
   "execution_count": 41,
   "metadata": {
    "kernel": "R"
   },
   "outputs": [],
   "source": [
    "%get hamstr_Frame --from SoS \n",
    "%get CoreIDs --from SoS\n",
    "%get CoreLengths --from SoS"
   ]
  },
  {
   "cell_type": "code",
   "execution_count": 42,
   "metadata": {
    "kernel": "R",
    "scrolled": true
   },
   "outputs": [
    {
     "name": "stderr",
     "output_type": "stream",
     "text": [
      "Done with core: EN18218\n",
      "\n"
     ]
    }
   ],
   "source": [
    "K_fine <- 100\n",
    "source('src/Run_hamstr.R', local = TRUE)"
   ]
  },
  {
   "cell_type": "code",
   "execution_count": 43,
   "metadata": {
    "kernel": "R"
   },
   "outputs": [],
   "source": [
    "%put hamstr_core_results"
   ]
  },
  {
   "cell_type": "markdown",
   "metadata": {
    "kernel": "R"
   },
   "source": [
    "#### Aggregate"
   ]
  },
  {
   "cell_type": "code",
   "execution_count": 44,
   "metadata": {
    "kernel": "SoS"
   },
   "outputs": [],
   "source": [
    "aggh = aggregate.AggDataHamstr(hamstr_core_results, dttp = aggRC.dttp)\n",
    "aggh.results_agg()"
   ]
  },
  {
   "cell_type": "markdown",
   "metadata": {
    "kernel": "SoS"
   },
   "source": [
    "#### Calculating sedimentation rate"
   ]
  },
  {
   "cell_type": "code",
   "execution_count": 45,
   "metadata": {
    "kernel": "SoS"
   },
   "outputs": [],
   "source": [
    "SRh = sedi_rate.CalculateSediRate(aggh, model = 'hamstr', coreid = CoreIDs, mode = SR_mode)\n",
    "SRh.calculating_SR()"
   ]
  },
  {
   "cell_type": "markdown",
   "metadata": {
    "kernel": "SoS"
   },
   "source": [
    "#### Push results to database"
   ]
  },
  {
   "cell_type": "code",
   "execution_count": 46,
   "metadata": {
    "kernel": "SoS"
   },
   "outputs": [
    {
     "name": "stdout",
     "output_type": "stream",
     "text": [
      "Information: LANDO is not connected to a database, so nothing was uploaded.\n"
     ]
    }
   ],
   "source": [
    "push = push_data.PushIt(agg = aggh,\n",
    "                        engine = dates.engine,\n",
    "                        model = 'hamstr')\n",
    "push.push_to_db()"
   ]
  },
  {
   "cell_type": "markdown",
   "metadata": {
    "kernel": "SoS"
   },
   "source": [
    "### Bacon"
   ]
  },
  {
   "cell_type": "markdown",
   "metadata": {
    "kernel": "SoS"
   },
   "source": [
    "#### Prep"
   ]
  },
  {
   "cell_type": "code",
   "execution_count": 8,
   "metadata": {
    "kernel": "SoS"
   },
   "outputs": [],
   "source": [
    "Bacon = prep.PrepForBacon(all_ages = AllAges)\n",
    "Bacon.prep_it()\n",
    "Bacon_Frame = Bacon.Bacon_Frame"
   ]
  },
  {
   "cell_type": "markdown",
   "metadata": {
    "kernel": "SoS"
   },
   "source": [
    "#### R Run"
   ]
  },
  {
   "cell_type": "code",
   "execution_count": 9,
   "metadata": {
    "kernel": "R"
   },
   "outputs": [],
   "source": [
    "%get Bacon_Frame --from SoS \n",
    "%get CoreIDs --from SoS\n",
    "%get CoreLengths --from SoS"
   ]
  },
  {
   "cell_type": "code",
   "execution_count": null,
   "metadata": {
    "kernel": "R"
   },
   "outputs": [],
   "source": [
    "acc.shape <- 1.5\n",
    "acc.mean <- 20\n",
    "rbacon.change.acc.mean <- FALSE\n",
    "mem.strength <- 10\n",
    "mem.mean <- 0.5\n",
    "ssize <- 8000\n",
    "source('src/Run_Bacon.R', local = TRUE)"
   ]
  },
  {
   "cell_type": "code",
   "execution_count": 14,
   "metadata": {
    "kernel": "R"
   },
   "outputs": [],
   "source": [
    "%put Bacon_core_results"
   ]
  },
  {
   "cell_type": "markdown",
   "metadata": {
    "editable": true,
    "kernel": "SoS",
    "slideshow": {
     "slide_type": ""
    },
    "tags": []
   },
   "source": [
    "#### Aggregate"
   ]
  },
  {
   "cell_type": "code",
   "execution_count": 15,
   "metadata": {
    "kernel": "SoS"
   },
   "outputs": [
    {
     "ename": "ExecuteError",
     "evalue": "[0]: \n---------------------------------------------------------------------------\nNameError                                 Traceback (most recent call last)\nscript_5008785247713905051 in <module>\n----> aggBa = aggregate.AggDataBacon(Bacon_core_results, dttp = aggRC.dttp)\n      aggBa.results_agg()\n      \n\nNameError: name 'Bacon_core_results' is not defined",
     "execution_count": 15,
     "output_type": "error",
     "status": "error",
     "traceback": [
      "\u001b[91m[0]: \n---------------------------------------------------------------------------\nNameError                                 Traceback (most recent call last)\nscript_5008785247713905051 in <module>\n----> aggBa = aggregate.AggDataBacon(Bacon_core_results, dttp = aggRC.dttp)\n      aggBa.results_agg()\n      \n\nNameError: name 'Bacon_core_results' is not defined\u001b[0m"
     ]
    }
   ],
   "source": [
    "aggBa = aggregate.AggDataBacon(Bacon_core_results, dttp = aggRC.dttp)\n",
    "aggBa.results_agg()"
   ]
  },
  {
   "cell_type": "markdown",
   "metadata": {
    "kernel": "SoS"
   },
   "source": [
    "#### Calculating sedimentation rate"
   ]
  },
  {
   "cell_type": "code",
   "execution_count": null,
   "metadata": {
    "kernel": "SoS"
   },
   "outputs": [],
   "source": [
    "SRBa = sedi_rate.CalculateSediRate(aggBa, model = 'Bacon', coreid = CoreIDs, mode = SR_mode)\n",
    "SRBa.calculating_SR()"
   ]
  },
  {
   "cell_type": "markdown",
   "metadata": {
    "kernel": "SoS"
   },
   "source": [
    "#### Push results to database"
   ]
  },
  {
   "cell_type": "code",
   "execution_count": null,
   "metadata": {
    "kernel": "SoS",
    "scrolled": true
   },
   "outputs": [],
   "source": [
    "push = push_data.PushIt(agg = aggBa,\n",
    "                        engine = dates.engine,\n",
    "                        model = 'Bacon')\n",
    "push.push_to_db()"
   ]
  },
  {
   "cell_type": "markdown",
   "metadata": {
    "kernel": "SoS"
   },
   "source": [
    "### Clam"
   ]
  },
  {
   "cell_type": "markdown",
   "metadata": {
    "kernel": "SoS"
   },
   "source": [
    "#### Prep"
   ]
  },
  {
   "cell_type": "code",
   "execution_count": 8,
   "metadata": {
    "kernel": "SoS"
   },
   "outputs": [],
   "source": [
    "clam = prep.PrepForClam(all_ages = AllAges)\n",
    "clam.prep_it()\n",
    "clam_Frame = clam.clam_Frame"
   ]
  },
  {
   "cell_type": "markdown",
   "metadata": {
    "kernel": "SoS"
   },
   "source": [
    "#### R Run"
   ]
  },
  {
   "cell_type": "code",
   "execution_count": 9,
   "metadata": {
    "kernel": "R"
   },
   "outputs": [],
   "source": [
    "%get clam_Frame --from SoS\n",
    "%get CoreIDs --from SoS\n",
    "%get CoreLengths --from SoS"
   ]
  },
  {
   "cell_type": "code",
   "execution_count": 10,
   "metadata": {
    "kernel": "R"
   },
   "outputs": [],
   "source": [
    "types_curve <- 1:5\n",
    "smoothness_curve <- 0.1*(1:10)\n",
    "poly_degree_curve <- 1:4\n",
    "best_fit <- TRUE"
   ]
  },
  {
   "cell_type": "code",
   "execution_count": 12,
   "metadata": {
    "kernel": "R"
   },
   "outputs": [
    {
     "ename": "ERROR",
     "evalue": "Error in unserialize(node$con): MultisessionFuture (<none>) failed to receive message results from cluster RichSOCKnode #1 (PID 2719 on localhost ‘localhost’). The reason reported was ‘error reading from connection’. Post-mortem diagnostic: No process exists with this PID, i.e. the localhost worker is no longer alive. The total size of the 15 globals exported is 97.36 KiB. The three largest globals are ‘...furrr_fn’ (69.70 KiB of class ‘function’), ‘...furrr_map_fn’ (7.67 KiB of class ‘function’) and ‘%>%’ (7.47 KiB of class ‘function’)\n",
     "output_type": "error",
     "traceback": [
      "Error in unserialize(node$con): MultisessionFuture (<none>) failed to receive message results from cluster RichSOCKnode #1 (PID 2719 on localhost ‘localhost’). The reason reported was ‘error reading from connection’. Post-mortem diagnostic: No process exists with this PID, i.e. the localhost worker is no longer alive. The total size of the 15 globals exported is 97.36 KiB. The three largest globals are ‘...furrr_fn’ (69.70 KiB of class ‘function’), ‘...furrr_map_fn’ (7.67 KiB of class ‘function’) and ‘%>%’ (7.47 KiB of class ‘function’)\nTraceback:\n",
      "1. source(\"src/Run_clam.R\", local = TRUE)",
      "2. withVisible(eval(ei, envir))",
      "3. eval(ei, envir)",
      "4. eval(ei, envir)",
      "5. future_map_dfr(seq_id_all, function(core) {\n .     core_id <- CoreIDs[[core]]\n .     core_selection <- clam_Frame %>% filter(str_detect(lab_ID, \n .         core_id)) %>% mutate(across(everything(), ~as.numeric(as.character(.))))\n .     clength <- CoreLengths %>% filter(coreid == core_id)\n .     core_max <- clength$corelength\n .     date_max <- plyr::round_any(max(core_selection$depth, na.rm = TRUE), \n .         1, f = floor)\n .     n_depths <- length(unique(core_selection$depth))\n .     types <- types_curve\n .     poly_degree <- poly_degree_curve\n .     smoothness <- smoothness_curve\n .     if (n_depths < 4) \n .         types <- types[!types %in% c(2)]\n .     if (n_depths < 6) \n .         types <- types[!types %in% c(4, 5)]\n .     poly_degree <- poly_degree[poly_degree < n_depths]\n .     if (length(poly_degree) == 0) \n .         types <- types[types != 2]\n .     shared_dir <- file.path(tempdir(), paste0(\"clam_shared_\", \n .         core_id))\n .     dir.create(shared_dir, showWarnings = FALSE)\n .     core_dir <- file.path(shared_dir, core_id)\n .     dir.create(core_dir, showWarnings = FALSE)\n .     input_file <- file.path(core_dir, paste0(core_id, \".csv\"))\n .     core_selection %>% select(lab_ID, `14C_age`, cal_age, error, \n .         reservoir, depth, thickness) %>% write.csv(file = input_file, \n .         row.names = FALSE, quote = FALSE, na = \"\")\n .     run_clam_model <- function(type, smooth = NULL, dmax) {\n .         suppressWarnings(R.devices::suppressGraphics({\n .             clam(core = core_id, coredir = shared_dir, type = type, \n .                 smooth = smooth, its = 20000, dmin = 0, dmax = dmax, \n .                 plotpdf = FALSE, plotpng = FALSE, plotname = FALSE)\n .         }))\n .         if (!exists(\"chron\", inherits = TRUE)) {\n .             label <- if (!is.null(smooth)) {\n .                 if (type == 2) \n .                   sprintf(\"type %d degree %d\", type, smooth)\n .                 else sprintf(\"type %d smooth %.1f\", type, smooth)\n .             }\n .             else sprintf(\"type %d\", type)\n .             cat(sprintf(\"❌ Clam couldn’t create a chron for core %s — %s\\n\", \n .                 core_id, label))\n .             return(NULL)\n .         }\n .         cm_range <- 0:floor(dmax)\n .         ncols <- ncol(chron)\n .         chron_matrix <- tryCatch(as.data.frame(chron[, seq_len(min(20000, \n .             ncols))]), error = function(e) NULL)\n .         if (is.null(chron_matrix) || nrow(chron_matrix) != length(cm_range)) {\n .             label <- if (!is.null(smooth)) {\n .                 if (type == 2) \n .                   sprintf(\"type %d degree %d\", type, smooth)\n .                 else sprintf(\"type %d smooth %.1f\", type, smooth)\n .             }\n .             else sprintf(\"type %d\", type)\n .             cat(sprintf(\"❌ Clam couldn’t match depth range for core %s — %s\\n\", \n .                 core_id, label))\n .             return(NULL)\n .         }\n .         model_label <- paste0(\"clam_T\", type, if (!is.null(smooth)) {\n .             if (type == 2) \n .                 sprintf(\"_D%d\", smooth)\n .             else sprintf(\"_S%d\", as.integer(smooth * 10))\n .         }\n .         else \"\")\n .         fit_value <- tryCatch(get(\"fit\", envir = parent.env(environment())), \n .             error = function(e) NA_real_)\n .         cat(sprintf(\"✅ Finished core %s — %s\\n\", core_id, \n .             model_label))\n .         chron_df <- extract_chron_full(core_id, cm_range, model_label, \n .             fit_value)\n .         rm(list = \"chron\", envir = .GlobalEnv)\n .         return(chron_df)\n .     }\n .     all_results <- list()\n .     for (type in types) {\n .         if (type %in% c(1, 3)) {\n .             all_results <- c(all_results, list(run_clam_model(type, \n .                 dmax = core_max)))\n .         }\n .         else if (type == 2) {\n .             all_results <- c(all_results, lapply(poly_degree, \n .                 function(d) run_clam_model(type, smooth = d, \n .                   dmax = core_max)))\n .         }\n .         else if (type == 4) {\n .             all_results <- c(all_results, lapply(smoothness, \n .                 function(s) run_clam_model(type, smooth = s, \n .                   dmax = core_max)))\n .         }\n .         else if (type == 5) {\n .             all_results <- c(all_results, lapply(smoothness, \n .                 function(k) run_clam_model(type, smooth = k, \n .                   dmax = date_max)))\n .         }\n .     }\n .     all_results <- compact(all_results)\n .     if (best_fit && length(all_results) > 1 && all(sapply(all_results, \n .         function(x) \"fit\" %in% colnames(x)))) {\n .         fits <- sapply(all_results, function(x) x$fit[1])\n .         valid_fits <- which(!is.na(fits) & is.finite(fits))\n .         if (length(valid_fits) == 0) {\n .             warning(sprintf(\"⚠️ No valid fits for core %s — returning all models instead.\", \n .                 core_id))\n .             result_types <- rbindlist(all_results, fill = TRUE)\n .         }\n .         else {\n .             best_idx <- valid_fits[which.min(fits[valid_fits])]\n .             result_types <- all_results[[best_idx]]\n .         }\n .     }\n .     else {\n .         result_types <- rbindlist(all_results, fill = TRUE)\n .     }\n .     unlink(shared_dir, recursive = TRUE, force = TRUE)\n .     return(result_types)\n . }, .options = furrr_options(seed = TRUE))",
      "6. future_map(.x = .x, .f = .f, ..., .options = .options, .env_globals = .env_globals, \n .     .progress = .progress)",
      "7. furrr_map_template(x = .x, fn = .f, dots = list(...), options = .options, \n .     progress = .progress, type = \"list\", map_fn = purrr::map, \n .     env_globals = .env_globals)",
      "8. furrr_template(args = x, fn = fn, dots = dots, n = n, options = options, \n .     progress = progress, type = type, map_fn = map_fn, names = names, \n .     env_globals = env_globals, expr = expr, extract = furrr_map_extract)",
      "9. future::value(futures)",
      "10. value.list(futures)",
      "11. resolve(y, result = TRUE, stdout = stdout, signal = signal, force = TRUE)",
      "12. resolve.list(y, result = TRUE, stdout = stdout, signal = signal, \n  .     force = TRUE)",
      "13. resolved(obj)",
      "14. resolved.ClusterFuture(obj)",
      "15. receiveMessageFromWorker(x)"
     ]
    }
   ],
   "source": [
    "source('src/Run_clam.R', local = TRUE)"
   ]
  },
  {
   "cell_type": "code",
   "execution_count": null,
   "metadata": {
    "kernel": "R"
   },
   "outputs": [],
   "source": [
    "clam_core_results"
   ]
  },
  {
   "cell_type": "code",
   "execution_count": 12,
   "metadata": {
    "kernel": "R"
   },
   "outputs": [],
   "source": [
    "%put clam_core_results"
   ]
  },
  {
   "cell_type": "markdown",
   "metadata": {
    "kernel": "R"
   },
   "source": [
    "#### Aggregate"
   ]
  },
  {
   "cell_type": "code",
   "execution_count": null,
   "metadata": {
    "kernel": "SoS"
   },
   "outputs": [],
   "source": [
    "aggcl = aggregate.AggDataClam(clam_core_results, dttp = aggRC.dttp)\n",
    "aggcl.results_agg()"
   ]
  },
  {
   "cell_type": "markdown",
   "metadata": {
    "kernel": "SoS"
   },
   "source": [
    "#### Calculating sedimentation rate"
   ]
  },
  {
   "cell_type": "code",
   "execution_count": null,
   "metadata": {
    "kernel": "SoS"
   },
   "outputs": [],
   "source": [
    "SRcl = sedi_rate.CalculateSediRate(aggcl, model = 'clam', coreid = CoreIDs, mode = SR_mode)\n",
    "SRcl.calculating_SR()"
   ]
  },
  {
   "cell_type": "markdown",
   "metadata": {
    "kernel": "SoS"
   },
   "source": [
    "#### Push results to database"
   ]
  },
  {
   "cell_type": "code",
   "execution_count": null,
   "metadata": {
    "kernel": "SoS"
   },
   "outputs": [],
   "source": [
    "push = push_data.PushIt(agg = aggcl,\n",
    "                        engine = dates.engine,\n",
    "                        model = 'clam')\n",
    "push.push_to_db()"
   ]
  },
  {
   "cell_type": "markdown",
   "metadata": {
    "kernel": "SoS"
   },
   "source": [
    "# Plotting"
   ]
  },
  {
   "cell_type": "code",
   "execution_count": null,
   "metadata": {
    "kernel": "SoS"
   },
   "outputs": [],
   "source": [
    "plot_data = {'Undatable' : [aggU.age_model_result_Undatable, SRUn.SR_model_result_Undatable],\n",
    "             'Bchron': [aggBc.age_model_result_Bchron, SRBc.SR_model_result_Bchron],\n",
    "             'hamstr': [aggh.age_model_result_hamstr, SRh.SR_model_result_hamstr],\n",
    "             'Bacon': [aggBa.age_model_result_Bacon, SRBa.SR_model_result_Bacon],\n",
    "             'clam': [aggcl.age_model_result_clam, SRcl.SR_model_result_clam],\n",
    "             'calib_dates': calib_dates}"
   ]
  },
  {
   "cell_type": "code",
   "execution_count": null,
   "metadata": {
    "kernel": "SoS"
   },
   "outputs": [],
   "source": [
    "ASRplot = age_sr_plot.PlotAgeSR(plot_data, coreid = CoreIDs, dttp = aggRC.dttp)"
   ]
  },
  {
   "cell_type": "code",
   "execution_count": null,
   "metadata": {
    "kernel": "SoS"
   },
   "outputs": [],
   "source": [
    "ASRplot.plot_graph(orig_dir = orig_dir, sigma_range = 'both',\n",
    "                   bin_size = 1000, xlim_max = 21000, number_col = 8, reduce_plot_axis = True,\n",
    "                   only_combined = True, save = True, for_color_blind = False, as_jpg = False)"
   ]
  },
  {
   "cell_type": "markdown",
   "metadata": {
    "kernel": "SoS"
   },
   "source": [
    "# Optimization"
   ]
  },
  {
   "cell_type": "code",
   "execution_count": null,
   "metadata": {
    "kernel": "SoS"
   },
   "outputs": [],
   "source": [
    "proxy = gd.ProxyFromFile()"
   ]
  },
  {
   "cell_type": "code",
   "execution_count": null,
   "metadata": {
    "kernel": "SoS",
    "scrolled": true
   },
   "outputs": [],
   "source": [
    "proxy_ts = proxy.get_proxy()\n",
    "###\n",
    "dict_model_name = ASRplot.dict_model_name\n",
    "dict_SR_median_age = ASRplot.dict_SR_median_age"
   ]
  },
  {
   "cell_type": "code",
   "execution_count": null,
   "metadata": {
    "kernel": "R"
   },
   "outputs": [],
   "source": [
    "%get dict_SR_median_age --from SoS\n",
    "%get dict_model_name --from SoS\n",
    "%get proxy_ts --from SoS"
   ]
  },
  {
   "cell_type": "code",
   "execution_count": null,
   "metadata": {
    "kernel": "R"
   },
   "outputs": [],
   "source": [
    "curr_nreps     <- 1000\n",
    "curr_minseg    <- 50\n",
    "curr_cptmethod <- \"mean+variance\""
   ]
  },
  {
   "cell_type": "code",
   "execution_count": null,
   "metadata": {
    "kernel": "R",
    "scrolled": true
   },
   "outputs": [],
   "source": [
    "source('src/Run_Optimization.R', local = TRUE)"
   ]
  },
  {
   "cell_type": "code",
   "execution_count": null,
   "metadata": {
    "kernel": "R"
   },
   "outputs": [],
   "source": [
    "%put result_list \n",
    "%put fitting_values"
   ]
  },
  {
   "cell_type": "code",
   "execution_count": null,
   "metadata": {
    "kernel": "SoS"
   },
   "outputs": [],
   "source": [
    "optimizedASRplot = age_sr_plot.PlotAgeSR(plot_data, coreid = CoreIDs, dttp = aggRC.dttp)"
   ]
  },
  {
   "cell_type": "code",
   "execution_count": null,
   "metadata": {
    "kernel": "SoS"
   },
   "outputs": [],
   "source": [
    "optimizedASRplot.plot_optimized_graph(optimization_values = result_list, fitting_values = fitting_values, \n",
    "                                      proxy = proxy.name, proxy_data = proxy_ts, orig_dir = orig_dir, \n",
    "                                      sigma_range = 'both', inclusion_threshold = 0.03, show_fitting_models = True,\n",
    "                                      bin_size = 1000, xlim_max = 21000, number_col = 8, reduce_plot_axis = True,\n",
    "                                      only_combined = True, save = True, for_color_blind = False, as_jpg = False)"
   ]
  },
  {
   "cell_type": "code",
   "execution_count": null,
   "metadata": {
    "kernel": "SoS"
   },
   "outputs": [],
   "source": []
  }
 ],
 "metadata": {
  "kernelspec": {
   "display_name": "SoS",
   "language": "sos",
   "name": "sos"
  },
  "language_info": {
   "codemirror_mode": "sos",
   "file_extension": ".sos",
   "mimetype": "text/x-sos",
   "name": "sos",
   "nbconvert_exporter": "sos_notebook.converter.SoS_Exporter",
   "pygments_lexer": "sos"
  },
  "sos": {
   "kernels": [
    [
     "Octave",
     "octave",
     "Octave",
     "#dff8fb",
     ""
    ],
    [
     "R",
     "ir",
     "R",
     "lightgrey",
     "r"
    ],
    [
     "SoS",
     "sos",
     "",
     "",
     "sos"
    ]
   ],
   "panel": {
    "displayed": false,
    "height": 0
   },
   "version": "0.24.4"
  }
 },
 "nbformat": 4,
 "nbformat_minor": 4
}

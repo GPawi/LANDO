{
 "cells": [
  {
   "cell_type": "markdown",
   "id": "239530de",
   "metadata": {
    "kernel": "SoS"
   },
   "source": [
    "## Windows and macOS users: Please run the following three cells to install all the necessary packages for the R kernel"
   ]
  },
  {
   "cell_type": "code",
   "execution_count": null,
   "id": "3427bc5f",
   "metadata": {
    "kernel": "SoS"
   },
   "outputs": [],
   "source": [
    "!R R --version"
   ]
  },
  {
   "cell_type": "code",
   "execution_count": null,
   "id": "8e0bcac8",
   "metadata": {
    "kernel": "R"
   },
   "outputs": [],
   "source": [
    "get_os <- function(){\n",
    "  sysinf <- Sys.info()\n",
    "  if (!is.null(sysinf)){\n",
    "    os <- sysinf['sysname']\n",
    "    if (os == 'Darwin')\n",
    "      os <- \"osx\"\n",
    "  } else { ## mystery machine\n",
    "    os <- .Platform$OS.type\n",
    "    if (grepl(\"^darwin\", R.version$os))\n",
    "      os <- \"osx\"\n",
    "    if (grepl(\"linux-gnu\", R.version$os))\n",
    "      os <- \"linux\"\n",
    "  }\n",
    "  tolower(os)\n",
    "}"
   ]
  },
  {
   "cell_type": "code",
   "execution_count": null,
   "id": "76134693",
   "metadata": {
    "kernel": "R"
   },
   "outputs": [],
   "source": [
    "list.of.packages <- c('arrow'\n",
    "                      ,'Bchron'\n",
    "                      ,'changepoint'\n",
    "                      ,'DescTools'\n",
    "                      ,'devtools'\n",
    "                      ,'doParallel'\n",
    "                      ,'doRNG'\n",
    "                      ,'doSNOW'\n",
    "                      ,'dplyr'\n",
    "                      ,'ff'\n",
    "                      ,'foreach'\n",
    "                      ,'forecast'\n",
    "                      ,'FuzzyNumbers'\n",
    "                      ,'IntCal'\n",
    "                      ,'IRkernel'\n",
    "                      ,'knitr'\n",
    "                      ,'lubridate'\n",
    "                      ,'maptools'\n",
    "                      ,'Metrics'\n",
    "                      ,'plyr'\n",
    "                      ,'R.devices'\n",
    "                      ,'raster'\n",
    "                      ,'remotes'\n",
    "                      ,'rstan'\n",
    "                      ,'sets'\n",
    "                      ,'tidyverse'\n",
    "                      ,'tseries')\n",
    "\n",
    "new.packages <- list.of.packages[!(list.of.packages %in% installed.packages()[,\"Package\"])]\n",
    "if(length(new.packages)) {\n",
    "    install.packages(new.packages, repos = \"https://cloud.r-project.org\")\n",
    "    }\n",
    "\n",
    "library('devtools')\n",
    "if (get_os() == 'osx'){\n",
    "    install_version('clam', version='2.3.9', repos= \"https://cloud.r-project.org\")\n",
    "} else if (get_os() == 'windows'){\n",
    "    install_version('clam', version='2.3.9', repos= \"https://cloud.r-project.org\")\n",
    "    #install_version('arrow', version='2.0.0', repos= \"https://cloud.r-project.org\")\n",
    "} else {\n",
    "    install_version('clam', version='2.3.9', repos= \"https://cloud.r-project.org\")\n",
    "}\n",
    "\n",
    "remotes::install_github(\"edwindj/ffbase\", subdir=\"pkg\")\n",
    "remotes::install_github(\"earthsystemdiagnostics/hamstr\")\n",
    "remotes::install_github(\"earthsystemdiagnostics/hamstrbacon\")\n",
    "remotes::install_github(\"Maarten14C/rbacon\")"
   ]
  }
 ],
 "metadata": {
  "kernelspec": {
   "display_name": "SoS",
   "language": "sos",
   "name": "sos"
  },
  "language_info": {
   "codemirror_mode": "sos",
   "file_extension": ".sos",
   "mimetype": "text/x-sos",
   "name": "sos",
   "nbconvert_exporter": "sos_notebook.converter.SoS_Exporter",
   "pygments_lexer": "sos"
  },
  "sos": {
   "kernels": [
    [
     "Octave",
     "octave",
     "Octave",
     "#dff8fb",
     ""
    ],
    [
     "R",
     "ir",
     "R",
     "#DCDCDA",
     "r"
    ],
    [
     "SoS",
     "sos",
     "",
     "",
     "sos"
    ]
   ],
   "panel": {
    "displayed": false,
    "height": 0
   },
   "version": "0.24.0"
  }
 },
 "nbformat": 4,
 "nbformat_minor": 5
}

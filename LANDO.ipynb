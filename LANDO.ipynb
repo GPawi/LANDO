{
 "cells": [
  {
   "cell_type": "markdown",
   "metadata": {
    "kernel": "SoS"
   },
   "source": [
    "# Setup"
   ]
  },
  {
   "cell_type": "markdown",
   "metadata": {
    "kernel": "SoS"
   },
   "source": [
    "### Import libraries"
   ]
  },
  {
   "cell_type": "code",
   "execution_count": 8,
   "metadata": {
    "kernel": "SoS",
    "tags": []
   },
   "outputs": [],
   "source": [
    "import numpy as np\n",
    "import pandas as pd\n",
    "import matplotlib.pyplot as plt\n",
    "import seaborn as sns\n",
    "import os\n",
    "import sys\n",
    "import datetime\n",
    "from src import (get_data as gd, \n",
    "                 prepare as prep, \n",
    "                 aggregate_data as aggregate,\n",
    "                 push_data,\n",
    "                 sedi_rate,\n",
    "                 age_sr_plot)\n",
    "###\n",
    "orig_dir = os.getcwd()"
   ]
  },
  {
   "cell_type": "markdown",
   "metadata": {
    "kernel": "SoS"
   },
   "source": [
    "# Main Data"
   ]
  },
  {
   "cell_type": "markdown",
   "metadata": {
    "kernel": "SoS"
   },
   "source": [
    "### Retrieve data "
   ]
  },
  {
   "cell_type": "code",
   "execution_count": 9,
   "metadata": {
    "kernel": "SoS",
    "tags": []
   },
   "outputs": [
    {
     "data": {
      "application/vnd.jupyter.widget-view+json": {
       "model_id": "3618388321be4845be94c8d0073e540f",
       "version_major": 2,
       "version_minor": 0
      },
      "text/plain": [
       "FileChooser(path='/home/jovyan/work/input_files', filename='', title='', show_hidden=False, select_desc='Selec…"
      ]
     },
     "metadata": {},
     "output_type": "display_data"
    }
   ],
   "source": [
    "dates = gd.AgeFromFileOneCore()"
   ]
  },
  {
   "cell_type": "code",
   "execution_count": 10,
   "metadata": {
    "kernel": "SoS",
    "tags": []
   },
   "outputs": [],
   "source": [
    "dates.get_dates()"
   ]
  },
  {
   "cell_type": "markdown",
   "metadata": {
    "kernel": "SoS"
   },
   "source": [
    "### Add calibration curve to data"
   ]
  },
  {
   "cell_type": "code",
   "execution_count": 11,
   "metadata": {
    "kernel": "SoS",
    "tags": []
   },
   "outputs": [],
   "source": [
    "dates.select_calibration_curve(default_curve = 'IntCal20', user_selection = False)"
   ]
  },
  {
   "cell_type": "code",
   "execution_count": 12,
   "metadata": {
    "kernel": "SoS",
    "tags": []
   },
   "outputs": [],
   "source": [
    "dates.add_calibration_curve()"
   ]
  },
  {
   "cell_type": "markdown",
   "metadata": {
    "kernel": "SoS"
   },
   "source": [
    "### Put data in variables"
   ]
  },
  {
   "cell_type": "code",
   "execution_count": 13,
   "metadata": {
    "kernel": "SoS",
    "tags": []
   },
   "outputs": [],
   "source": [
    "AllAges = dates.all_ages\n",
    "CoreIDs = dates.all_coreid_list\n",
    "CoreLengths = dates.all_core_lengths\n",
    "SR_mode = 'naive'"
   ]
  },
  {
   "cell_type": "code",
   "execution_count": 14,
   "metadata": {
    "kernel": "SoS",
    "tags": []
   },
   "outputs": [],
   "source": [
    "aggRC = lambda: None\n",
    "aggRC.dttp = \"No\""
   ]
  },
  {
   "cell_type": "markdown",
   "metadata": {
    "kernel": "SoS"
   },
   "source": [
    "# Reservoir correction"
   ]
  },
  {
   "cell_type": "markdown",
   "metadata": {
    "kernel": "SoS"
   },
   "source": [
    "#### Prep"
   ]
  },
  {
   "cell_type": "code",
   "execution_count": 16,
   "metadata": {
    "kernel": "SoS",
    "tags": []
   },
   "outputs": [],
   "source": [
    "os.chdir(orig_dir)\n",
    "RC = prep.PrepForReservoirCorrection(all_ages = AllAges)\n",
    "RC.prep_it()\n",
    "RC_Frame = RC.RC_Frame\n",
    "RC_CoreIDs = RC.RC_CoreIDs\n",
    "RC_CoreLengths = CoreLengths[CoreLengths.coreid.isin(RC_CoreIDs)]"
   ]
  },
  {
   "cell_type": "markdown",
   "metadata": {
    "kernel": "SoS"
   },
   "source": [
    "#### R run"
   ]
  },
  {
   "cell_type": "code",
   "execution_count": 17,
   "metadata": {
    "kernel": "R",
    "tags": []
   },
   "outputs": [],
   "source": [
    "%get RC_Frame\n",
    "%get RC_CoreIDs \n",
    "%get RC_CoreLengths"
   ]
  },
  {
   "cell_type": "code",
   "execution_count": 18,
   "metadata": {
    "kernel": "R",
    "tags": []
   },
   "outputs": [
    {
     "name": "stderr",
     "output_type": "stream",
     "text": [
      "Warning message:\n",
      "“Bulk Effective Samples Size (ESS) is too low, indicating posterior means and medians may be unreliable.\n",
      "Running the chains for more iterations may help. See\n",
      "https://mc-stan.org/misc/warnings.html#bulk-ess”\n",
      "Done with core number: 1 out of 1\n",
      "\n"
     ]
    }
   ],
   "source": [
    "K_fine <- 100\n",
    "source('src/Run_DefineReservoir.R', local = TRUE)"
   ]
  },
  {
   "cell_type": "code",
   "execution_count": 19,
   "metadata": {
    "kernel": "R",
    "tags": []
   },
   "outputs": [],
   "source": [
    "%put reservoir_core_results"
   ]
  },
  {
   "cell_type": "markdown",
   "metadata": {
    "kernel": "R"
   },
   "source": [
    "#### Aggregate results"
   ]
  },
  {
   "cell_type": "code",
   "execution_count": 20,
   "metadata": {
    "kernel": "SoS",
    "tags": []
   },
   "outputs": [],
   "source": [
    "aggRC = aggregate.AggDataReservoir(results = reservoir_core_results,\n",
    "                                   surface_dates = RC.desired_surface_dates,\n",
    "                                   verbose = 0)\n",
    "aggRC.results_agg()"
   ]
  },
  {
   "cell_type": "code",
   "execution_count": 21,
   "metadata": {
    "kernel": "SoS",
    "tags": []
   },
   "outputs": [],
   "source": [
    "AllAges = aggRC.add_reservoir(all_ages = AllAges)"
   ]
  },
  {
   "cell_type": "markdown",
   "metadata": {
    "kernel": "SoS"
   },
   "source": [
    "# Calibration\n",
    "#### Prep"
   ]
  },
  {
   "cell_type": "code",
   "execution_count": 22,
   "metadata": {
    "kernel": "SoS"
   },
   "outputs": [],
   "source": [
    "calib = prep.PrepForCalibration(all_ages = AllAges)\n",
    "calib.prep_it()\n",
    "calib_Frame = calib.calib_Frame"
   ]
  },
  {
   "cell_type": "markdown",
   "metadata": {
    "kernel": "SoS"
   },
   "source": [
    "#### R run"
   ]
  },
  {
   "cell_type": "code",
   "execution_count": 23,
   "metadata": {
    "kernel": "R"
   },
   "outputs": [],
   "source": [
    "%get calib_Frame --from SoS"
   ]
  },
  {
   "cell_type": "code",
   "execution_count": 24,
   "metadata": {
    "kernel": "R"
   },
   "outputs": [],
   "source": [
    "source('src/Run_calibration.R', local = TRUE)"
   ]
  },
  {
   "cell_type": "code",
   "execution_count": 25,
   "metadata": {
    "kernel": "R"
   },
   "outputs": [],
   "source": [
    "%put calib_dates"
   ]
  },
  {
   "cell_type": "markdown",
   "metadata": {
    "kernel": "SoS"
   },
   "source": [
    "# Age Modeling\n",
    "### UNDATABLE\n",
    "#### Prep"
   ]
  },
  {
   "cell_type": "code",
   "execution_count": 26,
   "metadata": {
    "kernel": "SoS",
    "scrolled": true
   },
   "outputs": [
    {
     "name": "stdout",
     "output_type": "stream",
     "text": [
      "Information: New files for Undatable created!\n"
     ]
    }
   ],
   "source": [
    "Undatable = prep.PrepForUndatable(all_ages = AllAges, \n",
    "                                  all_coreid_list = CoreIDs)\n",
    "Undatable.prep_it()\n",
    "CoreID_array = Undatable.CoreID_array"
   ]
  },
  {
   "cell_type": "markdown",
   "metadata": {
    "kernel": "SoS"
   },
   "source": [
    "#### Octave run"
   ]
  },
  {
   "cell_type": "code",
   "execution_count": 27,
   "metadata": {
    "kernel": "Octave"
   },
   "outputs": [],
   "source": [
    "%get CoreID_array"
   ]
  },
  {
   "cell_type": "code",
   "execution_count": 28,
   "metadata": {
    "kernel": "Octave"
   },
   "outputs": [
    {
     "name": "stdout",
     "output_type": "stream",
     "text": [
      "\u001b[?2004l\n",
      "\u001b[?2004h\u001b[?2004l\n",
      "\u001b[?2004h\u001b[?2004l\n",
      "\u001b[?2004h"
     ]
    }
   ],
   "source": [
    "xfactor = 0.1;\n",
    "bootpc = 30;\n",
    "run_Undatable(CoreID_array, xfactor, bootpc);"
   ]
  },
  {
   "cell_type": "markdown",
   "metadata": {
    "kernel": "MATLAB"
   },
   "source": [
    "#### Aggregate results"
   ]
  },
  {
   "cell_type": "code",
   "execution_count": 29,
   "metadata": {
    "kernel": "SoS"
   },
   "outputs": [],
   "source": [
    "aggU = aggregate.AggDataUndatable(Undatable, orig_dir, dttp = aggRC.dttp)\n",
    "aggU.results_agg()"
   ]
  },
  {
   "cell_type": "markdown",
   "metadata": {
    "kernel": "SoS"
   },
   "source": [
    "#### Calculate sedimentation rate"
   ]
  },
  {
   "cell_type": "code",
   "execution_count": 30,
   "metadata": {
    "kernel": "SoS"
   },
   "outputs": [],
   "source": [
    "SRUn = sedi_rate.CalculateSediRate(aggU, model = 'Undatable', coreid = CoreIDs, mode = SR_mode)\n",
    "SRUn.calculating_SR()"
   ]
  },
  {
   "cell_type": "markdown",
   "metadata": {
    "kernel": "SoS"
   },
   "source": [
    "#### Push results to database"
   ]
  },
  {
   "cell_type": "code",
   "execution_count": 31,
   "metadata": {
    "kernel": "SoS"
   },
   "outputs": [
    {
     "name": "stdout",
     "output_type": "stream",
     "text": [
      "Information: LANDO is not connected to a database, so nothing was uploaded.\n"
     ]
    }
   ],
   "source": [
    "push = push_data.PushIt(agg = aggU,\n",
    "                        engine = dates.engine,\n",
    "                        model = 'Undatable')\n",
    "push.push_to_db()"
   ]
  },
  {
   "cell_type": "code",
   "execution_count": 32,
   "metadata": {
    "kernel": "SoS"
   },
   "outputs": [
    {
     "name": "stdout",
     "output_type": "stream",
     "text": [
      "Information: All unwanted Undatable files have been deleted\n"
     ]
    }
   ],
   "source": [
    "os.chdir(orig_dir)\n",
    "push.delete_files(location_UndatableFolder = Undatable.location_UndatableFolder,\n",
    "                  coreids = Undatable.coreid_df)"
   ]
  },
  {
   "cell_type": "markdown",
   "metadata": {
    "kernel": "SoS"
   },
   "source": [
    "### Bchron"
   ]
  },
  {
   "cell_type": "markdown",
   "metadata": {
    "kernel": "SoS"
   },
   "source": [
    "#### Prep"
   ]
  },
  {
   "cell_type": "code",
   "execution_count": 33,
   "metadata": {
    "kernel": "SoS"
   },
   "outputs": [],
   "source": [
    "os.chdir(orig_dir)\n",
    "Bchron = prep.PrepForBchron(all_ages = AllAges)\n",
    "Bchron.prep_it()\n",
    "Bchron_Frame = Bchron.Bchron_Frame"
   ]
  },
  {
   "cell_type": "markdown",
   "metadata": {
    "kernel": "SoS"
   },
   "source": [
    "#### R run"
   ]
  },
  {
   "cell_type": "code",
   "execution_count": 34,
   "metadata": {
    "kernel": "R"
   },
   "outputs": [],
   "source": [
    "%get Bchron_Frame --from SoS \n",
    "%get CoreIDs --from SoS\n",
    "%get CoreLengths --from SoS"
   ]
  },
  {
   "cell_type": "code",
   "execution_count": 35,
   "metadata": {
    "kernel": "R"
   },
   "outputs": [
    {
     "name": "stdout",
     "output_type": "stream",
     "text": [
      "Running Bchronology...\n",
      "  |============================================================| 100%\n",
      "Run completed!\n"
     ]
    },
    {
     "name": "stderr",
     "output_type": "stream",
     "text": [
      " Done with core EN18218 - Number 1 out of 1\n",
      "\n"
     ]
    }
   ],
   "source": [
    "source('src/Run_Bchron.R')"
   ]
  },
  {
   "cell_type": "code",
   "execution_count": 36,
   "metadata": {
    "kernel": "R"
   },
   "outputs": [],
   "source": [
    "%put Bchron_core_results"
   ]
  },
  {
   "cell_type": "markdown",
   "metadata": {
    "kernel": "R"
   },
   "source": [
    "#### Aggregate results"
   ]
  },
  {
   "cell_type": "code",
   "execution_count": 37,
   "metadata": {
    "kernel": "SoS"
   },
   "outputs": [],
   "source": [
    "aggBc = aggregate.AggDataBchron(Bchron_core_results, dttp = aggRC.dttp)\n",
    "aggBc.results_agg()"
   ]
  },
  {
   "cell_type": "markdown",
   "metadata": {
    "kernel": "SoS"
   },
   "source": [
    "#### Calculating sedimentation rate"
   ]
  },
  {
   "cell_type": "code",
   "execution_count": 38,
   "metadata": {
    "kernel": "SoS"
   },
   "outputs": [],
   "source": [
    "SRBc = sedi_rate.CalculateSediRate(aggBc, model = 'Bchron', coreid = CoreIDs, mode = SR_mode)\n",
    "SRBc.calculating_SR()"
   ]
  },
  {
   "cell_type": "markdown",
   "metadata": {
    "kernel": "SoS"
   },
   "source": [
    "#### Push results to database"
   ]
  },
  {
   "cell_type": "code",
   "execution_count": 39,
   "metadata": {
    "kernel": "SoS"
   },
   "outputs": [
    {
     "name": "stdout",
     "output_type": "stream",
     "text": [
      "Information: LANDO is not connected to a database, so nothing was uploaded.\n"
     ]
    }
   ],
   "source": [
    "push = push_data.PushIt(agg = aggBc,\n",
    "                        engine = dates.engine,\n",
    "                        model = 'Bchron')\n",
    "push.push_to_db()"
   ]
  },
  {
   "cell_type": "markdown",
   "metadata": {
    "kernel": "SoS"
   },
   "source": [
    "### hamstr"
   ]
  },
  {
   "cell_type": "markdown",
   "metadata": {
    "kernel": "SoS"
   },
   "source": [
    "#### Prep"
   ]
  },
  {
   "cell_type": "code",
   "execution_count": 40,
   "metadata": {
    "kernel": "SoS"
   },
   "outputs": [],
   "source": [
    "hamstr = prep.PrepForHamstr(all_ages = AllAges)\n",
    "hamstr.prep_it()\n",
    "hamstr_Frame = hamstr.hamstr_Frame"
   ]
  },
  {
   "cell_type": "markdown",
   "metadata": {
    "kernel": "SoS"
   },
   "source": [
    "#### R Run"
   ]
  },
  {
   "cell_type": "code",
   "execution_count": 41,
   "metadata": {
    "kernel": "R"
   },
   "outputs": [],
   "source": [
    "%get hamstr_Frame --from SoS \n",
    "%get CoreIDs --from SoS\n",
    "%get CoreLengths --from SoS"
   ]
  },
  {
   "cell_type": "code",
   "execution_count": 42,
   "metadata": {
    "kernel": "R",
    "scrolled": true
   },
   "outputs": [
    {
     "name": "stderr",
     "output_type": "stream",
     "text": [
      "Done with core: EN18218\n",
      "\n"
     ]
    }
   ],
   "source": [
    "K_fine <- 100\n",
    "source('src/Run_hamstr.R', local = TRUE)"
   ]
  },
  {
   "cell_type": "code",
   "execution_count": 43,
   "metadata": {
    "kernel": "R"
   },
   "outputs": [],
   "source": [
    "%put hamstr_core_results"
   ]
  },
  {
   "cell_type": "markdown",
   "metadata": {
    "kernel": "R"
   },
   "source": [
    "#### Aggregate"
   ]
  },
  {
   "cell_type": "code",
   "execution_count": 44,
   "metadata": {
    "kernel": "SoS"
   },
   "outputs": [],
   "source": [
    "aggh = aggregate.AggDataHamstr(hamstr_core_results, dttp = aggRC.dttp)\n",
    "aggh.results_agg()"
   ]
  },
  {
   "cell_type": "markdown",
   "metadata": {
    "kernel": "SoS"
   },
   "source": [
    "#### Calculating sedimentation rate"
   ]
  },
  {
   "cell_type": "code",
   "execution_count": 45,
   "metadata": {
    "kernel": "SoS"
   },
   "outputs": [],
   "source": [
    "SRh = sedi_rate.CalculateSediRate(aggh, model = 'hamstr', coreid = CoreIDs, mode = SR_mode)\n",
    "SRh.calculating_SR()"
   ]
  },
  {
   "cell_type": "markdown",
   "metadata": {
    "kernel": "SoS"
   },
   "source": [
    "#### Push results to database"
   ]
  },
  {
   "cell_type": "code",
   "execution_count": 46,
   "metadata": {
    "kernel": "SoS"
   },
   "outputs": [
    {
     "name": "stdout",
     "output_type": "stream",
     "text": [
      "Information: LANDO is not connected to a database, so nothing was uploaded.\n"
     ]
    }
   ],
   "source": [
    "push = push_data.PushIt(agg = aggh,\n",
    "                        engine = dates.engine,\n",
    "                        model = 'hamstr')\n",
    "push.push_to_db()"
   ]
  },
  {
   "cell_type": "markdown",
   "metadata": {
    "kernel": "SoS"
   },
   "source": [
    "### Bacon"
   ]
  },
  {
   "cell_type": "markdown",
   "metadata": {
    "kernel": "SoS"
   },
   "source": [
    "#### Prep"
   ]
  },
  {
   "cell_type": "code",
   "execution_count": 8,
   "metadata": {
    "kernel": "SoS"
   },
   "outputs": [],
   "source": [
    "Bacon = prep.PrepForBacon(all_ages = AllAges)\n",
    "Bacon.prep_it()\n",
    "Bacon_Frame = Bacon.Bacon_Frame"
   ]
  },
  {
   "cell_type": "markdown",
   "metadata": {
    "kernel": "SoS"
   },
   "source": [
    "#### R Run"
   ]
  },
  {
   "cell_type": "code",
   "execution_count": 9,
   "metadata": {
    "kernel": "R"
   },
   "outputs": [],
   "source": [
    "%get Bacon_Frame --from SoS \n",
    "%get CoreIDs --from SoS\n",
    "%get CoreLengths --from SoS"
   ]
  },
  {
   "cell_type": "code",
   "execution_count": 10,
   "metadata": {
    "kernel": "R",
    "scrolled": true
   },
   "outputs": [
    {
     "name": "stderr",
     "output_type": "stream",
     "text": [
      "Downloading GitHub repo GPawi/hamstrbacon@HEAD\n",
      "\n",
      "* installing *source* package ‘hamstrbacon’ ...\n",
      "** using staged installation\n",
      "** R\n",
      "** data\n",
      "*** moving datasets to lazyload DB\n",
      "** byte-compile and prepare package for lazy loading\n",
      "** help\n",
      "*** installing help indices\n",
      "** building package indices\n",
      "** testing if installed package can be loaded from temporary location\n",
      "** testing if installed package can be loaded from final location\n"
     ]
    },
    {
     "name": "stdout",
     "output_type": "stream",
     "text": [
      "\u001b[36m──\u001b[39m \u001b[36mR CMD build\u001b[39m \u001b[36m─────────────────────────────────────────────────────────────────\u001b[39m\n",
      "* checking for file ‘/tmp/RtmpPmGAuX/remotesd36ec31395/GPawi-hamstrbacon-04d304a/DESCRIPTION’ ... OK\n",
      "* preparing ‘hamstrbacon’:\n",
      "* checking DESCRIPTION meta-information ... OK\n",
      "* checking for LF line-endings in source and make files and shell scripts\n",
      "* checking for empty or unneeded directories\n",
      "Removed empty directory ‘hamstrbacon/vignettes’\n",
      "* building ‘hamstrbacon_0.1.1.tar.gz’\n",
      "\n"
     ]
    },
    {
     "name": "stderr",
     "output_type": "stream",
     "text": [
      "** testing if installed package keeps a record of temporary installation path\n",
      "* DONE (hamstrbacon)\n"
     ]
    }
   ],
   "source": [
    "remotes::install_github(\"GPawi/hamstrbacon\", \n",
    "                        upgrade = 'never', \n",
    "                       force = TRUE,\n",
    "                        build = TRUE,\n",
    "                       lib = \"/opt/conda/lib/R/library\")"
   ]
  },
  {
   "cell_type": "code",
   "execution_count": null,
   "metadata": {
    "kernel": "R"
   },
   "outputs": [
    {
     "name": "stderr",
     "output_type": "stream",
     "text": [
      "Running Bacon for core EN18208 (attempt 1, ssize = 2000)\n",
      "\n"
     ]
    },
    {
     "name": "stdout",
     "output_type": "stream",
     "text": [
      "The run's files will be put in this folder: /tmp/RtmpPmGAuX\n"
     ]
    },
    {
     "name": "stderr",
     "output_type": "stream",
     "text": [
      "Warning, I removed quotation marks\n",
      "\n",
      "Adapting acc.mean to 50 yr/cm\n",
      "\n",
      "Warning message in file(con, \"r\"):\n",
      "“file(\"\") only supports open = \"w+\" and open = \"w+b\": using the former”\n"
     ]
    }
   ],
   "source": [
    "acc.shape <- 1.5\n",
    "acc.mean <- 20\n",
    "mem.strength <- 10\n",
    "mem.mean <- 0.5\n",
    "ssize <- 2000\n",
    "source('src/Run_Bacon.R', local = TRUE)"
   ]
  },
  {
   "cell_type": "code",
   "execution_count": null,
   "metadata": {
    "kernel": "R"
   },
   "outputs": [],
   "source": [
    "%put Bacon_core_results"
   ]
  },
  {
   "cell_type": "markdown",
   "metadata": {
    "editable": true,
    "kernel": "SoS",
    "slideshow": {
     "slide_type": ""
    },
    "tags": []
   },
   "source": [
    "#### Aggregate"
   ]
  },
  {
   "cell_type": "code",
   "execution_count": null,
   "metadata": {
    "kernel": "SoS"
   },
   "outputs": [],
   "source": [
    "aggBa = aggregate.AggDataBacon(Bacon_core_results, dttp = aggRC.dttp)\n",
    "aggBa.results_agg()"
   ]
  },
  {
   "cell_type": "markdown",
   "metadata": {
    "kernel": "SoS"
   },
   "source": [
    "#### Calculating sedimentation rate"
   ]
  },
  {
   "cell_type": "code",
   "execution_count": null,
   "metadata": {
    "kernel": "SoS"
   },
   "outputs": [],
   "source": [
    "SRBa = sedi_rate.CalculateSediRate(aggBa, model = 'Bacon', coreid = CoreIDs, mode = SR_mode)\n",
    "SRBa.calculating_SR()"
   ]
  },
  {
   "cell_type": "markdown",
   "metadata": {
    "kernel": "SoS"
   },
   "source": [
    "#### Push results to database"
   ]
  },
  {
   "cell_type": "code",
   "execution_count": null,
   "metadata": {
    "kernel": "SoS",
    "scrolled": true
   },
   "outputs": [],
   "source": [
    "push = push_data.PushIt(agg = aggBa,\n",
    "                        engine = dates.engine,\n",
    "                        model = 'Bacon')\n",
    "push.push_to_db()"
   ]
  },
  {
   "cell_type": "markdown",
   "metadata": {
    "kernel": "SoS"
   },
   "source": [
    "### Clam"
   ]
  },
  {
   "cell_type": "markdown",
   "metadata": {
    "kernel": "SoS"
   },
   "source": [
    "#### Prep"
   ]
  },
  {
   "cell_type": "code",
   "execution_count": 47,
   "metadata": {
    "kernel": "SoS"
   },
   "outputs": [],
   "source": [
    "clam = prep.PrepForClam(all_ages = AllAges)\n",
    "clam.prep_it()\n",
    "clam_Frame = clam.clam_Frame"
   ]
  },
  {
   "cell_type": "markdown",
   "metadata": {
    "kernel": "SoS"
   },
   "source": [
    "#### R Run"
   ]
  },
  {
   "cell_type": "code",
   "execution_count": 48,
   "metadata": {
    "kernel": "R"
   },
   "outputs": [],
   "source": [
    "%get clam_Frame --from SoS\n",
    "%get CoreIDs --from SoS\n",
    "%get CoreLengths --from SoS"
   ]
  },
  {
   "cell_type": "code",
   "execution_count": 49,
   "metadata": {
    "kernel": "R"
   },
   "outputs": [],
   "source": [
    "types_curve <- 1:5\n",
    "smoothness_curve <- 0.1*(1:10)\n",
    "poly_degree_curve <- 1:4\n",
    "best_fit <- TRUE"
   ]
  },
  {
   "cell_type": "code",
   "execution_count": 58,
   "metadata": {
    "kernel": "R"
   },
   "outputs": [
    {
     "name": "stdout",
     "output_type": "stream",
     "text": [
      "starting worker for localhost:11608 \n",
      "starting worker for localhost:11608 \n",
      "starting worker for localhost:11608 \n",
      "starting worker for localhost:11608 \n",
      "starting worker for localhost:11608 \n",
      "starting worker for localhost:11608 \n",
      "Type: EXEC \n",
      "Type: EXEC \n",
      "Type: EXEC \n",
      "Type: EXEC \n",
      "Type: EXEC \n",
      "Type: EXEC \n"
     ]
    },
    {
     "name": "stderr",
     "output_type": "stream",
     "text": [
      "Loading required package: IntCal\n",
      "Loading required package: IntCal\n",
      "Loading required package: IntCal\n",
      "Loading required package: IntCal\n",
      "Loading required package: IntCal\n",
      "Loading required package: IntCal\n",
      "\n",
      "Attaching package: ‘clam’\n",
      "\n",
      "\n",
      "Attaching package: ‘clam’\n",
      "\n",
      "\n",
      "Attaching package: ‘clam’\n",
      "\n",
      "\n",
      "Attaching package: ‘clam’\n",
      "\n",
      "The following objects are masked from ‘package:IntCal’:\n",
      "\n",
      "    calBP.14C, calibrate\n",
      "\n",
      "The following objects are masked from ‘package:IntCal’:\n",
      "\n",
      "    calBP.14C, calibrate\n",
      "\n",
      "The following objects are masked from ‘package:IntCal’:\n",
      "\n",
      "    calBP.14C, calibrate\n",
      "\n",
      "The following objects are masked from ‘package:IntCal’:\n",
      "\n",
      "    calBP.14C, calibrate\n",
      "\n",
      "\n",
      "Attaching package: ‘clam’\n",
      "\n",
      "\n",
      "Attaching package: ‘clam’\n",
      "\n",
      "The following objects are masked from ‘package:IntCal’:\n",
      "\n",
      "    calBP.14C, calibrate\n",
      "\n",
      "The following objects are masked from ‘package:IntCal’:\n",
      "\n",
      "    calBP.14C, calibrate\n",
      "\n",
      "── Attaching core tidyverse packages ──────────────────────── tidyverse 2.0.0 ──\n",
      "✔ dplyr     1.1.4     ✔ readr     2.1.4\n",
      "✔ forcats   1.0.0     ✔ stringr   1.5.0\n",
      "✔ ggplot2   3.4.4     ✔ tibble    3.2.1\n",
      "✔ lubridate 1.9.4     ✔ tidyr     1.3.0\n",
      "✔ purrr     1.0.2     \n",
      "── Attaching core tidyverse packages ──────────────────────── tidyverse 2.0.0 ──\n",
      "✔ dplyr     1.1.4     ✔ readr     2.1.4\n",
      "✔ forcats   1.0.0     ✔ stringr   1.5.0\n",
      "✔ ggplot2   3.4.4     ✔ tibble    3.2.1\n",
      "✔ lubridate 1.9.4     ✔ tidyr     1.3.0\n",
      "✔ purrr     1.0.2     \n",
      "── Attaching core tidyverse packages ──────────────────────── tidyverse 2.0.0 ──\n",
      "✔ dplyr     1.1.4     ✔ readr     2.1.4\n",
      "✔ forcats   1.0.0     ✔ stringr   1.5.0\n",
      "✔ ggplot2   3.4.4     ✔ tibble    3.2.1\n",
      "✔ lubridate 1.9.4     ✔ tidyr     1.3.0\n",
      "✔ purrr     1.0.2     \n",
      "── Attaching core tidyverse packages ──────────────────────── tidyverse 2.0.0 ──\n",
      "✔ dplyr     1.1.4     ✔ readr     2.1.4\n",
      "✔ forcats   1.0.0     ✔ stringr   1.5.0\n",
      "✔ ggplot2   3.4.4     ✔ tibble    3.2.1\n",
      "✔ lubridate 1.9.4     ✔ tidyr     1.3.0\n",
      "✔ purrr     1.0.2     \n",
      "── Attaching core tidyverse packages ──────────────────────── tidyverse 2.0.0 ──\n",
      "✔ dplyr     1.1.4     ✔ readr     2.1.4\n",
      "✔ forcats   1.0.0     ✔ stringr   1.5.0\n",
      "✔ ggplot2   3.4.4     ✔ tibble    3.2.1\n",
      "✔ lubridate 1.9.4     ✔ tidyr     1.3.0\n",
      "✔ purrr     1.0.2     \n",
      "── Attaching core tidyverse packages ──────────────────────── tidyverse 2.0.0 ──\n",
      "✔ dplyr     1.1.4     ✔ readr     2.1.4\n",
      "✔ forcats   1.0.0     ✔ stringr   1.5.0\n",
      "✔ ggplot2   3.4.4     ✔ tibble    3.2.1\n",
      "✔ lubridate 1.9.4     ✔ tidyr     1.3.0\n",
      "✔ purrr     1.0.2     \n",
      "── Conflicts ────────────────────────────────────────── tidyverse_conflicts() ──\n",
      "✖ purrr::accumulate() masks foreach::accumulate()\n",
      "✖ dplyr::filter()     masks stats::filter()\n",
      "✖ dplyr::lag()        masks stats::lag()\n",
      "✖ purrr::when()       masks foreach::when()\n",
      "ℹ Use the conflicted package (<http://conflicted.r-lib.org/>) to force all conflicts to become errors\n",
      "── Conflicts ────────────────────────────────────────── tidyverse_conflicts() ──\n",
      "✖ purrr::accumulate() masks foreach::accumulate()\n",
      "✖ dplyr::filter()     masks stats::filter()\n",
      "✖ dplyr::lag()        masks stats::lag()\n",
      "✖ purrr::when()       masks foreach::when()\n",
      "ℹ Use the conflicted package (<http://conflicted.r-lib.org/>) to force all conflicts to become errors\n",
      "── Conflicts ────────────────────────────────────────── tidyverse_conflicts() ──\n",
      "✖ purrr::accumulate() masks foreach::accumulate()\n",
      "✖ dplyr::filter()     masks stats::filter()\n",
      "✖ dplyr::lag()        masks stats::lag()\n",
      "✖ purrr::when()       masks foreach::when()\n",
      "ℹ Use the conflicted package (<http://conflicted.r-lib.org/>) to force all conflicts to become errors\n",
      "── Conflicts ────────────────────────────────────────── tidyverse_conflicts() ──\n",
      "✖ purrr::accumulate() masks foreach::accumulate()\n",
      "✖ dplyr::filter()     masks stats::filter()\n",
      "✖ dplyr::lag()        masks stats::lag()\n",
      "✖ purrr::when()       masks foreach::when()\n",
      "ℹ Use the conflicted package (<http://conflicted.r-lib.org/>) to force all conflicts to become errors\n",
      "── Conflicts ────────────────────────────────────────── tidyverse_conflicts() ──\n",
      "✖ purrr::accumulate() masks foreach::accumulate()\n",
      "✖ dplyr::filter()     masks stats::filter()\n",
      "✖ dplyr::lag()        masks stats::lag()\n",
      "✖ purrr::when()       masks foreach::when()\n",
      "ℹ Use the conflicted package (<http://conflicted.r-lib.org/>) to force all conflicts to become errors\n",
      "── Conflicts ────────────────────────────────────────── tidyverse_conflicts() ──\n",
      "✖ purrr::accumulate() masks foreach::accumulate()\n",
      "✖ dplyr::filter()     masks stats::filter()\n",
      "✖ dplyr::lag()        masks stats::lag()\n",
      "✖ purrr::when()       masks foreach::when()\n",
      "ℹ Use the conflicted package (<http://conflicted.r-lib.org/>) to force all conflicts to become errors\n"
     ]
    },
    {
     "name": "stdout",
     "output_type": "stream",
     "text": [
      "Type: EXEC \n",
      "Type: EXEC \n",
      "Type: EXEC \n",
      "Type: EXEC \n",
      "Type: EXEC \n",
      "Type: EXEC \n",
      "Type: EXEC \n",
      "Type: EXEC \n",
      "Type: EXEC \n",
      "Type: EXEC \n",
      "Type: EXEC \n",
      "Type: EXEC \n",
      "Type: EXEC \n",
      "Type: EXEC \n",
      "Type: EXEC \n",
      "Type: EXEC \n",
      "Type: EXEC \n",
      "Type: EXEC \n",
      "Type: EXEC \n",
      "Type: EXEC \n",
      "Type: EXEC \n",
      "Type: EXEC \n",
      "Type: EXEC \n",
      "Type: EXEC \n",
      "Type: EXEC \n",
      "Type: EXEC \n",
      "Type: EXEC \n",
      "Type: EXEC \n",
      "Type: EXEC \n",
      "Type: EXEC \n",
      "Type: EXEC \n",
      "Type: EXEC \n",
      "Type: EXEC \n",
      "Type: EXEC \n",
      "Type: EXEC \n",
      "Type: EXEC \n",
      "Type: EXEC \n",
      "Type: EXEC \n",
      "Type: EXEC \n",
      "Type: EXEC \n",
      "Type: EXEC \n",
      "Type: EXEC \n",
      "Type: EXEC \n",
      "Type: EXEC \n",
      "Type: EXEC \n",
      "Type: EXEC \n",
      "Type: EXEC \n",
      "Type: EXEC \n",
      "Type: EXEC \n"
     ]
    },
    {
     "ename": "ERROR",
     "evalue": "Error in {: task 1 failed - \"task 1 failed - \"undefined columns selected\"\"\n",
     "output_type": "error",
     "traceback": [
      "Error in {: task 1 failed - \"task 1 failed - \"undefined columns selected\"\"\nTraceback:\n",
      "1. source(\"src/Run_clam.R\", local = TRUE)",
      "2. withVisible(eval(ei, envir))",
      "3. eval(ei, envir)",
      "4. eval(ei, envir)",
      "5. foreach(core = seq_id_all, .combine = \"rbind\", .multicombine = TRUE, \n .     .maxcombine = 1000) %dopar% {\n .     suppressPackageStartupMessages({\n .         library(\"tidyverse\")\n .         library(\"clam\")\n .     })\n .     core_selection <- clam_Frame %>% filter(str_detect(lab_ID, \n .         CoreIDs[[core]]))\n .     clength <- CoreLengths %>% filter(str_detect(coreid, CoreIDs[[core]]))\n .     date_max <- plyr::round_any(max(core_selection$depth, na.rm = TRUE), \n .         1, f = floor)\n .     core_max <- clength$corelength\n .     tmpdir <- tempdir()\n .     dirbase <- basename(tmpdir)\n .     dirnm <- dirname(tmpdir)\n .     fl <- file.path(tmpdir, paste0(dirbase, \".csv\"))\n .     input_csv <- core_selection %>% select(lab_ID, `14C_age`, \n .         error, depth, thickness)\n .     utils::write.csv(input_csv, file = fl, row.names = FALSE, \n .         quote = FALSE)\n .     types <- types_curve\n .     smoothness <- smoothness_curve\n .     poly_degree <- poly_degree_curve\n .     if (length(unique(core_selection$depth)) < 4) {\n .         types <- 1:3\n .     }\n .     if (max(poly_degree) >= length(unique(core_selection$depth))) {\n .         poly_degree <- 1:(length(unique(core_selection$depth)) - \n .             1)\n .     }\n .     result_types <- foreach(type = types, .combine = \"rbind\", \n .         .multicombine = TRUE, .maxcombine = 1000) %do% {\n .         suppressPackageStartupMessages({\n .             library(\"tidyverse\")\n .             library(\"clam\")\n .         })\n .         if (type == 1 || type == 3) {\n .             suppressWarnings(R.devices::suppressGraphics({\n .                 z <- capture.output(clam(core = dirbase, coredir = dirnm, \n .                   type = type, its = 20000, dmin = 0, dmax = core_max, \n .                   plotpdf = FALSE, plotpng = FALSE, plotname = FALSE))\n .             }))\n .             fit <- as.numeric(sub(search_fit, \"\", subset(z, grepl(search_fit, \n .                 z, fixed = TRUE))))\n .             if (!any(grepl(search_rev, z, fixed = TRUE)) && !is.infinite(fit)) {\n .                 chron_model <- as.data.frame(chron[, 1:10000])\n .                 mid <- outer(CoreIDs[[core]], seq(0, core_max, \n .                   by = 1), paste)\n .                 rownames(chron_model) <- outer(mid, sprintf(\"-clam_T%d\", \n .                   type), paste0)\n .                 chron_model$fit <- fit\n .                 return(chron_model)\n .             }\n .         }\n .         else if (type == 2) {\n .             foreach(degree = poly_degree, .combine = \"rbind\", \n .                 .multicombine = TRUE, .maxcombine = 1000) %do% \n .                 {\n .                   suppressWarnings(R.devices::suppressGraphics({\n .                     z <- capture.output(clam(core = dirbase, \n .                       coredir = dirnm, type = type, smooth = degree, \n .                       its = 20000, dmin = 0, dmax = core_max, \n .                       plotpdf = FALSE, plotpng = FALSE, plotname = FALSE))\n .                   }))\n .                   fit <- as.numeric(sub(search_fit, \"\", subset(z, \n .                     grepl(search_fit, z, fixed = TRUE))))\n .                   if (!any(grepl(search_rev, z, fixed = TRUE)) && \n .                     !is.infinite(fit)) {\n .                     chron_model <- as.data.frame(chron[, 1:10000])\n .                     mid <- outer(CoreIDs[[core]], seq(0, core_max, \n .                       by = 1), paste)\n .                     rownames(chron_model) <- outer(mid, sprintf(\"-clam_T%d_D%d\", \n .                       type, degree), paste0)\n .                     chron_model$fit <- fit\n .                     return(chron_model)\n .                   }\n .                 }\n .         }\n .         else if (type == 4 || type == 5) {\n .             foreach(smooth = smoothness, .combine = \"rbind\", \n .                 .multicombine = TRUE, .maxcombine = 1000) %do% \n .                 {\n .                   suppressWarnings(R.devices::suppressGraphics({\n .                     z <- capture.output(clam(core = dirbase, \n .                       coredir = dirnm, type = type, smooth = smooth, \n .                       its = 20000, dmin = 0, dmax = core_max, \n .                       plotpdf = FALSE, plotpng = FALSE, plotname = FALSE))\n .                   }))\n .                   fit <- as.numeric(sub(search_fit, \"\", subset(z, \n .                     grepl(search_fit, z, fixed = TRUE))))\n .                   if (!any(grepl(search_rev, z, fixed = TRUE)) && \n .                     !is.infinite(fit)) {\n .                     chron_model <- as.data.frame(chron[, 1:10000])\n .                     mid <- outer(CoreIDs[[core]], seq(0, core_max, \n .                       by = 1), paste)\n .                     rownames(chron_model) <- outer(mid, sprintf(\"-clam_T%d_S%d\", \n .                       type, as.integer(smooth * 10)), paste0)\n .                     chron_model$fit <- fit\n .                     return(chron_model)\n .                   }\n .                 }\n .         }\n .         NULL\n .     }\n .     if (best_fit == TRUE && !is.null(result_types)) {\n .         result_types <- result_types[result_types$fit == min(result_types$fit, \n .             na.rm = TRUE), ]\n .     }\n .     message(sprintf(\"✅ Done with core %s (%d/%d)\", CoreIDs[[core]], \n .         core, length(CoreIDs)))\n .     return(result_types)\n . }",
      "6. e$fun(obj, substitute(ex), parent.frame(), e$data)"
     ]
    }
   ],
   "source": [
    "source('src/Run_clam.R', local = TRUE)"
   ]
  },
  {
   "cell_type": "code",
   "execution_count": null,
   "metadata": {
    "kernel": "R"
   },
   "outputs": [],
   "source": [
    "%put clam_core_results"
   ]
  },
  {
   "cell_type": "markdown",
   "metadata": {
    "kernel": "R"
   },
   "source": [
    "#### Aggregate"
   ]
  },
  {
   "cell_type": "code",
   "execution_count": null,
   "metadata": {
    "kernel": "SoS"
   },
   "outputs": [],
   "source": [
    "aggcl = aggregate.AggDataClam(clam_core_results, dttp = aggRC.dttp)\n",
    "aggcl.results_agg()"
   ]
  },
  {
   "cell_type": "markdown",
   "metadata": {
    "kernel": "SoS"
   },
   "source": [
    "#### Calculating sedimentation rate"
   ]
  },
  {
   "cell_type": "code",
   "execution_count": null,
   "metadata": {
    "kernel": "SoS"
   },
   "outputs": [],
   "source": [
    "SRcl = sedi_rate.CalculateSediRate(aggcl, model = 'clam', coreid = CoreIDs, mode = SR_mode)\n",
    "SRcl.calculating_SR()"
   ]
  },
  {
   "cell_type": "markdown",
   "metadata": {
    "kernel": "SoS"
   },
   "source": [
    "#### Push results to database"
   ]
  },
  {
   "cell_type": "code",
   "execution_count": null,
   "metadata": {
    "kernel": "SoS"
   },
   "outputs": [],
   "source": [
    "push = push_data.PushIt(agg = aggcl,\n",
    "                        engine = dates.engine,\n",
    "                        model = 'clam')\n",
    "push.push_to_db()"
   ]
  },
  {
   "cell_type": "markdown",
   "metadata": {
    "kernel": "SoS"
   },
   "source": [
    "# Plotting"
   ]
  },
  {
   "cell_type": "code",
   "execution_count": null,
   "metadata": {
    "kernel": "SoS"
   },
   "outputs": [],
   "source": [
    "plot_data = {'Undatable' : [aggU.age_model_result_Undatable, SRUn.SR_model_result_Undatable],\n",
    "             'Bchron': [aggBc.age_model_result_Bchron, SRBc.SR_model_result_Bchron],\n",
    "             'hamstr': [aggh.age_model_result_hamstr, SRh.SR_model_result_hamstr],\n",
    "             'Bacon': [aggBa.age_model_result_Bacon, SRBa.SR_model_result_Bacon],\n",
    "             'clam': [aggcl.age_model_result_clam, SRcl.SR_model_result_clam],\n",
    "             'calib_dates': calib_dates}"
   ]
  },
  {
   "cell_type": "code",
   "execution_count": null,
   "metadata": {
    "kernel": "SoS"
   },
   "outputs": [],
   "source": [
    "ASRplot = age_sr_plot.PlotAgeSR(plot_data, coreid = CoreIDs, dttp = aggRC.dttp)"
   ]
  },
  {
   "cell_type": "code",
   "execution_count": null,
   "metadata": {
    "kernel": "SoS"
   },
   "outputs": [],
   "source": [
    "ASRplot.plot_graph(orig_dir = orig_dir, sigma_range = 'both',\n",
    "                   bin_size = 1000, xlim_max = 21000, number_col = 8, reduce_plot_axis = True,\n",
    "                   only_combined = True, save = True, for_color_blind = False, as_jpg = False)"
   ]
  },
  {
   "cell_type": "markdown",
   "metadata": {
    "kernel": "SoS"
   },
   "source": [
    "# Optimization"
   ]
  },
  {
   "cell_type": "code",
   "execution_count": null,
   "metadata": {
    "kernel": "SoS"
   },
   "outputs": [],
   "source": [
    "proxy = gd.ProxyFromFile()"
   ]
  },
  {
   "cell_type": "code",
   "execution_count": null,
   "metadata": {
    "kernel": "SoS",
    "scrolled": true
   },
   "outputs": [],
   "source": [
    "proxy_ts = proxy.get_proxy()\n",
    "###\n",
    "dict_model_name = ASRplot.dict_model_name\n",
    "dict_SR_median_age = ASRplot.dict_SR_median_age"
   ]
  },
  {
   "cell_type": "code",
   "execution_count": null,
   "metadata": {
    "kernel": "R"
   },
   "outputs": [],
   "source": [
    "%get dict_SR_median_age --from SoS\n",
    "%get dict_model_name --from SoS\n",
    "%get proxy_ts --from SoS"
   ]
  },
  {
   "cell_type": "code",
   "execution_count": null,
   "metadata": {
    "kernel": "R"
   },
   "outputs": [],
   "source": [
    "curr_nreps     <- 1000\n",
    "curr_minseg    <- 50\n",
    "curr_cptmethod <- \"mean+variance\""
   ]
  },
  {
   "cell_type": "code",
   "execution_count": null,
   "metadata": {
    "kernel": "R",
    "scrolled": true
   },
   "outputs": [],
   "source": [
    "source('src/Run_Optimization.R', local = TRUE)"
   ]
  },
  {
   "cell_type": "code",
   "execution_count": null,
   "metadata": {
    "kernel": "R"
   },
   "outputs": [],
   "source": [
    "%put result_list \n",
    "%put fitting_values"
   ]
  },
  {
   "cell_type": "code",
   "execution_count": null,
   "metadata": {
    "kernel": "SoS"
   },
   "outputs": [],
   "source": [
    "optimizedASRplot = age_sr_plot.PlotAgeSR(plot_data, coreid = CoreIDs, dttp = aggRC.dttp)"
   ]
  },
  {
   "cell_type": "code",
   "execution_count": null,
   "metadata": {
    "kernel": "SoS"
   },
   "outputs": [],
   "source": [
    "optimizedASRplot.plot_optimized_graph(optimization_values = result_list, fitting_values = fitting_values, \n",
    "                                      proxy = proxy.name, proxy_data = proxy_ts, orig_dir = orig_dir, \n",
    "                                      sigma_range = 'both', inclusion_threshold = 0.03, show_fitting_models = True,\n",
    "                                      bin_size = 1000, xlim_max = 21000, number_col = 8, reduce_plot_axis = True,\n",
    "                                      only_combined = True, save = True, for_color_blind = False, as_jpg = False)"
   ]
  },
  {
   "cell_type": "code",
   "execution_count": null,
   "metadata": {
    "kernel": "SoS"
   },
   "outputs": [],
   "source": []
  }
 ],
 "metadata": {
  "kernelspec": {
   "display_name": "SoS",
   "language": "sos",
   "name": "sos"
  },
  "language_info": {
   "codemirror_mode": "sos",
   "file_extension": ".sos",
   "mimetype": "text/x-sos",
   "name": "sos",
   "nbconvert_exporter": "sos_notebook.converter.SoS_Exporter",
   "pygments_lexer": "sos"
  },
  "sos": {
   "kernels": [
    [
     "Octave",
     "octave",
     "Octave",
     "#dff8fb",
     ""
    ],
    [
     "R",
     "ir",
     "R",
     "lightgrey",
     "r"
    ],
    [
     "SoS",
     "sos",
     "",
     "",
     "sos"
    ]
   ],
   "panel": {
    "displayed": false,
    "height": 0
   },
   "version": "0.24.4"
  }
 },
 "nbformat": 4,
 "nbformat_minor": 4
}

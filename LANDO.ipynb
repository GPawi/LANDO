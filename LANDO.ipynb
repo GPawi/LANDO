{
 "cells": [
  {
   "cell_type": "markdown",
   "metadata": {
    "kernel": "SoS"
   },
   "source": [
    "# Setup"
   ]
  },
  {
   "cell_type": "markdown",
   "metadata": {
    "kernel": "SoS"
   },
   "source": [
    "### Import libraries"
   ]
  },
  {
   "cell_type": "code",
   "execution_count": 1,
   "metadata": {
    "kernel": "SoS",
    "tags": []
   },
   "outputs": [],
   "source": [
    "import numpy as np\n",
    "import pandas as pd\n",
    "import matplotlib.pyplot as plt\n",
    "import seaborn as sns\n",
    "import os\n",
    "import sys\n",
    "import datetime\n",
    "from src import (get_data as gd, \n",
    "                 prepare as prep, \n",
    "                 aggregate_data as aggregate,\n",
    "                 push_data,\n",
    "                 sedi_rate,\n",
    "                 age_sr_plot)\n",
    "###\n",
    "orig_dir = os.getcwd()"
   ]
  },
  {
   "cell_type": "markdown",
   "metadata": {
    "kernel": "SoS"
   },
   "source": [
    "# Main Data"
   ]
  },
  {
   "cell_type": "markdown",
   "metadata": {
    "kernel": "SoS"
   },
   "source": [
    "### Retrieve data "
   ]
  },
  {
   "cell_type": "code",
   "execution_count": 2,
   "metadata": {
    "kernel": "SoS",
    "tags": []
   },
   "outputs": [
    {
     "data": {
      "application/vnd.jupyter.widget-view+json": {
       "model_id": "acd8b0996aa647d6bbdccbf7e1958a83",
       "version_major": 2,
       "version_minor": 0
      },
      "text/plain": [
       "FileChooser(path='/home/jovyan/work/input_files', filename='', title='', show_hidden=False, select_desc='Selec…"
      ]
     },
     "metadata": {},
     "output_type": "display_data"
    }
   ],
   "source": [
    "dates = gd.AgeFromFileOneCore()"
   ]
  },
  {
   "cell_type": "code",
   "execution_count": 3,
   "metadata": {
    "kernel": "SoS",
    "tags": []
   },
   "outputs": [],
   "source": [
    "dates.get_dates()"
   ]
  },
  {
   "cell_type": "markdown",
   "metadata": {
    "kernel": "SoS"
   },
   "source": [
    "### Add calibration curve to data"
   ]
  },
  {
   "cell_type": "code",
   "execution_count": 4,
   "metadata": {
    "kernel": "SoS",
    "tags": []
   },
   "outputs": [],
   "source": [
    "dates.select_calibration_curve(default_curve = 'IntCal20', user_selection = False)"
   ]
  },
  {
   "cell_type": "code",
   "execution_count": 5,
   "metadata": {
    "kernel": "SoS",
    "tags": []
   },
   "outputs": [],
   "source": [
    "dates.add_calibration_curve()"
   ]
  },
  {
   "cell_type": "markdown",
   "metadata": {
    "kernel": "SoS"
   },
   "source": [
    "### Put data in variables"
   ]
  },
  {
   "cell_type": "code",
   "execution_count": 6,
   "metadata": {
    "kernel": "SoS",
    "tags": []
   },
   "outputs": [],
   "source": [
    "AllAges = dates.all_ages\n",
    "CoreIDs = dates.all_coreid_list\n",
    "CoreLengths = dates.all_core_lengths\n",
    "SR_mode = 'naive'"
   ]
  },
  {
   "cell_type": "code",
   "execution_count": 7,
   "metadata": {
    "kernel": "SoS",
    "tags": []
   },
   "outputs": [],
   "source": [
    "aggRC = lambda: None\n",
    "aggRC.dttp = \"No\""
   ]
  },
  {
   "cell_type": "markdown",
   "metadata": {
    "kernel": "SoS"
   },
   "source": [
    "# Reservoir correction"
   ]
  },
  {
   "cell_type": "markdown",
   "metadata": {
    "kernel": "SoS"
   },
   "source": [
    "#### Prep"
   ]
  },
  {
   "cell_type": "code",
   "execution_count": 8,
   "metadata": {
    "kernel": "SoS",
    "tags": []
   },
   "outputs": [],
   "source": [
    "os.chdir(orig_dir)\n",
    "RC = prep.PrepForReservoirCorrection(all_ages = AllAges)\n",
    "RC.prep_it()\n",
    "RC_Frame = RC.RC_Frame\n",
    "RC_CoreIDs = RC.RC_CoreIDs\n",
    "RC_CoreLengths = CoreLengths[CoreLengths.coreid.isin(RC_CoreIDs)]"
   ]
  },
  {
   "cell_type": "markdown",
   "metadata": {
    "kernel": "SoS"
   },
   "source": [
    "#### R run"
   ]
  },
  {
   "cell_type": "code",
   "execution_count": 9,
   "metadata": {
    "kernel": "R",
    "tags": []
   },
   "outputs": [],
   "source": [
    "%get RC_Frame\n",
    "%get RC_CoreIDs \n",
    "%get RC_CoreLengths"
   ]
  },
  {
   "cell_type": "code",
   "execution_count": 10,
   "metadata": {
    "kernel": "R",
    "tags": []
   },
   "outputs": [],
   "source": [
    "K_fine <- 100\n",
    "source('src/Run_DefineReservoir.R', local = TRUE)"
   ]
  },
  {
   "cell_type": "code",
   "execution_count": 11,
   "metadata": {
    "kernel": "R",
    "tags": []
   },
   "outputs": [],
   "source": [
    "%put reservoir_core_results"
   ]
  },
  {
   "cell_type": "markdown",
   "metadata": {
    "kernel": "R"
   },
   "source": [
    "#### Aggregate results"
   ]
  },
  {
   "cell_type": "code",
   "execution_count": 12,
   "metadata": {
    "kernel": "SoS",
    "tags": []
   },
   "outputs": [],
   "source": [
    "aggRC = aggregate.AggDataReservoir(results = reservoir_core_results,\n",
    "                                   surface_dates = RC.desired_surface_dates,\n",
    "                                   verbose = 0)\n",
    "aggRC.results_agg()"
   ]
  },
  {
   "cell_type": "code",
   "execution_count": 13,
   "metadata": {
    "kernel": "SoS",
    "tags": []
   },
   "outputs": [],
   "source": [
    "AllAges = aggRC.add_reservoir(all_ages = AllAges)"
   ]
  },
  {
   "cell_type": "markdown",
   "metadata": {
    "kernel": "SoS"
   },
   "source": [
    "# Calibration\n",
    "#### Prep"
   ]
  },
  {
   "cell_type": "code",
   "execution_count": 8,
   "metadata": {
    "kernel": "SoS"
   },
   "outputs": [],
   "source": [
    "calib = prep.PrepForCalibration(all_ages = AllAges)\n",
    "calib.prep_it()\n",
    "calib_Frame = calib.calib_Frame"
   ]
  },
  {
   "cell_type": "markdown",
   "metadata": {
    "kernel": "SoS"
   },
   "source": [
    "#### R run"
   ]
  },
  {
   "cell_type": "code",
   "execution_count": 9,
   "metadata": {
    "kernel": "R"
   },
   "outputs": [],
   "source": [
    "%get calib_Frame --from SoS"
   ]
  },
  {
   "cell_type": "code",
   "execution_count": 10,
   "metadata": {
    "kernel": "R"
   },
   "outputs": [],
   "source": [
    "source('src/Run_calibration.R', local = TRUE)"
   ]
  },
  {
   "cell_type": "code",
   "execution_count": 11,
   "metadata": {
    "kernel": "R"
   },
   "outputs": [],
   "source": [
    "%put calib_dates"
   ]
  },
  {
   "cell_type": "markdown",
   "metadata": {
    "kernel": "SoS"
   },
   "source": [
    "# Age Modeling\n",
    "### UNDATABLE\n",
    "#### Prep"
   ]
  },
  {
   "cell_type": "code",
   "execution_count": 18,
   "metadata": {
    "kernel": "SoS",
    "scrolled": true
   },
   "outputs": [
    {
     "name": "stdout",
     "output_type": "stream",
     "text": [
      "Information: New files for Undatable created!\n"
     ]
    }
   ],
   "source": [
    "Undatable = prep.PrepForUndatable(all_ages = AllAges, \n",
    "                                  all_coreid_list = CoreIDs)\n",
    "Undatable.prep_it()\n",
    "CoreID_array = Undatable.CoreID_array"
   ]
  },
  {
   "cell_type": "markdown",
   "metadata": {
    "kernel": "SoS"
   },
   "source": [
    "#### Octave run"
   ]
  },
  {
   "cell_type": "code",
   "execution_count": 19,
   "metadata": {
    "kernel": "Octave"
   },
   "outputs": [
    {
     "name": "stdout",
     "output_type": "stream",
     "text": [
      "\u001b[?2004l\n",
      "a =\n",
      "\n",
      "  scalar structure containing the fields:\n",
      "\n",
      "    obj =\n",
      "    {\n",
      "      [1,1] = EN18218\n",
      "    }\n",
      "\n",
      "\n",
      "repr =\n",
      "{\n",
      "  [1,1] = EN18218\n",
      "}\n",
      "\n",
      "CoreID_array =\n",
      "{\n",
      "  [1,1] = EN18218\n",
      "}\n",
      "\n",
      "\u001b[?2004h"
     ]
    }
   ],
   "source": [
    "%get CoreID_array"
   ]
  },
  {
   "cell_type": "code",
   "execution_count": 20,
   "metadata": {
    "kernel": "Octave"
   },
   "outputs": [
    {
     "name": "stdout",
     "output_type": "stream",
     "text": [
      "\u001b[?2004l\n",
      "\u001b[?2004h\u001b[?2004l\n",
      "\u001b[?2004h\u001b[?2004l\n",
      "\u001b[?2004h"
     ]
    }
   ],
   "source": [
    "xfactor = 0.1;\n",
    "bootpc = 30;\n",
    "run_Undatable(CoreID_array, xfactor, bootpc);"
   ]
  },
  {
   "cell_type": "markdown",
   "metadata": {
    "kernel": "MATLAB"
   },
   "source": [
    "#### Aggregate results"
   ]
  },
  {
   "cell_type": "code",
   "execution_count": 21,
   "metadata": {
    "kernel": "SoS"
   },
   "outputs": [],
   "source": [
    "aggU = aggregate.AggDataUndatable(Undatable, orig_dir, dttp = aggRC.dttp)\n",
    "aggU.results_agg()"
   ]
  },
  {
   "cell_type": "markdown",
   "metadata": {
    "kernel": "SoS"
   },
   "source": [
    "#### Calculate sedimentation rate"
   ]
  },
  {
   "cell_type": "code",
   "execution_count": 22,
   "metadata": {
    "kernel": "SoS"
   },
   "outputs": [],
   "source": [
    "SRUn = sedi_rate.CalculateSediRate(aggU, model = 'Undatable', coreid = CoreIDs, mode = SR_mode)\n",
    "SRUn.calculating_SR()"
   ]
  },
  {
   "cell_type": "markdown",
   "metadata": {
    "kernel": "SoS"
   },
   "source": [
    "#### Push results to database"
   ]
  },
  {
   "cell_type": "code",
   "execution_count": 23,
   "metadata": {
    "kernel": "SoS"
   },
   "outputs": [
    {
     "name": "stdout",
     "output_type": "stream",
     "text": [
      "Information: LANDO is not connected to a database, so nothing was uploaded.\n"
     ]
    }
   ],
   "source": [
    "push = push_data.PushIt(agg = aggU,\n",
    "                        engine = dates.engine,\n",
    "                        model = 'Undatable')\n",
    "push.push_to_db()"
   ]
  },
  {
   "cell_type": "code",
   "execution_count": 24,
   "metadata": {
    "kernel": "SoS"
   },
   "outputs": [
    {
     "name": "stdout",
     "output_type": "stream",
     "text": [
      "Information: All unwanted Undatable files have been deleted\n"
     ]
    }
   ],
   "source": [
    "os.chdir(orig_dir)\n",
    "push.delete_files(location_UndatableFolder = Undatable.location_UndatableFolder,\n",
    "                  coreids = Undatable.coreid_df)"
   ]
  },
  {
   "cell_type": "markdown",
   "metadata": {
    "kernel": "SoS"
   },
   "source": [
    "### Bchron"
   ]
  },
  {
   "cell_type": "markdown",
   "metadata": {
    "kernel": "SoS"
   },
   "source": [
    "#### Prep"
   ]
  },
  {
   "cell_type": "code",
   "execution_count": 25,
   "metadata": {
    "kernel": "SoS"
   },
   "outputs": [],
   "source": [
    "os.chdir(orig_dir)\n",
    "Bchron = prep.PrepForBchron(all_ages = AllAges)\n",
    "Bchron.prep_it()\n",
    "Bchron_Frame = Bchron.Bchron_Frame"
   ]
  },
  {
   "cell_type": "markdown",
   "metadata": {
    "kernel": "SoS"
   },
   "source": [
    "#### R run"
   ]
  },
  {
   "cell_type": "code",
   "execution_count": 26,
   "metadata": {
    "kernel": "R"
   },
   "outputs": [],
   "source": [
    "%get Bchron_Frame --from SoS \n",
    "%get CoreIDs --from SoS\n",
    "%get CoreLengths --from SoS"
   ]
  },
  {
   "cell_type": "code",
   "execution_count": 27,
   "metadata": {
    "kernel": "R"
   },
   "outputs": [
    {
     "name": "stdout",
     "output_type": "stream",
     "text": [
      "Running Bchronology...\n",
      "  |============================================================| 100%\n",
      "Run completed!\n"
     ]
    },
    {
     "name": "stderr",
     "output_type": "stream",
     "text": [
      " Done with core EN18218 - Number 1 out of 1\n",
      "\n"
     ]
    }
   ],
   "source": [
    "source('src/Run_Bchron.R')"
   ]
  },
  {
   "cell_type": "code",
   "execution_count": 28,
   "metadata": {
    "kernel": "R"
   },
   "outputs": [],
   "source": [
    "%put Bchron_core_results"
   ]
  },
  {
   "cell_type": "markdown",
   "metadata": {
    "kernel": "R"
   },
   "source": [
    "#### Aggregate results"
   ]
  },
  {
   "cell_type": "code",
   "execution_count": 29,
   "metadata": {
    "kernel": "SoS"
   },
   "outputs": [],
   "source": [
    "aggBc = aggregate.AggDataBchron(Bchron_core_results, dttp = aggRC.dttp)\n",
    "aggBc.results_agg()"
   ]
  },
  {
   "cell_type": "markdown",
   "metadata": {
    "kernel": "SoS"
   },
   "source": [
    "#### Calculating sedimentation rate"
   ]
  },
  {
   "cell_type": "code",
   "execution_count": 30,
   "metadata": {
    "kernel": "SoS"
   },
   "outputs": [],
   "source": [
    "SRBc = sedi_rate.CalculateSediRate(aggBc, model = 'Bchron', coreid = CoreIDs, mode = SR_mode)\n",
    "SRBc.calculating_SR()"
   ]
  },
  {
   "cell_type": "markdown",
   "metadata": {
    "kernel": "SoS"
   },
   "source": [
    "#### Push results to database"
   ]
  },
  {
   "cell_type": "code",
   "execution_count": 31,
   "metadata": {
    "kernel": "SoS"
   },
   "outputs": [
    {
     "name": "stdout",
     "output_type": "stream",
     "text": [
      "Information: LANDO is not connected to a database, so nothing was uploaded.\n"
     ]
    }
   ],
   "source": [
    "push = push_data.PushIt(agg = aggBc,\n",
    "                        engine = dates.engine,\n",
    "                        model = 'Bchron')\n",
    "push.push_to_db()"
   ]
  },
  {
   "cell_type": "markdown",
   "metadata": {
    "kernel": "SoS"
   },
   "source": [
    "### hamstr"
   ]
  },
  {
   "cell_type": "markdown",
   "metadata": {
    "kernel": "SoS"
   },
   "source": [
    "#### Prep"
   ]
  },
  {
   "cell_type": "code",
   "execution_count": 32,
   "metadata": {
    "kernel": "SoS"
   },
   "outputs": [],
   "source": [
    "hamstr = prep.PrepForHamstr(all_ages = AllAges)\n",
    "hamstr.prep_it()\n",
    "hamstr_Frame = hamstr.hamstr_Frame"
   ]
  },
  {
   "cell_type": "markdown",
   "metadata": {
    "kernel": "SoS"
   },
   "source": [
    "#### R Run"
   ]
  },
  {
   "cell_type": "code",
   "execution_count": 33,
   "metadata": {
    "kernel": "R"
   },
   "outputs": [],
   "source": [
    "%get hamstr_Frame --from SoS \n",
    "%get CoreIDs --from SoS\n",
    "%get CoreLengths --from SoS"
   ]
  },
  {
   "cell_type": "code",
   "execution_count": 34,
   "metadata": {
    "kernel": "R",
    "scrolled": true
   },
   "outputs": [
    {
     "name": "stderr",
     "output_type": "stream",
     "text": [
      "Done with core: EN18218\n",
      "\n"
     ]
    }
   ],
   "source": [
    "K_fine <- 100\n",
    "source('src/Run_hamstr.R', local = TRUE)"
   ]
  },
  {
   "cell_type": "code",
   "execution_count": 35,
   "metadata": {
    "kernel": "R"
   },
   "outputs": [],
   "source": [
    "%put hamstr_core_results"
   ]
  },
  {
   "cell_type": "markdown",
   "metadata": {
    "kernel": "R"
   },
   "source": [
    "#### Aggregate"
   ]
  },
  {
   "cell_type": "code",
   "execution_count": 36,
   "metadata": {
    "kernel": "SoS"
   },
   "outputs": [],
   "source": [
    "aggh = aggregate.AggDataHamstr(hamstr_core_results, dttp = aggRC.dttp)\n",
    "aggh.results_agg()"
   ]
  },
  {
   "cell_type": "markdown",
   "metadata": {
    "kernel": "SoS"
   },
   "source": [
    "#### Calculating sedimentation rate"
   ]
  },
  {
   "cell_type": "code",
   "execution_count": 37,
   "metadata": {
    "kernel": "SoS"
   },
   "outputs": [],
   "source": [
    "SRh = sedi_rate.CalculateSediRate(aggh, model = 'hamstr', coreid = CoreIDs, mode = SR_mode)\n",
    "SRh.calculating_SR()"
   ]
  },
  {
   "cell_type": "markdown",
   "metadata": {
    "kernel": "SoS"
   },
   "source": [
    "#### Push results to database"
   ]
  },
  {
   "cell_type": "code",
   "execution_count": 38,
   "metadata": {
    "kernel": "SoS"
   },
   "outputs": [
    {
     "name": "stdout",
     "output_type": "stream",
     "text": [
      "Information: LANDO is not connected to a database, so nothing was uploaded.\n"
     ]
    }
   ],
   "source": [
    "push = push_data.PushIt(agg = aggh,\n",
    "                        engine = dates.engine,\n",
    "                        model = 'hamstr')\n",
    "push.push_to_db()"
   ]
  },
  {
   "cell_type": "markdown",
   "metadata": {
    "kernel": "SoS"
   },
   "source": [
    "### Bacon"
   ]
  },
  {
   "cell_type": "markdown",
   "metadata": {
    "kernel": "SoS"
   },
   "source": [
    "#### Prep"
   ]
  },
  {
   "cell_type": "code",
   "execution_count": 12,
   "metadata": {
    "kernel": "SoS"
   },
   "outputs": [],
   "source": [
    "Bacon = prep.PrepForBacon(all_ages = AllAges)\n",
    "Bacon.prep_it()\n",
    "Bacon_Frame = Bacon.Bacon_Frame"
   ]
  },
  {
   "cell_type": "markdown",
   "metadata": {
    "kernel": "SoS"
   },
   "source": [
    "#### R Run"
   ]
  },
  {
   "cell_type": "code",
   "execution_count": 68,
   "metadata": {
    "kernel": "R"
   },
   "outputs": [],
   "source": [
    "%get Bacon_Frame --from SoS \n",
    "%get CoreIDs --from SoS\n",
    "%get CoreLengths --from SoS\n",
    "%get calib_dates --from SoS"
   ]
  },
  {
   "cell_type": "code",
   "execution_count": 99,
   "metadata": {
    "kernel": "R"
   },
   "outputs": [
    {
     "name": "stderr",
     "output_type": "stream",
     "text": [
      "Previous runs of core TestCore with thick=5 cm deleted. Now try running the core again\n",
      "\n",
      "\n"
     ]
    },
    {
     "name": "stdout",
     "output_type": "stream",
     "text": [
      "starting worker for localhost:11299 \n",
      "Type: EXEC \n",
      "Type: EXEC \n"
     ]
    },
    {
     "name": "stderr",
     "output_type": "stream",
     "text": [
      "Loading required package: foreach\n",
      "Loading required package: rngtools\n",
      "Running Bacon for core EN18218 (attempt 1)\n",
      " Using calibration curve specified within the .csv file,0\n",
      "\n",
      "Adapting acc.mean to 50 yr/cm\n",
      " Will run 46,900,000 iterations and store 10,000\n"
     ]
    },
    {
     "name": "stdout",
     "output_type": "stream",
     "text": [
      "The run's files will be put in this folder: /tmp/RtmpdzsWDo/EN18218\n",
      "Reading /tmp/RtmpdzsWDo/EN18218/EN18218_132.bacon\n",
      "Constant calibration curve.\n",
      "IntCal20: Reading from file: /opt/conda/lib/R/library/rintcal/extdata/3Col_intcal20.14C\n",
      "Marine20: Reading from file: /opt/conda/lib/R/library/rintcal/extdata/3Col_marine20.14C\n",
      "SHCal20: Reading from file: /opt/conda/lib/R/library/rintcal/extdata/3Col_shcal20.14C\n",
      "Added det: EN18218:  -38.2+-43.2   d=0.25 ResCorr=   0.0+-0.0    a=3 b=4 cc=Constant c. curve\n",
      "Added det: EN18218: 1855.1+-82.6   d=18.75 ResCorr=   0.0+-0.0    a=3 b=4 cc=Constant c. curve\n",
      "Added det: EN18218: 2885.0+-76.5   d=35.25 ResCorr=   0.0+-0.0    a=3 b=4 cc=Constant c. curve\n",
      "Added det: EN18218: 3150.8+-99.5   d=59.75 ResCorr=   0.0+-0.0    a=3 b=4 cc=Constant c. curve\n",
      "Added det: EN18218: 4663.9+-101.3  d=81.25 ResCorr=   0.0+-0.0    a=3 b=4 cc=Constant c. curve\n",
      "Added det: EN18218: 5216.7+-126.1  d=114.75 ResCorr=   0.0+-0.0    a=3 b=4 cc=Constant c. curve\n",
      "Added det: EN18218: 4735.1+-95.6   d=138.75 ResCorr=   0.0+-0.0    a=3 b=4 cc=Constant c. curve\n",
      "Added det: EN18218: 5169.6+-112.8  d=162.75 ResCorr=   0.0+-0.0    a=3 b=4 cc=Constant c. curve\n",
      "Added det: EN18218: 5745.7+-87.6   d=187.75 ResCorr=   0.0+-0.0    a=3 b=4 cc=Constant c. curve\n",
      "Added det: EN18218: 6403.9+-70.6   d=221.75 ResCorr=   0.0+-0.0    a=3 b=4 cc=Constant c. curve\n",
      "Added det: EN18218: 8864.8+-115.8  d=248.75 ResCorr=   0.0+-0.0    a=3 b=4 cc=Constant c. curve\n",
      "Added det: EN18218: 9207.0+-108.7  d=270.75 ResCorr=   0.0+-0.0    a=3 b=4 cc=Constant c. curve\n",
      "Added det: EN18218: 9660.0+-101.7  d=293.25 ResCorr=   0.0+-0.0    a=3 b=4 cc=Constant c. curve\n",
      "Added det: EN18218: 10191.0+-110.7  d=316.75 ResCorr=   0.0+-0.0    a=3 b=4 cc=Constant c. curve\n",
      "Added det: EN18218: 10544.9+-114.8  d=338.75 ResCorr=   0.0+-0.0    a=3 b=4 cc=Constant c. curve\n",
      "Added det: EN18218: 12783.0+-45.9   d=362.75 ResCorr=   0.0+-0.0    a=3 b=4 cc=Constant c. curve\n",
      "Added det: EN18218: 13239.5+-70.3   d=383.75 ResCorr=   0.0+-0.0    a=3 b=4 cc=Constant c. curve\n",
      "Added det: EN18218: 14080.2+-170.4  d=404.75 ResCorr=   0.0+-0.0    a=3 b=4 cc=Constant c. curve\n",
      "Added det: EN18218: 16239.9+-133.4  d=443.75 ResCorr=   0.0+-0.0    a=3 b=4 cc=Constant c. curve\n",
      "Added det: EN18218: 18134.5+-101.3  d=474.75 ResCorr=   0.0+-0.0    a=3 b=4 cc=Constant c. curve\n",
      "Added det: EN18218: 20365.6+-109.6  d=503.75 ResCorr=   0.0+-0.0    a=3 b=4 cc=Constant c. curve\n",
      "Added det: EN18218: 20698.1+-106.4  d=536.25 ResCorr=   0.0+-0.0    a=3 b=4 cc=Constant c. curve\n",
      "Added det: EN18218: 26060.4+-127.5  d=565.75 ResCorr=   0.0+-0.0    a=3 b=4 cc=Constant c. curve\n",
      "Added det: EN18218: 25223.1+-308.1  d=596.25 ResCorr=   0.0+-0.0    a=3 b=4 cc=Constant c. curve\n",
      "Added det: EN18218: 29098.1+-425.1  d=624.25 ResCorr=   0.0+-0.0    a=3 b=4 cc=Constant c. curve\n",
      "Added det: EN18218: 28399.4+-351.1  d=646.25 ResCorr=   0.0+-0.0    a=3 b=4 cc=Constant c. curve\n",
      "Added det: NA: 28399.4+-29098101.0 d=653 ResCorr=   0.0+-0.0    a=3 b=4 cc=Constant c. curve\n",
      "Since no file /tmp/RtmpdzsWDo/EN18218/EN18218_132.bacon.init was provided with initial values for the twalk, I will start from simulated values.\n",
      "BaconFixed: Bacon jumps model with fixed c's.\n",
      "            K=132, H=0, dim=134, Seed=464453, Dc=5.000000, c(0)=0.250000, c(K)=660.250000\n",
      "\n",
      "twalk:     46900000 iterations to run, Wed May 14 14:23:04 2025\n",
      "       \n",
      "BUFSIZ is 8192, optimal block size changed to 4096\n",
      "twalk: All stored iterations to be saved in file /tmp/RtmpdzsWDo/EN18218/EN18218_132.out\n",
      "twalk: 7513088 iterations so far\n",
      "Will finish in approx. 2 minutes and 42 seconds.\n",
      "twalk: 22432768 iterations so far\n",
      "Will finish in approx. 1 minutes and 40 seconds.\n",
      "twalk: Finished,  0.2% of moved pars per iteration (ratio 114467.126874/46900000). Output in file /tmp/RtmpdzsWDo/EN18218/EN18218_132.out,\n",
      "      Wed May 14 14:26:16 2025\n",
      "\n",
      "Writing two last points of the twalk in /tmp/RtmpdzsWDo/EN18218/EN18218_132.bacon.last.\n",
      "bacon: 273662 WarnBeyondLimits warnings:\n",
      "bacon: WARNING: calibration attempted beyond MinYr= -75.000000 or MaxYr= 10000000.000000\n",
      "bacon: burn in (initial iterations which will be removed): 10050000\n",
      "Ats us nai!\n"
     ]
    },
    {
     "name": "stderr",
     "output_type": "stream",
     "text": [
      "Warning, this will take quite some time to calculate. I suggest increasing d.by to, e.g., 10\n",
      "\n",
      "Calculating age ranges...\n"
     ]
    },
    {
     "name": "stdout",
     "output_type": "stream",
     "text": [
      "  |======================================================================| 100%"
     ]
    },
    {
     "name": "stderr",
     "output_type": "stream",
     "text": [
      "\n",
      "Preparing ghost graph... \n"
     ]
    },
    {
     "name": "stdout",
     "output_type": "stream",
     "text": [
      "  |======================================================================| 100%"
     ]
    },
    {
     "name": "stderr",
     "output_type": "stream",
     "text": [
      "\n",
      "Mean 95% confidence ranges 1064 yr, min. 199 yr at 0.25 cm, max. 3384 yr at 560.25 cm\n",
      "100% of the dates overlap with the age-depth model (95% ranges)\n",
      "Posteriors: accrate mean 44.43, shape 0.85, memory mean 0.46, strength 13.75\n",
      "✅ ages_matrix shape: 133 depths × 10000 iterations\n",
      "🔎 Interpolation check:\n",
      "Depth range: 0.00–653.00 cm\n",
      "Deepest modeled age: min=1.1, mean=50.4, max=247.3\n",
      "✅ 10000 iterations achieved\n",
      "✅ Done with core EN18218\n"
     ]
    },
    {
     "name": "stdout",
     "output_type": "stream",
     "text": [
      "Type: DONE \n"
     ]
    },
    {
     "name": "stderr",
     "output_type": "stream",
     "text": [
      "Warning message:\n",
      "In interpolate_bacon_output_ff(run, depth_seq = seq(0, depth_max,  :\n",
      "  ⚠️ Deepest modeled age is <10,000 cal BP — check input ages or d.max\n"
     ]
    }
   ],
   "source": [
    "acc.shape <- 1.5\n",
    "acc.mean <- 20\n",
    "mem.strength <- 10\n",
    "mem.mean <- 0.5\n",
    "ssize <- 10000\n",
    "rbacon.change.acc.mean <- TRUE\n",
    "rbacon.change.thick <- TRUE\n",
    "source('src/Run_Bacon.R', local = TRUE)"
   ]
  },
  {
   "cell_type": "code",
   "execution_count": 96,
   "metadata": {
    "kernel": "R"
   },
   "outputs": [
    {
     "name": "stderr",
     "output_type": "stream",
     "text": [
      "Error in unserialize(node$con) : error reading from connection\n",
      "Calls: local ... doTryCatch -> recvData -> recvData.SOCKnode -> unserialize\n",
      "Execution halted\n",
      "Error in unserialize(node$con) : error reading from connection\n",
      "Calls: local ... doTryCatch -> recvData -> recvData.SOCKnode -> unserialize\n",
      "Execution halted\n"
     ]
    },
    {
     "data": {
      "text/html": [
       "<table class=\"dataframe\">\n",
       "<caption>A data.frame: 654 × 10001</caption>\n",
       "<thead>\n",
       "\t<tr><th></th><th scope=col>depth</th><th scope=col>iter_1</th><th scope=col>iter_2</th><th scope=col>iter_3</th><th scope=col>iter_4</th><th scope=col>iter_5</th><th scope=col>iter_6</th><th scope=col>iter_7</th><th scope=col>iter_8</th><th scope=col>iter_9</th><th scope=col>⋯</th><th scope=col>iter_9991</th><th scope=col>iter_9992</th><th scope=col>iter_9993</th><th scope=col>iter_9994</th><th scope=col>iter_9995</th><th scope=col>iter_9996</th><th scope=col>iter_9997</th><th scope=col>iter_9998</th><th scope=col>iter_9999</th><th scope=col>iter_10000</th></tr>\n",
       "\t<tr><th></th><th scope=col>&lt;fct&gt;</th><th scope=col>&lt;dbl&gt;</th><th scope=col>&lt;dbl&gt;</th><th scope=col>&lt;dbl&gt;</th><th scope=col>&lt;dbl&gt;</th><th scope=col>&lt;dbl&gt;</th><th scope=col>&lt;dbl&gt;</th><th scope=col>&lt;dbl&gt;</th><th scope=col>&lt;dbl&gt;</th><th scope=col>&lt;dbl&gt;</th><th scope=col>⋯</th><th scope=col>&lt;dbl&gt;</th><th scope=col>&lt;dbl&gt;</th><th scope=col>&lt;dbl&gt;</th><th scope=col>&lt;dbl&gt;</th><th scope=col>&lt;dbl&gt;</th><th scope=col>&lt;dbl&gt;</th><th scope=col>&lt;dbl&gt;</th><th scope=col>&lt;dbl&gt;</th><th scope=col>&lt;dbl&gt;</th><th scope=col>&lt;dbl&gt;</th></tr>\n",
       "</thead>\n",
       "<tbody>\n",
       "\t<tr><th scope=row>1</th><td>EN18218 0 </td><td>-25.766300</td><td> 38.451000</td><td> 37.86880</td><td> 39.84960</td><td> 48.36300</td><td> 50.66490</td><td> 84.00070</td><td> 61.02020</td><td>-25.76970</td><td>⋯</td><td>-49.764000</td><td>-37.389400</td><td>-36.14310</td><td>  2.48569</td><td> -9.51557</td><td>-30.957100</td><td>-33.915900</td><td> -8.968880</td><td> -9.699090</td><td>-24.53880</td></tr>\n",
       "\t<tr><th scope=row>2</th><td>EN18218 1 </td><td>-21.246181</td><td> 33.819119</td><td> 37.34385</td><td> 39.52311</td><td> 46.47900</td><td> 44.33909</td><td> 72.35145</td><td> 53.91943</td><td>-19.85199</td><td>⋯</td><td>-31.963995</td><td>-20.599165</td><td>-19.08603</td><td> 16.82752</td><td>  6.32000</td><td>-17.108995</td><td>-19.623975</td><td> -1.178243</td><td>  1.021663</td><td>-11.59209</td></tr>\n",
       "\t<tr><th scope=row>3</th><td>EN18218 2 </td><td>-15.219355</td><td> 27.643276</td><td> 36.64391</td><td> 39.08779</td><td> 43.96700</td><td> 35.90469</td><td> 56.81912</td><td> 44.45173</td><td>-11.96171</td><td>⋯</td><td> -8.230655</td><td>  1.787815</td><td>  3.65673</td><td> 35.94996</td><td> 27.43409</td><td>  1.355145</td><td> -0.568075</td><td>  9.209273</td><td> 15.316001</td><td>  5.67019</td></tr>\n",
       "\t<tr><th scope=row>4</th><td>EN18218 3 </td><td> -9.192529</td><td> 21.467434</td><td> 35.94396</td><td> 38.65247</td><td> 41.45500</td><td> 27.47028</td><td> 41.28679</td><td> 34.98403</td><td> -4.07143</td><td>⋯</td><td> 15.502685</td><td> 24.174795</td><td> 26.39949</td><td> 55.07241</td><td> 48.54819</td><td> 19.819285</td><td> 18.487825</td><td> 19.596789</td><td> 29.610340</td><td> 22.93247</td></tr>\n",
       "\t<tr><th scope=row>5</th><td>EN18218 4 </td><td> -3.165703</td><td> 15.291593</td><td> 35.24403</td><td> 38.21715</td><td> 38.94300</td><td> 19.03587</td><td> 25.75446</td><td> 25.51633</td><td>  3.81885</td><td>⋯</td><td> 39.236025</td><td> 46.561775</td><td> 49.14225</td><td> 74.19485</td><td> 69.66228</td><td> 38.283425</td><td> 37.543725</td><td> 29.984305</td><td> 43.904677</td><td> 40.19475</td></tr>\n",
       "\t<tr><th scope=row>6</th><td>EN18218 5 </td><td>  2.861123</td><td>  9.115751</td><td> 34.54409</td><td> 37.78183</td><td> 36.43100</td><td> 10.60146</td><td> 10.22213</td><td> 16.04863</td><td> 11.70913</td><td>⋯</td><td> 62.969365</td><td> 68.948755</td><td> 71.88501</td><td> 93.31729</td><td> 90.77638</td><td> 56.747565</td><td> 56.599625</td><td> 40.371821</td><td> 58.199015</td><td> 57.45703</td></tr>\n",
       "\t<tr><th scope=row>7</th><td>EN18218 6 </td><td> 34.766705</td><td> 41.233171</td><td> 60.50944</td><td> 60.83180</td><td> 63.56680</td><td> 43.03173</td><td> 41.20099</td><td> 49.69570</td><td> 49.69570</td><td>⋯</td><td> 84.788195</td><td> 88.096725</td><td> 89.53924</td><td>106.98736</td><td>105.25082</td><td> 76.306060</td><td> 76.306060</td><td> 60.670395</td><td> 76.653710</td><td> 76.65371</td></tr>\n",
       "\t<tr><th scope=row>8</th><td>EN18218 7 </td><td> 75.298539</td><td> 86.115014</td><td> 95.36321</td><td> 91.71020</td><td>100.58520</td><td> 89.08356</td><td> 87.68358</td><td> 97.71435</td><td> 97.71435</td><td>⋯</td><td>105.968855</td><td>106.165025</td><td>105.49730</td><td>118.83998</td><td>117.51203</td><td> 96.229340</td><td> 96.229340</td><td> 84.272655</td><td> 96.495190</td><td> 96.49519</td></tr>\n",
       "\t<tr><th scope=row>9</th><td>EN18218 8 </td><td>115.830374</td><td>130.996856</td><td>130.21699</td><td>122.58860</td><td>137.60360</td><td>135.13539</td><td>134.16617</td><td>145.73302</td><td>145.73302</td><td>⋯</td><td>127.149515</td><td>124.233325</td><td>121.45537</td><td>130.69260</td><td>129.77326</td><td>116.152620</td><td>116.152620</td><td>107.874915</td><td>116.336670</td><td>116.33667</td></tr>\n",
       "\t<tr><th scope=row>10</th><td>EN18218 9 </td><td>156.362207</td><td>175.878697</td><td>165.07077</td><td>153.46700</td><td>174.62200</td><td>181.18722</td><td>180.64876</td><td>193.75168</td><td>193.75168</td><td>⋯</td><td>148.330175</td><td>142.301625</td><td>137.41342</td><td>142.54522</td><td>142.03447</td><td>136.075900</td><td>136.075900</td><td>131.477175</td><td>136.178150</td><td>136.17815</td></tr>\n",
       "\t<tr><th scope=row>11</th><td>EN18218 10</td><td>196.894041</td><td>220.760539</td><td>199.92455</td><td>184.34540</td><td>211.64040</td><td>227.23904</td><td>227.13135</td><td>241.77033</td><td>241.77033</td><td>⋯</td><td>169.510835</td><td>160.369925</td><td>153.37149</td><td>154.39784</td><td>154.29569</td><td>155.999180</td><td>155.999180</td><td>155.079435</td><td>156.019630</td><td>156.01963</td></tr>\n",
       "\t<tr><th scope=row>12</th><td>EN18218 11</td><td>189.853530</td><td>207.795330</td><td>188.32634</td><td>174.23928</td><td>198.18464</td><td>215.47046</td><td>213.85830</td><td>225.89185</td><td>226.87192</td><td>⋯</td><td>160.131755</td><td>151.700605</td><td>145.30351</td><td>145.30351</td><td>145.30351</td><td>151.695645</td><td>152.973000</td><td>152.973000</td><td>152.576550</td><td>153.39570</td></tr>\n",
       "\t<tr><th scope=row>13</th><td>EN18218 12</td><td>166.955570</td><td>175.547770</td><td>161.24412</td><td>150.47167</td><td>167.90416</td><td>184.42840</td><td>180.66670</td><td>188.71431</td><td>191.00114</td><td>⋯</td><td>140.566095</td><td>134.118745</td><td>129.22684</td><td>129.22684</td><td>129.22684</td><td>139.316505</td><td>142.297000</td><td>142.297000</td><td>141.371950</td><td>143.28330</td></tr>\n",
       "\t<tr><th scope=row>14</th><td>EN18218 13</td><td>144.057610</td><td>143.300210</td><td>134.16190</td><td>126.70404</td><td>137.62368</td><td>153.38633</td><td>147.47510</td><td>151.53677</td><td>155.13036</td><td>⋯</td><td>121.000435</td><td>116.536885</td><td>113.15018</td><td>113.15018</td><td>113.15018</td><td>126.937365</td><td>131.621000</td><td>131.621000</td><td>130.167350</td><td>133.17090</td></tr>\n",
       "\t<tr><th scope=row>15</th><td>EN18218 14</td><td>121.159650</td><td>111.052650</td><td>107.07968</td><td>102.93642</td><td>107.34320</td><td>122.34427</td><td>114.28350</td><td>114.35923</td><td>119.25958</td><td>⋯</td><td>101.434775</td><td> 98.955025</td><td> 97.07352</td><td> 97.07352</td><td> 97.07352</td><td>114.558225</td><td>120.945000</td><td>120.945000</td><td>118.962750</td><td>123.05850</td></tr>\n",
       "\t<tr><th scope=row>16</th><td>EN18218 15</td><td> 98.261690</td><td> 78.805090</td><td> 79.99746</td><td> 79.16881</td><td> 77.06272</td><td> 91.30221</td><td> 81.09190</td><td> 77.18169</td><td> 83.38880</td><td>⋯</td><td> 81.869115</td><td> 81.373165</td><td> 80.99686</td><td> 80.99686</td><td> 80.99686</td><td>102.179085</td><td>110.269000</td><td>110.269000</td><td>107.758150</td><td>112.94610</td></tr>\n",
       "\t<tr><th scope=row>17</th><td>EN18218 16</td><td> 86.865580</td><td> 67.967045</td><td> 71.60579</td><td> 69.89162</td><td> 63.74427</td><td> 75.89868</td><td> 65.56466</td><td> 61.65427</td><td> 69.67199</td><td>⋯</td><td> 75.505570</td><td> 75.012625</td><td> 70.44184</td><td> 69.68308</td><td> 69.68308</td><td> 91.916940</td><td> 99.155285</td><td> 98.289455</td><td> 94.620740</td><td> 99.96443</td></tr>\n",
       "\t<tr><th scope=row>18</th><td>EN18218 17</td><td> 79.303420</td><td> 64.265505</td><td> 69.44431</td><td> 65.44458</td><td> 56.07983</td><td> 65.70798</td><td> 55.92554</td><td> 53.34358</td><td> 63.33986</td><td>⋯</td><td> 73.542730</td><td> 72.392525</td><td> 61.72736</td><td> 59.95692</td><td> 59.95692</td><td> 82.360460</td><td> 87.895665</td><td> 85.875395</td><td> 80.839060</td><td> 86.02632</td></tr>\n",
       "\t<tr><th scope=row>19</th><td>EN18218 18</td><td> 71.741260</td><td> 60.563965</td><td> 67.28283</td><td> 60.99754</td><td> 48.41539</td><td> 55.51727</td><td> 46.28642</td><td> 45.03287</td><td> 57.00771</td><td>⋯</td><td> 71.579890</td><td> 69.772425</td><td> 53.01288</td><td> 50.23076</td><td> 50.23076</td><td> 72.803980</td><td> 76.636045</td><td> 73.461335</td><td> 67.057380</td><td> 72.08822</td></tr>\n",
       "\t<tr><th scope=row>20</th><td>EN18218 19</td><td> 64.179100</td><td> 56.862425</td><td> 65.12135</td><td> 56.55050</td><td> 40.75095</td><td> 45.32658</td><td> 36.64730</td><td> 36.72217</td><td> 50.67557</td><td>⋯</td><td> 69.617050</td><td> 67.152325</td><td> 44.29840</td><td> 40.50460</td><td> 40.50460</td><td> 63.247500</td><td> 65.376425</td><td> 61.047275</td><td> 53.275700</td><td> 58.15012</td></tr>\n",
       "\t<tr><th scope=row>21</th><td>EN18218 20</td><td> 56.616940</td><td> 53.160885</td><td> 62.95987</td><td> 52.10346</td><td> 33.08651</td><td> 35.13588</td><td> 27.00818</td><td> 28.41147</td><td> 44.34343</td><td>⋯</td><td> 67.654210</td><td> 64.532225</td><td> 35.58392</td><td> 30.77844</td><td> 30.77844</td><td> 53.691020</td><td> 54.116805</td><td> 48.633215</td><td> 39.494020</td><td> 44.21202</td></tr>\n",
       "\t<tr><th scope=row>22</th><td>EN18218 21</td><td> 60.006040</td><td> 57.434320</td><td> 67.99908</td><td> 61.70594</td><td> 44.85784</td><td> 46.70722</td><td> 39.91589</td><td> 41.08933</td><td> 55.05194</td><td>⋯</td><td> 60.072055</td><td> 58.466865</td><td> 31.99186</td><td> 30.72294</td><td> 29.66929</td><td> 52.587505</td><td> 51.075430</td><td> 45.535250</td><td> 38.150925</td><td> 42.31815</td></tr>\n",
       "\t<tr><th scope=row>23</th><td>EN18218 22</td><td> 67.045560</td><td> 64.366080</td><td> 75.43852</td><td> 75.99161</td><td> 63.10776</td><td> 65.53258</td><td> 60.33921</td><td> 60.76337</td><td> 71.44066</td><td>⋯</td><td> 50.616795</td><td> 51.253085</td><td> 30.10728</td><td> 33.89100</td><td> 31.43247</td><td> 54.301645</td><td> 50.773470</td><td> 45.542650</td><td> 40.954025</td><td> 44.43901</td></tr>\n",
       "\t<tr><th scope=row>24</th><td>EN18218 23</td><td> 74.085080</td><td> 71.297840</td><td> 82.87796</td><td> 90.27726</td><td> 81.35768</td><td> 84.35794</td><td> 80.76253</td><td> 80.43741</td><td> 87.82938</td><td>⋯</td><td> 41.161535</td><td> 44.039305</td><td> 28.22270</td><td> 37.05907</td><td> 33.19564</td><td> 56.015785</td><td> 50.471510</td><td> 45.550050</td><td> 43.757125</td><td> 46.55987</td></tr>\n",
       "\t<tr><th scope=row>25</th><td>EN18218 24</td><td> 81.124600</td><td> 78.229600</td><td> 90.31740</td><td>104.56293</td><td> 99.60760</td><td>103.18330</td><td>101.18585</td><td>100.11145</td><td>104.21810</td><td>⋯</td><td> 31.706275</td><td> 36.825525</td><td> 26.33812</td><td> 40.22713</td><td> 34.95882</td><td> 57.729925</td><td> 50.169550</td><td> 45.557450</td><td> 46.560225</td><td> 48.68073</td></tr>\n",
       "\t<tr><th scope=row>26</th><td>EN18218 25</td><td> 88.164120</td><td> 85.161360</td><td> 97.75684</td><td>118.84859</td><td>117.85752</td><td>122.00866</td><td>121.60917</td><td>119.78549</td><td>120.60682</td><td>⋯</td><td> 22.251015</td><td> 29.611745</td><td> 24.45354</td><td> 43.39518</td><td> 36.72200</td><td> 59.444065</td><td> 49.867590</td><td> 45.564850</td><td> 49.363325</td><td> 50.80159</td></tr>\n",
       "\t<tr><th scope=row>27</th><td>EN18218 26</td><td> 91.083770</td><td> 86.914130</td><td> 97.04292</td><td>115.23712</td><td>118.01517</td><td>115.87012</td><td>115.51014</td><td>116.08552</td><td>116.03151</td><td>⋯</td><td> 19.409375</td><td> 26.142310</td><td> 24.87937</td><td> 42.05345</td><td> 36.53025</td><td> 55.833580</td><td> 42.671355</td><td> 39.079766</td><td> 42.951723</td><td> 44.02927</td></tr>\n",
       "\t<tr><th scope=row>28</th><td>EN18218 27</td><td> 92.630130</td><td> 86.940570</td><td> 93.61123</td><td>105.65994</td><td>112.14208</td><td>101.41028</td><td>100.57032</td><td>104.59422</td><td>104.46819</td><td>⋯</td><td> 18.772275</td><td> 23.920990</td><td> 26.07533</td><td> 39.20845</td><td> 35.68685</td><td> 50.448220</td><td> 33.177030</td><td> 30.430519</td><td> 33.468553</td><td> 34.29256</td></tr>\n",
       "\t<tr><th scope=row>29</th><td>EN18218 28</td><td> 94.176490</td><td> 86.967010</td><td> 90.17952</td><td> 96.08275</td><td>106.26897</td><td> 86.95044</td><td> 85.63049</td><td> 93.10292</td><td> 92.90487</td><td>⋯</td><td> 18.135175</td><td> 21.699670</td><td> 27.27129</td><td> 36.36345</td><td> 34.84345</td><td> 45.062860</td><td> 23.682703</td><td> 21.781273</td><td> 23.985382</td><td> 24.55585</td></tr>\n",
       "\t<tr><th scope=row>30</th><td>EN18218 29</td><td> 95.722850</td><td> 86.993450</td><td> 86.74783</td><td> 86.50557</td><td>100.39588</td><td> 72.49060</td><td> 70.69067</td><td> 81.61163</td><td> 81.34155</td><td>⋯</td><td> 17.498075</td><td> 19.478350</td><td> 28.46725</td><td> 33.51845</td><td> 34.00005</td><td> 39.677500</td><td> 14.188378</td><td> 13.132027</td><td> 14.502212</td><td> 14.81914</td></tr>\n",
       "\t<tr><th scope=row>⋮</th><td>⋮</td><td>⋮</td><td>⋮</td><td>⋮</td><td>⋮</td><td>⋮</td><td>⋮</td><td>⋮</td><td>⋮</td><td>⋮</td><td>⋱</td><td>⋮</td><td>⋮</td><td>⋮</td><td>⋮</td><td>⋮</td><td>⋮</td><td>⋮</td><td>⋮</td><td>⋮</td><td>⋮</td></tr>\n",
       "\t<tr><th scope=row>625</th><td>EN18218 624</td><td> 79.013000</td><td>52.04820</td><td> 48.89920</td><td>50.735825</td><td>77.46023</td><td>71.748400</td><td> 64.69410</td><td> 92.84017</td><td>29.729825</td><td>⋯</td><td> 45.70327</td><td>27.45582</td><td> 62.42770</td><td>109.38922</td><td>30.14612</td><td>17.086308</td><td> 18.53823</td><td>27.46580</td><td>  8.294503</td><td> 14.074450</td></tr>\n",
       "\t<tr><th scope=row>626</th><td>EN18218 625</td><td> 82.324680</td><td>46.87452</td><td> 39.95512</td><td>43.247725</td><td>84.70604</td><td>78.331760</td><td> 48.65866</td><td> 92.08331</td><td>24.783965</td><td>⋯</td><td> 37.11594</td><td>21.16821</td><td> 62.62114</td><td>122.38504</td><td>20.28979</td><td> 9.620150</td><td> 20.02116</td><td>30.90500</td><td>  9.928180</td><td> 12.480650</td></tr>\n",
       "\t<tr><th scope=row>627</th><td>EN18218 626</td><td> 84.500125</td><td>45.49591</td><td> 47.57873</td><td>42.164625</td><td>75.43019</td><td>71.155305</td><td> 42.74114</td><td> 79.49402</td><td>21.402509</td><td>⋯</td><td> 39.56546</td><td>18.22209</td><td> 53.79907</td><td>108.82344</td><td>17.18639</td><td> 9.680644</td><td> 21.92707</td><td>31.64999</td><td> 26.494210</td><td> 10.597215</td></tr>\n",
       "\t<tr><th scope=row>628</th><td>EN18218 627</td><td> 86.296825</td><td>45.38233</td><td> 60.72491</td><td>43.216525</td><td>60.64711</td><td>59.392245</td><td> 40.19626</td><td> 62.96057</td><td>18.542521</td><td>⋯</td><td> 45.69394</td><td>16.38981</td><td> 41.97183</td><td> 86.40936</td><td>16.33396</td><td>12.250021</td><td> 23.97397</td><td>31.49691</td><td> 48.037690</td><td>  8.617235</td></tr>\n",
       "\t<tr><th scope=row>629</th><td>EN18218 628</td><td> 88.093525</td><td>45.26875</td><td> 73.87109</td><td>44.268425</td><td>45.86403</td><td>47.629185</td><td> 37.65138</td><td> 46.42712</td><td>15.682533</td><td>⋯</td><td> 51.82242</td><td>14.55753</td><td> 30.14459</td><td> 63.99528</td><td>15.48155</td><td>14.819400</td><td> 26.02088</td><td>31.34383</td><td> 69.581170</td><td>  6.637255</td></tr>\n",
       "\t<tr><th scope=row>630</th><td>EN18218 629</td><td> 89.890225</td><td>45.15517</td><td> 87.01727</td><td>45.320325</td><td>31.08095</td><td>35.866125</td><td> 35.10650</td><td> 29.89368</td><td>12.822545</td><td>⋯</td><td> 57.95090</td><td>12.72525</td><td> 18.31735</td><td> 41.58120</td><td>14.62913</td><td>17.388777</td><td> 28.06778</td><td>31.19075</td><td> 91.124650</td><td>  4.657275</td></tr>\n",
       "\t<tr><th scope=row>631</th><td>EN18218 630</td><td> 91.686925</td><td>45.04160</td><td>100.16345</td><td>46.372225</td><td>16.29787</td><td>24.103065</td><td> 32.56162</td><td> 13.36023</td><td> 9.962557</td><td>⋯</td><td> 64.07938</td><td>10.89297</td><td>  6.49011</td><td> 19.16712</td><td>13.77670</td><td>19.958156</td><td> 30.11467</td><td>31.03767</td><td>112.668130</td><td>  2.677295</td></tr>\n",
       "\t<tr><th scope=row>632</th><td>EN18218 631</td><td> 80.916415</td><td>48.31743</td><td> 93.51347</td><td>40.205469</td><td>14.86725</td><td>18.347103</td><td> 29.61359</td><td> 17.43006</td><td>10.392666</td><td>⋯</td><td> 68.55599</td><td>11.23256</td><td>  9.28304</td><td> 13.57593</td><td>13.12047</td><td>19.465645</td><td> 31.91044</td><td>31.61519</td><td>102.710635</td><td>  2.229525</td></tr>\n",
       "\t<tr><th scope=row>633</th><td>EN18218 632</td><td> 65.956835</td><td>52.72307</td><td> 80.26478</td><td>31.632495</td><td>17.88745</td><td>14.593507</td><td> 26.53117</td><td> 28.36765</td><td>11.919474</td><td>⋯</td><td> 72.48197</td><td>12.29609</td><td> 16.94936</td><td> 13.59237</td><td>12.52963</td><td>17.952505</td><td> 33.62251</td><td>32.43626</td><td> 82.252815</td><td>  2.292490</td></tr>\n",
       "\t<tr><th scope=row>634</th><td>EN18218 633</td><td> 50.997255</td><td>57.12871</td><td> 67.01608</td><td>23.059521</td><td>20.90765</td><td>10.839911</td><td> 23.44875</td><td> 39.30523</td><td>13.446282</td><td>⋯</td><td> 76.40794</td><td>13.35964</td><td> 24.61568</td><td> 13.60881</td><td>11.93879</td><td>16.439365</td><td> 35.33456</td><td>33.25731</td><td> 61.794995</td><td>  2.355456</td></tr>\n",
       "\t<tr><th scope=row>635</th><td>EN18218 634</td><td> 36.037675</td><td>61.53435</td><td> 53.76737</td><td>14.486548</td><td>23.92785</td><td> 7.086315</td><td> 20.36632</td><td> 50.24282</td><td>14.973090</td><td>⋯</td><td> 80.33392</td><td>14.42318</td><td> 32.28200</td><td> 13.62525</td><td>11.34795</td><td>14.926225</td><td> 37.04662</td><td>34.07838</td><td> 41.337175</td><td>  2.418423</td></tr>\n",
       "\t<tr><th scope=row>636</th><td>EN18218 635</td><td> 21.078095</td><td>65.93999</td><td> 40.51867</td><td> 5.913574</td><td>26.94805</td><td> 3.332719</td><td> 17.28391</td><td> 61.18040</td><td>16.499898</td><td>⋯</td><td> 84.25991</td><td>15.48672</td><td> 39.94832</td><td> 13.64169</td><td>10.75711</td><td>13.413085</td><td> 38.75868</td><td>34.89944</td><td> 20.879355</td><td>  2.481388</td></tr>\n",
       "\t<tr><th scope=row>637</th><td>EN18218 636</td><td> 24.492840</td><td>65.47732</td><td> 38.36154</td><td>16.004941</td><td>38.57178</td><td>13.511807</td><td> 22.29653</td><td> 65.62615</td><td>27.502140</td><td>⋯</td><td> 93.30339</td><td>21.87938</td><td> 51.76776</td><td> 24.93257</td><td>23.99015</td><td>17.702995</td><td> 50.63444</td><td>43.89184</td><td> 30.669365</td><td>  8.038500</td></tr>\n",
       "\t<tr><th scope=row>638</th><td>EN18218 637</td><td> 34.032360</td><td>63.39188</td><td> 39.90160</td><td>32.317754</td><td>53.06336</td><td>28.335123</td><td> 30.00751</td><td> 67.90795</td><td>41.662860</td><td>⋯</td><td>104.05271</td><td>30.04842</td><td> 64.97159</td><td> 39.98159</td><td>41.83115</td><td>23.927255</td><td> 65.89811</td><td>55.60801</td><td> 50.541985</td><td> 15.426994</td></tr>\n",
       "\t<tr><th scope=row>639</th><td>EN18218 638</td><td> 43.571880</td><td>61.30644</td><td> 41.44167</td><td>48.630569</td><td>67.55495</td><td>43.158439</td><td> 37.71850</td><td> 70.18975</td><td>55.823580</td><td>⋯</td><td>114.80203</td><td>38.21746</td><td> 78.17541</td><td> 55.03061</td><td>59.67215</td><td>30.151515</td><td> 81.16177</td><td>67.32420</td><td> 70.414605</td><td> 22.815489</td></tr>\n",
       "\t<tr><th scope=row>640</th><td>EN18218 639</td><td> 53.111400</td><td>59.22100</td><td> 42.98172</td><td>64.943382</td><td>82.04653</td><td>57.981755</td><td> 45.42947</td><td> 72.47155</td><td>69.984300</td><td>⋯</td><td>125.55135</td><td>46.38650</td><td> 91.37923</td><td> 70.07963</td><td>77.51315</td><td>36.375775</td><td> 96.42542</td><td>79.04037</td><td> 90.287225</td><td> 30.203982</td></tr>\n",
       "\t<tr><th scope=row>641</th><td>EN18218 640</td><td> 62.650920</td><td>57.13556</td><td> 44.52178</td><td>81.256197</td><td>96.53811</td><td>72.805071</td><td> 53.14045</td><td> 74.75335</td><td>84.145020</td><td>⋯</td><td>136.30067</td><td>54.55554</td><td>104.58304</td><td> 85.12864</td><td>95.35415</td><td>42.600035</td><td>111.68908</td><td>90.75655</td><td>110.159845</td><td> 37.592476</td></tr>\n",
       "\t<tr><th scope=row>642</th><td>EN18218 641</td><td> 72.510030</td><td>57.15904</td><td> 44.08306</td><td>76.264440</td><td>88.13280</td><td>69.289090</td><td> 53.59365</td><td> 80.49628</td><td>85.606710</td><td>⋯</td><td>120.58191</td><td>49.88542</td><td> 93.35365</td><td> 84.07972</td><td>86.93464</td><td>38.723439</td><td>102.21038</td><td>81.94174</td><td>100.167780</td><td> 49.896160</td></tr>\n",
       "\t<tr><th scope=row>643</th><td>EN18218 642</td><td> 82.475670</td><td>57.88550</td><td> 42.98474</td><td>64.171160</td><td>72.09520</td><td>59.660010</td><td> 51.62759</td><td> 87.39292</td><td>82.835390</td><td>⋯</td><td> 96.04045</td><td>40.93558</td><td> 73.97985</td><td> 77.66483</td><td>69.76162</td><td>31.479891</td><td> 84.48422</td><td>66.28326</td><td> 80.220820</td><td> 63.838240</td></tr>\n",
       "\t<tr><th scope=row>644</th><td>EN18218 643</td><td> 92.441310</td><td>58.61196</td><td> 41.88642</td><td>52.077880</td><td>56.05760</td><td>50.030930</td><td> 49.66154</td><td> 94.28956</td><td>80.064070</td><td>⋯</td><td> 71.49898</td><td>31.98574</td><td> 54.60605</td><td> 71.24993</td><td>52.58859</td><td>24.236343</td><td> 66.75806</td><td>50.62478</td><td> 60.273860</td><td> 77.780320</td></tr>\n",
       "\t<tr><th scope=row>645</th><td>EN18218 644</td><td>102.406950</td><td>59.33843</td><td> 40.78810</td><td>39.984600</td><td>40.02000</td><td>40.401850</td><td> 47.69548</td><td>101.18620</td><td>77.292750</td><td>⋯</td><td> 46.95753</td><td>23.03590</td><td> 35.23225</td><td> 64.83503</td><td>35.41557</td><td>16.992795</td><td> 49.03190</td><td>34.96630</td><td> 40.326900</td><td> 91.722400</td></tr>\n",
       "\t<tr><th scope=row>646</th><td>EN18218 645</td><td>112.372590</td><td>60.06488</td><td> 39.68978</td><td>27.891320</td><td>23.98240</td><td>30.772770</td><td> 45.72942</td><td>108.08284</td><td>74.521430</td><td>⋯</td><td> 22.41607</td><td>14.08606</td><td> 15.85845</td><td> 58.42012</td><td>18.24255</td><td> 9.749247</td><td> 31.30574</td><td>19.30782</td><td> 20.379940</td><td>105.664480</td></tr>\n",
       "\t<tr><th scope=row>647</th><td>EN18218 646</td><td> 99.044415</td><td>52.67350</td><td> 35.81547</td><td>23.111230</td><td>25.17078</td><td>35.497625</td><td> 51.20790</td><td>108.99415</td><td>76.792540</td><td>⋯</td><td> 16.42179</td><td>18.37171</td><td> 13.35452</td><td> 56.74771</td><td>17.68323</td><td>22.066806</td><td> 26.27679</td><td>18.01355</td><td> 16.658855</td><td>108.948250</td></tr>\n",
       "\t<tr><th scope=row>648</th><td>EN18218 647</td><td> 77.951635</td><td>42.57617</td><td> 31.01583</td><td>20.768870</td><td>32.10116</td><td>45.007125</td><td> 59.16790</td><td>107.91035</td><td>80.744460</td><td>⋯</td><td> 16.60991</td><td>27.06919</td><td> 16.47388</td><td> 56.65613</td><td>22.66181</td><td>40.904734</td><td> 25.48025</td><td>21.50735</td><td> 18.346395</td><td>108.679250</td></tr>\n",
       "\t<tr><th scope=row>649</th><td>EN18218 648</td><td> 56.858855</td><td>32.47884</td><td> 26.21619</td><td>18.426510</td><td>39.03154</td><td>54.516625</td><td> 67.12790</td><td>106.82655</td><td>84.696380</td><td>⋯</td><td> 16.79803</td><td>35.76667</td><td> 19.59324</td><td> 56.56455</td><td>27.64039</td><td>59.742662</td><td> 24.68371</td><td>25.00115</td><td> 20.033935</td><td>108.410250</td></tr>\n",
       "\t<tr><th scope=row>650</th><td>EN18218 649</td><td> 35.766075</td><td>22.38150</td><td> 21.41655</td><td>16.084150</td><td>45.96192</td><td>64.026125</td><td> 75.08790</td><td>105.74275</td><td>88.648300</td><td>⋯</td><td> 16.98615</td><td>44.46415</td><td> 22.71260</td><td> 56.47297</td><td>32.61897</td><td>78.580590</td><td> 23.88717</td><td>28.49495</td><td> 21.721475</td><td>108.141250</td></tr>\n",
       "\t<tr><th scope=row>651</th><td>EN18218 650</td><td> 14.673295</td><td>12.28417</td><td> 16.61691</td><td>13.741790</td><td>52.89230</td><td>73.535625</td><td> 83.04790</td><td>104.65895</td><td>92.600220</td><td>⋯</td><td> 17.17427</td><td>53.16163</td><td> 25.83196</td><td> 56.38139</td><td>37.59755</td><td>97.418518</td><td> 23.09063</td><td>31.98875</td><td> 23.409015</td><td>107.872250</td></tr>\n",
       "\t<tr><th scope=row>652</th><td>EN18218 651</td><td>  8.707853</td><td>22.40725</td><td> 20.97031</td><td>17.228220</td><td>56.83354</td><td>74.328520</td><td>100.04496</td><td>111.80055</td><td>85.192535</td><td>⋯</td><td> 17.06612</td><td>51.85421</td><td> 27.89883</td><td> 54.58943</td><td>40.26120</td><td>87.673849</td><td> 23.60517</td><td>40.52607</td><td> 25.587655</td><td> 94.729830</td></tr>\n",
       "\t<tr><th scope=row>653</th><td>EN18218 652</td><td>  7.784857</td><td>39.27046</td><td> 28.37474</td><td>22.657580</td><td>59.77840</td><td>72.215880</td><td>120.05438</td><td>121.68395</td><td>73.998315</td><td>⋯</td><td> 16.85922</td><td>47.21184</td><td> 29.61487</td><td> 52.23067</td><td>42.15320</td><td>68.401646</td><td> 24.55673</td><td>50.74457</td><td> 27.929995</td><td> 77.296270</td></tr>\n",
       "\t<tr><th scope=row>654</th><td>EN18218 653</td><td>  6.861861</td><td>56.13367</td><td> 35.77916</td><td>28.086940</td><td>62.72326</td><td>70.103240</td><td>140.06381</td><td>131.56735</td><td>62.804095</td><td>⋯</td><td> 16.65233</td><td>42.56945</td><td> 31.33091</td><td> 49.87191</td><td>44.04520</td><td>49.129444</td><td> 25.50829</td><td>60.96308</td><td> 30.272335</td><td> 59.862710</td></tr>\n",
       "</tbody>\n",
       "</table>\n"
      ],
      "text/latex": [
       "A data.frame: 654 × 10001\n",
       "\\begin{tabular}{r|lllllllllllllllllllll}\n",
       "  & depth & iter\\_1 & iter\\_2 & iter\\_3 & iter\\_4 & iter\\_5 & iter\\_6 & iter\\_7 & iter\\_8 & iter\\_9 & ⋯ & iter\\_9991 & iter\\_9992 & iter\\_9993 & iter\\_9994 & iter\\_9995 & iter\\_9996 & iter\\_9997 & iter\\_9998 & iter\\_9999 & iter\\_10000\\\\\n",
       "  & <fct> & <dbl> & <dbl> & <dbl> & <dbl> & <dbl> & <dbl> & <dbl> & <dbl> & <dbl> & ⋯ & <dbl> & <dbl> & <dbl> & <dbl> & <dbl> & <dbl> & <dbl> & <dbl> & <dbl> & <dbl>\\\\\n",
       "\\hline\n",
       "\t1 & EN18218 0  & -25.766300 &  38.451000 &  37.86880 &  39.84960 &  48.36300 &  50.66490 &  84.00070 &  61.02020 & -25.76970 & ⋯ & -49.764000 & -37.389400 & -36.14310 &   2.48569 &  -9.51557 & -30.957100 & -33.915900 &  -8.968880 &  -9.699090 & -24.53880\\\\\n",
       "\t2 & EN18218 1  & -21.246181 &  33.819119 &  37.34385 &  39.52311 &  46.47900 &  44.33909 &  72.35145 &  53.91943 & -19.85199 & ⋯ & -31.963995 & -20.599165 & -19.08603 &  16.82752 &   6.32000 & -17.108995 & -19.623975 &  -1.178243 &   1.021663 & -11.59209\\\\\n",
       "\t3 & EN18218 2  & -15.219355 &  27.643276 &  36.64391 &  39.08779 &  43.96700 &  35.90469 &  56.81912 &  44.45173 & -11.96171 & ⋯ &  -8.230655 &   1.787815 &   3.65673 &  35.94996 &  27.43409 &   1.355145 &  -0.568075 &   9.209273 &  15.316001 &   5.67019\\\\\n",
       "\t4 & EN18218 3  &  -9.192529 &  21.467434 &  35.94396 &  38.65247 &  41.45500 &  27.47028 &  41.28679 &  34.98403 &  -4.07143 & ⋯ &  15.502685 &  24.174795 &  26.39949 &  55.07241 &  48.54819 &  19.819285 &  18.487825 &  19.596789 &  29.610340 &  22.93247\\\\\n",
       "\t5 & EN18218 4  &  -3.165703 &  15.291593 &  35.24403 &  38.21715 &  38.94300 &  19.03587 &  25.75446 &  25.51633 &   3.81885 & ⋯ &  39.236025 &  46.561775 &  49.14225 &  74.19485 &  69.66228 &  38.283425 &  37.543725 &  29.984305 &  43.904677 &  40.19475\\\\\n",
       "\t6 & EN18218 5  &   2.861123 &   9.115751 &  34.54409 &  37.78183 &  36.43100 &  10.60146 &  10.22213 &  16.04863 &  11.70913 & ⋯ &  62.969365 &  68.948755 &  71.88501 &  93.31729 &  90.77638 &  56.747565 &  56.599625 &  40.371821 &  58.199015 &  57.45703\\\\\n",
       "\t7 & EN18218 6  &  34.766705 &  41.233171 &  60.50944 &  60.83180 &  63.56680 &  43.03173 &  41.20099 &  49.69570 &  49.69570 & ⋯ &  84.788195 &  88.096725 &  89.53924 & 106.98736 & 105.25082 &  76.306060 &  76.306060 &  60.670395 &  76.653710 &  76.65371\\\\\n",
       "\t8 & EN18218 7  &  75.298539 &  86.115014 &  95.36321 &  91.71020 & 100.58520 &  89.08356 &  87.68358 &  97.71435 &  97.71435 & ⋯ & 105.968855 & 106.165025 & 105.49730 & 118.83998 & 117.51203 &  96.229340 &  96.229340 &  84.272655 &  96.495190 &  96.49519\\\\\n",
       "\t9 & EN18218 8  & 115.830374 & 130.996856 & 130.21699 & 122.58860 & 137.60360 & 135.13539 & 134.16617 & 145.73302 & 145.73302 & ⋯ & 127.149515 & 124.233325 & 121.45537 & 130.69260 & 129.77326 & 116.152620 & 116.152620 & 107.874915 & 116.336670 & 116.33667\\\\\n",
       "\t10 & EN18218 9  & 156.362207 & 175.878697 & 165.07077 & 153.46700 & 174.62200 & 181.18722 & 180.64876 & 193.75168 & 193.75168 & ⋯ & 148.330175 & 142.301625 & 137.41342 & 142.54522 & 142.03447 & 136.075900 & 136.075900 & 131.477175 & 136.178150 & 136.17815\\\\\n",
       "\t11 & EN18218 10 & 196.894041 & 220.760539 & 199.92455 & 184.34540 & 211.64040 & 227.23904 & 227.13135 & 241.77033 & 241.77033 & ⋯ & 169.510835 & 160.369925 & 153.37149 & 154.39784 & 154.29569 & 155.999180 & 155.999180 & 155.079435 & 156.019630 & 156.01963\\\\\n",
       "\t12 & EN18218 11 & 189.853530 & 207.795330 & 188.32634 & 174.23928 & 198.18464 & 215.47046 & 213.85830 & 225.89185 & 226.87192 & ⋯ & 160.131755 & 151.700605 & 145.30351 & 145.30351 & 145.30351 & 151.695645 & 152.973000 & 152.973000 & 152.576550 & 153.39570\\\\\n",
       "\t13 & EN18218 12 & 166.955570 & 175.547770 & 161.24412 & 150.47167 & 167.90416 & 184.42840 & 180.66670 & 188.71431 & 191.00114 & ⋯ & 140.566095 & 134.118745 & 129.22684 & 129.22684 & 129.22684 & 139.316505 & 142.297000 & 142.297000 & 141.371950 & 143.28330\\\\\n",
       "\t14 & EN18218 13 & 144.057610 & 143.300210 & 134.16190 & 126.70404 & 137.62368 & 153.38633 & 147.47510 & 151.53677 & 155.13036 & ⋯ & 121.000435 & 116.536885 & 113.15018 & 113.15018 & 113.15018 & 126.937365 & 131.621000 & 131.621000 & 130.167350 & 133.17090\\\\\n",
       "\t15 & EN18218 14 & 121.159650 & 111.052650 & 107.07968 & 102.93642 & 107.34320 & 122.34427 & 114.28350 & 114.35923 & 119.25958 & ⋯ & 101.434775 &  98.955025 &  97.07352 &  97.07352 &  97.07352 & 114.558225 & 120.945000 & 120.945000 & 118.962750 & 123.05850\\\\\n",
       "\t16 & EN18218 15 &  98.261690 &  78.805090 &  79.99746 &  79.16881 &  77.06272 &  91.30221 &  81.09190 &  77.18169 &  83.38880 & ⋯ &  81.869115 &  81.373165 &  80.99686 &  80.99686 &  80.99686 & 102.179085 & 110.269000 & 110.269000 & 107.758150 & 112.94610\\\\\n",
       "\t17 & EN18218 16 &  86.865580 &  67.967045 &  71.60579 &  69.89162 &  63.74427 &  75.89868 &  65.56466 &  61.65427 &  69.67199 & ⋯ &  75.505570 &  75.012625 &  70.44184 &  69.68308 &  69.68308 &  91.916940 &  99.155285 &  98.289455 &  94.620740 &  99.96443\\\\\n",
       "\t18 & EN18218 17 &  79.303420 &  64.265505 &  69.44431 &  65.44458 &  56.07983 &  65.70798 &  55.92554 &  53.34358 &  63.33986 & ⋯ &  73.542730 &  72.392525 &  61.72736 &  59.95692 &  59.95692 &  82.360460 &  87.895665 &  85.875395 &  80.839060 &  86.02632\\\\\n",
       "\t19 & EN18218 18 &  71.741260 &  60.563965 &  67.28283 &  60.99754 &  48.41539 &  55.51727 &  46.28642 &  45.03287 &  57.00771 & ⋯ &  71.579890 &  69.772425 &  53.01288 &  50.23076 &  50.23076 &  72.803980 &  76.636045 &  73.461335 &  67.057380 &  72.08822\\\\\n",
       "\t20 & EN18218 19 &  64.179100 &  56.862425 &  65.12135 &  56.55050 &  40.75095 &  45.32658 &  36.64730 &  36.72217 &  50.67557 & ⋯ &  69.617050 &  67.152325 &  44.29840 &  40.50460 &  40.50460 &  63.247500 &  65.376425 &  61.047275 &  53.275700 &  58.15012\\\\\n",
       "\t21 & EN18218 20 &  56.616940 &  53.160885 &  62.95987 &  52.10346 &  33.08651 &  35.13588 &  27.00818 &  28.41147 &  44.34343 & ⋯ &  67.654210 &  64.532225 &  35.58392 &  30.77844 &  30.77844 &  53.691020 &  54.116805 &  48.633215 &  39.494020 &  44.21202\\\\\n",
       "\t22 & EN18218 21 &  60.006040 &  57.434320 &  67.99908 &  61.70594 &  44.85784 &  46.70722 &  39.91589 &  41.08933 &  55.05194 & ⋯ &  60.072055 &  58.466865 &  31.99186 &  30.72294 &  29.66929 &  52.587505 &  51.075430 &  45.535250 &  38.150925 &  42.31815\\\\\n",
       "\t23 & EN18218 22 &  67.045560 &  64.366080 &  75.43852 &  75.99161 &  63.10776 &  65.53258 &  60.33921 &  60.76337 &  71.44066 & ⋯ &  50.616795 &  51.253085 &  30.10728 &  33.89100 &  31.43247 &  54.301645 &  50.773470 &  45.542650 &  40.954025 &  44.43901\\\\\n",
       "\t24 & EN18218 23 &  74.085080 &  71.297840 &  82.87796 &  90.27726 &  81.35768 &  84.35794 &  80.76253 &  80.43741 &  87.82938 & ⋯ &  41.161535 &  44.039305 &  28.22270 &  37.05907 &  33.19564 &  56.015785 &  50.471510 &  45.550050 &  43.757125 &  46.55987\\\\\n",
       "\t25 & EN18218 24 &  81.124600 &  78.229600 &  90.31740 & 104.56293 &  99.60760 & 103.18330 & 101.18585 & 100.11145 & 104.21810 & ⋯ &  31.706275 &  36.825525 &  26.33812 &  40.22713 &  34.95882 &  57.729925 &  50.169550 &  45.557450 &  46.560225 &  48.68073\\\\\n",
       "\t26 & EN18218 25 &  88.164120 &  85.161360 &  97.75684 & 118.84859 & 117.85752 & 122.00866 & 121.60917 & 119.78549 & 120.60682 & ⋯ &  22.251015 &  29.611745 &  24.45354 &  43.39518 &  36.72200 &  59.444065 &  49.867590 &  45.564850 &  49.363325 &  50.80159\\\\\n",
       "\t27 & EN18218 26 &  91.083770 &  86.914130 &  97.04292 & 115.23712 & 118.01517 & 115.87012 & 115.51014 & 116.08552 & 116.03151 & ⋯ &  19.409375 &  26.142310 &  24.87937 &  42.05345 &  36.53025 &  55.833580 &  42.671355 &  39.079766 &  42.951723 &  44.02927\\\\\n",
       "\t28 & EN18218 27 &  92.630130 &  86.940570 &  93.61123 & 105.65994 & 112.14208 & 101.41028 & 100.57032 & 104.59422 & 104.46819 & ⋯ &  18.772275 &  23.920990 &  26.07533 &  39.20845 &  35.68685 &  50.448220 &  33.177030 &  30.430519 &  33.468553 &  34.29256\\\\\n",
       "\t29 & EN18218 28 &  94.176490 &  86.967010 &  90.17952 &  96.08275 & 106.26897 &  86.95044 &  85.63049 &  93.10292 &  92.90487 & ⋯ &  18.135175 &  21.699670 &  27.27129 &  36.36345 &  34.84345 &  45.062860 &  23.682703 &  21.781273 &  23.985382 &  24.55585\\\\\n",
       "\t30 & EN18218 29 &  95.722850 &  86.993450 &  86.74783 &  86.50557 & 100.39588 &  72.49060 &  70.69067 &  81.61163 &  81.34155 & ⋯ &  17.498075 &  19.478350 &  28.46725 &  33.51845 &  34.00005 &  39.677500 &  14.188378 &  13.132027 &  14.502212 &  14.81914\\\\\n",
       "\t⋮ & ⋮ & ⋮ & ⋮ & ⋮ & ⋮ & ⋮ & ⋮ & ⋮ & ⋮ & ⋮ & ⋱ & ⋮ & ⋮ & ⋮ & ⋮ & ⋮ & ⋮ & ⋮ & ⋮ & ⋮ & ⋮\\\\\n",
       "\t625 & EN18218 624 &  79.013000 & 52.04820 &  48.89920 & 50.735825 & 77.46023 & 71.748400 &  64.69410 &  92.84017 & 29.729825 & ⋯ &  45.70327 & 27.45582 &  62.42770 & 109.38922 & 30.14612 & 17.086308 &  18.53823 & 27.46580 &   8.294503 &  14.074450\\\\\n",
       "\t626 & EN18218 625 &  82.324680 & 46.87452 &  39.95512 & 43.247725 & 84.70604 & 78.331760 &  48.65866 &  92.08331 & 24.783965 & ⋯ &  37.11594 & 21.16821 &  62.62114 & 122.38504 & 20.28979 &  9.620150 &  20.02116 & 30.90500 &   9.928180 &  12.480650\\\\\n",
       "\t627 & EN18218 626 &  84.500125 & 45.49591 &  47.57873 & 42.164625 & 75.43019 & 71.155305 &  42.74114 &  79.49402 & 21.402509 & ⋯ &  39.56546 & 18.22209 &  53.79907 & 108.82344 & 17.18639 &  9.680644 &  21.92707 & 31.64999 &  26.494210 &  10.597215\\\\\n",
       "\t628 & EN18218 627 &  86.296825 & 45.38233 &  60.72491 & 43.216525 & 60.64711 & 59.392245 &  40.19626 &  62.96057 & 18.542521 & ⋯ &  45.69394 & 16.38981 &  41.97183 &  86.40936 & 16.33396 & 12.250021 &  23.97397 & 31.49691 &  48.037690 &   8.617235\\\\\n",
       "\t629 & EN18218 628 &  88.093525 & 45.26875 &  73.87109 & 44.268425 & 45.86403 & 47.629185 &  37.65138 &  46.42712 & 15.682533 & ⋯ &  51.82242 & 14.55753 &  30.14459 &  63.99528 & 15.48155 & 14.819400 &  26.02088 & 31.34383 &  69.581170 &   6.637255\\\\\n",
       "\t630 & EN18218 629 &  89.890225 & 45.15517 &  87.01727 & 45.320325 & 31.08095 & 35.866125 &  35.10650 &  29.89368 & 12.822545 & ⋯ &  57.95090 & 12.72525 &  18.31735 &  41.58120 & 14.62913 & 17.388777 &  28.06778 & 31.19075 &  91.124650 &   4.657275\\\\\n",
       "\t631 & EN18218 630 &  91.686925 & 45.04160 & 100.16345 & 46.372225 & 16.29787 & 24.103065 &  32.56162 &  13.36023 &  9.962557 & ⋯ &  64.07938 & 10.89297 &   6.49011 &  19.16712 & 13.77670 & 19.958156 &  30.11467 & 31.03767 & 112.668130 &   2.677295\\\\\n",
       "\t632 & EN18218 631 &  80.916415 & 48.31743 &  93.51347 & 40.205469 & 14.86725 & 18.347103 &  29.61359 &  17.43006 & 10.392666 & ⋯ &  68.55599 & 11.23256 &   9.28304 &  13.57593 & 13.12047 & 19.465645 &  31.91044 & 31.61519 & 102.710635 &   2.229525\\\\\n",
       "\t633 & EN18218 632 &  65.956835 & 52.72307 &  80.26478 & 31.632495 & 17.88745 & 14.593507 &  26.53117 &  28.36765 & 11.919474 & ⋯ &  72.48197 & 12.29609 &  16.94936 &  13.59237 & 12.52963 & 17.952505 &  33.62251 & 32.43626 &  82.252815 &   2.292490\\\\\n",
       "\t634 & EN18218 633 &  50.997255 & 57.12871 &  67.01608 & 23.059521 & 20.90765 & 10.839911 &  23.44875 &  39.30523 & 13.446282 & ⋯ &  76.40794 & 13.35964 &  24.61568 &  13.60881 & 11.93879 & 16.439365 &  35.33456 & 33.25731 &  61.794995 &   2.355456\\\\\n",
       "\t635 & EN18218 634 &  36.037675 & 61.53435 &  53.76737 & 14.486548 & 23.92785 &  7.086315 &  20.36632 &  50.24282 & 14.973090 & ⋯ &  80.33392 & 14.42318 &  32.28200 &  13.62525 & 11.34795 & 14.926225 &  37.04662 & 34.07838 &  41.337175 &   2.418423\\\\\n",
       "\t636 & EN18218 635 &  21.078095 & 65.93999 &  40.51867 &  5.913574 & 26.94805 &  3.332719 &  17.28391 &  61.18040 & 16.499898 & ⋯ &  84.25991 & 15.48672 &  39.94832 &  13.64169 & 10.75711 & 13.413085 &  38.75868 & 34.89944 &  20.879355 &   2.481388\\\\\n",
       "\t637 & EN18218 636 &  24.492840 & 65.47732 &  38.36154 & 16.004941 & 38.57178 & 13.511807 &  22.29653 &  65.62615 & 27.502140 & ⋯ &  93.30339 & 21.87938 &  51.76776 &  24.93257 & 23.99015 & 17.702995 &  50.63444 & 43.89184 &  30.669365 &   8.038500\\\\\n",
       "\t638 & EN18218 637 &  34.032360 & 63.39188 &  39.90160 & 32.317754 & 53.06336 & 28.335123 &  30.00751 &  67.90795 & 41.662860 & ⋯ & 104.05271 & 30.04842 &  64.97159 &  39.98159 & 41.83115 & 23.927255 &  65.89811 & 55.60801 &  50.541985 &  15.426994\\\\\n",
       "\t639 & EN18218 638 &  43.571880 & 61.30644 &  41.44167 & 48.630569 & 67.55495 & 43.158439 &  37.71850 &  70.18975 & 55.823580 & ⋯ & 114.80203 & 38.21746 &  78.17541 &  55.03061 & 59.67215 & 30.151515 &  81.16177 & 67.32420 &  70.414605 &  22.815489\\\\\n",
       "\t640 & EN18218 639 &  53.111400 & 59.22100 &  42.98172 & 64.943382 & 82.04653 & 57.981755 &  45.42947 &  72.47155 & 69.984300 & ⋯ & 125.55135 & 46.38650 &  91.37923 &  70.07963 & 77.51315 & 36.375775 &  96.42542 & 79.04037 &  90.287225 &  30.203982\\\\\n",
       "\t641 & EN18218 640 &  62.650920 & 57.13556 &  44.52178 & 81.256197 & 96.53811 & 72.805071 &  53.14045 &  74.75335 & 84.145020 & ⋯ & 136.30067 & 54.55554 & 104.58304 &  85.12864 & 95.35415 & 42.600035 & 111.68908 & 90.75655 & 110.159845 &  37.592476\\\\\n",
       "\t642 & EN18218 641 &  72.510030 & 57.15904 &  44.08306 & 76.264440 & 88.13280 & 69.289090 &  53.59365 &  80.49628 & 85.606710 & ⋯ & 120.58191 & 49.88542 &  93.35365 &  84.07972 & 86.93464 & 38.723439 & 102.21038 & 81.94174 & 100.167780 &  49.896160\\\\\n",
       "\t643 & EN18218 642 &  82.475670 & 57.88550 &  42.98474 & 64.171160 & 72.09520 & 59.660010 &  51.62759 &  87.39292 & 82.835390 & ⋯ &  96.04045 & 40.93558 &  73.97985 &  77.66483 & 69.76162 & 31.479891 &  84.48422 & 66.28326 &  80.220820 &  63.838240\\\\\n",
       "\t644 & EN18218 643 &  92.441310 & 58.61196 &  41.88642 & 52.077880 & 56.05760 & 50.030930 &  49.66154 &  94.28956 & 80.064070 & ⋯ &  71.49898 & 31.98574 &  54.60605 &  71.24993 & 52.58859 & 24.236343 &  66.75806 & 50.62478 &  60.273860 &  77.780320\\\\\n",
       "\t645 & EN18218 644 & 102.406950 & 59.33843 &  40.78810 & 39.984600 & 40.02000 & 40.401850 &  47.69548 & 101.18620 & 77.292750 & ⋯ &  46.95753 & 23.03590 &  35.23225 &  64.83503 & 35.41557 & 16.992795 &  49.03190 & 34.96630 &  40.326900 &  91.722400\\\\\n",
       "\t646 & EN18218 645 & 112.372590 & 60.06488 &  39.68978 & 27.891320 & 23.98240 & 30.772770 &  45.72942 & 108.08284 & 74.521430 & ⋯ &  22.41607 & 14.08606 &  15.85845 &  58.42012 & 18.24255 &  9.749247 &  31.30574 & 19.30782 &  20.379940 & 105.664480\\\\\n",
       "\t647 & EN18218 646 &  99.044415 & 52.67350 &  35.81547 & 23.111230 & 25.17078 & 35.497625 &  51.20790 & 108.99415 & 76.792540 & ⋯ &  16.42179 & 18.37171 &  13.35452 &  56.74771 & 17.68323 & 22.066806 &  26.27679 & 18.01355 &  16.658855 & 108.948250\\\\\n",
       "\t648 & EN18218 647 &  77.951635 & 42.57617 &  31.01583 & 20.768870 & 32.10116 & 45.007125 &  59.16790 & 107.91035 & 80.744460 & ⋯ &  16.60991 & 27.06919 &  16.47388 &  56.65613 & 22.66181 & 40.904734 &  25.48025 & 21.50735 &  18.346395 & 108.679250\\\\\n",
       "\t649 & EN18218 648 &  56.858855 & 32.47884 &  26.21619 & 18.426510 & 39.03154 & 54.516625 &  67.12790 & 106.82655 & 84.696380 & ⋯ &  16.79803 & 35.76667 &  19.59324 &  56.56455 & 27.64039 & 59.742662 &  24.68371 & 25.00115 &  20.033935 & 108.410250\\\\\n",
       "\t650 & EN18218 649 &  35.766075 & 22.38150 &  21.41655 & 16.084150 & 45.96192 & 64.026125 &  75.08790 & 105.74275 & 88.648300 & ⋯ &  16.98615 & 44.46415 &  22.71260 &  56.47297 & 32.61897 & 78.580590 &  23.88717 & 28.49495 &  21.721475 & 108.141250\\\\\n",
       "\t651 & EN18218 650 &  14.673295 & 12.28417 &  16.61691 & 13.741790 & 52.89230 & 73.535625 &  83.04790 & 104.65895 & 92.600220 & ⋯ &  17.17427 & 53.16163 &  25.83196 &  56.38139 & 37.59755 & 97.418518 &  23.09063 & 31.98875 &  23.409015 & 107.872250\\\\\n",
       "\t652 & EN18218 651 &   8.707853 & 22.40725 &  20.97031 & 17.228220 & 56.83354 & 74.328520 & 100.04496 & 111.80055 & 85.192535 & ⋯ &  17.06612 & 51.85421 &  27.89883 &  54.58943 & 40.26120 & 87.673849 &  23.60517 & 40.52607 &  25.587655 &  94.729830\\\\\n",
       "\t653 & EN18218 652 &   7.784857 & 39.27046 &  28.37474 & 22.657580 & 59.77840 & 72.215880 & 120.05438 & 121.68395 & 73.998315 & ⋯ &  16.85922 & 47.21184 &  29.61487 &  52.23067 & 42.15320 & 68.401646 &  24.55673 & 50.74457 &  27.929995 &  77.296270\\\\\n",
       "\t654 & EN18218 653 &   6.861861 & 56.13367 &  35.77916 & 28.086940 & 62.72326 & 70.103240 & 140.06381 & 131.56735 & 62.804095 & ⋯ &  16.65233 & 42.56945 &  31.33091 &  49.87191 & 44.04520 & 49.129444 &  25.50829 & 60.96308 &  30.272335 &  59.862710\\\\\n",
       "\\end{tabular}\n"
      ],
      "text/markdown": [
       "\n",
       "A data.frame: 654 × 10001\n",
       "\n",
       "| <!--/--> | depth &lt;fct&gt; | iter_1 &lt;dbl&gt; | iter_2 &lt;dbl&gt; | iter_3 &lt;dbl&gt; | iter_4 &lt;dbl&gt; | iter_5 &lt;dbl&gt; | iter_6 &lt;dbl&gt; | iter_7 &lt;dbl&gt; | iter_8 &lt;dbl&gt; | iter_9 &lt;dbl&gt; | ⋯ ⋯ | iter_9991 &lt;dbl&gt; | iter_9992 &lt;dbl&gt; | iter_9993 &lt;dbl&gt; | iter_9994 &lt;dbl&gt; | iter_9995 &lt;dbl&gt; | iter_9996 &lt;dbl&gt; | iter_9997 &lt;dbl&gt; | iter_9998 &lt;dbl&gt; | iter_9999 &lt;dbl&gt; | iter_10000 &lt;dbl&gt; |\n",
       "|---|---|---|---|---|---|---|---|---|---|---|---|---|---|---|---|---|---|---|---|---|---|\n",
       "| 1 | EN18218 0  | -25.766300 |  38.451000 |  37.86880 |  39.84960 |  48.36300 |  50.66490 |  84.00070 |  61.02020 | -25.76970 | ⋯ | -49.764000 | -37.389400 | -36.14310 |   2.48569 |  -9.51557 | -30.957100 | -33.915900 |  -8.968880 |  -9.699090 | -24.53880 |\n",
       "| 2 | EN18218 1  | -21.246181 |  33.819119 |  37.34385 |  39.52311 |  46.47900 |  44.33909 |  72.35145 |  53.91943 | -19.85199 | ⋯ | -31.963995 | -20.599165 | -19.08603 |  16.82752 |   6.32000 | -17.108995 | -19.623975 |  -1.178243 |   1.021663 | -11.59209 |\n",
       "| 3 | EN18218 2  | -15.219355 |  27.643276 |  36.64391 |  39.08779 |  43.96700 |  35.90469 |  56.81912 |  44.45173 | -11.96171 | ⋯ |  -8.230655 |   1.787815 |   3.65673 |  35.94996 |  27.43409 |   1.355145 |  -0.568075 |   9.209273 |  15.316001 |   5.67019 |\n",
       "| 4 | EN18218 3  |  -9.192529 |  21.467434 |  35.94396 |  38.65247 |  41.45500 |  27.47028 |  41.28679 |  34.98403 |  -4.07143 | ⋯ |  15.502685 |  24.174795 |  26.39949 |  55.07241 |  48.54819 |  19.819285 |  18.487825 |  19.596789 |  29.610340 |  22.93247 |\n",
       "| 5 | EN18218 4  |  -3.165703 |  15.291593 |  35.24403 |  38.21715 |  38.94300 |  19.03587 |  25.75446 |  25.51633 |   3.81885 | ⋯ |  39.236025 |  46.561775 |  49.14225 |  74.19485 |  69.66228 |  38.283425 |  37.543725 |  29.984305 |  43.904677 |  40.19475 |\n",
       "| 6 | EN18218 5  |   2.861123 |   9.115751 |  34.54409 |  37.78183 |  36.43100 |  10.60146 |  10.22213 |  16.04863 |  11.70913 | ⋯ |  62.969365 |  68.948755 |  71.88501 |  93.31729 |  90.77638 |  56.747565 |  56.599625 |  40.371821 |  58.199015 |  57.45703 |\n",
       "| 7 | EN18218 6  |  34.766705 |  41.233171 |  60.50944 |  60.83180 |  63.56680 |  43.03173 |  41.20099 |  49.69570 |  49.69570 | ⋯ |  84.788195 |  88.096725 |  89.53924 | 106.98736 | 105.25082 |  76.306060 |  76.306060 |  60.670395 |  76.653710 |  76.65371 |\n",
       "| 8 | EN18218 7  |  75.298539 |  86.115014 |  95.36321 |  91.71020 | 100.58520 |  89.08356 |  87.68358 |  97.71435 |  97.71435 | ⋯ | 105.968855 | 106.165025 | 105.49730 | 118.83998 | 117.51203 |  96.229340 |  96.229340 |  84.272655 |  96.495190 |  96.49519 |\n",
       "| 9 | EN18218 8  | 115.830374 | 130.996856 | 130.21699 | 122.58860 | 137.60360 | 135.13539 | 134.16617 | 145.73302 | 145.73302 | ⋯ | 127.149515 | 124.233325 | 121.45537 | 130.69260 | 129.77326 | 116.152620 | 116.152620 | 107.874915 | 116.336670 | 116.33667 |\n",
       "| 10 | EN18218 9  | 156.362207 | 175.878697 | 165.07077 | 153.46700 | 174.62200 | 181.18722 | 180.64876 | 193.75168 | 193.75168 | ⋯ | 148.330175 | 142.301625 | 137.41342 | 142.54522 | 142.03447 | 136.075900 | 136.075900 | 131.477175 | 136.178150 | 136.17815 |\n",
       "| 11 | EN18218 10 | 196.894041 | 220.760539 | 199.92455 | 184.34540 | 211.64040 | 227.23904 | 227.13135 | 241.77033 | 241.77033 | ⋯ | 169.510835 | 160.369925 | 153.37149 | 154.39784 | 154.29569 | 155.999180 | 155.999180 | 155.079435 | 156.019630 | 156.01963 |\n",
       "| 12 | EN18218 11 | 189.853530 | 207.795330 | 188.32634 | 174.23928 | 198.18464 | 215.47046 | 213.85830 | 225.89185 | 226.87192 | ⋯ | 160.131755 | 151.700605 | 145.30351 | 145.30351 | 145.30351 | 151.695645 | 152.973000 | 152.973000 | 152.576550 | 153.39570 |\n",
       "| 13 | EN18218 12 | 166.955570 | 175.547770 | 161.24412 | 150.47167 | 167.90416 | 184.42840 | 180.66670 | 188.71431 | 191.00114 | ⋯ | 140.566095 | 134.118745 | 129.22684 | 129.22684 | 129.22684 | 139.316505 | 142.297000 | 142.297000 | 141.371950 | 143.28330 |\n",
       "| 14 | EN18218 13 | 144.057610 | 143.300210 | 134.16190 | 126.70404 | 137.62368 | 153.38633 | 147.47510 | 151.53677 | 155.13036 | ⋯ | 121.000435 | 116.536885 | 113.15018 | 113.15018 | 113.15018 | 126.937365 | 131.621000 | 131.621000 | 130.167350 | 133.17090 |\n",
       "| 15 | EN18218 14 | 121.159650 | 111.052650 | 107.07968 | 102.93642 | 107.34320 | 122.34427 | 114.28350 | 114.35923 | 119.25958 | ⋯ | 101.434775 |  98.955025 |  97.07352 |  97.07352 |  97.07352 | 114.558225 | 120.945000 | 120.945000 | 118.962750 | 123.05850 |\n",
       "| 16 | EN18218 15 |  98.261690 |  78.805090 |  79.99746 |  79.16881 |  77.06272 |  91.30221 |  81.09190 |  77.18169 |  83.38880 | ⋯ |  81.869115 |  81.373165 |  80.99686 |  80.99686 |  80.99686 | 102.179085 | 110.269000 | 110.269000 | 107.758150 | 112.94610 |\n",
       "| 17 | EN18218 16 |  86.865580 |  67.967045 |  71.60579 |  69.89162 |  63.74427 |  75.89868 |  65.56466 |  61.65427 |  69.67199 | ⋯ |  75.505570 |  75.012625 |  70.44184 |  69.68308 |  69.68308 |  91.916940 |  99.155285 |  98.289455 |  94.620740 |  99.96443 |\n",
       "| 18 | EN18218 17 |  79.303420 |  64.265505 |  69.44431 |  65.44458 |  56.07983 |  65.70798 |  55.92554 |  53.34358 |  63.33986 | ⋯ |  73.542730 |  72.392525 |  61.72736 |  59.95692 |  59.95692 |  82.360460 |  87.895665 |  85.875395 |  80.839060 |  86.02632 |\n",
       "| 19 | EN18218 18 |  71.741260 |  60.563965 |  67.28283 |  60.99754 |  48.41539 |  55.51727 |  46.28642 |  45.03287 |  57.00771 | ⋯ |  71.579890 |  69.772425 |  53.01288 |  50.23076 |  50.23076 |  72.803980 |  76.636045 |  73.461335 |  67.057380 |  72.08822 |\n",
       "| 20 | EN18218 19 |  64.179100 |  56.862425 |  65.12135 |  56.55050 |  40.75095 |  45.32658 |  36.64730 |  36.72217 |  50.67557 | ⋯ |  69.617050 |  67.152325 |  44.29840 |  40.50460 |  40.50460 |  63.247500 |  65.376425 |  61.047275 |  53.275700 |  58.15012 |\n",
       "| 21 | EN18218 20 |  56.616940 |  53.160885 |  62.95987 |  52.10346 |  33.08651 |  35.13588 |  27.00818 |  28.41147 |  44.34343 | ⋯ |  67.654210 |  64.532225 |  35.58392 |  30.77844 |  30.77844 |  53.691020 |  54.116805 |  48.633215 |  39.494020 |  44.21202 |\n",
       "| 22 | EN18218 21 |  60.006040 |  57.434320 |  67.99908 |  61.70594 |  44.85784 |  46.70722 |  39.91589 |  41.08933 |  55.05194 | ⋯ |  60.072055 |  58.466865 |  31.99186 |  30.72294 |  29.66929 |  52.587505 |  51.075430 |  45.535250 |  38.150925 |  42.31815 |\n",
       "| 23 | EN18218 22 |  67.045560 |  64.366080 |  75.43852 |  75.99161 |  63.10776 |  65.53258 |  60.33921 |  60.76337 |  71.44066 | ⋯ |  50.616795 |  51.253085 |  30.10728 |  33.89100 |  31.43247 |  54.301645 |  50.773470 |  45.542650 |  40.954025 |  44.43901 |\n",
       "| 24 | EN18218 23 |  74.085080 |  71.297840 |  82.87796 |  90.27726 |  81.35768 |  84.35794 |  80.76253 |  80.43741 |  87.82938 | ⋯ |  41.161535 |  44.039305 |  28.22270 |  37.05907 |  33.19564 |  56.015785 |  50.471510 |  45.550050 |  43.757125 |  46.55987 |\n",
       "| 25 | EN18218 24 |  81.124600 |  78.229600 |  90.31740 | 104.56293 |  99.60760 | 103.18330 | 101.18585 | 100.11145 | 104.21810 | ⋯ |  31.706275 |  36.825525 |  26.33812 |  40.22713 |  34.95882 |  57.729925 |  50.169550 |  45.557450 |  46.560225 |  48.68073 |\n",
       "| 26 | EN18218 25 |  88.164120 |  85.161360 |  97.75684 | 118.84859 | 117.85752 | 122.00866 | 121.60917 | 119.78549 | 120.60682 | ⋯ |  22.251015 |  29.611745 |  24.45354 |  43.39518 |  36.72200 |  59.444065 |  49.867590 |  45.564850 |  49.363325 |  50.80159 |\n",
       "| 27 | EN18218 26 |  91.083770 |  86.914130 |  97.04292 | 115.23712 | 118.01517 | 115.87012 | 115.51014 | 116.08552 | 116.03151 | ⋯ |  19.409375 |  26.142310 |  24.87937 |  42.05345 |  36.53025 |  55.833580 |  42.671355 |  39.079766 |  42.951723 |  44.02927 |\n",
       "| 28 | EN18218 27 |  92.630130 |  86.940570 |  93.61123 | 105.65994 | 112.14208 | 101.41028 | 100.57032 | 104.59422 | 104.46819 | ⋯ |  18.772275 |  23.920990 |  26.07533 |  39.20845 |  35.68685 |  50.448220 |  33.177030 |  30.430519 |  33.468553 |  34.29256 |\n",
       "| 29 | EN18218 28 |  94.176490 |  86.967010 |  90.17952 |  96.08275 | 106.26897 |  86.95044 |  85.63049 |  93.10292 |  92.90487 | ⋯ |  18.135175 |  21.699670 |  27.27129 |  36.36345 |  34.84345 |  45.062860 |  23.682703 |  21.781273 |  23.985382 |  24.55585 |\n",
       "| 30 | EN18218 29 |  95.722850 |  86.993450 |  86.74783 |  86.50557 | 100.39588 |  72.49060 |  70.69067 |  81.61163 |  81.34155 | ⋯ |  17.498075 |  19.478350 |  28.46725 |  33.51845 |  34.00005 |  39.677500 |  14.188378 |  13.132027 |  14.502212 |  14.81914 |\n",
       "| ⋮ | ⋮ | ⋮ | ⋮ | ⋮ | ⋮ | ⋮ | ⋮ | ⋮ | ⋮ | ⋮ | ⋱ | ⋮ | ⋮ | ⋮ | ⋮ | ⋮ | ⋮ | ⋮ | ⋮ | ⋮ | ⋮ |\n",
       "| 625 | EN18218 624 |  79.013000 | 52.04820 |  48.89920 | 50.735825 | 77.46023 | 71.748400 |  64.69410 |  92.84017 | 29.729825 | ⋯ |  45.70327 | 27.45582 |  62.42770 | 109.38922 | 30.14612 | 17.086308 |  18.53823 | 27.46580 |   8.294503 |  14.074450 |\n",
       "| 626 | EN18218 625 |  82.324680 | 46.87452 |  39.95512 | 43.247725 | 84.70604 | 78.331760 |  48.65866 |  92.08331 | 24.783965 | ⋯ |  37.11594 | 21.16821 |  62.62114 | 122.38504 | 20.28979 |  9.620150 |  20.02116 | 30.90500 |   9.928180 |  12.480650 |\n",
       "| 627 | EN18218 626 |  84.500125 | 45.49591 |  47.57873 | 42.164625 | 75.43019 | 71.155305 |  42.74114 |  79.49402 | 21.402509 | ⋯ |  39.56546 | 18.22209 |  53.79907 | 108.82344 | 17.18639 |  9.680644 |  21.92707 | 31.64999 |  26.494210 |  10.597215 |\n",
       "| 628 | EN18218 627 |  86.296825 | 45.38233 |  60.72491 | 43.216525 | 60.64711 | 59.392245 |  40.19626 |  62.96057 | 18.542521 | ⋯ |  45.69394 | 16.38981 |  41.97183 |  86.40936 | 16.33396 | 12.250021 |  23.97397 | 31.49691 |  48.037690 |   8.617235 |\n",
       "| 629 | EN18218 628 |  88.093525 | 45.26875 |  73.87109 | 44.268425 | 45.86403 | 47.629185 |  37.65138 |  46.42712 | 15.682533 | ⋯ |  51.82242 | 14.55753 |  30.14459 |  63.99528 | 15.48155 | 14.819400 |  26.02088 | 31.34383 |  69.581170 |   6.637255 |\n",
       "| 630 | EN18218 629 |  89.890225 | 45.15517 |  87.01727 | 45.320325 | 31.08095 | 35.866125 |  35.10650 |  29.89368 | 12.822545 | ⋯ |  57.95090 | 12.72525 |  18.31735 |  41.58120 | 14.62913 | 17.388777 |  28.06778 | 31.19075 |  91.124650 |   4.657275 |\n",
       "| 631 | EN18218 630 |  91.686925 | 45.04160 | 100.16345 | 46.372225 | 16.29787 | 24.103065 |  32.56162 |  13.36023 |  9.962557 | ⋯ |  64.07938 | 10.89297 |   6.49011 |  19.16712 | 13.77670 | 19.958156 |  30.11467 | 31.03767 | 112.668130 |   2.677295 |\n",
       "| 632 | EN18218 631 |  80.916415 | 48.31743 |  93.51347 | 40.205469 | 14.86725 | 18.347103 |  29.61359 |  17.43006 | 10.392666 | ⋯ |  68.55599 | 11.23256 |   9.28304 |  13.57593 | 13.12047 | 19.465645 |  31.91044 | 31.61519 | 102.710635 |   2.229525 |\n",
       "| 633 | EN18218 632 |  65.956835 | 52.72307 |  80.26478 | 31.632495 | 17.88745 | 14.593507 |  26.53117 |  28.36765 | 11.919474 | ⋯ |  72.48197 | 12.29609 |  16.94936 |  13.59237 | 12.52963 | 17.952505 |  33.62251 | 32.43626 |  82.252815 |   2.292490 |\n",
       "| 634 | EN18218 633 |  50.997255 | 57.12871 |  67.01608 | 23.059521 | 20.90765 | 10.839911 |  23.44875 |  39.30523 | 13.446282 | ⋯ |  76.40794 | 13.35964 |  24.61568 |  13.60881 | 11.93879 | 16.439365 |  35.33456 | 33.25731 |  61.794995 |   2.355456 |\n",
       "| 635 | EN18218 634 |  36.037675 | 61.53435 |  53.76737 | 14.486548 | 23.92785 |  7.086315 |  20.36632 |  50.24282 | 14.973090 | ⋯ |  80.33392 | 14.42318 |  32.28200 |  13.62525 | 11.34795 | 14.926225 |  37.04662 | 34.07838 |  41.337175 |   2.418423 |\n",
       "| 636 | EN18218 635 |  21.078095 | 65.93999 |  40.51867 |  5.913574 | 26.94805 |  3.332719 |  17.28391 |  61.18040 | 16.499898 | ⋯ |  84.25991 | 15.48672 |  39.94832 |  13.64169 | 10.75711 | 13.413085 |  38.75868 | 34.89944 |  20.879355 |   2.481388 |\n",
       "| 637 | EN18218 636 |  24.492840 | 65.47732 |  38.36154 | 16.004941 | 38.57178 | 13.511807 |  22.29653 |  65.62615 | 27.502140 | ⋯ |  93.30339 | 21.87938 |  51.76776 |  24.93257 | 23.99015 | 17.702995 |  50.63444 | 43.89184 |  30.669365 |   8.038500 |\n",
       "| 638 | EN18218 637 |  34.032360 | 63.39188 |  39.90160 | 32.317754 | 53.06336 | 28.335123 |  30.00751 |  67.90795 | 41.662860 | ⋯ | 104.05271 | 30.04842 |  64.97159 |  39.98159 | 41.83115 | 23.927255 |  65.89811 | 55.60801 |  50.541985 |  15.426994 |\n",
       "| 639 | EN18218 638 |  43.571880 | 61.30644 |  41.44167 | 48.630569 | 67.55495 | 43.158439 |  37.71850 |  70.18975 | 55.823580 | ⋯ | 114.80203 | 38.21746 |  78.17541 |  55.03061 | 59.67215 | 30.151515 |  81.16177 | 67.32420 |  70.414605 |  22.815489 |\n",
       "| 640 | EN18218 639 |  53.111400 | 59.22100 |  42.98172 | 64.943382 | 82.04653 | 57.981755 |  45.42947 |  72.47155 | 69.984300 | ⋯ | 125.55135 | 46.38650 |  91.37923 |  70.07963 | 77.51315 | 36.375775 |  96.42542 | 79.04037 |  90.287225 |  30.203982 |\n",
       "| 641 | EN18218 640 |  62.650920 | 57.13556 |  44.52178 | 81.256197 | 96.53811 | 72.805071 |  53.14045 |  74.75335 | 84.145020 | ⋯ | 136.30067 | 54.55554 | 104.58304 |  85.12864 | 95.35415 | 42.600035 | 111.68908 | 90.75655 | 110.159845 |  37.592476 |\n",
       "| 642 | EN18218 641 |  72.510030 | 57.15904 |  44.08306 | 76.264440 | 88.13280 | 69.289090 |  53.59365 |  80.49628 | 85.606710 | ⋯ | 120.58191 | 49.88542 |  93.35365 |  84.07972 | 86.93464 | 38.723439 | 102.21038 | 81.94174 | 100.167780 |  49.896160 |\n",
       "| 643 | EN18218 642 |  82.475670 | 57.88550 |  42.98474 | 64.171160 | 72.09520 | 59.660010 |  51.62759 |  87.39292 | 82.835390 | ⋯ |  96.04045 | 40.93558 |  73.97985 |  77.66483 | 69.76162 | 31.479891 |  84.48422 | 66.28326 |  80.220820 |  63.838240 |\n",
       "| 644 | EN18218 643 |  92.441310 | 58.61196 |  41.88642 | 52.077880 | 56.05760 | 50.030930 |  49.66154 |  94.28956 | 80.064070 | ⋯ |  71.49898 | 31.98574 |  54.60605 |  71.24993 | 52.58859 | 24.236343 |  66.75806 | 50.62478 |  60.273860 |  77.780320 |\n",
       "| 645 | EN18218 644 | 102.406950 | 59.33843 |  40.78810 | 39.984600 | 40.02000 | 40.401850 |  47.69548 | 101.18620 | 77.292750 | ⋯ |  46.95753 | 23.03590 |  35.23225 |  64.83503 | 35.41557 | 16.992795 |  49.03190 | 34.96630 |  40.326900 |  91.722400 |\n",
       "| 646 | EN18218 645 | 112.372590 | 60.06488 |  39.68978 | 27.891320 | 23.98240 | 30.772770 |  45.72942 | 108.08284 | 74.521430 | ⋯ |  22.41607 | 14.08606 |  15.85845 |  58.42012 | 18.24255 |  9.749247 |  31.30574 | 19.30782 |  20.379940 | 105.664480 |\n",
       "| 647 | EN18218 646 |  99.044415 | 52.67350 |  35.81547 | 23.111230 | 25.17078 | 35.497625 |  51.20790 | 108.99415 | 76.792540 | ⋯ |  16.42179 | 18.37171 |  13.35452 |  56.74771 | 17.68323 | 22.066806 |  26.27679 | 18.01355 |  16.658855 | 108.948250 |\n",
       "| 648 | EN18218 647 |  77.951635 | 42.57617 |  31.01583 | 20.768870 | 32.10116 | 45.007125 |  59.16790 | 107.91035 | 80.744460 | ⋯ |  16.60991 | 27.06919 |  16.47388 |  56.65613 | 22.66181 | 40.904734 |  25.48025 | 21.50735 |  18.346395 | 108.679250 |\n",
       "| 649 | EN18218 648 |  56.858855 | 32.47884 |  26.21619 | 18.426510 | 39.03154 | 54.516625 |  67.12790 | 106.82655 | 84.696380 | ⋯ |  16.79803 | 35.76667 |  19.59324 |  56.56455 | 27.64039 | 59.742662 |  24.68371 | 25.00115 |  20.033935 | 108.410250 |\n",
       "| 650 | EN18218 649 |  35.766075 | 22.38150 |  21.41655 | 16.084150 | 45.96192 | 64.026125 |  75.08790 | 105.74275 | 88.648300 | ⋯ |  16.98615 | 44.46415 |  22.71260 |  56.47297 | 32.61897 | 78.580590 |  23.88717 | 28.49495 |  21.721475 | 108.141250 |\n",
       "| 651 | EN18218 650 |  14.673295 | 12.28417 |  16.61691 | 13.741790 | 52.89230 | 73.535625 |  83.04790 | 104.65895 | 92.600220 | ⋯ |  17.17427 | 53.16163 |  25.83196 |  56.38139 | 37.59755 | 97.418518 |  23.09063 | 31.98875 |  23.409015 | 107.872250 |\n",
       "| 652 | EN18218 651 |   8.707853 | 22.40725 |  20.97031 | 17.228220 | 56.83354 | 74.328520 | 100.04496 | 111.80055 | 85.192535 | ⋯ |  17.06612 | 51.85421 |  27.89883 |  54.58943 | 40.26120 | 87.673849 |  23.60517 | 40.52607 |  25.587655 |  94.729830 |\n",
       "| 653 | EN18218 652 |   7.784857 | 39.27046 |  28.37474 | 22.657580 | 59.77840 | 72.215880 | 120.05438 | 121.68395 | 73.998315 | ⋯ |  16.85922 | 47.21184 |  29.61487 |  52.23067 | 42.15320 | 68.401646 |  24.55673 | 50.74457 |  27.929995 |  77.296270 |\n",
       "| 654 | EN18218 653 |   6.861861 | 56.13367 |  35.77916 | 28.086940 | 62.72326 | 70.103240 | 140.06381 | 131.56735 | 62.804095 | ⋯ |  16.65233 | 42.56945 |  31.33091 |  49.87191 | 44.04520 | 49.129444 |  25.50829 | 60.96308 |  30.272335 |  59.862710 |\n",
       "\n"
      ],
      "text/plain": [
       "    depth       iter_1     iter_2     iter_3    iter_4    iter_5    iter_6   \n",
       "1   EN18218 0   -25.766300  38.451000  37.86880  39.84960  48.36300  50.66490\n",
       "2   EN18218 1   -21.246181  33.819119  37.34385  39.52311  46.47900  44.33909\n",
       "3   EN18218 2   -15.219355  27.643276  36.64391  39.08779  43.96700  35.90469\n",
       "4   EN18218 3    -9.192529  21.467434  35.94396  38.65247  41.45500  27.47028\n",
       "5   EN18218 4    -3.165703  15.291593  35.24403  38.21715  38.94300  19.03587\n",
       "6   EN18218 5     2.861123   9.115751  34.54409  37.78183  36.43100  10.60146\n",
       "7   EN18218 6    34.766705  41.233171  60.50944  60.83180  63.56680  43.03173\n",
       "8   EN18218 7    75.298539  86.115014  95.36321  91.71020 100.58520  89.08356\n",
       "9   EN18218 8   115.830374 130.996856 130.21699 122.58860 137.60360 135.13539\n",
       "10  EN18218 9   156.362207 175.878697 165.07077 153.46700 174.62200 181.18722\n",
       "11  EN18218 10  196.894041 220.760539 199.92455 184.34540 211.64040 227.23904\n",
       "12  EN18218 11  189.853530 207.795330 188.32634 174.23928 198.18464 215.47046\n",
       "13  EN18218 12  166.955570 175.547770 161.24412 150.47167 167.90416 184.42840\n",
       "14  EN18218 13  144.057610 143.300210 134.16190 126.70404 137.62368 153.38633\n",
       "15  EN18218 14  121.159650 111.052650 107.07968 102.93642 107.34320 122.34427\n",
       "16  EN18218 15   98.261690  78.805090  79.99746  79.16881  77.06272  91.30221\n",
       "17  EN18218 16   86.865580  67.967045  71.60579  69.89162  63.74427  75.89868\n",
       "18  EN18218 17   79.303420  64.265505  69.44431  65.44458  56.07983  65.70798\n",
       "19  EN18218 18   71.741260  60.563965  67.28283  60.99754  48.41539  55.51727\n",
       "20  EN18218 19   64.179100  56.862425  65.12135  56.55050  40.75095  45.32658\n",
       "21  EN18218 20   56.616940  53.160885  62.95987  52.10346  33.08651  35.13588\n",
       "22  EN18218 21   60.006040  57.434320  67.99908  61.70594  44.85784  46.70722\n",
       "23  EN18218 22   67.045560  64.366080  75.43852  75.99161  63.10776  65.53258\n",
       "24  EN18218 23   74.085080  71.297840  82.87796  90.27726  81.35768  84.35794\n",
       "25  EN18218 24   81.124600  78.229600  90.31740 104.56293  99.60760 103.18330\n",
       "26  EN18218 25   88.164120  85.161360  97.75684 118.84859 117.85752 122.00866\n",
       "27  EN18218 26   91.083770  86.914130  97.04292 115.23712 118.01517 115.87012\n",
       "28  EN18218 27   92.630130  86.940570  93.61123 105.65994 112.14208 101.41028\n",
       "29  EN18218 28   94.176490  86.967010  90.17952  96.08275 106.26897  86.95044\n",
       "30  EN18218 29   95.722850  86.993450  86.74783  86.50557 100.39588  72.49060\n",
       "⋮   ⋮           ⋮          ⋮          ⋮         ⋮         ⋮         ⋮        \n",
       "625 EN18218 624  79.013000 52.04820    48.89920 50.735825 77.46023  71.748400\n",
       "626 EN18218 625  82.324680 46.87452    39.95512 43.247725 84.70604  78.331760\n",
       "627 EN18218 626  84.500125 45.49591    47.57873 42.164625 75.43019  71.155305\n",
       "628 EN18218 627  86.296825 45.38233    60.72491 43.216525 60.64711  59.392245\n",
       "629 EN18218 628  88.093525 45.26875    73.87109 44.268425 45.86403  47.629185\n",
       "630 EN18218 629  89.890225 45.15517    87.01727 45.320325 31.08095  35.866125\n",
       "631 EN18218 630  91.686925 45.04160   100.16345 46.372225 16.29787  24.103065\n",
       "632 EN18218 631  80.916415 48.31743    93.51347 40.205469 14.86725  18.347103\n",
       "633 EN18218 632  65.956835 52.72307    80.26478 31.632495 17.88745  14.593507\n",
       "634 EN18218 633  50.997255 57.12871    67.01608 23.059521 20.90765  10.839911\n",
       "635 EN18218 634  36.037675 61.53435    53.76737 14.486548 23.92785   7.086315\n",
       "636 EN18218 635  21.078095 65.93999    40.51867  5.913574 26.94805   3.332719\n",
       "637 EN18218 636  24.492840 65.47732    38.36154 16.004941 38.57178  13.511807\n",
       "638 EN18218 637  34.032360 63.39188    39.90160 32.317754 53.06336  28.335123\n",
       "639 EN18218 638  43.571880 61.30644    41.44167 48.630569 67.55495  43.158439\n",
       "640 EN18218 639  53.111400 59.22100    42.98172 64.943382 82.04653  57.981755\n",
       "641 EN18218 640  62.650920 57.13556    44.52178 81.256197 96.53811  72.805071\n",
       "642 EN18218 641  72.510030 57.15904    44.08306 76.264440 88.13280  69.289090\n",
       "643 EN18218 642  82.475670 57.88550    42.98474 64.171160 72.09520  59.660010\n",
       "644 EN18218 643  92.441310 58.61196    41.88642 52.077880 56.05760  50.030930\n",
       "645 EN18218 644 102.406950 59.33843    40.78810 39.984600 40.02000  40.401850\n",
       "646 EN18218 645 112.372590 60.06488    39.68978 27.891320 23.98240  30.772770\n",
       "647 EN18218 646  99.044415 52.67350    35.81547 23.111230 25.17078  35.497625\n",
       "648 EN18218 647  77.951635 42.57617    31.01583 20.768870 32.10116  45.007125\n",
       "649 EN18218 648  56.858855 32.47884    26.21619 18.426510 39.03154  54.516625\n",
       "650 EN18218 649  35.766075 22.38150    21.41655 16.084150 45.96192  64.026125\n",
       "651 EN18218 650  14.673295 12.28417    16.61691 13.741790 52.89230  73.535625\n",
       "652 EN18218 651   8.707853 22.40725    20.97031 17.228220 56.83354  74.328520\n",
       "653 EN18218 652   7.784857 39.27046    28.37474 22.657580 59.77840  72.215880\n",
       "654 EN18218 653   6.861861 56.13367    35.77916 28.086940 62.72326  70.103240\n",
       "    iter_7    iter_8    iter_9    ⋯ iter_9991  iter_9992  iter_9993 iter_9994\n",
       "1    84.00070  61.02020 -25.76970 ⋯ -49.764000 -37.389400 -36.14310   2.48569\n",
       "2    72.35145  53.91943 -19.85199 ⋯ -31.963995 -20.599165 -19.08603  16.82752\n",
       "3    56.81912  44.45173 -11.96171 ⋯  -8.230655   1.787815   3.65673  35.94996\n",
       "4    41.28679  34.98403  -4.07143 ⋯  15.502685  24.174795  26.39949  55.07241\n",
       "5    25.75446  25.51633   3.81885 ⋯  39.236025  46.561775  49.14225  74.19485\n",
       "6    10.22213  16.04863  11.70913 ⋯  62.969365  68.948755  71.88501  93.31729\n",
       "7    41.20099  49.69570  49.69570 ⋯  84.788195  88.096725  89.53924 106.98736\n",
       "8    87.68358  97.71435  97.71435 ⋯ 105.968855 106.165025 105.49730 118.83998\n",
       "9   134.16617 145.73302 145.73302 ⋯ 127.149515 124.233325 121.45537 130.69260\n",
       "10  180.64876 193.75168 193.75168 ⋯ 148.330175 142.301625 137.41342 142.54522\n",
       "11  227.13135 241.77033 241.77033 ⋯ 169.510835 160.369925 153.37149 154.39784\n",
       "12  213.85830 225.89185 226.87192 ⋯ 160.131755 151.700605 145.30351 145.30351\n",
       "13  180.66670 188.71431 191.00114 ⋯ 140.566095 134.118745 129.22684 129.22684\n",
       "14  147.47510 151.53677 155.13036 ⋯ 121.000435 116.536885 113.15018 113.15018\n",
       "15  114.28350 114.35923 119.25958 ⋯ 101.434775  98.955025  97.07352  97.07352\n",
       "16   81.09190  77.18169  83.38880 ⋯  81.869115  81.373165  80.99686  80.99686\n",
       "17   65.56466  61.65427  69.67199 ⋯  75.505570  75.012625  70.44184  69.68308\n",
       "18   55.92554  53.34358  63.33986 ⋯  73.542730  72.392525  61.72736  59.95692\n",
       "19   46.28642  45.03287  57.00771 ⋯  71.579890  69.772425  53.01288  50.23076\n",
       "20   36.64730  36.72217  50.67557 ⋯  69.617050  67.152325  44.29840  40.50460\n",
       "21   27.00818  28.41147  44.34343 ⋯  67.654210  64.532225  35.58392  30.77844\n",
       "22   39.91589  41.08933  55.05194 ⋯  60.072055  58.466865  31.99186  30.72294\n",
       "23   60.33921  60.76337  71.44066 ⋯  50.616795  51.253085  30.10728  33.89100\n",
       "24   80.76253  80.43741  87.82938 ⋯  41.161535  44.039305  28.22270  37.05907\n",
       "25  101.18585 100.11145 104.21810 ⋯  31.706275  36.825525  26.33812  40.22713\n",
       "26  121.60917 119.78549 120.60682 ⋯  22.251015  29.611745  24.45354  43.39518\n",
       "27  115.51014 116.08552 116.03151 ⋯  19.409375  26.142310  24.87937  42.05345\n",
       "28  100.57032 104.59422 104.46819 ⋯  18.772275  23.920990  26.07533  39.20845\n",
       "29   85.63049  93.10292  92.90487 ⋯  18.135175  21.699670  27.27129  36.36345\n",
       "30   70.69067  81.61163  81.34155 ⋯  17.498075  19.478350  28.46725  33.51845\n",
       "⋮   ⋮         ⋮         ⋮         ⋱ ⋮          ⋮          ⋮         ⋮        \n",
       "625  64.69410  92.84017 29.729825 ⋯  45.70327  27.45582    62.42770 109.38922\n",
       "626  48.65866  92.08331 24.783965 ⋯  37.11594  21.16821    62.62114 122.38504\n",
       "627  42.74114  79.49402 21.402509 ⋯  39.56546  18.22209    53.79907 108.82344\n",
       "628  40.19626  62.96057 18.542521 ⋯  45.69394  16.38981    41.97183  86.40936\n",
       "629  37.65138  46.42712 15.682533 ⋯  51.82242  14.55753    30.14459  63.99528\n",
       "630  35.10650  29.89368 12.822545 ⋯  57.95090  12.72525    18.31735  41.58120\n",
       "631  32.56162  13.36023  9.962557 ⋯  64.07938  10.89297     6.49011  19.16712\n",
       "632  29.61359  17.43006 10.392666 ⋯  68.55599  11.23256     9.28304  13.57593\n",
       "633  26.53117  28.36765 11.919474 ⋯  72.48197  12.29609    16.94936  13.59237\n",
       "634  23.44875  39.30523 13.446282 ⋯  76.40794  13.35964    24.61568  13.60881\n",
       "635  20.36632  50.24282 14.973090 ⋯  80.33392  14.42318    32.28200  13.62525\n",
       "636  17.28391  61.18040 16.499898 ⋯  84.25991  15.48672    39.94832  13.64169\n",
       "637  22.29653  65.62615 27.502140 ⋯  93.30339  21.87938    51.76776  24.93257\n",
       "638  30.00751  67.90795 41.662860 ⋯ 104.05271  30.04842    64.97159  39.98159\n",
       "639  37.71850  70.18975 55.823580 ⋯ 114.80203  38.21746    78.17541  55.03061\n",
       "640  45.42947  72.47155 69.984300 ⋯ 125.55135  46.38650    91.37923  70.07963\n",
       "641  53.14045  74.75335 84.145020 ⋯ 136.30067  54.55554   104.58304  85.12864\n",
       "642  53.59365  80.49628 85.606710 ⋯ 120.58191  49.88542    93.35365  84.07972\n",
       "643  51.62759  87.39292 82.835390 ⋯  96.04045  40.93558    73.97985  77.66483\n",
       "644  49.66154  94.28956 80.064070 ⋯  71.49898  31.98574    54.60605  71.24993\n",
       "645  47.69548 101.18620 77.292750 ⋯  46.95753  23.03590    35.23225  64.83503\n",
       "646  45.72942 108.08284 74.521430 ⋯  22.41607  14.08606    15.85845  58.42012\n",
       "647  51.20790 108.99415 76.792540 ⋯  16.42179  18.37171    13.35452  56.74771\n",
       "648  59.16790 107.91035 80.744460 ⋯  16.60991  27.06919    16.47388  56.65613\n",
       "649  67.12790 106.82655 84.696380 ⋯  16.79803  35.76667    19.59324  56.56455\n",
       "650  75.08790 105.74275 88.648300 ⋯  16.98615  44.46415    22.71260  56.47297\n",
       "651  83.04790 104.65895 92.600220 ⋯  17.17427  53.16163    25.83196  56.38139\n",
       "652 100.04496 111.80055 85.192535 ⋯  17.06612  51.85421    27.89883  54.58943\n",
       "653 120.05438 121.68395 73.998315 ⋯  16.85922  47.21184    29.61487  52.23067\n",
       "654 140.06381 131.56735 62.804095 ⋯  16.65233  42.56945    31.33091  49.87191\n",
       "    iter_9995 iter_9996  iter_9997  iter_9998  iter_9999  iter_10000\n",
       "1    -9.51557 -30.957100 -33.915900  -8.968880  -9.699090 -24.53880 \n",
       "2     6.32000 -17.108995 -19.623975  -1.178243   1.021663 -11.59209 \n",
       "3    27.43409   1.355145  -0.568075   9.209273  15.316001   5.67019 \n",
       "4    48.54819  19.819285  18.487825  19.596789  29.610340  22.93247 \n",
       "5    69.66228  38.283425  37.543725  29.984305  43.904677  40.19475 \n",
       "6    90.77638  56.747565  56.599625  40.371821  58.199015  57.45703 \n",
       "7   105.25082  76.306060  76.306060  60.670395  76.653710  76.65371 \n",
       "8   117.51203  96.229340  96.229340  84.272655  96.495190  96.49519 \n",
       "9   129.77326 116.152620 116.152620 107.874915 116.336670 116.33667 \n",
       "10  142.03447 136.075900 136.075900 131.477175 136.178150 136.17815 \n",
       "11  154.29569 155.999180 155.999180 155.079435 156.019630 156.01963 \n",
       "12  145.30351 151.695645 152.973000 152.973000 152.576550 153.39570 \n",
       "13  129.22684 139.316505 142.297000 142.297000 141.371950 143.28330 \n",
       "14  113.15018 126.937365 131.621000 131.621000 130.167350 133.17090 \n",
       "15   97.07352 114.558225 120.945000 120.945000 118.962750 123.05850 \n",
       "16   80.99686 102.179085 110.269000 110.269000 107.758150 112.94610 \n",
       "17   69.68308  91.916940  99.155285  98.289455  94.620740  99.96443 \n",
       "18   59.95692  82.360460  87.895665  85.875395  80.839060  86.02632 \n",
       "19   50.23076  72.803980  76.636045  73.461335  67.057380  72.08822 \n",
       "20   40.50460  63.247500  65.376425  61.047275  53.275700  58.15012 \n",
       "21   30.77844  53.691020  54.116805  48.633215  39.494020  44.21202 \n",
       "22   29.66929  52.587505  51.075430  45.535250  38.150925  42.31815 \n",
       "23   31.43247  54.301645  50.773470  45.542650  40.954025  44.43901 \n",
       "24   33.19564  56.015785  50.471510  45.550050  43.757125  46.55987 \n",
       "25   34.95882  57.729925  50.169550  45.557450  46.560225  48.68073 \n",
       "26   36.72200  59.444065  49.867590  45.564850  49.363325  50.80159 \n",
       "27   36.53025  55.833580  42.671355  39.079766  42.951723  44.02927 \n",
       "28   35.68685  50.448220  33.177030  30.430519  33.468553  34.29256 \n",
       "29   34.84345  45.062860  23.682703  21.781273  23.985382  24.55585 \n",
       "30   34.00005  39.677500  14.188378  13.132027  14.502212  14.81914 \n",
       "⋮   ⋮         ⋮          ⋮          ⋮          ⋮          ⋮         \n",
       "625 30.14612  17.086308   18.53823  27.46580     8.294503  14.074450\n",
       "626 20.28979   9.620150   20.02116  30.90500     9.928180  12.480650\n",
       "627 17.18639   9.680644   21.92707  31.64999    26.494210  10.597215\n",
       "628 16.33396  12.250021   23.97397  31.49691    48.037690   8.617235\n",
       "629 15.48155  14.819400   26.02088  31.34383    69.581170   6.637255\n",
       "630 14.62913  17.388777   28.06778  31.19075    91.124650   4.657275\n",
       "631 13.77670  19.958156   30.11467  31.03767   112.668130   2.677295\n",
       "632 13.12047  19.465645   31.91044  31.61519   102.710635   2.229525\n",
       "633 12.52963  17.952505   33.62251  32.43626    82.252815   2.292490\n",
       "634 11.93879  16.439365   35.33456  33.25731    61.794995   2.355456\n",
       "635 11.34795  14.926225   37.04662  34.07838    41.337175   2.418423\n",
       "636 10.75711  13.413085   38.75868  34.89944    20.879355   2.481388\n",
       "637 23.99015  17.702995   50.63444  43.89184    30.669365   8.038500\n",
       "638 41.83115  23.927255   65.89811  55.60801    50.541985  15.426994\n",
       "639 59.67215  30.151515   81.16177  67.32420    70.414605  22.815489\n",
       "640 77.51315  36.375775   96.42542  79.04037    90.287225  30.203982\n",
       "641 95.35415  42.600035  111.68908  90.75655   110.159845  37.592476\n",
       "642 86.93464  38.723439  102.21038  81.94174   100.167780  49.896160\n",
       "643 69.76162  31.479891   84.48422  66.28326    80.220820  63.838240\n",
       "644 52.58859  24.236343   66.75806  50.62478    60.273860  77.780320\n",
       "645 35.41557  16.992795   49.03190  34.96630    40.326900  91.722400\n",
       "646 18.24255   9.749247   31.30574  19.30782    20.379940 105.664480\n",
       "647 17.68323  22.066806   26.27679  18.01355    16.658855 108.948250\n",
       "648 22.66181  40.904734   25.48025  21.50735    18.346395 108.679250\n",
       "649 27.64039  59.742662   24.68371  25.00115    20.033935 108.410250\n",
       "650 32.61897  78.580590   23.88717  28.49495    21.721475 108.141250\n",
       "651 37.59755  97.418518   23.09063  31.98875    23.409015 107.872250\n",
       "652 40.26120  87.673849   23.60517  40.52607    25.587655  94.729830\n",
       "653 42.15320  68.401646   24.55673  50.74457    27.929995  77.296270\n",
       "654 44.04520  49.129444   25.50829  60.96308    30.272335  59.862710"
      ]
     },
     "metadata": {},
     "output_type": "display_data"
    }
   ],
   "source": [
    "Bacon_core_results"
   ]
  },
  {
   "cell_type": "code",
   "execution_count": 79,
   "metadata": {
    "kernel": "R"
   },
   "outputs": [],
   "source": [
    "%put Bacon_core_results"
   ]
  },
  {
   "cell_type": "markdown",
   "metadata": {
    "editable": true,
    "kernel": "SoS",
    "slideshow": {
     "slide_type": ""
    },
    "tags": []
   },
   "source": [
    "#### Aggregate"
   ]
  },
  {
   "cell_type": "code",
   "execution_count": 80,
   "metadata": {
    "kernel": "SoS"
   },
   "outputs": [],
   "source": [
    "aggBa = aggregate.AggDataBacon(Bacon_core_results, dttp = aggRC.dttp)\n",
    "aggBa.results_agg()"
   ]
  },
  {
   "cell_type": "markdown",
   "metadata": {
    "kernel": "SoS"
   },
   "source": [
    "#### Calculating sedimentation rate"
   ]
  },
  {
   "cell_type": "code",
   "execution_count": 81,
   "metadata": {
    "kernel": "SoS"
   },
   "outputs": [],
   "source": [
    "SRBa = sedi_rate.CalculateSediRate(aggBa, model = 'Bacon', coreid = CoreIDs, mode = SR_mode)\n",
    "SRBa.calculating_SR()"
   ]
  },
  {
   "cell_type": "markdown",
   "metadata": {
    "kernel": "SoS"
   },
   "source": [
    "#### Push results to database"
   ]
  },
  {
   "cell_type": "code",
   "execution_count": 82,
   "metadata": {
    "kernel": "SoS"
   },
   "outputs": [
    {
     "name": "stdout",
     "output_type": "stream",
     "text": [
      "Information: LANDO is not connected to a database, so nothing was uploaded.\n"
     ]
    }
   ],
   "source": [
    "push = push_data.PushIt(agg = aggBa,\n",
    "                        engine = dates.engine,\n",
    "                        model = 'Bacon')\n",
    "push.push_to_db()"
   ]
  },
  {
   "cell_type": "markdown",
   "metadata": {
    "kernel": "SoS"
   },
   "source": [
    "### Clam"
   ]
  },
  {
   "cell_type": "markdown",
   "metadata": {
    "kernel": "SoS"
   },
   "source": [
    "#### Prep"
   ]
  },
  {
   "cell_type": "code",
   "execution_count": 54,
   "metadata": {
    "kernel": "SoS"
   },
   "outputs": [],
   "source": [
    "clam = prep.PrepForClam(all_ages = AllAges)\n",
    "clam.prep_it()\n",
    "clam_Frame = clam.clam_Frame"
   ]
  },
  {
   "cell_type": "markdown",
   "metadata": {
    "kernel": "SoS"
   },
   "source": [
    "#### R Run"
   ]
  },
  {
   "cell_type": "code",
   "execution_count": 55,
   "metadata": {
    "kernel": "R"
   },
   "outputs": [],
   "source": [
    "%get clam_Frame --from SoS\n",
    "%get CoreIDs --from SoS\n",
    "%get CoreLengths --from SoS"
   ]
  },
  {
   "cell_type": "code",
   "execution_count": 56,
   "metadata": {
    "kernel": "R"
   },
   "outputs": [],
   "source": [
    "types_curve <- 1:5\n",
    "smoothness_curve <- 0.1*(1:10)\n",
    "poly_degree_curve <- 1:4\n",
    "best_fit <- TRUE"
   ]
  },
  {
   "cell_type": "code",
   "execution_count": 57,
   "metadata": {
    "kernel": "R"
   },
   "outputs": [
    {
     "name": "stderr",
     "output_type": "stream",
     "text": [
      "🌍 Starting core EN18218 (1 of 1)\n",
      "\n"
     ]
    },
    {
     "name": "stdout",
     "output_type": "stream",
     "text": [
      "starting worker for localhost:11348 \n",
      "starting worker for localhost:11348 \n",
      "starting worker for localhost:11348 \n",
      "starting worker for localhost:11348 \n",
      "starting worker for localhost:11348 \n",
      "starting worker for localhost:11348 \n",
      "Type: EXEC \n",
      "Type: EXEC \n",
      "Type: EXEC \n",
      "Type: EXEC \n",
      "Type: EXEC \n",
      "Type: EXEC \n",
      "Type: EXEC \n",
      "Type: EXEC \n",
      "Type: EXEC \n",
      "Type: EXEC \n",
      "Type: EXEC \n",
      "Type: EXEC \n",
      " extrapolating beyond dated levels, dangerous!\n",
      "  extrapolating beyond dated levels, dangerous!\n",
      "  extrapolating beyond dated levels, dangerous!\n",
      "  extrapolating beyond dated levels, dangerous!\n",
      "  extrapolating beyond dated levels, dangerous!\n",
      "  extrapolating beyond dated levels, dangerous!\n",
      "  Interpolating, sampling.........."
     ]
    },
    {
     "name": "stderr",
     "output_type": "stream",
     "text": [
      "📏 Fit for EN18218 — clam type 3: 28.93\n",
      "✅ Finished core EN18218 — clam type 3\n"
     ]
    },
    {
     "name": "stdout",
     "output_type": "stream",
     "text": [
      "Type: EXEC \n",
      " extrapolating beyond dated levels, dangerous!\n",
      " "
     ]
    },
    {
     "name": "stderr",
     "output_type": "stream",
     "text": [
      "📏 Fit for EN18218 — clam type 1: 27.26\n",
      "✅ Finished core EN18218 — clam type 1\n"
     ]
    },
    {
     "name": "stdout",
     "output_type": "stream",
     "text": [
      "Type: EXEC \n",
      " extrapolating beyond dated levels, dangerous!\n",
      " .................."
     ]
    },
    {
     "name": "stderr",
     "output_type": "stream",
     "text": [
      "📏 Fit for EN18218 — clam type 4 smoothing 0.1: 71.2\n",
      "✅ Finished core EN18218 — clam type 4 smoothing 0.1\n"
     ]
    },
    {
     "name": "stdout",
     "output_type": "stream",
     "text": [
      "Type: EXEC \n",
      " extrapolating beyond dated levels, dangerous!\n",
      " "
     ]
    },
    {
     "name": "stderr",
     "output_type": "stream",
     "text": [
      "📏 Fit for EN18218 — clam type 4 smoothing 0.2: 82.76\n",
      "✅ Finished core EN18218 — clam type 4 smoothing 0.2\n"
     ]
    },
    {
     "name": "stdout",
     "output_type": "stream",
     "text": [
      "Type: EXEC \n",
      " extrapolating beyond dated levels, dangerous!\n",
      " .............."
     ]
    },
    {
     "name": "stderr",
     "output_type": "stream",
     "text": [
      "📏 Fit for EN18218 — clam type 4 smoothing 0.3: 150.84\n",
      "✅ Finished core EN18218 — clam type 4 smoothing 0.3\n"
     ]
    },
    {
     "name": "stdout",
     "output_type": "stream",
     "text": [
      "Type: EXEC \n",
      " extrapolating beyond dated levels, dangerous!\n",
      " ."
     ]
    },
    {
     "name": "stderr",
     "output_type": "stream",
     "text": [
      "📏 Fit for EN18218 — clam type 4 smoothing 0.4: 283.19\n",
      "✅ Finished core EN18218 — clam type 4 smoothing 0.4\n"
     ]
    },
    {
     "name": "stdout",
     "output_type": "stream",
     "text": [
      ".Type: EXEC \n",
      " extrapolating beyond dated levels, dangerous!\n",
      " ............"
     ]
    },
    {
     "name": "stderr",
     "output_type": "stream",
     "text": [
      "📏 Fit for EN18218 — clam type 2 degree 1: NA\n",
      "✅ Finished core EN18218 — clam type 2 degree 1\n"
     ]
    },
    {
     "name": "stdout",
     "output_type": "stream",
     "text": [
      "."
     ]
    },
    {
     "name": "stderr",
     "output_type": "stream",
     "text": [
      "📏 Fit for EN18218 — clam type 2 degree 2: NA\n",
      "✅ Finished core EN18218 — clam type 2 degree 2\n"
     ]
    },
    {
     "name": "stdout",
     "output_type": "stream",
     "text": [
      "..Type: EXEC \n",
      "Type: EXEC \n",
      " extrapolating beyond dated levels, dangerous!\n",
      "  extrapolating beyond dated levels, dangerous!\n",
      " "
     ]
    },
    {
     "name": "stderr",
     "output_type": "stream",
     "text": [
      "📏 Fit for EN18218 — clam type 2 degree 3: 2180.5\n",
      "✅ Finished core EN18218 — clam type 2 degree 3\n"
     ]
    },
    {
     "name": "stdout",
     "output_type": "stream",
     "text": [
      "Type: EXEC \n",
      " extrapolating beyond dated levels, dangerous!\n",
      " ."
     ]
    },
    {
     "name": "stderr",
     "output_type": "stream",
     "text": [
      "📏 Fit for EN18218 — clam type 2 degree 4: 1201.4\n",
      "✅ Finished core EN18218 — clam type 2 degree 4\n",
      "📏 Fit for EN18218 — clam type 4 smoothing 0.5: 485.81\n",
      "✅ Finished core EN18218 — clam type 4 smoothing 0.5\n"
     ]
    },
    {
     "name": "stdout",
     "output_type": "stream",
     "text": [
      "Type: EXEC \n",
      "Type: EXEC \n",
      " extrapolating beyond dated levels, dangerous!\n",
      " .."
     ]
    },
    {
     "name": "stderr",
     "output_type": "stream",
     "text": [
      "📏 Fit for EN18218 — clam type 4 smoothing 0.6: 602.92\n",
      "✅ Finished core EN18218 — clam type 4 smoothing 0.6\n"
     ]
    },
    {
     "name": "stdout",
     "output_type": "stream",
     "text": [
      "Type: EXEC \n",
      "..................."
     ]
    },
    {
     "name": "stderr",
     "output_type": "stream",
     "text": [
      "📏 Fit for EN18218 — clam type 4 smoothing 0.7: 883.8\n",
      "✅ Finished core EN18218 — clam type 4 smoothing 0.7\n",
      "📏 Fit for EN18218 — clam type 4 smoothing 0.8: 1436.9\n",
      "✅ Finished core EN18218 — clam type 4 smoothing 0.8\n"
     ]
    },
    {
     "name": "stdout",
     "output_type": "stream",
     "text": [
      ".Type: EXEC \n",
      "Type: EXEC \n"
     ]
    },
    {
     "name": "stderr",
     "output_type": "stream",
     "text": [
      "📏 Fit for EN18218 — clam type 4 smoothing 0.9: 2203.5\n",
      "✅ Finished core EN18218 — clam type 4 smoothing 0.9\n"
     ]
    },
    {
     "name": "stdout",
     "output_type": "stream",
     "text": [
      ".Type: EXEC \n"
     ]
    },
    {
     "name": "stderr",
     "output_type": "stream",
     "text": [
      "📏 Fit for EN18218 — clam type 4 smoothing 1.0: 2872.9\n",
      "✅ Finished core EN18218 — clam type 4 smoothing 1.0\n"
     ]
    },
    {
     "name": "stdout",
     "output_type": "stream",
     "text": [
      ".Type: EXEC \n",
      "................."
     ]
    },
    {
     "name": "stderr",
     "output_type": "stream",
     "text": [
      "📏 Fit for EN18218 — clam type 5 smoothing 0.2: 130.12\n",
      "✅ Finished core EN18218 — clam type 5 smoothing 0.2\n"
     ]
    },
    {
     "name": "stdout",
     "output_type": "stream",
     "text": [
      "Type: EXEC \n",
      "....."
     ]
    },
    {
     "name": "stderr",
     "output_type": "stream",
     "text": [
      "📏 Fit for EN18218 — clam type 5 smoothing 0.1: 28.02\n",
      "✅ Finished core EN18218 — clam type 5 smoothing 0.1\n"
     ]
    },
    {
     "name": "stdout",
     "output_type": "stream",
     "text": [
      "Type: EXEC \n",
      "...."
     ]
    },
    {
     "name": "stderr",
     "output_type": "stream",
     "text": [
      "📏 Fit for EN18218 — clam type 5 smoothing 0.4: 634.73\n",
      "✅ Finished core EN18218 — clam type 5 smoothing 0.4\n"
     ]
    },
    {
     "name": "stdout",
     "output_type": "stream",
     "text": [
      ".Type: EXEC \n",
      ".."
     ]
    },
    {
     "name": "stderr",
     "output_type": "stream",
     "text": [
      "📏 Fit for EN18218 — clam type 5 smoothing 0.5: 1070.7\n",
      "✅ Finished core EN18218 — clam type 5 smoothing 0.5\n"
     ]
    },
    {
     "name": "stdout",
     "output_type": "stream",
     "text": [
      "Type: EXEC \n"
     ]
    },
    {
     "name": "stderr",
     "output_type": "stream",
     "text": [
      "📏 Fit for EN18218 — clam type 5 smoothing 0.3: 551.88\n",
      "✅ Finished core EN18218 — clam type 5 smoothing 0.3\n",
      "📏 Fit for EN18218 — clam type 5 smoothing 0.6: 1764.4\n",
      "✅ Finished core EN18218 — clam type 5 smoothing 0.6\n"
     ]
    },
    {
     "name": "stdout",
     "output_type": "stream",
     "text": [
      "............"
     ]
    },
    {
     "name": "stderr",
     "output_type": "stream",
     "text": [
      "📏 Fit for EN18218 — clam type 5 smoothing 0.7: 2195.1\n",
      "✅ Finished core EN18218 — clam type 5 smoothing 0.7\n"
     ]
    },
    {
     "name": "stdout",
     "output_type": "stream",
     "text": [
      "..."
     ]
    },
    {
     "name": "stderr",
     "output_type": "stream",
     "text": [
      "📏 Fit for EN18218 — clam type 5 smoothing 0.8: 2396.6\n",
      "✅ Finished core EN18218 — clam type 5 smoothing 0.8\n"
     ]
    },
    {
     "name": "stdout",
     "output_type": "stream",
     "text": [
      ".."
     ]
    },
    {
     "name": "stderr",
     "output_type": "stream",
     "text": [
      "📏 Fit for EN18218 — clam type 5 smoothing 0.9: 2686.8\n",
      "✅ Finished core EN18218 — clam type 5 smoothing 0.9\n",
      "📏 Fit for EN18218 — clam type 5 smoothing 1.0: NA\n",
      "✅ Finished core EN18218 — clam type 5 smoothing 1.0\n"
     ]
    },
    {
     "name": "stdout",
     "output_type": "stream",
     "text": [
      "Type: DONE \n",
      "Type: DONE \n",
      "Type: DONE \n",
      "Type: DONE \n",
      "Type: DONE \n",
      "Type: DONE \n"
     ]
    },
    {
     "name": "stderr",
     "output_type": "stream",
     "text": [
      "\n",
      "\n"
     ]
    }
   ],
   "source": [
    "source('src/Run_clam.R', local = TRUE)"
   ]
  },
  {
   "cell_type": "code",
   "execution_count": 58,
   "metadata": {
    "kernel": "R"
   },
   "outputs": [],
   "source": [
    "%put clam_core_results"
   ]
  },
  {
   "cell_type": "markdown",
   "metadata": {
    "kernel": "R"
   },
   "source": [
    "#### Aggregate"
   ]
  },
  {
   "cell_type": "code",
   "execution_count": 59,
   "metadata": {
    "kernel": "SoS"
   },
   "outputs": [],
   "source": [
    "aggcl = aggregate.AggDataClam(clam_core_results, dttp = aggRC.dttp)\n",
    "aggcl.results_agg()"
   ]
  },
  {
   "cell_type": "markdown",
   "metadata": {
    "kernel": "SoS"
   },
   "source": [
    "#### Calculating sedimentation rate"
   ]
  },
  {
   "cell_type": "code",
   "execution_count": 60,
   "metadata": {
    "kernel": "SoS"
   },
   "outputs": [],
   "source": [
    "SRcl = sedi_rate.CalculateSediRate(aggcl, model = 'clam', coreid = CoreIDs, mode = SR_mode)\n",
    "SRcl.calculating_SR()"
   ]
  },
  {
   "cell_type": "markdown",
   "metadata": {
    "kernel": "SoS"
   },
   "source": [
    "#### Push results to database"
   ]
  },
  {
   "cell_type": "code",
   "execution_count": 61,
   "metadata": {
    "kernel": "SoS"
   },
   "outputs": [
    {
     "name": "stdout",
     "output_type": "stream",
     "text": [
      "Information: LANDO is not connected to a database, so nothing was uploaded.\n"
     ]
    }
   ],
   "source": [
    "push = push_data.PushIt(agg = aggcl,\n",
    "                        engine = dates.engine,\n",
    "                        model = 'clam')\n",
    "push.push_to_db()"
   ]
  },
  {
   "cell_type": "markdown",
   "metadata": {
    "kernel": "SoS"
   },
   "source": [
    "# Plotting"
   ]
  },
  {
   "cell_type": "code",
   "execution_count": 83,
   "metadata": {
    "kernel": "SoS"
   },
   "outputs": [],
   "source": [
    "plot_data = {#'Undatable' : [aggU.age_model_result_Undatable, SRUn.SR_model_result_Undatable],\n",
    "             #'Bchron': [aggBc.age_model_result_Bchron, SRBc.SR_model_result_Bchron],\n",
    "             #'hamstr': [aggh.age_model_result_hamstr, SRh.SR_model_result_hamstr],\n",
    "             'Bacon': [aggBa.age_model_result_Bacon, SRBa.SR_model_result_Bacon],\n",
    "             #'clam': [aggcl.age_model_result_clam, SRcl.SR_model_result_clam],\n",
    "             'calib_dates': calib_dates}"
   ]
  },
  {
   "cell_type": "code",
   "execution_count": 84,
   "metadata": {
    "kernel": "SoS"
   },
   "outputs": [],
   "source": [
    "ASRplot = age_sr_plot.PlotAgeSR(plot_data, coreid = CoreIDs, dttp = aggRC.dttp)"
   ]
  },
  {
   "cell_type": "code",
   "execution_count": 85,
   "metadata": {
    "kernel": "SoS"
   },
   "outputs": [
    {
     "data": {
      "image/png": "[encoded data removed]",
      "text/plain": [
       "<Figure size 1200x700 with 2 Axes>"
      ]
     },
     "metadata": {},
     "output_type": "display_data"
    }
   ],
   "source": [
    "ASRplot.plot_graph(orig_dir = orig_dir, sigma_range = 'both',\n",
    "                   bin_size = 1000, xlim_max = 21000, number_col = 8, reduce_plot_axis = True,\n",
    "                   only_combined = False, save = False, for_color_blind = False, as_jpg = False)"
   ]
  },
  {
   "cell_type": "markdown",
   "metadata": {
    "kernel": "SoS"
   },
   "source": [
    "# Optimization"
   ]
  },
  {
   "cell_type": "code",
   "execution_count": null,
   "metadata": {
    "kernel": "SoS"
   },
   "outputs": [],
   "source": [
    "proxy = gd.ProxyFromFile()"
   ]
  },
  {
   "cell_type": "code",
   "execution_count": null,
   "metadata": {
    "kernel": "SoS",
    "scrolled": true
   },
   "outputs": [],
   "source": [
    "proxy_ts = proxy.get_proxy()\n",
    "###\n",
    "dict_model_name = ASRplot.dict_model_name\n",
    "dict_SR_median_age = ASRplot.dict_SR_median_age"
   ]
  },
  {
   "cell_type": "code",
   "execution_count": null,
   "metadata": {
    "kernel": "R"
   },
   "outputs": [],
   "source": [
    "%get dict_SR_median_age --from SoS\n",
    "%get dict_model_name --from SoS\n",
    "%get proxy_ts --from SoS"
   ]
  },
  {
   "cell_type": "code",
   "execution_count": null,
   "metadata": {
    "kernel": "R"
   },
   "outputs": [],
   "source": [
    "curr_nreps     <- 1000\n",
    "curr_minseg    <- 50\n",
    "curr_cptmethod <- \"mean+variance\""
   ]
  },
  {
   "cell_type": "code",
   "execution_count": null,
   "metadata": {
    "kernel": "R",
    "scrolled": true
   },
   "outputs": [],
   "source": [
    "source('src/Run_Optimization.R', local = TRUE)"
   ]
  },
  {
   "cell_type": "code",
   "execution_count": null,
   "metadata": {
    "kernel": "R"
   },
   "outputs": [],
   "source": [
    "%put result_list \n",
    "%put fitting_values"
   ]
  },
  {
   "cell_type": "code",
   "execution_count": null,
   "metadata": {
    "kernel": "SoS"
   },
   "outputs": [],
   "source": [
    "optimizedASRplot = age_sr_plot.PlotAgeSR(plot_data, coreid = CoreIDs, dttp = aggRC.dttp)"
   ]
  },
  {
   "cell_type": "code",
   "execution_count": null,
   "metadata": {
    "kernel": "SoS"
   },
   "outputs": [],
   "source": [
    "optimizedASRplot.plot_optimized_graph(optimization_values = result_list, fitting_values = fitting_values, \n",
    "                                      proxy = proxy.name, proxy_data = proxy_ts, orig_dir = orig_dir, \n",
    "                                      sigma_range = 'both', inclusion_threshold = 0.03, show_fitting_models = True,\n",
    "                                      bin_size = 1000, xlim_max = 21000, number_col = 8, reduce_plot_axis = True,\n",
    "                                      only_combined = True, save = True, for_color_blind = False, as_jpg = False)"
   ]
  },
  {
   "cell_type": "code",
   "execution_count": null,
   "metadata": {
    "kernel": "SoS"
   },
   "outputs": [],
   "source": []
  }
 ],
 "metadata": {
  "kernelspec": {
   "display_name": "SoS",
   "language": "sos",
   "name": "sos"
  },
  "language_info": {
   "codemirror_mode": "sos",
   "file_extension": ".sos",
   "mimetype": "text/x-sos",
   "name": "sos",
   "nbconvert_exporter": "sos_notebook.converter.SoS_Exporter",
   "pygments_lexer": "sos"
  },
  "sos": {
   "kernels": [
    [
     "Octave",
     "octave",
     "Octave",
     "#dff8fb",
     ""
    ],
    [
     "R",
     "ir",
     "R",
     "lightgrey",
     "r"
    ],
    [
     "SoS",
     "sos",
     "",
     "",
     "sos"
    ]
   ],
   "panel": {
    "displayed": false,
    "height": 0
   },
   "version": "0.24.4"
  }
 },
 "nbformat": 4,
 "nbformat_minor": 4
}

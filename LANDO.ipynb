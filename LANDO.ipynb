{
 "cells": [
  {
   "cell_type": "markdown",
   "metadata": {
    "kernel": "SoS"
   },
   "source": [
    "# Setup"
   ]
  },
  {
   "cell_type": "markdown",
   "metadata": {
    "kernel": "SoS"
   },
   "source": [
    "### Import libraries"
   ]
  },
  {
   "cell_type": "code",
   "execution_count": 1,
   "metadata": {
    "kernel": "SoS",
    "tags": []
   },
   "outputs": [],
   "source": [
    "import numpy as np\n",
    "import pandas as pd\n",
    "import matplotlib.pyplot as plt\n",
    "import seaborn as sns\n",
    "import os\n",
    "import sys\n",
    "import datetime\n",
    "from src import (get_data as gd, \n",
    "                 prepare as prep, \n",
    "                 aggregate_data as aggregate,\n",
    "                 push_data,\n",
    "                 sedi_rate,\n",
    "                 age_sr_plot)\n",
    "###\n",
    "orig_dir = os.getcwd()"
   ]
  },
  {
   "cell_type": "markdown",
   "metadata": {
    "kernel": "SoS"
   },
   "source": [
    "# Main Data"
   ]
  },
  {
   "cell_type": "markdown",
   "metadata": {
    "kernel": "SoS"
   },
   "source": [
    "### Retrieve data "
   ]
  },
  {
   "cell_type": "code",
   "execution_count": 2,
   "metadata": {
    "kernel": "SoS",
    "tags": []
   },
   "outputs": [
    {
     "data": {
      "application/vnd.jupyter.widget-view+json": {
       "model_id": "3b14fa9c26be4d9a9b7145e5f5bc5bc9",
       "version_major": 2,
       "version_minor": 0
      },
      "text/plain": [
       "FileChooser(path='/home/jovyan/work/input_files', filename='', title='', show_hidden=False, select_desc='Selec…"
      ]
     },
     "metadata": {},
     "output_type": "display_data"
    }
   ],
   "source": [
    "dates = gd.AgeFromFileOneCore()"
   ]
  },
  {
   "cell_type": "code",
   "execution_count": 3,
   "metadata": {
    "kernel": "SoS",
    "tags": []
   },
   "outputs": [],
   "source": [
    "dates.get_dates()"
   ]
  },
  {
   "cell_type": "markdown",
   "metadata": {
    "kernel": "SoS"
   },
   "source": [
    "### Add calibration curve to data"
   ]
  },
  {
   "cell_type": "code",
   "execution_count": 4,
   "metadata": {
    "kernel": "SoS",
    "tags": []
   },
   "outputs": [],
   "source": [
    "dates.select_calibration_curve(default_curve = 'IntCal20', user_selection = False)"
   ]
  },
  {
   "cell_type": "code",
   "execution_count": 5,
   "metadata": {
    "kernel": "SoS",
    "tags": []
   },
   "outputs": [],
   "source": [
    "dates.add_calibration_curve()"
   ]
  },
  {
   "cell_type": "markdown",
   "metadata": {
    "kernel": "SoS"
   },
   "source": [
    "### Put data in variables"
   ]
  },
  {
   "cell_type": "code",
   "execution_count": 6,
   "metadata": {
    "kernel": "SoS",
    "tags": []
   },
   "outputs": [],
   "source": [
    "AllAges = dates.all_ages\n",
    "CoreIDs = dates.all_coreid_list\n",
    "CoreLengths = dates.all_core_lengths\n",
    "SR_mode = 'naive'"
   ]
  },
  {
   "cell_type": "code",
   "execution_count": 7,
   "metadata": {
    "kernel": "SoS",
    "tags": []
   },
   "outputs": [],
   "source": [
    "aggRC = lambda: None\n",
    "aggRC.dttp = \"No\""
   ]
  },
  {
   "cell_type": "markdown",
   "metadata": {
    "kernel": "SoS"
   },
   "source": [
    "# Reservoir correction"
   ]
  },
  {
   "cell_type": "markdown",
   "metadata": {
    "kernel": "SoS"
   },
   "source": [
    "#### Prep"
   ]
  },
  {
   "cell_type": "code",
   "execution_count": 8,
   "metadata": {
    "kernel": "SoS",
    "tags": []
   },
   "outputs": [],
   "source": [
    "os.chdir(orig_dir)\n",
    "RC = prep.PrepForReservoirCorrection(all_ages = AllAges)\n",
    "RC.prep_it()\n",
    "RC_Frame = RC.RC_Frame\n",
    "RC_CoreIDs = RC.RC_CoreIDs\n",
    "RC_CoreLengths = CoreLengths[CoreLengths.coreid.isin(RC_CoreIDs)]"
   ]
  },
  {
   "cell_type": "markdown",
   "metadata": {
    "kernel": "SoS"
   },
   "source": [
    "#### R run"
   ]
  },
  {
   "cell_type": "code",
   "execution_count": 9,
   "metadata": {
    "kernel": "R",
    "tags": []
   },
   "outputs": [],
   "source": [
    "%get RC_Frame\n",
    "%get RC_CoreIDs \n",
    "%get RC_CoreLengths"
   ]
  },
  {
   "cell_type": "code",
   "execution_count": 10,
   "metadata": {
    "kernel": "R",
    "tags": []
   },
   "outputs": [],
   "source": [
    "K_fine <- 100\n",
    "source('src/Run_DefineReservoir.R', local = TRUE)"
   ]
  },
  {
   "cell_type": "code",
   "execution_count": 11,
   "metadata": {
    "kernel": "R",
    "tags": []
   },
   "outputs": [],
   "source": [
    "%put reservoir_core_results"
   ]
  },
  {
   "cell_type": "markdown",
   "metadata": {
    "kernel": "R"
   },
   "source": [
    "#### Aggregate results"
   ]
  },
  {
   "cell_type": "code",
   "execution_count": 12,
   "metadata": {
    "kernel": "SoS",
    "tags": []
   },
   "outputs": [],
   "source": [
    "aggRC = aggregate.AggDataReservoir(results = reservoir_core_results,\n",
    "                                   surface_dates = RC.desired_surface_dates,\n",
    "                                   verbose = 0)\n",
    "aggRC.results_agg()"
   ]
  },
  {
   "cell_type": "code",
   "execution_count": 13,
   "metadata": {
    "kernel": "SoS",
    "tags": []
   },
   "outputs": [],
   "source": [
    "AllAges = aggRC.add_reservoir(all_ages = AllAges)"
   ]
  },
  {
   "cell_type": "markdown",
   "metadata": {
    "kernel": "SoS"
   },
   "source": [
    "# Calibration\n",
    "#### Prep"
   ]
  },
  {
   "cell_type": "code",
   "execution_count": 8,
   "metadata": {
    "kernel": "SoS"
   },
   "outputs": [],
   "source": [
    "calib = prep.PrepForCalibration(all_ages = AllAges)\n",
    "calib.prep_it()\n",
    "calib_Frame = calib.calib_Frame"
   ]
  },
  {
   "cell_type": "markdown",
   "metadata": {
    "kernel": "SoS"
   },
   "source": [
    "#### R run"
   ]
  },
  {
   "cell_type": "code",
   "execution_count": 9,
   "metadata": {
    "kernel": "R"
   },
   "outputs": [],
   "source": [
    "%get calib_Frame --from SoS"
   ]
  },
  {
   "cell_type": "code",
   "execution_count": 10,
   "metadata": {
    "kernel": "R"
   },
   "outputs": [],
   "source": [
    "source('src/Run_calibration.R', local = TRUE)"
   ]
  },
  {
   "cell_type": "code",
   "execution_count": 11,
   "metadata": {
    "kernel": "R"
   },
   "outputs": [],
   "source": [
    "%put calib_dates"
   ]
  },
  {
   "cell_type": "markdown",
   "metadata": {
    "kernel": "SoS"
   },
   "source": [
    "# Age Modeling\n",
    "### UNDATABLE\n",
    "#### Prep"
   ]
  },
  {
   "cell_type": "code",
   "execution_count": 18,
   "metadata": {
    "kernel": "SoS",
    "scrolled": true
   },
   "outputs": [
    {
     "name": "stdout",
     "output_type": "stream",
     "text": [
      "Information: New files for Undatable created!\n"
     ]
    }
   ],
   "source": [
    "Undatable = prep.PrepForUndatable(all_ages = AllAges, \n",
    "                                  all_coreid_list = CoreIDs)\n",
    "Undatable.prep_it()\n",
    "CoreID_array = Undatable.CoreID_array"
   ]
  },
  {
   "cell_type": "markdown",
   "metadata": {
    "kernel": "SoS"
   },
   "source": [
    "#### Octave run"
   ]
  },
  {
   "cell_type": "code",
   "execution_count": 19,
   "metadata": {
    "kernel": "Octave"
   },
   "outputs": [
    {
     "name": "stdout",
     "output_type": "stream",
     "text": [
      "\u001b[?2004l\n",
      "a =\n",
      "\n",
      "  scalar structure containing the fields:\n",
      "\n",
      "    obj =\n",
      "    {\n",
      "      [1,1] = EN18218\n",
      "    }\n",
      "\n",
      "\n",
      "repr =\n",
      "{\n",
      "  [1,1] = EN18218\n",
      "}\n",
      "\n",
      "CoreID_array =\n",
      "{\n",
      "  [1,1] = EN18218\n",
      "}\n",
      "\n",
      "\u001b[?2004h"
     ]
    }
   ],
   "source": [
    "%get CoreID_array"
   ]
  },
  {
   "cell_type": "code",
   "execution_count": 20,
   "metadata": {
    "kernel": "Octave"
   },
   "outputs": [
    {
     "name": "stdout",
     "output_type": "stream",
     "text": [
      "\u001b[?2004l\n",
      "\u001b[?2004h\u001b[?2004l\n",
      "\u001b[?2004h\u001b[?2004l\n",
      "\u001b[?2004h"
     ]
    }
   ],
   "source": [
    "xfactor = 0.1;\n",
    "bootpc = 30;\n",
    "run_Undatable(CoreID_array, xfactor, bootpc);"
   ]
  },
  {
   "cell_type": "markdown",
   "metadata": {
    "kernel": "MATLAB"
   },
   "source": [
    "#### Aggregate results"
   ]
  },
  {
   "cell_type": "code",
   "execution_count": 21,
   "metadata": {
    "kernel": "SoS"
   },
   "outputs": [],
   "source": [
    "aggU = aggregate.AggDataUndatable(Undatable, orig_dir, dttp = aggRC.dttp)\n",
    "aggU.results_agg()"
   ]
  },
  {
   "cell_type": "markdown",
   "metadata": {
    "kernel": "SoS"
   },
   "source": [
    "#### Calculate sedimentation rate"
   ]
  },
  {
   "cell_type": "code",
   "execution_count": 22,
   "metadata": {
    "kernel": "SoS"
   },
   "outputs": [],
   "source": [
    "SRUn = sedi_rate.CalculateSediRate(aggU, model = 'Undatable', coreid = CoreIDs, mode = SR_mode)\n",
    "SRUn.calculating_SR()"
   ]
  },
  {
   "cell_type": "markdown",
   "metadata": {
    "kernel": "SoS"
   },
   "source": [
    "#### Push results to database"
   ]
  },
  {
   "cell_type": "code",
   "execution_count": 23,
   "metadata": {
    "kernel": "SoS"
   },
   "outputs": [
    {
     "name": "stdout",
     "output_type": "stream",
     "text": [
      "Information: LANDO is not connected to a database, so nothing was uploaded.\n"
     ]
    }
   ],
   "source": [
    "push = push_data.PushIt(agg = aggU,\n",
    "                        engine = dates.engine,\n",
    "                        model = 'Undatable')\n",
    "push.push_to_db()"
   ]
  },
  {
   "cell_type": "code",
   "execution_count": 24,
   "metadata": {
    "kernel": "SoS"
   },
   "outputs": [
    {
     "name": "stdout",
     "output_type": "stream",
     "text": [
      "Information: All unwanted Undatable files have been deleted\n"
     ]
    }
   ],
   "source": [
    "os.chdir(orig_dir)\n",
    "push.delete_files(location_UndatableFolder = Undatable.location_UndatableFolder,\n",
    "                  coreids = Undatable.coreid_df)"
   ]
  },
  {
   "cell_type": "markdown",
   "metadata": {
    "kernel": "SoS"
   },
   "source": [
    "### Bchron"
   ]
  },
  {
   "cell_type": "markdown",
   "metadata": {
    "kernel": "SoS"
   },
   "source": [
    "#### Prep"
   ]
  },
  {
   "cell_type": "code",
   "execution_count": 25,
   "metadata": {
    "kernel": "SoS"
   },
   "outputs": [],
   "source": [
    "os.chdir(orig_dir)\n",
    "Bchron = prep.PrepForBchron(all_ages = AllAges)\n",
    "Bchron.prep_it()\n",
    "Bchron_Frame = Bchron.Bchron_Frame"
   ]
  },
  {
   "cell_type": "markdown",
   "metadata": {
    "kernel": "SoS"
   },
   "source": [
    "#### R run"
   ]
  },
  {
   "cell_type": "code",
   "execution_count": 26,
   "metadata": {
    "kernel": "R"
   },
   "outputs": [],
   "source": [
    "%get Bchron_Frame --from SoS \n",
    "%get CoreIDs --from SoS\n",
    "%get CoreLengths --from SoS"
   ]
  },
  {
   "cell_type": "code",
   "execution_count": 27,
   "metadata": {
    "kernel": "R"
   },
   "outputs": [
    {
     "name": "stdout",
     "output_type": "stream",
     "text": [
      "Running Bchronology...\n",
      "  |============================================================| 100%\n",
      "Run completed!\n"
     ]
    },
    {
     "name": "stderr",
     "output_type": "stream",
     "text": [
      " Done with core EN18218 - Number 1 out of 1\n",
      "\n"
     ]
    }
   ],
   "source": [
    "source('src/Run_Bchron.R')"
   ]
  },
  {
   "cell_type": "code",
   "execution_count": 28,
   "metadata": {
    "kernel": "R"
   },
   "outputs": [],
   "source": [
    "%put Bchron_core_results"
   ]
  },
  {
   "cell_type": "markdown",
   "metadata": {
    "kernel": "R"
   },
   "source": [
    "#### Aggregate results"
   ]
  },
  {
   "cell_type": "code",
   "execution_count": 29,
   "metadata": {
    "kernel": "SoS"
   },
   "outputs": [],
   "source": [
    "aggBc = aggregate.AggDataBchron(Bchron_core_results, dttp = aggRC.dttp)\n",
    "aggBc.results_agg()"
   ]
  },
  {
   "cell_type": "markdown",
   "metadata": {
    "kernel": "SoS"
   },
   "source": [
    "#### Calculating sedimentation rate"
   ]
  },
  {
   "cell_type": "code",
   "execution_count": 30,
   "metadata": {
    "kernel": "SoS"
   },
   "outputs": [],
   "source": [
    "SRBc = sedi_rate.CalculateSediRate(aggBc, model = 'Bchron', coreid = CoreIDs, mode = SR_mode)\n",
    "SRBc.calculating_SR()"
   ]
  },
  {
   "cell_type": "markdown",
   "metadata": {
    "kernel": "SoS"
   },
   "source": [
    "#### Push results to database"
   ]
  },
  {
   "cell_type": "code",
   "execution_count": 31,
   "metadata": {
    "kernel": "SoS"
   },
   "outputs": [
    {
     "name": "stdout",
     "output_type": "stream",
     "text": [
      "Information: LANDO is not connected to a database, so nothing was uploaded.\n"
     ]
    }
   ],
   "source": [
    "push = push_data.PushIt(agg = aggBc,\n",
    "                        engine = dates.engine,\n",
    "                        model = 'Bchron')\n",
    "push.push_to_db()"
   ]
  },
  {
   "cell_type": "markdown",
   "metadata": {
    "kernel": "SoS"
   },
   "source": [
    "### hamstr"
   ]
  },
  {
   "cell_type": "markdown",
   "metadata": {
    "kernel": "SoS"
   },
   "source": [
    "#### Prep"
   ]
  },
  {
   "cell_type": "code",
   "execution_count": 32,
   "metadata": {
    "kernel": "SoS"
   },
   "outputs": [],
   "source": [
    "hamstr = prep.PrepForHamstr(all_ages = AllAges)\n",
    "hamstr.prep_it()\n",
    "hamstr_Frame = hamstr.hamstr_Frame"
   ]
  },
  {
   "cell_type": "markdown",
   "metadata": {
    "kernel": "SoS"
   },
   "source": [
    "#### R Run"
   ]
  },
  {
   "cell_type": "code",
   "execution_count": 33,
   "metadata": {
    "kernel": "R"
   },
   "outputs": [],
   "source": [
    "%get hamstr_Frame --from SoS \n",
    "%get CoreIDs --from SoS\n",
    "%get CoreLengths --from SoS"
   ]
  },
  {
   "cell_type": "code",
   "execution_count": 34,
   "metadata": {
    "kernel": "R",
    "scrolled": true
   },
   "outputs": [
    {
     "name": "stderr",
     "output_type": "stream",
     "text": [
      "Done with core: EN18218\n",
      "\n"
     ]
    }
   ],
   "source": [
    "K_fine <- 100\n",
    "source('src/Run_hamstr.R', local = TRUE)"
   ]
  },
  {
   "cell_type": "code",
   "execution_count": 35,
   "metadata": {
    "kernel": "R"
   },
   "outputs": [],
   "source": [
    "%put hamstr_core_results"
   ]
  },
  {
   "cell_type": "markdown",
   "metadata": {
    "kernel": "R"
   },
   "source": [
    "#### Aggregate"
   ]
  },
  {
   "cell_type": "code",
   "execution_count": 36,
   "metadata": {
    "kernel": "SoS"
   },
   "outputs": [],
   "source": [
    "aggh = aggregate.AggDataHamstr(hamstr_core_results, dttp = aggRC.dttp)\n",
    "aggh.results_agg()"
   ]
  },
  {
   "cell_type": "markdown",
   "metadata": {
    "kernel": "SoS"
   },
   "source": [
    "#### Calculating sedimentation rate"
   ]
  },
  {
   "cell_type": "code",
   "execution_count": 37,
   "metadata": {
    "kernel": "SoS"
   },
   "outputs": [],
   "source": [
    "SRh = sedi_rate.CalculateSediRate(aggh, model = 'hamstr', coreid = CoreIDs, mode = SR_mode)\n",
    "SRh.calculating_SR()"
   ]
  },
  {
   "cell_type": "markdown",
   "metadata": {
    "kernel": "SoS"
   },
   "source": [
    "#### Push results to database"
   ]
  },
  {
   "cell_type": "code",
   "execution_count": 38,
   "metadata": {
    "kernel": "SoS"
   },
   "outputs": [
    {
     "name": "stdout",
     "output_type": "stream",
     "text": [
      "Information: LANDO is not connected to a database, so nothing was uploaded.\n"
     ]
    }
   ],
   "source": [
    "push = push_data.PushIt(agg = aggh,\n",
    "                        engine = dates.engine,\n",
    "                        model = 'hamstr')\n",
    "push.push_to_db()"
   ]
  },
  {
   "cell_type": "markdown",
   "metadata": {
    "kernel": "SoS"
   },
   "source": [
    "### Bacon"
   ]
  },
  {
   "cell_type": "markdown",
   "metadata": {
    "kernel": "SoS"
   },
   "source": [
    "#### Prep"
   ]
  },
  {
   "cell_type": "code",
   "execution_count": 12,
   "metadata": {
    "kernel": "SoS"
   },
   "outputs": [],
   "source": [
    "Bacon = prep.PrepForBacon(all_ages = AllAges)\n",
    "Bacon.prep_it()\n",
    "Bacon_Frame = Bacon.Bacon_Frame"
   ]
  },
  {
   "cell_type": "markdown",
   "metadata": {
    "kernel": "SoS"
   },
   "source": [
    "#### R Run"
   ]
  },
  {
   "cell_type": "code",
   "execution_count": 13,
   "metadata": {
    "kernel": "R"
   },
   "outputs": [],
   "source": [
    "%get Bacon_Frame --from SoS \n",
    "%get CoreIDs --from SoS\n",
    "%get CoreLengths --from SoS\n",
    "%get calib_dates --from SoS"
   ]
  },
  {
   "cell_type": "code",
   "execution_count": 29,
   "metadata": {
    "kernel": "R"
   },
   "outputs": [
    {
     "name": "stdout",
     "output_type": "stream",
     "text": [
      "starting worker for localhost:11273 \n",
      "Type: EXEC \n",
      "Type: EXEC \n"
     ]
    },
    {
     "name": "stderr",
     "output_type": "stream",
     "text": [
      "Loading required package: foreach\n",
      "Loading required package: rngtools\n",
      "Running Bacon for core EN18218 (attempt 1)\n",
      " Using calibration curve specified within the .csv file,0\n",
      "\n",
      "Adapting acc.mean to 50 yr/cm\n"
     ]
    },
    {
     "name": "stdout",
     "output_type": "stream",
     "text": [
      "The run's files will be put in this folder: /tmp/RtmpdmT4zR/EN18218\n",
      "Reading /tmp/RtmpdmT4zR/EN18218/EN18218_132.bacon\n",
      "Constant calibration curve.\n",
      "IntCal20: Reading from file: /opt/conda/lib/R/library/rintcal/extdata/3Col_intcal20.14C\n",
      "Marine20: Reading from file: /opt/conda/lib/R/library/rintcal/extdata/3Col_marine20.14C\n",
      "SHCal20: Reading from file: /opt/conda/lib/R/library/rintcal/extdata/3Col_shcal20.14C\n",
      "Added det: EN18218:  -38.2+-43.2   d=0.25 ResCorr=   0.0+-0.0    a=3 b=4 cc=Constant c. curve\n",
      "Added det: EN18218: 1855.1+-82.6   d=18.75 ResCorr=   0.0+-0.0    a=3 b=4 cc=Constant c. curve\n",
      "Added det: EN18218: 2885.0+-76.5   d=35.25 ResCorr=   0.0+-0.0    a=3 b=4 cc=Constant c. curve\n",
      "Added det: EN18218: 3150.8+-99.5   d=59.75 ResCorr=   0.0+-0.0    a=3 b=4 cc=Constant c. curve\n",
      "Added det: EN18218: 4663.9+-101.3  d=81.25 ResCorr=   0.0+-0.0    a=3 b=4 cc=Constant c. curve\n",
      "Added det: EN18218: 5216.7+-126.1  d=114.75 ResCorr=   0.0+-0.0    a=3 b=4 cc=Constant c. curve\n",
      "Added det: EN18218: 4735.1+-95.6   d=138.75 ResCorr=   0.0+-0.0    a=3 b=4 cc=Constant c. curve\n",
      "Added det: EN18218: 5169.6+-112.8  d=162.75 ResCorr=   0.0+-0.0    a=3 b=4 cc=Constant c. curve\n",
      "Added det: EN18218: 5745.7+-87.6   d=187.75 ResCorr=   0.0+-0.0    a=3 b=4 cc=Constant c. curve\n",
      "Added det: EN18218: 6403.9+-70.6   d=221.75 ResCorr=   0.0+-0.0    a=3 b=4 cc=Constant c. curve\n",
      "Added det: EN18218: 8864.8+-115.8  d=248.75 ResCorr=   0.0+-0.0    a=3 b=4 cc=Constant c. curve\n",
      "Added det: EN18218: 9207.0+-108.7  d=270.75 ResCorr=   0.0+-0.0    a=3 b=4 cc=Constant c. curve\n",
      "Added det: EN18218: 9660.0+-101.7  d=293.25 ResCorr=   0.0+-0.0    a=3 b=4 cc=Constant c. curve\n",
      "Added det: EN18218: 10191.0+-110.7  d=316.75 ResCorr=   0.0+-0.0    a=3 b=4 cc=Constant c. curve\n",
      "Added det: EN18218: 10544.9+-114.8  d=338.75 ResCorr=   0.0+-0.0    a=3 b=4 cc=Constant c. curve\n",
      "Added det: EN18218: 12783.0+-45.9   d=362.75 ResCorr=   0.0+-0.0    a=3 b=4 cc=Constant c. curve\n",
      "Added det: EN18218: 13239.5+-70.3   d=383.75 ResCorr=   0.0+-0.0    a=3 b=4 cc=Constant c. curve\n",
      "Added det: EN18218: 14080.2+-170.4  d=404.75 ResCorr=   0.0+-0.0    a=3 b=4 cc=Constant c. curve\n",
      "Added det: EN18218: 16239.9+-133.4  d=443.75 ResCorr=   0.0+-0.0    a=3 b=4 cc=Constant c. curve\n",
      "Added det: EN18218: 18134.5+-101.3  d=474.75 ResCorr=   0.0+-0.0    a=3 b=4 cc=Constant c. curve\n",
      "Added det: EN18218: 20365.6+-109.6  d=503.75 ResCorr=   0.0+-0.0    a=3 b=4 cc=Constant c. curve\n",
      "Added det: EN18218: 20698.1+-106.4  d=536.25 ResCorr=   0.0+-0.0    a=3 b=4 cc=Constant c. curve\n",
      "Added det: EN18218: 26060.4+-127.5  d=565.75 ResCorr=   0.0+-0.0    a=3 b=4 cc=Constant c. curve\n",
      "Added det: EN18218: 25223.1+-308.1  d=596.25 ResCorr=   0.0+-0.0    a=3 b=4 cc=Constant c. curve\n",
      "Added det: EN18218: 29098.1+-425.1  d=624.25 ResCorr=   0.0+-0.0    a=3 b=4 cc=Constant c. curve\n",
      "Added det: EN18218: 28399.4+-351.1  d=646.25 ResCorr=   0.0+-0.0    a=3 b=4 cc=Constant c. curve\n",
      "Added det: NA: 28399.4+-29098101.0 d=653 ResCorr=   0.0+-0.0    a=3 b=4 cc=Constant c. curve\n",
      "Since no file /tmp/RtmpdmT4zR/EN18218/EN18218_132.bacon.init was provided with initial values for the twalk, I will start from simulated values.\n",
      "BaconFixed: Bacon jumps model with fixed c's.\n",
      "            K=132, H=0, dim=134, Seed=464453, Dc=5.000000, c(0)=0.250000, c(K)=660.250000\n",
      "\n",
      "twalk:     46900000 iterations to run, Wed May 14 15:43:26 2025\n",
      "       \n",
      "BUFSIZ is 8192, optimal block size changed to 4096\n",
      "twalk: All stored iterations to be saved in file /tmp/RtmpdmT4zR/EN18218/EN18218_132.out\n"
     ]
    },
    {
     "name": "stderr",
     "output_type": "stream",
     "text": [
      " Will run 46,900,000 iterations and store 10,000\n"
     ]
    },
    {
     "name": "stdout",
     "output_type": "stream",
     "text": [
      "twalk: 7204864 iterations so far\n",
      "Will finish in approx. 2 minutes and 50 seconds.\n",
      "twalk: 21894144 iterations so far\n",
      "Will finish in approx. 1 minutes and 45 seconds.\n",
      "twalk: Finished,  0.2% of moved pars per iteration (ratio 114467.126874/46900000). Output in file /tmp/RtmpdmT4zR/EN18218/EN18218_132.out,\n",
      "      Wed May 14 15:46:42 2025\n",
      "\n",
      "Writing two last points of the twalk in /tmp/RtmpdmT4zR/EN18218/EN18218_132.bacon.last.\n",
      "bacon: 273662 WarnBeyondLimits warnings:\n",
      "bacon: WARNING: calibration attempted beyond MinYr= -75.000000 or MaxYr= 10000000.000000\n",
      "bacon: burn in (initial iterations which will be removed): 10050000\n",
      "Ats us nai!\n"
     ]
    },
    {
     "name": "stderr",
     "output_type": "stream",
     "text": [
      "Warning, this will take quite some time to calculate. I suggest increasing d.by to, e.g., 10\n",
      "\n",
      "Calculating age ranges...\n"
     ]
    },
    {
     "name": "stdout",
     "output_type": "stream",
     "text": [
      "  |======================================================================| 100%"
     ]
    },
    {
     "name": "stderr",
     "output_type": "stream",
     "text": [
      "\n",
      "Preparing ghost graph... \n"
     ]
    },
    {
     "name": "stdout",
     "output_type": "stream",
     "text": [
      "  |======================================================================| 100%"
     ]
    },
    {
     "name": "stderr",
     "output_type": "stream",
     "text": [
      "\n",
      "Mean 95% confidence ranges 1064 yr, min. 199 yr at 0.25 cm, max. 3384 yr at 560.25 cm\n",
      "100% of the dates overlap with the age-depth model (95% ranges)\n",
      "Posteriors: accrate mean 44.43, shape 0.85, memory mean 0.46, strength 13.75\n",
      "⏳ Extracting ages at 654 depths × 10000 iterations\n",
      "🔎 Interpolation check:\n",
      "Depth range: 0.00–653.00 cm\n",
      "Deepest modeled age: min=27132.7, mean=29031.9, max=31290.2\n",
      "✅ 10000 iterations achieved\n",
      "✅ Done with core EN18218\n"
     ]
    },
    {
     "name": "stdout",
     "output_type": "stream",
     "text": [
      "Type: DONE \n"
     ]
    }
   ],
   "source": [
    "acc.shape <- 1.5\n",
    "acc.mean <- 20\n",
    "mem.strength <- 10\n",
    "mem.mean <- 0.5\n",
    "ssize <- 10000\n",
    "rbacon.change.acc.mean <- TRUE\n",
    "rbacon.change.thick <- TRUE\n",
    "source('src/Run_Bacon.R', local = TRUE)"
   ]
  },
  {
   "cell_type": "code",
   "execution_count": 30,
   "metadata": {
    "kernel": "R"
   },
   "outputs": [
    {
     "data": {
      "text/html": [
       "<table class=\"dataframe\">\n",
       "<caption>A data.frame: 654 × 10001</caption>\n",
       "<thead>\n",
       "\t<tr><th></th><th scope=col>depth</th><th scope=col>iter_1</th><th scope=col>iter_2</th><th scope=col>iter_3</th><th scope=col>iter_4</th><th scope=col>iter_5</th><th scope=col>iter_6</th><th scope=col>iter_7</th><th scope=col>iter_8</th><th scope=col>iter_9</th><th scope=col>⋯</th><th scope=col>iter_9991</th><th scope=col>iter_9992</th><th scope=col>iter_9993</th><th scope=col>iter_9994</th><th scope=col>iter_9995</th><th scope=col>iter_9996</th><th scope=col>iter_9997</th><th scope=col>iter_9998</th><th scope=col>iter_9999</th><th scope=col>iter_10000</th></tr>\n",
       "\t<tr><th></th><th scope=col>&lt;fct&gt;</th><th scope=col>&lt;dbl&gt;</th><th scope=col>&lt;dbl&gt;</th><th scope=col>&lt;dbl&gt;</th><th scope=col>&lt;dbl&gt;</th><th scope=col>&lt;dbl&gt;</th><th scope=col>&lt;dbl&gt;</th><th scope=col>&lt;dbl&gt;</th><th scope=col>&lt;dbl&gt;</th><th scope=col>&lt;dbl&gt;</th><th scope=col>⋯</th><th scope=col>&lt;dbl&gt;</th><th scope=col>&lt;dbl&gt;</th><th scope=col>&lt;dbl&gt;</th><th scope=col>&lt;dbl&gt;</th><th scope=col>&lt;dbl&gt;</th><th scope=col>&lt;dbl&gt;</th><th scope=col>&lt;dbl&gt;</th><th scope=col>&lt;dbl&gt;</th><th scope=col>&lt;dbl&gt;</th><th scope=col>&lt;dbl&gt;</th></tr>\n",
       "</thead>\n",
       "<tbody>\n",
       "\t<tr><th scope=row>1</th><td>EN18218 0 </td><td> -25.76630</td><td>  38.45100</td><td>  37.8688</td><td>  39.8496</td><td>  48.363</td><td>  50.66490</td><td>  84.00070</td><td>  61.0202</td><td> -25.7697</td><td>⋯</td><td> -49.7640</td><td> -37.3894</td><td> -36.1431</td><td>   2.48569</td><td>  -9.51557</td><td> -30.9571</td><td> -33.9159</td><td>  -8.96888</td><td>  -9.69909</td><td> -24.5388</td></tr>\n",
       "\t<tr><th scope=row>2</th><td>EN18218 1 </td><td> -21.39847</td><td>  46.02279</td><td>  72.2379</td><td>  77.5226</td><td>  84.166</td><td>  59.15776</td><td>  90.33975</td><td>  74.7019</td><td> -12.0880</td><td>⋯</td><td>  19.1387</td><td>  37.1561</td><td>  41.4276</td><td> 100.58359</td><td>  86.53933</td><td>  30.4065</td><td>  27.4477</td><td>  33.99982</td><td>  52.07351</td><td>  37.2338</td></tr>\n",
       "\t<tr><th scope=row>3</th><td>EN18218 2 </td><td> -17.03064</td><td>  53.59458</td><td> 106.6070</td><td> 115.1956</td><td> 119.969</td><td>  67.65062</td><td>  96.67880</td><td>  88.3836</td><td>   1.5937</td><td>⋯</td><td>  88.0414</td><td> 111.7016</td><td> 118.9983</td><td> 198.68149</td><td> 182.59423</td><td>  91.7701</td><td>  88.8113</td><td>  76.96852</td><td> 113.84611</td><td>  99.0064</td></tr>\n",
       "\t<tr><th scope=row>4</th><td>EN18218 3 </td><td> -12.66281</td><td>  61.16637</td><td> 140.9761</td><td> 152.8686</td><td> 155.772</td><td>  76.14348</td><td> 103.01785</td><td> 102.0653</td><td>  15.2754</td><td>⋯</td><td> 156.9441</td><td> 186.2471</td><td> 196.5690</td><td> 296.77939</td><td> 278.64913</td><td> 153.1337</td><td> 150.1749</td><td> 119.93722</td><td> 175.61871</td><td> 160.7790</td></tr>\n",
       "\t<tr><th scope=row>5</th><td>EN18218 4 </td><td>  -8.29498</td><td>  68.73816</td><td> 175.3452</td><td> 190.5416</td><td> 191.575</td><td>  84.63634</td><td> 109.35690</td><td> 115.7470</td><td>  28.9571</td><td>⋯</td><td> 225.8468</td><td> 260.7926</td><td> 274.1397</td><td> 394.87729</td><td> 374.70403</td><td> 214.4973</td><td> 211.5385</td><td> 162.90592</td><td> 237.39131</td><td> 222.5516</td></tr>\n",
       "\t<tr><th scope=row>6</th><td>EN18218 5 </td><td>  -3.92715</td><td>  76.30995</td><td> 209.7143</td><td> 228.2146</td><td> 227.378</td><td>  93.12920</td><td> 115.69595</td><td> 129.4287</td><td>  42.6388</td><td>⋯</td><td> 294.7495</td><td> 335.3381</td><td> 351.7104</td><td> 492.97519</td><td> 470.75893</td><td> 275.8609</td><td> 272.9021</td><td> 205.87462</td><td> 299.16391</td><td> 284.3242</td></tr>\n",
       "\t<tr><th scope=row>7</th><td>EN18218 6 </td><td> 203.09985</td><td> 308.29095</td><td> 418.3523</td><td> 420.2796</td><td> 448.273</td><td> 331.88120</td><td> 354.44795</td><td> 383.2037</td><td> 296.4138</td><td>⋯</td><td> 469.5555</td><td> 500.2251</td><td> 509.0714</td><td> 650.33619</td><td> 628.11993</td><td> 436.8409</td><td> 433.8821</td><td> 366.85462</td><td> 460.14391</td><td> 445.3042</td></tr>\n",
       "\t<tr><th scope=row>8</th><td>EN18218 7 </td><td> 410.12685</td><td> 540.27195</td><td> 626.9903</td><td> 612.3446</td><td> 669.168</td><td> 570.63320</td><td> 593.19995</td><td> 636.9787</td><td> 550.1888</td><td>⋯</td><td> 644.3615</td><td> 665.1121</td><td> 666.4324</td><td> 807.69719</td><td> 785.48093</td><td> 597.8209</td><td> 594.8621</td><td> 527.83462</td><td> 621.12391</td><td> 606.2842</td></tr>\n",
       "\t<tr><th scope=row>9</th><td>EN18218 8 </td><td> 617.15385</td><td> 772.25295</td><td> 835.6283</td><td> 804.4096</td><td> 890.063</td><td> 809.38520</td><td> 831.95195</td><td> 890.7537</td><td> 803.9638</td><td>⋯</td><td> 819.1675</td><td> 829.9991</td><td> 823.7934</td><td> 965.05819</td><td> 942.84193</td><td> 758.8009</td><td> 755.8421</td><td> 688.81462</td><td> 782.10391</td><td> 767.2642</td></tr>\n",
       "\t<tr><th scope=row>10</th><td>EN18218 9 </td><td> 824.18085</td><td>1004.23395</td><td>1044.2663</td><td> 996.4746</td><td>1110.958</td><td>1048.13720</td><td>1070.70395</td><td>1144.5287</td><td>1057.7388</td><td>⋯</td><td> 993.9735</td><td> 994.8861</td><td> 981.1544</td><td>1122.41919</td><td>1100.20293</td><td> 919.7809</td><td> 916.8221</td><td> 849.79462</td><td> 943.08391</td><td> 928.2442</td></tr>\n",
       "\t<tr><th scope=row>11</th><td>EN18218 10</td><td>1031.20785</td><td>1236.21495</td><td>1252.9043</td><td>1188.5396</td><td>1331.853</td><td>1286.88920</td><td>1309.45595</td><td>1398.3037</td><td>1311.5138</td><td>⋯</td><td>1168.7795</td><td>1159.7731</td><td>1138.5154</td><td>1279.78019</td><td>1257.56393</td><td>1080.7609</td><td>1077.8021</td><td>1010.77462</td><td>1104.06391</td><td>1089.2242</td></tr>\n",
       "\t<tr><th scope=row>12</th><td>EN18218 11</td><td>1123.74505</td><td>1306.95815</td><td>1326.1312</td><td>1261.7665</td><td>1401.346</td><td>1370.43090</td><td>1382.24995</td><td>1466.1910</td><td>1385.9349</td><td>⋯</td><td>1245.7572</td><td>1236.7508</td><td>1215.4931</td><td>1356.75789</td><td>1334.54163</td><td>1179.8452</td><td>1185.4021</td><td>1118.37462</td><td>1209.02091</td><td>1199.6422</td></tr>\n",
       "\t<tr><th scope=row>13</th><td>EN18218 12</td><td>1216.28225</td><td>1377.70135</td><td>1399.3581</td><td>1334.9934</td><td>1470.838</td><td>1453.97260</td><td>1455.04395</td><td>1534.0783</td><td>1460.3560</td><td>⋯</td><td>1322.7349</td><td>1313.7285</td><td>1292.4708</td><td>1433.73559</td><td>1411.51933</td><td>1278.9295</td><td>1293.0021</td><td>1225.97462</td><td>1313.97791</td><td>1310.0602</td></tr>\n",
       "\t<tr><th scope=row>14</th><td>EN18218 13</td><td>1308.81945</td><td>1448.44455</td><td>1472.5850</td><td>1408.2203</td><td>1540.331</td><td>1537.51430</td><td>1527.83795</td><td>1601.9656</td><td>1534.7771</td><td>⋯</td><td>1399.7126</td><td>1390.7062</td><td>1369.4485</td><td>1510.71329</td><td>1488.49703</td><td>1378.0138</td><td>1400.6021</td><td>1333.57462</td><td>1418.93491</td><td>1420.4782</td></tr>\n",
       "\t<tr><th scope=row>15</th><td>EN18218 14</td><td>1401.35665</td><td>1519.18775</td><td>1545.8119</td><td>1481.4472</td><td>1609.823</td><td>1621.05600</td><td>1600.63195</td><td>1669.8529</td><td>1609.1982</td><td>⋯</td><td>1476.6903</td><td>1467.6839</td><td>1446.4262</td><td>1587.69099</td><td>1565.47473</td><td>1477.0981</td><td>1508.2021</td><td>1441.17462</td><td>1523.89191</td><td>1530.8962</td></tr>\n",
       "\t<tr><th scope=row>16</th><td>EN18218 15</td><td>1493.89385</td><td>1589.93095</td><td>1619.0388</td><td>1554.6741</td><td>1679.316</td><td>1704.59770</td><td>1673.42595</td><td>1737.7402</td><td>1683.6193</td><td>⋯</td><td>1553.6680</td><td>1544.6616</td><td>1523.4039</td><td>1664.66869</td><td>1642.45243</td><td>1576.1824</td><td>1615.8021</td><td>1548.77462</td><td>1628.84891</td><td>1641.3142</td></tr>\n",
       "\t<tr><th scope=row>17</th><td>EN18218 16</td><td>1548.62025</td><td>1642.16645</td><td>1681.4583</td><td>1605.6658</td><td>1710.486</td><td>1737.18590</td><td>1698.02435</td><td>1764.0740</td><td>1726.3797</td><td>⋯</td><td>1620.8315</td><td>1608.5388</td><td>1556.8092</td><td>1693.01559</td><td>1670.79933</td><td>1627.4843</td><td>1667.1040</td><td>1594.30432</td><td>1664.89751</td><td>1682.0417</td></tr>\n",
       "\t<tr><th scope=row>18</th><td>EN18218 17</td><td>1603.34665</td><td>1694.40195</td><td>1743.8778</td><td>1656.6575</td><td>1741.657</td><td>1769.77410</td><td>1722.62275</td><td>1790.4078</td><td>1769.1401</td><td>⋯</td><td>1687.9950</td><td>1672.4160</td><td>1590.2145</td><td>1721.36249</td><td>1699.14623</td><td>1678.7862</td><td>1718.4059</td><td>1639.83402</td><td>1700.94611</td><td>1722.7692</td></tr>\n",
       "\t<tr><th scope=row>19</th><td>EN18218 18</td><td>1658.07305</td><td>1746.63745</td><td>1806.2973</td><td>1707.6492</td><td>1772.827</td><td>1802.36230</td><td>1747.22115</td><td>1816.7416</td><td>1811.9005</td><td>⋯</td><td>1755.1585</td><td>1736.2932</td><td>1623.6198</td><td>1749.70939</td><td>1727.49313</td><td>1730.0881</td><td>1769.7078</td><td>1685.36372</td><td>1736.99471</td><td>1763.4967</td></tr>\n",
       "\t<tr><th scope=row>20</th><td>EN18218 19</td><td>1712.79945</td><td>1798.87295</td><td>1868.7168</td><td>1758.6409</td><td>1803.998</td><td>1834.95050</td><td>1771.81955</td><td>1843.0754</td><td>1854.6609</td><td>⋯</td><td>1822.3220</td><td>1800.1704</td><td>1657.0251</td><td>1778.05629</td><td>1755.84003</td><td>1781.3900</td><td>1821.0097</td><td>1730.89342</td><td>1773.04331</td><td>1804.2242</td></tr>\n",
       "\t<tr><th scope=row>21</th><td>EN18218 20</td><td>1767.52585</td><td>1851.10845</td><td>1931.1363</td><td>1809.6326</td><td>1835.168</td><td>1867.53870</td><td>1796.41795</td><td>1869.4092</td><td>1897.4213</td><td>⋯</td><td>1889.4855</td><td>1864.0476</td><td>1690.4304</td><td>1806.40319</td><td>1784.18693</td><td>1832.6919</td><td>1872.3116</td><td>1776.42312</td><td>1809.09191</td><td>1844.9517</td></tr>\n",
       "\t<tr><th scope=row>22</th><td>EN18218 21</td><td>1857.44985</td><td>1938.00275</td><td>2030.7530</td><td>1932.0526</td><td>1957.588</td><td>1994.25370</td><td>1923.13295</td><td>1994.1132</td><td>2022.1253</td><td>⋯</td><td>1909.3727</td><td>1891.8559</td><td>1714.4128</td><td>1850.59039</td><td>1821.34973</td><td>1892.5645</td><td>1922.1037</td><td>1821.98982</td><td>1859.15601</td><td>1896.2835</td></tr>\n",
       "\t<tr><th scope=row>23</th><td>EN18218 22</td><td>1947.37385</td><td>2024.89705</td><td>2130.3697</td><td>2054.4726</td><td>2080.008</td><td>2120.96870</td><td>2049.84795</td><td>2118.8172</td><td>2146.8293</td><td>⋯</td><td>1929.2599</td><td>1919.6642</td><td>1738.3952</td><td>1894.77759</td><td>1858.51253</td><td>1952.4371</td><td>1971.8958</td><td>1867.55652</td><td>1909.22011</td><td>1947.6153</td></tr>\n",
       "\t<tr><th scope=row>24</th><td>EN18218 23</td><td>2037.29785</td><td>2111.79135</td><td>2229.9864</td><td>2176.8926</td><td>2202.428</td><td>2247.68370</td><td>2176.56295</td><td>2243.5212</td><td>2271.5333</td><td>⋯</td><td>1949.1471</td><td>1947.4725</td><td>1762.3776</td><td>1938.96479</td><td>1895.67533</td><td>2012.3097</td><td>2021.6879</td><td>1913.12322</td><td>1959.28421</td><td>1998.9471</td></tr>\n",
       "\t<tr><th scope=row>25</th><td>EN18218 24</td><td>2127.22185</td><td>2198.68565</td><td>2329.6031</td><td>2299.3126</td><td>2324.848</td><td>2374.39870</td><td>2303.27795</td><td>2368.2252</td><td>2396.2373</td><td>⋯</td><td>1969.0343</td><td>1975.2808</td><td>1786.3600</td><td>1983.15199</td><td>1932.83813</td><td>2072.1823</td><td>2071.4800</td><td>1958.68992</td><td>2009.34831</td><td>2050.2789</td></tr>\n",
       "\t<tr><th scope=row>26</th><td>EN18218 25</td><td>2217.14585</td><td>2285.57995</td><td>2429.2198</td><td>2421.7326</td><td>2447.268</td><td>2501.11370</td><td>2429.99295</td><td>2492.9292</td><td>2520.9413</td><td>⋯</td><td>1988.9215</td><td>2003.0891</td><td>1810.3424</td><td>2027.33919</td><td>1970.00093</td><td>2132.0549</td><td>2121.2721</td><td>2004.25662</td><td>2059.41241</td><td>2101.6107</td></tr>\n",
       "\t<tr><th scope=row>27</th><td>EN18218 26</td><td>2314.80165</td><td>2372.60645</td><td>2511.6780</td><td>2496.2667</td><td>2540.323</td><td>2555.52950</td><td>2482.00885</td><td>2560.1767</td><td>2587.8287</td><td>⋯</td><td>2005.6232</td><td>2019.7908</td><td>1840.3046</td><td>2057.30139</td><td>2002.94673</td><td>2165.0007</td><td>2123.5926</td><td>2006.57709</td><td>2062.06066</td><td>2104.2590</td></tr>\n",
       "\t<tr><th scope=row>28</th><td>EN18218 27</td><td>2412.45745</td><td>2459.63295</td><td>2594.1362</td><td>2570.8008</td><td>2633.377</td><td>2609.94530</td><td>2534.02475</td><td>2627.4242</td><td>2654.7161</td><td>⋯</td><td>2022.3249</td><td>2036.4925</td><td>1870.2668</td><td>2087.26359</td><td>2035.89253</td><td>2197.9465</td><td>2125.9130</td><td>2008.89756</td><td>2064.70891</td><td>2106.9072</td></tr>\n",
       "\t<tr><th scope=row>29</th><td>EN18218 28</td><td>2510.11325</td><td>2546.65945</td><td>2676.5944</td><td>2645.3349</td><td>2726.432</td><td>2664.36110</td><td>2586.04065</td><td>2694.6717</td><td>2721.6035</td><td>⋯</td><td>2039.0266</td><td>2053.1942</td><td>1900.2290</td><td>2117.22579</td><td>2068.83833</td><td>2230.8923</td><td>2128.2335</td><td>2011.21803</td><td>2067.35716</td><td>2109.5555</td></tr>\n",
       "\t<tr><th scope=row>30</th><td>EN18218 29</td><td>2607.76905</td><td>2633.68595</td><td>2759.0526</td><td>2719.8690</td><td>2819.486</td><td>2718.77690</td><td>2638.05655</td><td>2761.9192</td><td>2788.4909</td><td>⋯</td><td>2055.7283</td><td>2069.8959</td><td>1930.1912</td><td>2147.18799</td><td>2101.78413</td><td>2263.8381</td><td>2130.5540</td><td>2013.53850</td><td>2070.00541</td><td>2112.2037</td></tr>\n",
       "\t<tr><th scope=row>⋮</th><td>⋮</td><td>⋮</td><td>⋮</td><td>⋮</td><td>⋮</td><td>⋮</td><td>⋮</td><td>⋮</td><td>⋮</td><td>⋮</td><td>⋱</td><td>⋮</td><td>⋮</td><td>⋮</td><td>⋮</td><td>⋮</td><td>⋮</td><td>⋮</td><td>⋮</td><td>⋮</td><td>⋮</td></tr>\n",
       "\t<tr><th scope=row>625</th><td>EN18218 624</td><td>26228.34</td><td>27288.09</td><td>27749.22</td><td>27680.45</td><td>27624.23</td><td>27671.21</td><td>27531.96</td><td>27656.99</td><td>27685.67</td><td>⋯</td><td>27457.57</td><td>27088.84</td><td>26888.51</td><td>28699.76</td><td>28776.87</td><td>28416.28</td><td>27912.05</td><td>27341.06</td><td>28362.95</td><td>27899.68</td></tr>\n",
       "\t<tr><th scope=row>626</th><td>EN18218 625</td><td>26311.49</td><td>27333.67</td><td>27786.94</td><td>27721.82</td><td>27710.75</td><td>27751.19</td><td>27576.61</td><td>27748.88</td><td>27709.22</td><td>⋯</td><td>27492.53</td><td>27108.44</td><td>26951.18</td><td>28825.39</td><td>28794.70</td><td>28424.04</td><td>27932.45</td><td>27372.82</td><td>28373.29</td><td>27911.76</td></tr>\n",
       "\t<tr><th scope=row>627</th><td>EN18218 626</td><td>26403.63</td><td>27378.68</td><td>27890.39</td><td>27768.46</td><td>27723.35</td><td>27772.35</td><td>27608.54</td><td>27758.11</td><td>27718.46</td><td>⋯</td><td>27558.15</td><td>27118.87</td><td>26954.71</td><td>28838.96</td><td>28808.26</td><td>28444.64</td><td>27963.07</td><td>27403.82</td><td>28491.35</td><td>27913.95</td></tr>\n",
       "\t<tr><th scope=row>628</th><td>EN18218 627</td><td>26495.77</td><td>27423.70</td><td>27993.84</td><td>27815.09</td><td>27735.95</td><td>27793.51</td><td>27640.46</td><td>27767.33</td><td>27727.71</td><td>⋯</td><td>27623.76</td><td>27129.31</td><td>26958.24</td><td>28852.52</td><td>28821.82</td><td>28465.24</td><td>27993.70</td><td>27434.82</td><td>28609.40</td><td>27916.13</td></tr>\n",
       "\t<tr><th scope=row>629</th><td>EN18218 628</td><td>26587.90</td><td>27468.71</td><td>28097.29</td><td>27861.73</td><td>27748.55</td><td>27814.67</td><td>27672.39</td><td>27776.56</td><td>27736.96</td><td>⋯</td><td>27689.37</td><td>27139.74</td><td>26961.78</td><td>28866.08</td><td>28835.39</td><td>28485.84</td><td>28024.33</td><td>27465.82</td><td>28727.45</td><td>27918.31</td></tr>\n",
       "\t<tr><th scope=row>630</th><td>EN18218 629</td><td>26680.04</td><td>27513.72</td><td>28200.74</td><td>27908.36</td><td>27761.16</td><td>27835.84</td><td>27704.31</td><td>27785.79</td><td>27746.21</td><td>⋯</td><td>27754.98</td><td>27150.17</td><td>26965.31</td><td>28879.65</td><td>28848.95</td><td>28506.44</td><td>28054.95</td><td>27496.82</td><td>28845.51</td><td>27920.49</td></tr>\n",
       "\t<tr><th scope=row>631</th><td>EN18218 630</td><td>26772.17</td><td>27558.73</td><td>28304.19</td><td>27955.00</td><td>27773.76</td><td>27857.00</td><td>27736.24</td><td>27795.01</td><td>27755.45</td><td>⋯</td><td>27820.59</td><td>27160.61</td><td>26968.84</td><td>28893.21</td><td>28862.51</td><td>28527.04</td><td>28085.58</td><td>27527.82</td><td>28963.56</td><td>27922.68</td></tr>\n",
       "\t<tr><th scope=row>632</th><td>EN18218 631</td><td>26789.51</td><td>27625.78</td><td>28341.40</td><td>27958.77</td><td>27801.46</td><td>27859.39</td><td>27752.75</td><td>27858.93</td><td>27772.34</td><td>⋯</td><td>27905.83</td><td>27176.36</td><td>27010.71</td><td>28906.86</td><td>28873.12</td><td>28540.07</td><td>28124.77</td><td>27562.92</td><td>28979.33</td><td>27925.17</td></tr>\n",
       "\t<tr><th scope=row>633</th><td>EN18218 632</td><td>26806.85</td><td>27692.82</td><td>28378.61</td><td>27962.54</td><td>27829.16</td><td>27861.79</td><td>27769.27</td><td>27922.84</td><td>27789.22</td><td>⋯</td><td>27991.07</td><td>27192.11</td><td>27052.57</td><td>28920.50</td><td>28883.73</td><td>28553.11</td><td>28163.95</td><td>27598.03</td><td>28995.09</td><td>27927.67</td></tr>\n",
       "\t<tr><th scope=row>634</th><td>EN18218 633</td><td>26824.19</td><td>27759.86</td><td>28415.81</td><td>27966.31</td><td>27856.87</td><td>27864.18</td><td>27785.78</td><td>27986.76</td><td>27806.10</td><td>⋯</td><td>28076.32</td><td>27207.87</td><td>27094.44</td><td>28934.15</td><td>28894.34</td><td>28566.14</td><td>28203.14</td><td>27633.13</td><td>29010.86</td><td>27930.17</td></tr>\n",
       "\t<tr><th scope=row>635</th><td>EN18218 634</td><td>26841.53</td><td>27826.90</td><td>28453.02</td><td>27970.08</td><td>27884.57</td><td>27866.58</td><td>27802.29</td><td>28050.67</td><td>27822.98</td><td>⋯</td><td>28161.56</td><td>27223.62</td><td>27136.30</td><td>28947.79</td><td>28904.95</td><td>28579.18</td><td>28242.33</td><td>27668.24</td><td>29026.62</td><td>27932.66</td></tr>\n",
       "\t<tr><th scope=row>636</th><td>EN18218 635</td><td>26858.87</td><td>27893.94</td><td>28490.23</td><td>27973.85</td><td>27912.27</td><td>27868.97</td><td>27818.81</td><td>28114.59</td><td>27839.86</td><td>⋯</td><td>28246.80</td><td>27239.37</td><td>27178.17</td><td>28961.44</td><td>28915.56</td><td>28592.21</td><td>28281.51</td><td>27703.34</td><td>29042.39</td><td>27935.16</td></tr>\n",
       "\t<tr><th scope=row>637</th><td>EN18218 636</td><td>26923.90</td><td>27950.56</td><td>28535.13</td><td>28059.19</td><td>28012.43</td><td>27945.48</td><td>27873.87</td><td>28189.91</td><td>27927.55</td><td>⋯</td><td>28385.79</td><td>27295.97</td><td>27286.05</td><td>29050.33</td><td>29015.38</td><td>28636.37</td><td>28397.02</td><td>27797.03</td><td>29157.51</td><td>27974.60</td></tr>\n",
       "\t<tr><th scope=row>638</th><td>EN18218 637</td><td>26988.94</td><td>28007.17</td><td>28580.04</td><td>28144.52</td><td>28112.60</td><td>28021.99</td><td>27928.94</td><td>28265.24</td><td>28015.23</td><td>⋯</td><td>28524.78</td><td>27352.57</td><td>27393.94</td><td>29139.22</td><td>29115.19</td><td>28680.52</td><td>28512.52</td><td>27890.71</td><td>29272.64</td><td>28014.04</td></tr>\n",
       "\t<tr><th scope=row>639</th><td>EN18218 638</td><td>27053.97</td><td>28063.78</td><td>28624.95</td><td>28229.85</td><td>28212.76</td><td>28098.50</td><td>27984.01</td><td>28340.56</td><td>28102.92</td><td>⋯</td><td>28663.76</td><td>27409.17</td><td>27501.82</td><td>29228.11</td><td>29215.00</td><td>28724.68</td><td>28628.03</td><td>27984.40</td><td>29387.77</td><td>28053.48</td></tr>\n",
       "\t<tr><th scope=row>640</th><td>EN18218 639</td><td>27119.01</td><td>28120.40</td><td>28669.85</td><td>28315.19</td><td>28312.92</td><td>28175.01</td><td>28039.08</td><td>28415.88</td><td>28190.60</td><td>⋯</td><td>28802.75</td><td>27465.76</td><td>27609.70</td><td>29317.00</td><td>29314.82</td><td>28768.84</td><td>28743.53</td><td>28078.09</td><td>29502.90</td><td>28092.92</td></tr>\n",
       "\t<tr><th scope=row>641</th><td>EN18218 640</td><td>27184.04</td><td>28177.01</td><td>28714.76</td><td>28400.52</td><td>28413.08</td><td>28251.52</td><td>28094.15</td><td>28491.21</td><td>28278.29</td><td>⋯</td><td>28941.74</td><td>27522.36</td><td>27717.59</td><td>29405.89</td><td>29414.63</td><td>28812.99</td><td>28859.04</td><td>28171.77</td><td>29618.03</td><td>28132.36</td></tr>\n",
       "\t<tr><th scope=row>642</th><td>EN18218 641</td><td>27298.91</td><td>28237.26</td><td>28754.17</td><td>28425.39</td><td>28433.05</td><td>28279.89</td><td>28139.39</td><td>28601.01</td><td>28352.12</td><td>⋯</td><td>28958.02</td><td>27534.21</td><td>27728.60</td><td>29462.71</td><td>29428.58</td><td>28820.93</td><td>28885.91</td><td>28187.16</td><td>29633.42</td><td>28241.51</td></tr>\n",
       "\t<tr><th scope=row>643</th><td>EN18218 642</td><td>27413.77</td><td>28297.51</td><td>28793.59</td><td>28450.26</td><td>28453.02</td><td>28308.26</td><td>28184.62</td><td>28710.82</td><td>28425.95</td><td>⋯</td><td>28974.30</td><td>27546.06</td><td>27739.62</td><td>29519.53</td><td>29442.53</td><td>28828.87</td><td>28912.79</td><td>28202.56</td><td>29648.81</td><td>28350.66</td></tr>\n",
       "\t<tr><th scope=row>644</th><td>EN18218 643</td><td>27528.64</td><td>28357.75</td><td>28833.00</td><td>28475.13</td><td>28473.00</td><td>28336.62</td><td>28229.86</td><td>28820.63</td><td>28499.77</td><td>⋯</td><td>28990.58</td><td>27557.91</td><td>27750.63</td><td>29576.34</td><td>29456.48</td><td>28836.81</td><td>28939.66</td><td>28217.95</td><td>29664.21</td><td>28459.81</td></tr>\n",
       "\t<tr><th scope=row>645</th><td>EN18218 644</td><td>27643.50</td><td>28418.00</td><td>28872.42</td><td>28500.00</td><td>28492.97</td><td>28364.99</td><td>28275.10</td><td>28930.43</td><td>28573.60</td><td>⋯</td><td>29006.86</td><td>27569.76</td><td>27761.65</td><td>29633.16</td><td>29470.43</td><td>28844.75</td><td>28966.53</td><td>28233.34</td><td>29679.60</td><td>28568.96</td></tr>\n",
       "\t<tr><th scope=row>646</th><td>EN18218 645</td><td>27758.36</td><td>28478.25</td><td>28911.84</td><td>28524.86</td><td>28512.94</td><td>28393.35</td><td>28320.34</td><td>29040.24</td><td>28647.43</td><td>⋯</td><td>29023.14</td><td>27581.60</td><td>27772.66</td><td>29689.98</td><td>29484.38</td><td>28852.68</td><td>28993.41</td><td>28248.74</td><td>29694.99</td><td>28678.11</td></tr>\n",
       "\t<tr><th scope=row>647</th><td>EN18218 646</td><td>27767.77</td><td>28488.01</td><td>28927.25</td><td>28538.02</td><td>28567.57</td><td>28469.27</td><td>28405.37</td><td>29144.63</td><td>28741.02</td><td>⋯</td><td>29040.36</td><td>27636.94</td><td>27799.28</td><td>29746.34</td><td>29523.22</td><td>28954.81</td><td>29016.30</td><td>28281.60</td><td>29718.82</td><td>28785.91</td></tr>\n",
       "\t<tr><th scope=row>648</th><td>EN18218 647</td><td>27777.17</td><td>28497.76</td><td>28942.67</td><td>28551.18</td><td>28622.19</td><td>28545.18</td><td>28490.41</td><td>29249.02</td><td>28834.61</td><td>⋯</td><td>29057.59</td><td>27692.28</td><td>27825.89</td><td>29802.69</td><td>29562.06</td><td>29056.94</td><td>29039.19</td><td>28314.46</td><td>29742.65</td><td>28893.72</td></tr>\n",
       "\t<tr><th scope=row>649</th><td>EN18218 648</td><td>27786.57</td><td>28507.52</td><td>28958.09</td><td>28564.33</td><td>28676.82</td><td>28621.09</td><td>28575.45</td><td>29353.41</td><td>28928.20</td><td>⋯</td><td>29074.81</td><td>27747.61</td><td>27852.50</td><td>29859.05</td><td>29600.91</td><td>29159.07</td><td>29062.08</td><td>28347.32</td><td>29766.48</td><td>29001.52</td></tr>\n",
       "\t<tr><th scope=row>650</th><td>EN18218 649</td><td>27795.97</td><td>28517.28</td><td>28973.50</td><td>28577.49</td><td>28731.44</td><td>28697.00</td><td>28660.49</td><td>29457.79</td><td>29021.78</td><td>⋯</td><td>29092.03</td><td>27802.95</td><td>27879.11</td><td>29915.41</td><td>29639.75</td><td>29261.20</td><td>29084.97</td><td>28380.19</td><td>29790.32</td><td>29109.33</td></tr>\n",
       "\t<tr><th scope=row>651</th><td>EN18218 650</td><td>27805.37</td><td>28527.04</td><td>28988.92</td><td>28590.64</td><td>28786.07</td><td>28772.92</td><td>28745.53</td><td>29562.18</td><td>29115.37</td><td>⋯</td><td>29109.25</td><td>27858.28</td><td>27905.72</td><td>29971.77</td><td>29678.59</td><td>29363.32</td><td>29107.87</td><td>28413.05</td><td>29814.15</td><td>29217.13</td></tr>\n",
       "\t<tr><th scope=row>652</th><td>EN18218 651</td><td>27810.15</td><td>28621.12</td><td>29041.36</td><td>28630.95</td><td>28855.42</td><td>28838.27</td><td>28930.61</td><td>29715.99</td><td>29152.99</td><td>⋯</td><td>29125.44</td><td>27890.41</td><td>27940.91</td><td>30016.33</td><td>29726.89</td><td>29369.09</td><td>29135.52</td><td>28497.00</td><td>29849.69</td><td>29237.77</td></tr>\n",
       "\t<tr><th scope=row>653</th><td>EN18218 652</td><td>27814.94</td><td>28715.20</td><td>29093.80</td><td>28671.25</td><td>28924.77</td><td>28903.62</td><td>29115.70</td><td>29869.79</td><td>29190.61</td><td>⋯</td><td>29141.62</td><td>27922.53</td><td>27976.11</td><td>30060.90</td><td>29775.20</td><td>29374.86</td><td>29163.16</td><td>28580.96</td><td>29885.23</td><td>29258.41</td></tr>\n",
       "\t<tr><th scope=row>654</th><td>EN18218 653</td><td>27819.72</td><td>28809.27</td><td>29146.24</td><td>28711.55</td><td>28994.12</td><td>28968.97</td><td>29300.78</td><td>30023.60</td><td>29228.22</td><td>⋯</td><td>29157.81</td><td>27954.66</td><td>28011.30</td><td>30105.46</td><td>29823.50</td><td>29380.62</td><td>29190.81</td><td>28664.91</td><td>29920.77</td><td>29279.05</td></tr>\n",
       "</tbody>\n",
       "</table>\n"
      ],
      "text/latex": [
       "A data.frame: 654 × 10001\n",
       "\\begin{tabular}{r|lllllllllllllllllllll}\n",
       "  & depth & iter\\_1 & iter\\_2 & iter\\_3 & iter\\_4 & iter\\_5 & iter\\_6 & iter\\_7 & iter\\_8 & iter\\_9 & ⋯ & iter\\_9991 & iter\\_9992 & iter\\_9993 & iter\\_9994 & iter\\_9995 & iter\\_9996 & iter\\_9997 & iter\\_9998 & iter\\_9999 & iter\\_10000\\\\\n",
       "  & <fct> & <dbl> & <dbl> & <dbl> & <dbl> & <dbl> & <dbl> & <dbl> & <dbl> & <dbl> & ⋯ & <dbl> & <dbl> & <dbl> & <dbl> & <dbl> & <dbl> & <dbl> & <dbl> & <dbl> & <dbl>\\\\\n",
       "\\hline\n",
       "\t1 & EN18218 0  &  -25.76630 &   38.45100 &   37.8688 &   39.8496 &   48.363 &   50.66490 &   84.00070 &   61.0202 &  -25.7697 & ⋯ &  -49.7640 &  -37.3894 &  -36.1431 &    2.48569 &   -9.51557 &  -30.9571 &  -33.9159 &   -8.96888 &   -9.69909 &  -24.5388\\\\\n",
       "\t2 & EN18218 1  &  -21.39847 &   46.02279 &   72.2379 &   77.5226 &   84.166 &   59.15776 &   90.33975 &   74.7019 &  -12.0880 & ⋯ &   19.1387 &   37.1561 &   41.4276 &  100.58359 &   86.53933 &   30.4065 &   27.4477 &   33.99982 &   52.07351 &   37.2338\\\\\n",
       "\t3 & EN18218 2  &  -17.03064 &   53.59458 &  106.6070 &  115.1956 &  119.969 &   67.65062 &   96.67880 &   88.3836 &    1.5937 & ⋯ &   88.0414 &  111.7016 &  118.9983 &  198.68149 &  182.59423 &   91.7701 &   88.8113 &   76.96852 &  113.84611 &   99.0064\\\\\n",
       "\t4 & EN18218 3  &  -12.66281 &   61.16637 &  140.9761 &  152.8686 &  155.772 &   76.14348 &  103.01785 &  102.0653 &   15.2754 & ⋯ &  156.9441 &  186.2471 &  196.5690 &  296.77939 &  278.64913 &  153.1337 &  150.1749 &  119.93722 &  175.61871 &  160.7790\\\\\n",
       "\t5 & EN18218 4  &   -8.29498 &   68.73816 &  175.3452 &  190.5416 &  191.575 &   84.63634 &  109.35690 &  115.7470 &   28.9571 & ⋯ &  225.8468 &  260.7926 &  274.1397 &  394.87729 &  374.70403 &  214.4973 &  211.5385 &  162.90592 &  237.39131 &  222.5516\\\\\n",
       "\t6 & EN18218 5  &   -3.92715 &   76.30995 &  209.7143 &  228.2146 &  227.378 &   93.12920 &  115.69595 &  129.4287 &   42.6388 & ⋯ &  294.7495 &  335.3381 &  351.7104 &  492.97519 &  470.75893 &  275.8609 &  272.9021 &  205.87462 &  299.16391 &  284.3242\\\\\n",
       "\t7 & EN18218 6  &  203.09985 &  308.29095 &  418.3523 &  420.2796 &  448.273 &  331.88120 &  354.44795 &  383.2037 &  296.4138 & ⋯ &  469.5555 &  500.2251 &  509.0714 &  650.33619 &  628.11993 &  436.8409 &  433.8821 &  366.85462 &  460.14391 &  445.3042\\\\\n",
       "\t8 & EN18218 7  &  410.12685 &  540.27195 &  626.9903 &  612.3446 &  669.168 &  570.63320 &  593.19995 &  636.9787 &  550.1888 & ⋯ &  644.3615 &  665.1121 &  666.4324 &  807.69719 &  785.48093 &  597.8209 &  594.8621 &  527.83462 &  621.12391 &  606.2842\\\\\n",
       "\t9 & EN18218 8  &  617.15385 &  772.25295 &  835.6283 &  804.4096 &  890.063 &  809.38520 &  831.95195 &  890.7537 &  803.9638 & ⋯ &  819.1675 &  829.9991 &  823.7934 &  965.05819 &  942.84193 &  758.8009 &  755.8421 &  688.81462 &  782.10391 &  767.2642\\\\\n",
       "\t10 & EN18218 9  &  824.18085 & 1004.23395 & 1044.2663 &  996.4746 & 1110.958 & 1048.13720 & 1070.70395 & 1144.5287 & 1057.7388 & ⋯ &  993.9735 &  994.8861 &  981.1544 & 1122.41919 & 1100.20293 &  919.7809 &  916.8221 &  849.79462 &  943.08391 &  928.2442\\\\\n",
       "\t11 & EN18218 10 & 1031.20785 & 1236.21495 & 1252.9043 & 1188.5396 & 1331.853 & 1286.88920 & 1309.45595 & 1398.3037 & 1311.5138 & ⋯ & 1168.7795 & 1159.7731 & 1138.5154 & 1279.78019 & 1257.56393 & 1080.7609 & 1077.8021 & 1010.77462 & 1104.06391 & 1089.2242\\\\\n",
       "\t12 & EN18218 11 & 1123.74505 & 1306.95815 & 1326.1312 & 1261.7665 & 1401.346 & 1370.43090 & 1382.24995 & 1466.1910 & 1385.9349 & ⋯ & 1245.7572 & 1236.7508 & 1215.4931 & 1356.75789 & 1334.54163 & 1179.8452 & 1185.4021 & 1118.37462 & 1209.02091 & 1199.6422\\\\\n",
       "\t13 & EN18218 12 & 1216.28225 & 1377.70135 & 1399.3581 & 1334.9934 & 1470.838 & 1453.97260 & 1455.04395 & 1534.0783 & 1460.3560 & ⋯ & 1322.7349 & 1313.7285 & 1292.4708 & 1433.73559 & 1411.51933 & 1278.9295 & 1293.0021 & 1225.97462 & 1313.97791 & 1310.0602\\\\\n",
       "\t14 & EN18218 13 & 1308.81945 & 1448.44455 & 1472.5850 & 1408.2203 & 1540.331 & 1537.51430 & 1527.83795 & 1601.9656 & 1534.7771 & ⋯ & 1399.7126 & 1390.7062 & 1369.4485 & 1510.71329 & 1488.49703 & 1378.0138 & 1400.6021 & 1333.57462 & 1418.93491 & 1420.4782\\\\\n",
       "\t15 & EN18218 14 & 1401.35665 & 1519.18775 & 1545.8119 & 1481.4472 & 1609.823 & 1621.05600 & 1600.63195 & 1669.8529 & 1609.1982 & ⋯ & 1476.6903 & 1467.6839 & 1446.4262 & 1587.69099 & 1565.47473 & 1477.0981 & 1508.2021 & 1441.17462 & 1523.89191 & 1530.8962\\\\\n",
       "\t16 & EN18218 15 & 1493.89385 & 1589.93095 & 1619.0388 & 1554.6741 & 1679.316 & 1704.59770 & 1673.42595 & 1737.7402 & 1683.6193 & ⋯ & 1553.6680 & 1544.6616 & 1523.4039 & 1664.66869 & 1642.45243 & 1576.1824 & 1615.8021 & 1548.77462 & 1628.84891 & 1641.3142\\\\\n",
       "\t17 & EN18218 16 & 1548.62025 & 1642.16645 & 1681.4583 & 1605.6658 & 1710.486 & 1737.18590 & 1698.02435 & 1764.0740 & 1726.3797 & ⋯ & 1620.8315 & 1608.5388 & 1556.8092 & 1693.01559 & 1670.79933 & 1627.4843 & 1667.1040 & 1594.30432 & 1664.89751 & 1682.0417\\\\\n",
       "\t18 & EN18218 17 & 1603.34665 & 1694.40195 & 1743.8778 & 1656.6575 & 1741.657 & 1769.77410 & 1722.62275 & 1790.4078 & 1769.1401 & ⋯ & 1687.9950 & 1672.4160 & 1590.2145 & 1721.36249 & 1699.14623 & 1678.7862 & 1718.4059 & 1639.83402 & 1700.94611 & 1722.7692\\\\\n",
       "\t19 & EN18218 18 & 1658.07305 & 1746.63745 & 1806.2973 & 1707.6492 & 1772.827 & 1802.36230 & 1747.22115 & 1816.7416 & 1811.9005 & ⋯ & 1755.1585 & 1736.2932 & 1623.6198 & 1749.70939 & 1727.49313 & 1730.0881 & 1769.7078 & 1685.36372 & 1736.99471 & 1763.4967\\\\\n",
       "\t20 & EN18218 19 & 1712.79945 & 1798.87295 & 1868.7168 & 1758.6409 & 1803.998 & 1834.95050 & 1771.81955 & 1843.0754 & 1854.6609 & ⋯ & 1822.3220 & 1800.1704 & 1657.0251 & 1778.05629 & 1755.84003 & 1781.3900 & 1821.0097 & 1730.89342 & 1773.04331 & 1804.2242\\\\\n",
       "\t21 & EN18218 20 & 1767.52585 & 1851.10845 & 1931.1363 & 1809.6326 & 1835.168 & 1867.53870 & 1796.41795 & 1869.4092 & 1897.4213 & ⋯ & 1889.4855 & 1864.0476 & 1690.4304 & 1806.40319 & 1784.18693 & 1832.6919 & 1872.3116 & 1776.42312 & 1809.09191 & 1844.9517\\\\\n",
       "\t22 & EN18218 21 & 1857.44985 & 1938.00275 & 2030.7530 & 1932.0526 & 1957.588 & 1994.25370 & 1923.13295 & 1994.1132 & 2022.1253 & ⋯ & 1909.3727 & 1891.8559 & 1714.4128 & 1850.59039 & 1821.34973 & 1892.5645 & 1922.1037 & 1821.98982 & 1859.15601 & 1896.2835\\\\\n",
       "\t23 & EN18218 22 & 1947.37385 & 2024.89705 & 2130.3697 & 2054.4726 & 2080.008 & 2120.96870 & 2049.84795 & 2118.8172 & 2146.8293 & ⋯ & 1929.2599 & 1919.6642 & 1738.3952 & 1894.77759 & 1858.51253 & 1952.4371 & 1971.8958 & 1867.55652 & 1909.22011 & 1947.6153\\\\\n",
       "\t24 & EN18218 23 & 2037.29785 & 2111.79135 & 2229.9864 & 2176.8926 & 2202.428 & 2247.68370 & 2176.56295 & 2243.5212 & 2271.5333 & ⋯ & 1949.1471 & 1947.4725 & 1762.3776 & 1938.96479 & 1895.67533 & 2012.3097 & 2021.6879 & 1913.12322 & 1959.28421 & 1998.9471\\\\\n",
       "\t25 & EN18218 24 & 2127.22185 & 2198.68565 & 2329.6031 & 2299.3126 & 2324.848 & 2374.39870 & 2303.27795 & 2368.2252 & 2396.2373 & ⋯ & 1969.0343 & 1975.2808 & 1786.3600 & 1983.15199 & 1932.83813 & 2072.1823 & 2071.4800 & 1958.68992 & 2009.34831 & 2050.2789\\\\\n",
       "\t26 & EN18218 25 & 2217.14585 & 2285.57995 & 2429.2198 & 2421.7326 & 2447.268 & 2501.11370 & 2429.99295 & 2492.9292 & 2520.9413 & ⋯ & 1988.9215 & 2003.0891 & 1810.3424 & 2027.33919 & 1970.00093 & 2132.0549 & 2121.2721 & 2004.25662 & 2059.41241 & 2101.6107\\\\\n",
       "\t27 & EN18218 26 & 2314.80165 & 2372.60645 & 2511.6780 & 2496.2667 & 2540.323 & 2555.52950 & 2482.00885 & 2560.1767 & 2587.8287 & ⋯ & 2005.6232 & 2019.7908 & 1840.3046 & 2057.30139 & 2002.94673 & 2165.0007 & 2123.5926 & 2006.57709 & 2062.06066 & 2104.2590\\\\\n",
       "\t28 & EN18218 27 & 2412.45745 & 2459.63295 & 2594.1362 & 2570.8008 & 2633.377 & 2609.94530 & 2534.02475 & 2627.4242 & 2654.7161 & ⋯ & 2022.3249 & 2036.4925 & 1870.2668 & 2087.26359 & 2035.89253 & 2197.9465 & 2125.9130 & 2008.89756 & 2064.70891 & 2106.9072\\\\\n",
       "\t29 & EN18218 28 & 2510.11325 & 2546.65945 & 2676.5944 & 2645.3349 & 2726.432 & 2664.36110 & 2586.04065 & 2694.6717 & 2721.6035 & ⋯ & 2039.0266 & 2053.1942 & 1900.2290 & 2117.22579 & 2068.83833 & 2230.8923 & 2128.2335 & 2011.21803 & 2067.35716 & 2109.5555\\\\\n",
       "\t30 & EN18218 29 & 2607.76905 & 2633.68595 & 2759.0526 & 2719.8690 & 2819.486 & 2718.77690 & 2638.05655 & 2761.9192 & 2788.4909 & ⋯ & 2055.7283 & 2069.8959 & 1930.1912 & 2147.18799 & 2101.78413 & 2263.8381 & 2130.5540 & 2013.53850 & 2070.00541 & 2112.2037\\\\\n",
       "\t⋮ & ⋮ & ⋮ & ⋮ & ⋮ & ⋮ & ⋮ & ⋮ & ⋮ & ⋮ & ⋮ & ⋱ & ⋮ & ⋮ & ⋮ & ⋮ & ⋮ & ⋮ & ⋮ & ⋮ & ⋮ & ⋮\\\\\n",
       "\t625 & EN18218 624 & 26228.34 & 27288.09 & 27749.22 & 27680.45 & 27624.23 & 27671.21 & 27531.96 & 27656.99 & 27685.67 & ⋯ & 27457.57 & 27088.84 & 26888.51 & 28699.76 & 28776.87 & 28416.28 & 27912.05 & 27341.06 & 28362.95 & 27899.68\\\\\n",
       "\t626 & EN18218 625 & 26311.49 & 27333.67 & 27786.94 & 27721.82 & 27710.75 & 27751.19 & 27576.61 & 27748.88 & 27709.22 & ⋯ & 27492.53 & 27108.44 & 26951.18 & 28825.39 & 28794.70 & 28424.04 & 27932.45 & 27372.82 & 28373.29 & 27911.76\\\\\n",
       "\t627 & EN18218 626 & 26403.63 & 27378.68 & 27890.39 & 27768.46 & 27723.35 & 27772.35 & 27608.54 & 27758.11 & 27718.46 & ⋯ & 27558.15 & 27118.87 & 26954.71 & 28838.96 & 28808.26 & 28444.64 & 27963.07 & 27403.82 & 28491.35 & 27913.95\\\\\n",
       "\t628 & EN18218 627 & 26495.77 & 27423.70 & 27993.84 & 27815.09 & 27735.95 & 27793.51 & 27640.46 & 27767.33 & 27727.71 & ⋯ & 27623.76 & 27129.31 & 26958.24 & 28852.52 & 28821.82 & 28465.24 & 27993.70 & 27434.82 & 28609.40 & 27916.13\\\\\n",
       "\t629 & EN18218 628 & 26587.90 & 27468.71 & 28097.29 & 27861.73 & 27748.55 & 27814.67 & 27672.39 & 27776.56 & 27736.96 & ⋯ & 27689.37 & 27139.74 & 26961.78 & 28866.08 & 28835.39 & 28485.84 & 28024.33 & 27465.82 & 28727.45 & 27918.31\\\\\n",
       "\t630 & EN18218 629 & 26680.04 & 27513.72 & 28200.74 & 27908.36 & 27761.16 & 27835.84 & 27704.31 & 27785.79 & 27746.21 & ⋯ & 27754.98 & 27150.17 & 26965.31 & 28879.65 & 28848.95 & 28506.44 & 28054.95 & 27496.82 & 28845.51 & 27920.49\\\\\n",
       "\t631 & EN18218 630 & 26772.17 & 27558.73 & 28304.19 & 27955.00 & 27773.76 & 27857.00 & 27736.24 & 27795.01 & 27755.45 & ⋯ & 27820.59 & 27160.61 & 26968.84 & 28893.21 & 28862.51 & 28527.04 & 28085.58 & 27527.82 & 28963.56 & 27922.68\\\\\n",
       "\t632 & EN18218 631 & 26789.51 & 27625.78 & 28341.40 & 27958.77 & 27801.46 & 27859.39 & 27752.75 & 27858.93 & 27772.34 & ⋯ & 27905.83 & 27176.36 & 27010.71 & 28906.86 & 28873.12 & 28540.07 & 28124.77 & 27562.92 & 28979.33 & 27925.17\\\\\n",
       "\t633 & EN18218 632 & 26806.85 & 27692.82 & 28378.61 & 27962.54 & 27829.16 & 27861.79 & 27769.27 & 27922.84 & 27789.22 & ⋯ & 27991.07 & 27192.11 & 27052.57 & 28920.50 & 28883.73 & 28553.11 & 28163.95 & 27598.03 & 28995.09 & 27927.67\\\\\n",
       "\t634 & EN18218 633 & 26824.19 & 27759.86 & 28415.81 & 27966.31 & 27856.87 & 27864.18 & 27785.78 & 27986.76 & 27806.10 & ⋯ & 28076.32 & 27207.87 & 27094.44 & 28934.15 & 28894.34 & 28566.14 & 28203.14 & 27633.13 & 29010.86 & 27930.17\\\\\n",
       "\t635 & EN18218 634 & 26841.53 & 27826.90 & 28453.02 & 27970.08 & 27884.57 & 27866.58 & 27802.29 & 28050.67 & 27822.98 & ⋯ & 28161.56 & 27223.62 & 27136.30 & 28947.79 & 28904.95 & 28579.18 & 28242.33 & 27668.24 & 29026.62 & 27932.66\\\\\n",
       "\t636 & EN18218 635 & 26858.87 & 27893.94 & 28490.23 & 27973.85 & 27912.27 & 27868.97 & 27818.81 & 28114.59 & 27839.86 & ⋯ & 28246.80 & 27239.37 & 27178.17 & 28961.44 & 28915.56 & 28592.21 & 28281.51 & 27703.34 & 29042.39 & 27935.16\\\\\n",
       "\t637 & EN18218 636 & 26923.90 & 27950.56 & 28535.13 & 28059.19 & 28012.43 & 27945.48 & 27873.87 & 28189.91 & 27927.55 & ⋯ & 28385.79 & 27295.97 & 27286.05 & 29050.33 & 29015.38 & 28636.37 & 28397.02 & 27797.03 & 29157.51 & 27974.60\\\\\n",
       "\t638 & EN18218 637 & 26988.94 & 28007.17 & 28580.04 & 28144.52 & 28112.60 & 28021.99 & 27928.94 & 28265.24 & 28015.23 & ⋯ & 28524.78 & 27352.57 & 27393.94 & 29139.22 & 29115.19 & 28680.52 & 28512.52 & 27890.71 & 29272.64 & 28014.04\\\\\n",
       "\t639 & EN18218 638 & 27053.97 & 28063.78 & 28624.95 & 28229.85 & 28212.76 & 28098.50 & 27984.01 & 28340.56 & 28102.92 & ⋯ & 28663.76 & 27409.17 & 27501.82 & 29228.11 & 29215.00 & 28724.68 & 28628.03 & 27984.40 & 29387.77 & 28053.48\\\\\n",
       "\t640 & EN18218 639 & 27119.01 & 28120.40 & 28669.85 & 28315.19 & 28312.92 & 28175.01 & 28039.08 & 28415.88 & 28190.60 & ⋯ & 28802.75 & 27465.76 & 27609.70 & 29317.00 & 29314.82 & 28768.84 & 28743.53 & 28078.09 & 29502.90 & 28092.92\\\\\n",
       "\t641 & EN18218 640 & 27184.04 & 28177.01 & 28714.76 & 28400.52 & 28413.08 & 28251.52 & 28094.15 & 28491.21 & 28278.29 & ⋯ & 28941.74 & 27522.36 & 27717.59 & 29405.89 & 29414.63 & 28812.99 & 28859.04 & 28171.77 & 29618.03 & 28132.36\\\\\n",
       "\t642 & EN18218 641 & 27298.91 & 28237.26 & 28754.17 & 28425.39 & 28433.05 & 28279.89 & 28139.39 & 28601.01 & 28352.12 & ⋯ & 28958.02 & 27534.21 & 27728.60 & 29462.71 & 29428.58 & 28820.93 & 28885.91 & 28187.16 & 29633.42 & 28241.51\\\\\n",
       "\t643 & EN18218 642 & 27413.77 & 28297.51 & 28793.59 & 28450.26 & 28453.02 & 28308.26 & 28184.62 & 28710.82 & 28425.95 & ⋯ & 28974.30 & 27546.06 & 27739.62 & 29519.53 & 29442.53 & 28828.87 & 28912.79 & 28202.56 & 29648.81 & 28350.66\\\\\n",
       "\t644 & EN18218 643 & 27528.64 & 28357.75 & 28833.00 & 28475.13 & 28473.00 & 28336.62 & 28229.86 & 28820.63 & 28499.77 & ⋯ & 28990.58 & 27557.91 & 27750.63 & 29576.34 & 29456.48 & 28836.81 & 28939.66 & 28217.95 & 29664.21 & 28459.81\\\\\n",
       "\t645 & EN18218 644 & 27643.50 & 28418.00 & 28872.42 & 28500.00 & 28492.97 & 28364.99 & 28275.10 & 28930.43 & 28573.60 & ⋯ & 29006.86 & 27569.76 & 27761.65 & 29633.16 & 29470.43 & 28844.75 & 28966.53 & 28233.34 & 29679.60 & 28568.96\\\\\n",
       "\t646 & EN18218 645 & 27758.36 & 28478.25 & 28911.84 & 28524.86 & 28512.94 & 28393.35 & 28320.34 & 29040.24 & 28647.43 & ⋯ & 29023.14 & 27581.60 & 27772.66 & 29689.98 & 29484.38 & 28852.68 & 28993.41 & 28248.74 & 29694.99 & 28678.11\\\\\n",
       "\t647 & EN18218 646 & 27767.77 & 28488.01 & 28927.25 & 28538.02 & 28567.57 & 28469.27 & 28405.37 & 29144.63 & 28741.02 & ⋯ & 29040.36 & 27636.94 & 27799.28 & 29746.34 & 29523.22 & 28954.81 & 29016.30 & 28281.60 & 29718.82 & 28785.91\\\\\n",
       "\t648 & EN18218 647 & 27777.17 & 28497.76 & 28942.67 & 28551.18 & 28622.19 & 28545.18 & 28490.41 & 29249.02 & 28834.61 & ⋯ & 29057.59 & 27692.28 & 27825.89 & 29802.69 & 29562.06 & 29056.94 & 29039.19 & 28314.46 & 29742.65 & 28893.72\\\\\n",
       "\t649 & EN18218 648 & 27786.57 & 28507.52 & 28958.09 & 28564.33 & 28676.82 & 28621.09 & 28575.45 & 29353.41 & 28928.20 & ⋯ & 29074.81 & 27747.61 & 27852.50 & 29859.05 & 29600.91 & 29159.07 & 29062.08 & 28347.32 & 29766.48 & 29001.52\\\\\n",
       "\t650 & EN18218 649 & 27795.97 & 28517.28 & 28973.50 & 28577.49 & 28731.44 & 28697.00 & 28660.49 & 29457.79 & 29021.78 & ⋯ & 29092.03 & 27802.95 & 27879.11 & 29915.41 & 29639.75 & 29261.20 & 29084.97 & 28380.19 & 29790.32 & 29109.33\\\\\n",
       "\t651 & EN18218 650 & 27805.37 & 28527.04 & 28988.92 & 28590.64 & 28786.07 & 28772.92 & 28745.53 & 29562.18 & 29115.37 & ⋯ & 29109.25 & 27858.28 & 27905.72 & 29971.77 & 29678.59 & 29363.32 & 29107.87 & 28413.05 & 29814.15 & 29217.13\\\\\n",
       "\t652 & EN18218 651 & 27810.15 & 28621.12 & 29041.36 & 28630.95 & 28855.42 & 28838.27 & 28930.61 & 29715.99 & 29152.99 & ⋯ & 29125.44 & 27890.41 & 27940.91 & 30016.33 & 29726.89 & 29369.09 & 29135.52 & 28497.00 & 29849.69 & 29237.77\\\\\n",
       "\t653 & EN18218 652 & 27814.94 & 28715.20 & 29093.80 & 28671.25 & 28924.77 & 28903.62 & 29115.70 & 29869.79 & 29190.61 & ⋯ & 29141.62 & 27922.53 & 27976.11 & 30060.90 & 29775.20 & 29374.86 & 29163.16 & 28580.96 & 29885.23 & 29258.41\\\\\n",
       "\t654 & EN18218 653 & 27819.72 & 28809.27 & 29146.24 & 28711.55 & 28994.12 & 28968.97 & 29300.78 & 30023.60 & 29228.22 & ⋯ & 29157.81 & 27954.66 & 28011.30 & 30105.46 & 29823.50 & 29380.62 & 29190.81 & 28664.91 & 29920.77 & 29279.05\\\\\n",
       "\\end{tabular}\n"
      ],
      "text/markdown": [
       "\n",
       "A data.frame: 654 × 10001\n",
       "\n",
       "| <!--/--> | depth &lt;fct&gt; | iter_1 &lt;dbl&gt; | iter_2 &lt;dbl&gt; | iter_3 &lt;dbl&gt; | iter_4 &lt;dbl&gt; | iter_5 &lt;dbl&gt; | iter_6 &lt;dbl&gt; | iter_7 &lt;dbl&gt; | iter_8 &lt;dbl&gt; | iter_9 &lt;dbl&gt; | ⋯ ⋯ | iter_9991 &lt;dbl&gt; | iter_9992 &lt;dbl&gt; | iter_9993 &lt;dbl&gt; | iter_9994 &lt;dbl&gt; | iter_9995 &lt;dbl&gt; | iter_9996 &lt;dbl&gt; | iter_9997 &lt;dbl&gt; | iter_9998 &lt;dbl&gt; | iter_9999 &lt;dbl&gt; | iter_10000 &lt;dbl&gt; |\n",
       "|---|---|---|---|---|---|---|---|---|---|---|---|---|---|---|---|---|---|---|---|---|---|\n",
       "| 1 | EN18218 0  |  -25.76630 |   38.45100 |   37.8688 |   39.8496 |   48.363 |   50.66490 |   84.00070 |   61.0202 |  -25.7697 | ⋯ |  -49.7640 |  -37.3894 |  -36.1431 |    2.48569 |   -9.51557 |  -30.9571 |  -33.9159 |   -8.96888 |   -9.69909 |  -24.5388 |\n",
       "| 2 | EN18218 1  |  -21.39847 |   46.02279 |   72.2379 |   77.5226 |   84.166 |   59.15776 |   90.33975 |   74.7019 |  -12.0880 | ⋯ |   19.1387 |   37.1561 |   41.4276 |  100.58359 |   86.53933 |   30.4065 |   27.4477 |   33.99982 |   52.07351 |   37.2338 |\n",
       "| 3 | EN18218 2  |  -17.03064 |   53.59458 |  106.6070 |  115.1956 |  119.969 |   67.65062 |   96.67880 |   88.3836 |    1.5937 | ⋯ |   88.0414 |  111.7016 |  118.9983 |  198.68149 |  182.59423 |   91.7701 |   88.8113 |   76.96852 |  113.84611 |   99.0064 |\n",
       "| 4 | EN18218 3  |  -12.66281 |   61.16637 |  140.9761 |  152.8686 |  155.772 |   76.14348 |  103.01785 |  102.0653 |   15.2754 | ⋯ |  156.9441 |  186.2471 |  196.5690 |  296.77939 |  278.64913 |  153.1337 |  150.1749 |  119.93722 |  175.61871 |  160.7790 |\n",
       "| 5 | EN18218 4  |   -8.29498 |   68.73816 |  175.3452 |  190.5416 |  191.575 |   84.63634 |  109.35690 |  115.7470 |   28.9571 | ⋯ |  225.8468 |  260.7926 |  274.1397 |  394.87729 |  374.70403 |  214.4973 |  211.5385 |  162.90592 |  237.39131 |  222.5516 |\n",
       "| 6 | EN18218 5  |   -3.92715 |   76.30995 |  209.7143 |  228.2146 |  227.378 |   93.12920 |  115.69595 |  129.4287 |   42.6388 | ⋯ |  294.7495 |  335.3381 |  351.7104 |  492.97519 |  470.75893 |  275.8609 |  272.9021 |  205.87462 |  299.16391 |  284.3242 |\n",
       "| 7 | EN18218 6  |  203.09985 |  308.29095 |  418.3523 |  420.2796 |  448.273 |  331.88120 |  354.44795 |  383.2037 |  296.4138 | ⋯ |  469.5555 |  500.2251 |  509.0714 |  650.33619 |  628.11993 |  436.8409 |  433.8821 |  366.85462 |  460.14391 |  445.3042 |\n",
       "| 8 | EN18218 7  |  410.12685 |  540.27195 |  626.9903 |  612.3446 |  669.168 |  570.63320 |  593.19995 |  636.9787 |  550.1888 | ⋯ |  644.3615 |  665.1121 |  666.4324 |  807.69719 |  785.48093 |  597.8209 |  594.8621 |  527.83462 |  621.12391 |  606.2842 |\n",
       "| 9 | EN18218 8  |  617.15385 |  772.25295 |  835.6283 |  804.4096 |  890.063 |  809.38520 |  831.95195 |  890.7537 |  803.9638 | ⋯ |  819.1675 |  829.9991 |  823.7934 |  965.05819 |  942.84193 |  758.8009 |  755.8421 |  688.81462 |  782.10391 |  767.2642 |\n",
       "| 10 | EN18218 9  |  824.18085 | 1004.23395 | 1044.2663 |  996.4746 | 1110.958 | 1048.13720 | 1070.70395 | 1144.5287 | 1057.7388 | ⋯ |  993.9735 |  994.8861 |  981.1544 | 1122.41919 | 1100.20293 |  919.7809 |  916.8221 |  849.79462 |  943.08391 |  928.2442 |\n",
       "| 11 | EN18218 10 | 1031.20785 | 1236.21495 | 1252.9043 | 1188.5396 | 1331.853 | 1286.88920 | 1309.45595 | 1398.3037 | 1311.5138 | ⋯ | 1168.7795 | 1159.7731 | 1138.5154 | 1279.78019 | 1257.56393 | 1080.7609 | 1077.8021 | 1010.77462 | 1104.06391 | 1089.2242 |\n",
       "| 12 | EN18218 11 | 1123.74505 | 1306.95815 | 1326.1312 | 1261.7665 | 1401.346 | 1370.43090 | 1382.24995 | 1466.1910 | 1385.9349 | ⋯ | 1245.7572 | 1236.7508 | 1215.4931 | 1356.75789 | 1334.54163 | 1179.8452 | 1185.4021 | 1118.37462 | 1209.02091 | 1199.6422 |\n",
       "| 13 | EN18218 12 | 1216.28225 | 1377.70135 | 1399.3581 | 1334.9934 | 1470.838 | 1453.97260 | 1455.04395 | 1534.0783 | 1460.3560 | ⋯ | 1322.7349 | 1313.7285 | 1292.4708 | 1433.73559 | 1411.51933 | 1278.9295 | 1293.0021 | 1225.97462 | 1313.97791 | 1310.0602 |\n",
       "| 14 | EN18218 13 | 1308.81945 | 1448.44455 | 1472.5850 | 1408.2203 | 1540.331 | 1537.51430 | 1527.83795 | 1601.9656 | 1534.7771 | ⋯ | 1399.7126 | 1390.7062 | 1369.4485 | 1510.71329 | 1488.49703 | 1378.0138 | 1400.6021 | 1333.57462 | 1418.93491 | 1420.4782 |\n",
       "| 15 | EN18218 14 | 1401.35665 | 1519.18775 | 1545.8119 | 1481.4472 | 1609.823 | 1621.05600 | 1600.63195 | 1669.8529 | 1609.1982 | ⋯ | 1476.6903 | 1467.6839 | 1446.4262 | 1587.69099 | 1565.47473 | 1477.0981 | 1508.2021 | 1441.17462 | 1523.89191 | 1530.8962 |\n",
       "| 16 | EN18218 15 | 1493.89385 | 1589.93095 | 1619.0388 | 1554.6741 | 1679.316 | 1704.59770 | 1673.42595 | 1737.7402 | 1683.6193 | ⋯ | 1553.6680 | 1544.6616 | 1523.4039 | 1664.66869 | 1642.45243 | 1576.1824 | 1615.8021 | 1548.77462 | 1628.84891 | 1641.3142 |\n",
       "| 17 | EN18218 16 | 1548.62025 | 1642.16645 | 1681.4583 | 1605.6658 | 1710.486 | 1737.18590 | 1698.02435 | 1764.0740 | 1726.3797 | ⋯ | 1620.8315 | 1608.5388 | 1556.8092 | 1693.01559 | 1670.79933 | 1627.4843 | 1667.1040 | 1594.30432 | 1664.89751 | 1682.0417 |\n",
       "| 18 | EN18218 17 | 1603.34665 | 1694.40195 | 1743.8778 | 1656.6575 | 1741.657 | 1769.77410 | 1722.62275 | 1790.4078 | 1769.1401 | ⋯ | 1687.9950 | 1672.4160 | 1590.2145 | 1721.36249 | 1699.14623 | 1678.7862 | 1718.4059 | 1639.83402 | 1700.94611 | 1722.7692 |\n",
       "| 19 | EN18218 18 | 1658.07305 | 1746.63745 | 1806.2973 | 1707.6492 | 1772.827 | 1802.36230 | 1747.22115 | 1816.7416 | 1811.9005 | ⋯ | 1755.1585 | 1736.2932 | 1623.6198 | 1749.70939 | 1727.49313 | 1730.0881 | 1769.7078 | 1685.36372 | 1736.99471 | 1763.4967 |\n",
       "| 20 | EN18218 19 | 1712.79945 | 1798.87295 | 1868.7168 | 1758.6409 | 1803.998 | 1834.95050 | 1771.81955 | 1843.0754 | 1854.6609 | ⋯ | 1822.3220 | 1800.1704 | 1657.0251 | 1778.05629 | 1755.84003 | 1781.3900 | 1821.0097 | 1730.89342 | 1773.04331 | 1804.2242 |\n",
       "| 21 | EN18218 20 | 1767.52585 | 1851.10845 | 1931.1363 | 1809.6326 | 1835.168 | 1867.53870 | 1796.41795 | 1869.4092 | 1897.4213 | ⋯ | 1889.4855 | 1864.0476 | 1690.4304 | 1806.40319 | 1784.18693 | 1832.6919 | 1872.3116 | 1776.42312 | 1809.09191 | 1844.9517 |\n",
       "| 22 | EN18218 21 | 1857.44985 | 1938.00275 | 2030.7530 | 1932.0526 | 1957.588 | 1994.25370 | 1923.13295 | 1994.1132 | 2022.1253 | ⋯ | 1909.3727 | 1891.8559 | 1714.4128 | 1850.59039 | 1821.34973 | 1892.5645 | 1922.1037 | 1821.98982 | 1859.15601 | 1896.2835 |\n",
       "| 23 | EN18218 22 | 1947.37385 | 2024.89705 | 2130.3697 | 2054.4726 | 2080.008 | 2120.96870 | 2049.84795 | 2118.8172 | 2146.8293 | ⋯ | 1929.2599 | 1919.6642 | 1738.3952 | 1894.77759 | 1858.51253 | 1952.4371 | 1971.8958 | 1867.55652 | 1909.22011 | 1947.6153 |\n",
       "| 24 | EN18218 23 | 2037.29785 | 2111.79135 | 2229.9864 | 2176.8926 | 2202.428 | 2247.68370 | 2176.56295 | 2243.5212 | 2271.5333 | ⋯ | 1949.1471 | 1947.4725 | 1762.3776 | 1938.96479 | 1895.67533 | 2012.3097 | 2021.6879 | 1913.12322 | 1959.28421 | 1998.9471 |\n",
       "| 25 | EN18218 24 | 2127.22185 | 2198.68565 | 2329.6031 | 2299.3126 | 2324.848 | 2374.39870 | 2303.27795 | 2368.2252 | 2396.2373 | ⋯ | 1969.0343 | 1975.2808 | 1786.3600 | 1983.15199 | 1932.83813 | 2072.1823 | 2071.4800 | 1958.68992 | 2009.34831 | 2050.2789 |\n",
       "| 26 | EN18218 25 | 2217.14585 | 2285.57995 | 2429.2198 | 2421.7326 | 2447.268 | 2501.11370 | 2429.99295 | 2492.9292 | 2520.9413 | ⋯ | 1988.9215 | 2003.0891 | 1810.3424 | 2027.33919 | 1970.00093 | 2132.0549 | 2121.2721 | 2004.25662 | 2059.41241 | 2101.6107 |\n",
       "| 27 | EN18218 26 | 2314.80165 | 2372.60645 | 2511.6780 | 2496.2667 | 2540.323 | 2555.52950 | 2482.00885 | 2560.1767 | 2587.8287 | ⋯ | 2005.6232 | 2019.7908 | 1840.3046 | 2057.30139 | 2002.94673 | 2165.0007 | 2123.5926 | 2006.57709 | 2062.06066 | 2104.2590 |\n",
       "| 28 | EN18218 27 | 2412.45745 | 2459.63295 | 2594.1362 | 2570.8008 | 2633.377 | 2609.94530 | 2534.02475 | 2627.4242 | 2654.7161 | ⋯ | 2022.3249 | 2036.4925 | 1870.2668 | 2087.26359 | 2035.89253 | 2197.9465 | 2125.9130 | 2008.89756 | 2064.70891 | 2106.9072 |\n",
       "| 29 | EN18218 28 | 2510.11325 | 2546.65945 | 2676.5944 | 2645.3349 | 2726.432 | 2664.36110 | 2586.04065 | 2694.6717 | 2721.6035 | ⋯ | 2039.0266 | 2053.1942 | 1900.2290 | 2117.22579 | 2068.83833 | 2230.8923 | 2128.2335 | 2011.21803 | 2067.35716 | 2109.5555 |\n",
       "| 30 | EN18218 29 | 2607.76905 | 2633.68595 | 2759.0526 | 2719.8690 | 2819.486 | 2718.77690 | 2638.05655 | 2761.9192 | 2788.4909 | ⋯ | 2055.7283 | 2069.8959 | 1930.1912 | 2147.18799 | 2101.78413 | 2263.8381 | 2130.5540 | 2013.53850 | 2070.00541 | 2112.2037 |\n",
       "| ⋮ | ⋮ | ⋮ | ⋮ | ⋮ | ⋮ | ⋮ | ⋮ | ⋮ | ⋮ | ⋮ | ⋱ | ⋮ | ⋮ | ⋮ | ⋮ | ⋮ | ⋮ | ⋮ | ⋮ | ⋮ | ⋮ |\n",
       "| 625 | EN18218 624 | 26228.34 | 27288.09 | 27749.22 | 27680.45 | 27624.23 | 27671.21 | 27531.96 | 27656.99 | 27685.67 | ⋯ | 27457.57 | 27088.84 | 26888.51 | 28699.76 | 28776.87 | 28416.28 | 27912.05 | 27341.06 | 28362.95 | 27899.68 |\n",
       "| 626 | EN18218 625 | 26311.49 | 27333.67 | 27786.94 | 27721.82 | 27710.75 | 27751.19 | 27576.61 | 27748.88 | 27709.22 | ⋯ | 27492.53 | 27108.44 | 26951.18 | 28825.39 | 28794.70 | 28424.04 | 27932.45 | 27372.82 | 28373.29 | 27911.76 |\n",
       "| 627 | EN18218 626 | 26403.63 | 27378.68 | 27890.39 | 27768.46 | 27723.35 | 27772.35 | 27608.54 | 27758.11 | 27718.46 | ⋯ | 27558.15 | 27118.87 | 26954.71 | 28838.96 | 28808.26 | 28444.64 | 27963.07 | 27403.82 | 28491.35 | 27913.95 |\n",
       "| 628 | EN18218 627 | 26495.77 | 27423.70 | 27993.84 | 27815.09 | 27735.95 | 27793.51 | 27640.46 | 27767.33 | 27727.71 | ⋯ | 27623.76 | 27129.31 | 26958.24 | 28852.52 | 28821.82 | 28465.24 | 27993.70 | 27434.82 | 28609.40 | 27916.13 |\n",
       "| 629 | EN18218 628 | 26587.90 | 27468.71 | 28097.29 | 27861.73 | 27748.55 | 27814.67 | 27672.39 | 27776.56 | 27736.96 | ⋯ | 27689.37 | 27139.74 | 26961.78 | 28866.08 | 28835.39 | 28485.84 | 28024.33 | 27465.82 | 28727.45 | 27918.31 |\n",
       "| 630 | EN18218 629 | 26680.04 | 27513.72 | 28200.74 | 27908.36 | 27761.16 | 27835.84 | 27704.31 | 27785.79 | 27746.21 | ⋯ | 27754.98 | 27150.17 | 26965.31 | 28879.65 | 28848.95 | 28506.44 | 28054.95 | 27496.82 | 28845.51 | 27920.49 |\n",
       "| 631 | EN18218 630 | 26772.17 | 27558.73 | 28304.19 | 27955.00 | 27773.76 | 27857.00 | 27736.24 | 27795.01 | 27755.45 | ⋯ | 27820.59 | 27160.61 | 26968.84 | 28893.21 | 28862.51 | 28527.04 | 28085.58 | 27527.82 | 28963.56 | 27922.68 |\n",
       "| 632 | EN18218 631 | 26789.51 | 27625.78 | 28341.40 | 27958.77 | 27801.46 | 27859.39 | 27752.75 | 27858.93 | 27772.34 | ⋯ | 27905.83 | 27176.36 | 27010.71 | 28906.86 | 28873.12 | 28540.07 | 28124.77 | 27562.92 | 28979.33 | 27925.17 |\n",
       "| 633 | EN18218 632 | 26806.85 | 27692.82 | 28378.61 | 27962.54 | 27829.16 | 27861.79 | 27769.27 | 27922.84 | 27789.22 | ⋯ | 27991.07 | 27192.11 | 27052.57 | 28920.50 | 28883.73 | 28553.11 | 28163.95 | 27598.03 | 28995.09 | 27927.67 |\n",
       "| 634 | EN18218 633 | 26824.19 | 27759.86 | 28415.81 | 27966.31 | 27856.87 | 27864.18 | 27785.78 | 27986.76 | 27806.10 | ⋯ | 28076.32 | 27207.87 | 27094.44 | 28934.15 | 28894.34 | 28566.14 | 28203.14 | 27633.13 | 29010.86 | 27930.17 |\n",
       "| 635 | EN18218 634 | 26841.53 | 27826.90 | 28453.02 | 27970.08 | 27884.57 | 27866.58 | 27802.29 | 28050.67 | 27822.98 | ⋯ | 28161.56 | 27223.62 | 27136.30 | 28947.79 | 28904.95 | 28579.18 | 28242.33 | 27668.24 | 29026.62 | 27932.66 |\n",
       "| 636 | EN18218 635 | 26858.87 | 27893.94 | 28490.23 | 27973.85 | 27912.27 | 27868.97 | 27818.81 | 28114.59 | 27839.86 | ⋯ | 28246.80 | 27239.37 | 27178.17 | 28961.44 | 28915.56 | 28592.21 | 28281.51 | 27703.34 | 29042.39 | 27935.16 |\n",
       "| 637 | EN18218 636 | 26923.90 | 27950.56 | 28535.13 | 28059.19 | 28012.43 | 27945.48 | 27873.87 | 28189.91 | 27927.55 | ⋯ | 28385.79 | 27295.97 | 27286.05 | 29050.33 | 29015.38 | 28636.37 | 28397.02 | 27797.03 | 29157.51 | 27974.60 |\n",
       "| 638 | EN18218 637 | 26988.94 | 28007.17 | 28580.04 | 28144.52 | 28112.60 | 28021.99 | 27928.94 | 28265.24 | 28015.23 | ⋯ | 28524.78 | 27352.57 | 27393.94 | 29139.22 | 29115.19 | 28680.52 | 28512.52 | 27890.71 | 29272.64 | 28014.04 |\n",
       "| 639 | EN18218 638 | 27053.97 | 28063.78 | 28624.95 | 28229.85 | 28212.76 | 28098.50 | 27984.01 | 28340.56 | 28102.92 | ⋯ | 28663.76 | 27409.17 | 27501.82 | 29228.11 | 29215.00 | 28724.68 | 28628.03 | 27984.40 | 29387.77 | 28053.48 |\n",
       "| 640 | EN18218 639 | 27119.01 | 28120.40 | 28669.85 | 28315.19 | 28312.92 | 28175.01 | 28039.08 | 28415.88 | 28190.60 | ⋯ | 28802.75 | 27465.76 | 27609.70 | 29317.00 | 29314.82 | 28768.84 | 28743.53 | 28078.09 | 29502.90 | 28092.92 |\n",
       "| 641 | EN18218 640 | 27184.04 | 28177.01 | 28714.76 | 28400.52 | 28413.08 | 28251.52 | 28094.15 | 28491.21 | 28278.29 | ⋯ | 28941.74 | 27522.36 | 27717.59 | 29405.89 | 29414.63 | 28812.99 | 28859.04 | 28171.77 | 29618.03 | 28132.36 |\n",
       "| 642 | EN18218 641 | 27298.91 | 28237.26 | 28754.17 | 28425.39 | 28433.05 | 28279.89 | 28139.39 | 28601.01 | 28352.12 | ⋯ | 28958.02 | 27534.21 | 27728.60 | 29462.71 | 29428.58 | 28820.93 | 28885.91 | 28187.16 | 29633.42 | 28241.51 |\n",
       "| 643 | EN18218 642 | 27413.77 | 28297.51 | 28793.59 | 28450.26 | 28453.02 | 28308.26 | 28184.62 | 28710.82 | 28425.95 | ⋯ | 28974.30 | 27546.06 | 27739.62 | 29519.53 | 29442.53 | 28828.87 | 28912.79 | 28202.56 | 29648.81 | 28350.66 |\n",
       "| 644 | EN18218 643 | 27528.64 | 28357.75 | 28833.00 | 28475.13 | 28473.00 | 28336.62 | 28229.86 | 28820.63 | 28499.77 | ⋯ | 28990.58 | 27557.91 | 27750.63 | 29576.34 | 29456.48 | 28836.81 | 28939.66 | 28217.95 | 29664.21 | 28459.81 |\n",
       "| 645 | EN18218 644 | 27643.50 | 28418.00 | 28872.42 | 28500.00 | 28492.97 | 28364.99 | 28275.10 | 28930.43 | 28573.60 | ⋯ | 29006.86 | 27569.76 | 27761.65 | 29633.16 | 29470.43 | 28844.75 | 28966.53 | 28233.34 | 29679.60 | 28568.96 |\n",
       "| 646 | EN18218 645 | 27758.36 | 28478.25 | 28911.84 | 28524.86 | 28512.94 | 28393.35 | 28320.34 | 29040.24 | 28647.43 | ⋯ | 29023.14 | 27581.60 | 27772.66 | 29689.98 | 29484.38 | 28852.68 | 28993.41 | 28248.74 | 29694.99 | 28678.11 |\n",
       "| 647 | EN18218 646 | 27767.77 | 28488.01 | 28927.25 | 28538.02 | 28567.57 | 28469.27 | 28405.37 | 29144.63 | 28741.02 | ⋯ | 29040.36 | 27636.94 | 27799.28 | 29746.34 | 29523.22 | 28954.81 | 29016.30 | 28281.60 | 29718.82 | 28785.91 |\n",
       "| 648 | EN18218 647 | 27777.17 | 28497.76 | 28942.67 | 28551.18 | 28622.19 | 28545.18 | 28490.41 | 29249.02 | 28834.61 | ⋯ | 29057.59 | 27692.28 | 27825.89 | 29802.69 | 29562.06 | 29056.94 | 29039.19 | 28314.46 | 29742.65 | 28893.72 |\n",
       "| 649 | EN18218 648 | 27786.57 | 28507.52 | 28958.09 | 28564.33 | 28676.82 | 28621.09 | 28575.45 | 29353.41 | 28928.20 | ⋯ | 29074.81 | 27747.61 | 27852.50 | 29859.05 | 29600.91 | 29159.07 | 29062.08 | 28347.32 | 29766.48 | 29001.52 |\n",
       "| 650 | EN18218 649 | 27795.97 | 28517.28 | 28973.50 | 28577.49 | 28731.44 | 28697.00 | 28660.49 | 29457.79 | 29021.78 | ⋯ | 29092.03 | 27802.95 | 27879.11 | 29915.41 | 29639.75 | 29261.20 | 29084.97 | 28380.19 | 29790.32 | 29109.33 |\n",
       "| 651 | EN18218 650 | 27805.37 | 28527.04 | 28988.92 | 28590.64 | 28786.07 | 28772.92 | 28745.53 | 29562.18 | 29115.37 | ⋯ | 29109.25 | 27858.28 | 27905.72 | 29971.77 | 29678.59 | 29363.32 | 29107.87 | 28413.05 | 29814.15 | 29217.13 |\n",
       "| 652 | EN18218 651 | 27810.15 | 28621.12 | 29041.36 | 28630.95 | 28855.42 | 28838.27 | 28930.61 | 29715.99 | 29152.99 | ⋯ | 29125.44 | 27890.41 | 27940.91 | 30016.33 | 29726.89 | 29369.09 | 29135.52 | 28497.00 | 29849.69 | 29237.77 |\n",
       "| 653 | EN18218 652 | 27814.94 | 28715.20 | 29093.80 | 28671.25 | 28924.77 | 28903.62 | 29115.70 | 29869.79 | 29190.61 | ⋯ | 29141.62 | 27922.53 | 27976.11 | 30060.90 | 29775.20 | 29374.86 | 29163.16 | 28580.96 | 29885.23 | 29258.41 |\n",
       "| 654 | EN18218 653 | 27819.72 | 28809.27 | 29146.24 | 28711.55 | 28994.12 | 28968.97 | 29300.78 | 30023.60 | 29228.22 | ⋯ | 29157.81 | 27954.66 | 28011.30 | 30105.46 | 29823.50 | 29380.62 | 29190.81 | 28664.91 | 29920.77 | 29279.05 |\n",
       "\n"
      ],
      "text/plain": [
       "    depth       iter_1     iter_2     iter_3    iter_4    iter_5   iter_6    \n",
       "1   EN18218 0    -25.76630   38.45100   37.8688   39.8496   48.363   50.66490\n",
       "2   EN18218 1    -21.39847   46.02279   72.2379   77.5226   84.166   59.15776\n",
       "3   EN18218 2    -17.03064   53.59458  106.6070  115.1956  119.969   67.65062\n",
       "4   EN18218 3    -12.66281   61.16637  140.9761  152.8686  155.772   76.14348\n",
       "5   EN18218 4     -8.29498   68.73816  175.3452  190.5416  191.575   84.63634\n",
       "6   EN18218 5     -3.92715   76.30995  209.7143  228.2146  227.378   93.12920\n",
       "7   EN18218 6    203.09985  308.29095  418.3523  420.2796  448.273  331.88120\n",
       "8   EN18218 7    410.12685  540.27195  626.9903  612.3446  669.168  570.63320\n",
       "9   EN18218 8    617.15385  772.25295  835.6283  804.4096  890.063  809.38520\n",
       "10  EN18218 9    824.18085 1004.23395 1044.2663  996.4746 1110.958 1048.13720\n",
       "11  EN18218 10  1031.20785 1236.21495 1252.9043 1188.5396 1331.853 1286.88920\n",
       "12  EN18218 11  1123.74505 1306.95815 1326.1312 1261.7665 1401.346 1370.43090\n",
       "13  EN18218 12  1216.28225 1377.70135 1399.3581 1334.9934 1470.838 1453.97260\n",
       "14  EN18218 13  1308.81945 1448.44455 1472.5850 1408.2203 1540.331 1537.51430\n",
       "15  EN18218 14  1401.35665 1519.18775 1545.8119 1481.4472 1609.823 1621.05600\n",
       "16  EN18218 15  1493.89385 1589.93095 1619.0388 1554.6741 1679.316 1704.59770\n",
       "17  EN18218 16  1548.62025 1642.16645 1681.4583 1605.6658 1710.486 1737.18590\n",
       "18  EN18218 17  1603.34665 1694.40195 1743.8778 1656.6575 1741.657 1769.77410\n",
       "19  EN18218 18  1658.07305 1746.63745 1806.2973 1707.6492 1772.827 1802.36230\n",
       "20  EN18218 19  1712.79945 1798.87295 1868.7168 1758.6409 1803.998 1834.95050\n",
       "21  EN18218 20  1767.52585 1851.10845 1931.1363 1809.6326 1835.168 1867.53870\n",
       "22  EN18218 21  1857.44985 1938.00275 2030.7530 1932.0526 1957.588 1994.25370\n",
       "23  EN18218 22  1947.37385 2024.89705 2130.3697 2054.4726 2080.008 2120.96870\n",
       "24  EN18218 23  2037.29785 2111.79135 2229.9864 2176.8926 2202.428 2247.68370\n",
       "25  EN18218 24  2127.22185 2198.68565 2329.6031 2299.3126 2324.848 2374.39870\n",
       "26  EN18218 25  2217.14585 2285.57995 2429.2198 2421.7326 2447.268 2501.11370\n",
       "27  EN18218 26  2314.80165 2372.60645 2511.6780 2496.2667 2540.323 2555.52950\n",
       "28  EN18218 27  2412.45745 2459.63295 2594.1362 2570.8008 2633.377 2609.94530\n",
       "29  EN18218 28  2510.11325 2546.65945 2676.5944 2645.3349 2726.432 2664.36110\n",
       "30  EN18218 29  2607.76905 2633.68595 2759.0526 2719.8690 2819.486 2718.77690\n",
       "⋮   ⋮           ⋮          ⋮          ⋮         ⋮         ⋮        ⋮         \n",
       "625 EN18218 624 26228.34   27288.09   27749.22  27680.45  27624.23 27671.21  \n",
       "626 EN18218 625 26311.49   27333.67   27786.94  27721.82  27710.75 27751.19  \n",
       "627 EN18218 626 26403.63   27378.68   27890.39  27768.46  27723.35 27772.35  \n",
       "628 EN18218 627 26495.77   27423.70   27993.84  27815.09  27735.95 27793.51  \n",
       "629 EN18218 628 26587.90   27468.71   28097.29  27861.73  27748.55 27814.67  \n",
       "630 EN18218 629 26680.04   27513.72   28200.74  27908.36  27761.16 27835.84  \n",
       "631 EN18218 630 26772.17   27558.73   28304.19  27955.00  27773.76 27857.00  \n",
       "632 EN18218 631 26789.51   27625.78   28341.40  27958.77  27801.46 27859.39  \n",
       "633 EN18218 632 26806.85   27692.82   28378.61  27962.54  27829.16 27861.79  \n",
       "634 EN18218 633 26824.19   27759.86   28415.81  27966.31  27856.87 27864.18  \n",
       "635 EN18218 634 26841.53   27826.90   28453.02  27970.08  27884.57 27866.58  \n",
       "636 EN18218 635 26858.87   27893.94   28490.23  27973.85  27912.27 27868.97  \n",
       "637 EN18218 636 26923.90   27950.56   28535.13  28059.19  28012.43 27945.48  \n",
       "638 EN18218 637 26988.94   28007.17   28580.04  28144.52  28112.60 28021.99  \n",
       "639 EN18218 638 27053.97   28063.78   28624.95  28229.85  28212.76 28098.50  \n",
       "640 EN18218 639 27119.01   28120.40   28669.85  28315.19  28312.92 28175.01  \n",
       "641 EN18218 640 27184.04   28177.01   28714.76  28400.52  28413.08 28251.52  \n",
       "642 EN18218 641 27298.91   28237.26   28754.17  28425.39  28433.05 28279.89  \n",
       "643 EN18218 642 27413.77   28297.51   28793.59  28450.26  28453.02 28308.26  \n",
       "644 EN18218 643 27528.64   28357.75   28833.00  28475.13  28473.00 28336.62  \n",
       "645 EN18218 644 27643.50   28418.00   28872.42  28500.00  28492.97 28364.99  \n",
       "646 EN18218 645 27758.36   28478.25   28911.84  28524.86  28512.94 28393.35  \n",
       "647 EN18218 646 27767.77   28488.01   28927.25  28538.02  28567.57 28469.27  \n",
       "648 EN18218 647 27777.17   28497.76   28942.67  28551.18  28622.19 28545.18  \n",
       "649 EN18218 648 27786.57   28507.52   28958.09  28564.33  28676.82 28621.09  \n",
       "650 EN18218 649 27795.97   28517.28   28973.50  28577.49  28731.44 28697.00  \n",
       "651 EN18218 650 27805.37   28527.04   28988.92  28590.64  28786.07 28772.92  \n",
       "652 EN18218 651 27810.15   28621.12   29041.36  28630.95  28855.42 28838.27  \n",
       "653 EN18218 652 27814.94   28715.20   29093.80  28671.25  28924.77 28903.62  \n",
       "654 EN18218 653 27819.72   28809.27   29146.24  28711.55  28994.12 28968.97  \n",
       "    iter_7     iter_8    iter_9    ⋯ iter_9991 iter_9992 iter_9993 iter_9994 \n",
       "1     84.00070   61.0202  -25.7697 ⋯  -49.7640  -37.3894  -36.1431    2.48569\n",
       "2     90.33975   74.7019  -12.0880 ⋯   19.1387   37.1561   41.4276  100.58359\n",
       "3     96.67880   88.3836    1.5937 ⋯   88.0414  111.7016  118.9983  198.68149\n",
       "4    103.01785  102.0653   15.2754 ⋯  156.9441  186.2471  196.5690  296.77939\n",
       "5    109.35690  115.7470   28.9571 ⋯  225.8468  260.7926  274.1397  394.87729\n",
       "6    115.69595  129.4287   42.6388 ⋯  294.7495  335.3381  351.7104  492.97519\n",
       "7    354.44795  383.2037  296.4138 ⋯  469.5555  500.2251  509.0714  650.33619\n",
       "8    593.19995  636.9787  550.1888 ⋯  644.3615  665.1121  666.4324  807.69719\n",
       "9    831.95195  890.7537  803.9638 ⋯  819.1675  829.9991  823.7934  965.05819\n",
       "10  1070.70395 1144.5287 1057.7388 ⋯  993.9735  994.8861  981.1544 1122.41919\n",
       "11  1309.45595 1398.3037 1311.5138 ⋯ 1168.7795 1159.7731 1138.5154 1279.78019\n",
       "12  1382.24995 1466.1910 1385.9349 ⋯ 1245.7572 1236.7508 1215.4931 1356.75789\n",
       "13  1455.04395 1534.0783 1460.3560 ⋯ 1322.7349 1313.7285 1292.4708 1433.73559\n",
       "14  1527.83795 1601.9656 1534.7771 ⋯ 1399.7126 1390.7062 1369.4485 1510.71329\n",
       "15  1600.63195 1669.8529 1609.1982 ⋯ 1476.6903 1467.6839 1446.4262 1587.69099\n",
       "16  1673.42595 1737.7402 1683.6193 ⋯ 1553.6680 1544.6616 1523.4039 1664.66869\n",
       "17  1698.02435 1764.0740 1726.3797 ⋯ 1620.8315 1608.5388 1556.8092 1693.01559\n",
       "18  1722.62275 1790.4078 1769.1401 ⋯ 1687.9950 1672.4160 1590.2145 1721.36249\n",
       "19  1747.22115 1816.7416 1811.9005 ⋯ 1755.1585 1736.2932 1623.6198 1749.70939\n",
       "20  1771.81955 1843.0754 1854.6609 ⋯ 1822.3220 1800.1704 1657.0251 1778.05629\n",
       "21  1796.41795 1869.4092 1897.4213 ⋯ 1889.4855 1864.0476 1690.4304 1806.40319\n",
       "22  1923.13295 1994.1132 2022.1253 ⋯ 1909.3727 1891.8559 1714.4128 1850.59039\n",
       "23  2049.84795 2118.8172 2146.8293 ⋯ 1929.2599 1919.6642 1738.3952 1894.77759\n",
       "24  2176.56295 2243.5212 2271.5333 ⋯ 1949.1471 1947.4725 1762.3776 1938.96479\n",
       "25  2303.27795 2368.2252 2396.2373 ⋯ 1969.0343 1975.2808 1786.3600 1983.15199\n",
       "26  2429.99295 2492.9292 2520.9413 ⋯ 1988.9215 2003.0891 1810.3424 2027.33919\n",
       "27  2482.00885 2560.1767 2587.8287 ⋯ 2005.6232 2019.7908 1840.3046 2057.30139\n",
       "28  2534.02475 2627.4242 2654.7161 ⋯ 2022.3249 2036.4925 1870.2668 2087.26359\n",
       "29  2586.04065 2694.6717 2721.6035 ⋯ 2039.0266 2053.1942 1900.2290 2117.22579\n",
       "30  2638.05655 2761.9192 2788.4909 ⋯ 2055.7283 2069.8959 1930.1912 2147.18799\n",
       "⋮   ⋮          ⋮         ⋮         ⋱ ⋮         ⋮         ⋮         ⋮         \n",
       "625 27531.96   27656.99  27685.67  ⋯ 27457.57  27088.84  26888.51  28699.76  \n",
       "626 27576.61   27748.88  27709.22  ⋯ 27492.53  27108.44  26951.18  28825.39  \n",
       "627 27608.54   27758.11  27718.46  ⋯ 27558.15  27118.87  26954.71  28838.96  \n",
       "628 27640.46   27767.33  27727.71  ⋯ 27623.76  27129.31  26958.24  28852.52  \n",
       "629 27672.39   27776.56  27736.96  ⋯ 27689.37  27139.74  26961.78  28866.08  \n",
       "630 27704.31   27785.79  27746.21  ⋯ 27754.98  27150.17  26965.31  28879.65  \n",
       "631 27736.24   27795.01  27755.45  ⋯ 27820.59  27160.61  26968.84  28893.21  \n",
       "632 27752.75   27858.93  27772.34  ⋯ 27905.83  27176.36  27010.71  28906.86  \n",
       "633 27769.27   27922.84  27789.22  ⋯ 27991.07  27192.11  27052.57  28920.50  \n",
       "634 27785.78   27986.76  27806.10  ⋯ 28076.32  27207.87  27094.44  28934.15  \n",
       "635 27802.29   28050.67  27822.98  ⋯ 28161.56  27223.62  27136.30  28947.79  \n",
       "636 27818.81   28114.59  27839.86  ⋯ 28246.80  27239.37  27178.17  28961.44  \n",
       "637 27873.87   28189.91  27927.55  ⋯ 28385.79  27295.97  27286.05  29050.33  \n",
       "638 27928.94   28265.24  28015.23  ⋯ 28524.78  27352.57  27393.94  29139.22  \n",
       "639 27984.01   28340.56  28102.92  ⋯ 28663.76  27409.17  27501.82  29228.11  \n",
       "640 28039.08   28415.88  28190.60  ⋯ 28802.75  27465.76  27609.70  29317.00  \n",
       "641 28094.15   28491.21  28278.29  ⋯ 28941.74  27522.36  27717.59  29405.89  \n",
       "642 28139.39   28601.01  28352.12  ⋯ 28958.02  27534.21  27728.60  29462.71  \n",
       "643 28184.62   28710.82  28425.95  ⋯ 28974.30  27546.06  27739.62  29519.53  \n",
       "644 28229.86   28820.63  28499.77  ⋯ 28990.58  27557.91  27750.63  29576.34  \n",
       "645 28275.10   28930.43  28573.60  ⋯ 29006.86  27569.76  27761.65  29633.16  \n",
       "646 28320.34   29040.24  28647.43  ⋯ 29023.14  27581.60  27772.66  29689.98  \n",
       "647 28405.37   29144.63  28741.02  ⋯ 29040.36  27636.94  27799.28  29746.34  \n",
       "648 28490.41   29249.02  28834.61  ⋯ 29057.59  27692.28  27825.89  29802.69  \n",
       "649 28575.45   29353.41  28928.20  ⋯ 29074.81  27747.61  27852.50  29859.05  \n",
       "650 28660.49   29457.79  29021.78  ⋯ 29092.03  27802.95  27879.11  29915.41  \n",
       "651 28745.53   29562.18  29115.37  ⋯ 29109.25  27858.28  27905.72  29971.77  \n",
       "652 28930.61   29715.99  29152.99  ⋯ 29125.44  27890.41  27940.91  30016.33  \n",
       "653 29115.70   29869.79  29190.61  ⋯ 29141.62  27922.53  27976.11  30060.90  \n",
       "654 29300.78   30023.60  29228.22  ⋯ 29157.81  27954.66  28011.30  30105.46  \n",
       "    iter_9995  iter_9996 iter_9997 iter_9998  iter_9999  iter_10000\n",
       "1     -9.51557  -30.9571  -33.9159   -8.96888   -9.69909  -24.5388 \n",
       "2     86.53933   30.4065   27.4477   33.99982   52.07351   37.2338 \n",
       "3    182.59423   91.7701   88.8113   76.96852  113.84611   99.0064 \n",
       "4    278.64913  153.1337  150.1749  119.93722  175.61871  160.7790 \n",
       "5    374.70403  214.4973  211.5385  162.90592  237.39131  222.5516 \n",
       "6    470.75893  275.8609  272.9021  205.87462  299.16391  284.3242 \n",
       "7    628.11993  436.8409  433.8821  366.85462  460.14391  445.3042 \n",
       "8    785.48093  597.8209  594.8621  527.83462  621.12391  606.2842 \n",
       "9    942.84193  758.8009  755.8421  688.81462  782.10391  767.2642 \n",
       "10  1100.20293  919.7809  916.8221  849.79462  943.08391  928.2442 \n",
       "11  1257.56393 1080.7609 1077.8021 1010.77462 1104.06391 1089.2242 \n",
       "12  1334.54163 1179.8452 1185.4021 1118.37462 1209.02091 1199.6422 \n",
       "13  1411.51933 1278.9295 1293.0021 1225.97462 1313.97791 1310.0602 \n",
       "14  1488.49703 1378.0138 1400.6021 1333.57462 1418.93491 1420.4782 \n",
       "15  1565.47473 1477.0981 1508.2021 1441.17462 1523.89191 1530.8962 \n",
       "16  1642.45243 1576.1824 1615.8021 1548.77462 1628.84891 1641.3142 \n",
       "17  1670.79933 1627.4843 1667.1040 1594.30432 1664.89751 1682.0417 \n",
       "18  1699.14623 1678.7862 1718.4059 1639.83402 1700.94611 1722.7692 \n",
       "19  1727.49313 1730.0881 1769.7078 1685.36372 1736.99471 1763.4967 \n",
       "20  1755.84003 1781.3900 1821.0097 1730.89342 1773.04331 1804.2242 \n",
       "21  1784.18693 1832.6919 1872.3116 1776.42312 1809.09191 1844.9517 \n",
       "22  1821.34973 1892.5645 1922.1037 1821.98982 1859.15601 1896.2835 \n",
       "23  1858.51253 1952.4371 1971.8958 1867.55652 1909.22011 1947.6153 \n",
       "24  1895.67533 2012.3097 2021.6879 1913.12322 1959.28421 1998.9471 \n",
       "25  1932.83813 2072.1823 2071.4800 1958.68992 2009.34831 2050.2789 \n",
       "26  1970.00093 2132.0549 2121.2721 2004.25662 2059.41241 2101.6107 \n",
       "27  2002.94673 2165.0007 2123.5926 2006.57709 2062.06066 2104.2590 \n",
       "28  2035.89253 2197.9465 2125.9130 2008.89756 2064.70891 2106.9072 \n",
       "29  2068.83833 2230.8923 2128.2335 2011.21803 2067.35716 2109.5555 \n",
       "30  2101.78413 2263.8381 2130.5540 2013.53850 2070.00541 2112.2037 \n",
       "⋮   ⋮          ⋮         ⋮         ⋮          ⋮          ⋮         \n",
       "625 28776.87   28416.28  27912.05  27341.06   28362.95   27899.68  \n",
       "626 28794.70   28424.04  27932.45  27372.82   28373.29   27911.76  \n",
       "627 28808.26   28444.64  27963.07  27403.82   28491.35   27913.95  \n",
       "628 28821.82   28465.24  27993.70  27434.82   28609.40   27916.13  \n",
       "629 28835.39   28485.84  28024.33  27465.82   28727.45   27918.31  \n",
       "630 28848.95   28506.44  28054.95  27496.82   28845.51   27920.49  \n",
       "631 28862.51   28527.04  28085.58  27527.82   28963.56   27922.68  \n",
       "632 28873.12   28540.07  28124.77  27562.92   28979.33   27925.17  \n",
       "633 28883.73   28553.11  28163.95  27598.03   28995.09   27927.67  \n",
       "634 28894.34   28566.14  28203.14  27633.13   29010.86   27930.17  \n",
       "635 28904.95   28579.18  28242.33  27668.24   29026.62   27932.66  \n",
       "636 28915.56   28592.21  28281.51  27703.34   29042.39   27935.16  \n",
       "637 29015.38   28636.37  28397.02  27797.03   29157.51   27974.60  \n",
       "638 29115.19   28680.52  28512.52  27890.71   29272.64   28014.04  \n",
       "639 29215.00   28724.68  28628.03  27984.40   29387.77   28053.48  \n",
       "640 29314.82   28768.84  28743.53  28078.09   29502.90   28092.92  \n",
       "641 29414.63   28812.99  28859.04  28171.77   29618.03   28132.36  \n",
       "642 29428.58   28820.93  28885.91  28187.16   29633.42   28241.51  \n",
       "643 29442.53   28828.87  28912.79  28202.56   29648.81   28350.66  \n",
       "644 29456.48   28836.81  28939.66  28217.95   29664.21   28459.81  \n",
       "645 29470.43   28844.75  28966.53  28233.34   29679.60   28568.96  \n",
       "646 29484.38   28852.68  28993.41  28248.74   29694.99   28678.11  \n",
       "647 29523.22   28954.81  29016.30  28281.60   29718.82   28785.91  \n",
       "648 29562.06   29056.94  29039.19  28314.46   29742.65   28893.72  \n",
       "649 29600.91   29159.07  29062.08  28347.32   29766.48   29001.52  \n",
       "650 29639.75   29261.20  29084.97  28380.19   29790.32   29109.33  \n",
       "651 29678.59   29363.32  29107.87  28413.05   29814.15   29217.13  \n",
       "652 29726.89   29369.09  29135.52  28497.00   29849.69   29237.77  \n",
       "653 29775.20   29374.86  29163.16  28580.96   29885.23   29258.41  \n",
       "654 29823.50   29380.62  29190.81  28664.91   29920.77   29279.05  "
      ]
     },
     "metadata": {},
     "output_type": "display_data"
    }
   ],
   "source": [
    "Bacon_core_results"
   ]
  },
  {
   "cell_type": "code",
   "execution_count": 22,
   "metadata": {
    "kernel": "R"
   },
   "outputs": [],
   "source": [
    "%put Bacon_core_results"
   ]
  },
  {
   "cell_type": "markdown",
   "metadata": {
    "editable": true,
    "kernel": "SoS",
    "slideshow": {
     "slide_type": ""
    },
    "tags": []
   },
   "source": [
    "#### Aggregate"
   ]
  },
  {
   "cell_type": "code",
   "execution_count": 23,
   "metadata": {
    "kernel": "SoS"
   },
   "outputs": [],
   "source": [
    "aggBa = aggregate.AggDataBacon(Bacon_core_results, dttp = aggRC.dttp)\n",
    "aggBa.results_agg()"
   ]
  },
  {
   "cell_type": "markdown",
   "metadata": {
    "kernel": "SoS"
   },
   "source": [
    "#### Calculating sedimentation rate"
   ]
  },
  {
   "cell_type": "code",
   "execution_count": 24,
   "metadata": {
    "kernel": "SoS"
   },
   "outputs": [],
   "source": [
    "SRBa = sedi_rate.CalculateSediRate(aggBa, model = 'Bacon', coreid = CoreIDs, mode = SR_mode)\n",
    "SRBa.calculating_SR()"
   ]
  },
  {
   "cell_type": "markdown",
   "metadata": {
    "kernel": "SoS"
   },
   "source": [
    "#### Push results to database"
   ]
  },
  {
   "cell_type": "code",
   "execution_count": 25,
   "metadata": {
    "kernel": "SoS"
   },
   "outputs": [
    {
     "name": "stdout",
     "output_type": "stream",
     "text": [
      "Information: LANDO is not connected to a database, so nothing was uploaded.\n"
     ]
    }
   ],
   "source": [
    "push = push_data.PushIt(agg = aggBa,\n",
    "                        engine = dates.engine,\n",
    "                        model = 'Bacon')\n",
    "push.push_to_db()"
   ]
  },
  {
   "cell_type": "markdown",
   "metadata": {
    "kernel": "SoS"
   },
   "source": [
    "### Clam"
   ]
  },
  {
   "cell_type": "markdown",
   "metadata": {
    "kernel": "SoS"
   },
   "source": [
    "#### Prep"
   ]
  },
  {
   "cell_type": "code",
   "execution_count": 54,
   "metadata": {
    "kernel": "SoS"
   },
   "outputs": [],
   "source": [
    "clam = prep.PrepForClam(all_ages = AllAges)\n",
    "clam.prep_it()\n",
    "clam_Frame = clam.clam_Frame"
   ]
  },
  {
   "cell_type": "markdown",
   "metadata": {
    "kernel": "SoS"
   },
   "source": [
    "#### R Run"
   ]
  },
  {
   "cell_type": "code",
   "execution_count": 55,
   "metadata": {
    "kernel": "R"
   },
   "outputs": [],
   "source": [
    "%get clam_Frame --from SoS\n",
    "%get CoreIDs --from SoS\n",
    "%get CoreLengths --from SoS"
   ]
  },
  {
   "cell_type": "code",
   "execution_count": 56,
   "metadata": {
    "kernel": "R"
   },
   "outputs": [],
   "source": [
    "types_curve <- 1:5\n",
    "smoothness_curve <- 0.1*(1:10)\n",
    "poly_degree_curve <- 1:4\n",
    "best_fit <- TRUE"
   ]
  },
  {
   "cell_type": "code",
   "execution_count": 57,
   "metadata": {
    "kernel": "R"
   },
   "outputs": [
    {
     "name": "stderr",
     "output_type": "stream",
     "text": [
      "🌍 Starting core EN18218 (1 of 1)\n",
      "\n"
     ]
    },
    {
     "name": "stdout",
     "output_type": "stream",
     "text": [
      "starting worker for localhost:11348 \n",
      "starting worker for localhost:11348 \n",
      "starting worker for localhost:11348 \n",
      "starting worker for localhost:11348 \n",
      "starting worker for localhost:11348 \n",
      "starting worker for localhost:11348 \n",
      "Type: EXEC \n",
      "Type: EXEC \n",
      "Type: EXEC \n",
      "Type: EXEC \n",
      "Type: EXEC \n",
      "Type: EXEC \n",
      "Type: EXEC \n",
      "Type: EXEC \n",
      "Type: EXEC \n",
      "Type: EXEC \n",
      "Type: EXEC \n",
      "Type: EXEC \n",
      " extrapolating beyond dated levels, dangerous!\n",
      "  extrapolating beyond dated levels, dangerous!\n",
      "  extrapolating beyond dated levels, dangerous!\n",
      "  extrapolating beyond dated levels, dangerous!\n",
      "  extrapolating beyond dated levels, dangerous!\n",
      "  extrapolating beyond dated levels, dangerous!\n",
      "  Interpolating, sampling.........."
     ]
    },
    {
     "name": "stderr",
     "output_type": "stream",
     "text": [
      "📏 Fit for EN18218 — clam type 3: 28.93\n",
      "✅ Finished core EN18218 — clam type 3\n"
     ]
    },
    {
     "name": "stdout",
     "output_type": "stream",
     "text": [
      "Type: EXEC \n",
      " extrapolating beyond dated levels, dangerous!\n",
      " "
     ]
    },
    {
     "name": "stderr",
     "output_type": "stream",
     "text": [
      "📏 Fit for EN18218 — clam type 1: 27.26\n",
      "✅ Finished core EN18218 — clam type 1\n"
     ]
    },
    {
     "name": "stdout",
     "output_type": "stream",
     "text": [
      "Type: EXEC \n",
      " extrapolating beyond dated levels, dangerous!\n",
      " .................."
     ]
    },
    {
     "name": "stderr",
     "output_type": "stream",
     "text": [
      "📏 Fit for EN18218 — clam type 4 smoothing 0.1: 71.2\n",
      "✅ Finished core EN18218 — clam type 4 smoothing 0.1\n"
     ]
    },
    {
     "name": "stdout",
     "output_type": "stream",
     "text": [
      "Type: EXEC \n",
      " extrapolating beyond dated levels, dangerous!\n",
      " "
     ]
    },
    {
     "name": "stderr",
     "output_type": "stream",
     "text": [
      "📏 Fit for EN18218 — clam type 4 smoothing 0.2: 82.76\n",
      "✅ Finished core EN18218 — clam type 4 smoothing 0.2\n"
     ]
    },
    {
     "name": "stdout",
     "output_type": "stream",
     "text": [
      "Type: EXEC \n",
      " extrapolating beyond dated levels, dangerous!\n",
      " .............."
     ]
    },
    {
     "name": "stderr",
     "output_type": "stream",
     "text": [
      "📏 Fit for EN18218 — clam type 4 smoothing 0.3: 150.84\n",
      "✅ Finished core EN18218 — clam type 4 smoothing 0.3\n"
     ]
    },
    {
     "name": "stdout",
     "output_type": "stream",
     "text": [
      "Type: EXEC \n",
      " extrapolating beyond dated levels, dangerous!\n",
      " ."
     ]
    },
    {
     "name": "stderr",
     "output_type": "stream",
     "text": [
      "📏 Fit for EN18218 — clam type 4 smoothing 0.4: 283.19\n",
      "✅ Finished core EN18218 — clam type 4 smoothing 0.4\n"
     ]
    },
    {
     "name": "stdout",
     "output_type": "stream",
     "text": [
      ".Type: EXEC \n",
      " extrapolating beyond dated levels, dangerous!\n",
      " ............"
     ]
    },
    {
     "name": "stderr",
     "output_type": "stream",
     "text": [
      "📏 Fit for EN18218 — clam type 2 degree 1: NA\n",
      "✅ Finished core EN18218 — clam type 2 degree 1\n"
     ]
    },
    {
     "name": "stdout",
     "output_type": "stream",
     "text": [
      "."
     ]
    },
    {
     "name": "stderr",
     "output_type": "stream",
     "text": [
      "📏 Fit for EN18218 — clam type 2 degree 2: NA\n",
      "✅ Finished core EN18218 — clam type 2 degree 2\n"
     ]
    },
    {
     "name": "stdout",
     "output_type": "stream",
     "text": [
      "..Type: EXEC \n",
      "Type: EXEC \n",
      " extrapolating beyond dated levels, dangerous!\n",
      "  extrapolating beyond dated levels, dangerous!\n",
      " "
     ]
    },
    {
     "name": "stderr",
     "output_type": "stream",
     "text": [
      "📏 Fit for EN18218 — clam type 2 degree 3: 2180.5\n",
      "✅ Finished core EN18218 — clam type 2 degree 3\n"
     ]
    },
    {
     "name": "stdout",
     "output_type": "stream",
     "text": [
      "Type: EXEC \n",
      " extrapolating beyond dated levels, dangerous!\n",
      " ."
     ]
    },
    {
     "name": "stderr",
     "output_type": "stream",
     "text": [
      "📏 Fit for EN18218 — clam type 2 degree 4: 1201.4\n",
      "✅ Finished core EN18218 — clam type 2 degree 4\n",
      "📏 Fit for EN18218 — clam type 4 smoothing 0.5: 485.81\n",
      "✅ Finished core EN18218 — clam type 4 smoothing 0.5\n"
     ]
    },
    {
     "name": "stdout",
     "output_type": "stream",
     "text": [
      "Type: EXEC \n",
      "Type: EXEC \n",
      " extrapolating beyond dated levels, dangerous!\n",
      " .."
     ]
    },
    {
     "name": "stderr",
     "output_type": "stream",
     "text": [
      "📏 Fit for EN18218 — clam type 4 smoothing 0.6: 602.92\n",
      "✅ Finished core EN18218 — clam type 4 smoothing 0.6\n"
     ]
    },
    {
     "name": "stdout",
     "output_type": "stream",
     "text": [
      "Type: EXEC \n",
      "..................."
     ]
    },
    {
     "name": "stderr",
     "output_type": "stream",
     "text": [
      "📏 Fit for EN18218 — clam type 4 smoothing 0.7: 883.8\n",
      "✅ Finished core EN18218 — clam type 4 smoothing 0.7\n",
      "📏 Fit for EN18218 — clam type 4 smoothing 0.8: 1436.9\n",
      "✅ Finished core EN18218 — clam type 4 smoothing 0.8\n"
     ]
    },
    {
     "name": "stdout",
     "output_type": "stream",
     "text": [
      ".Type: EXEC \n",
      "Type: EXEC \n"
     ]
    },
    {
     "name": "stderr",
     "output_type": "stream",
     "text": [
      "📏 Fit for EN18218 — clam type 4 smoothing 0.9: 2203.5\n",
      "✅ Finished core EN18218 — clam type 4 smoothing 0.9\n"
     ]
    },
    {
     "name": "stdout",
     "output_type": "stream",
     "text": [
      ".Type: EXEC \n"
     ]
    },
    {
     "name": "stderr",
     "output_type": "stream",
     "text": [
      "📏 Fit for EN18218 — clam type 4 smoothing 1.0: 2872.9\n",
      "✅ Finished core EN18218 — clam type 4 smoothing 1.0\n"
     ]
    },
    {
     "name": "stdout",
     "output_type": "stream",
     "text": [
      ".Type: EXEC \n",
      "................."
     ]
    },
    {
     "name": "stderr",
     "output_type": "stream",
     "text": [
      "📏 Fit for EN18218 — clam type 5 smoothing 0.2: 130.12\n",
      "✅ Finished core EN18218 — clam type 5 smoothing 0.2\n"
     ]
    },
    {
     "name": "stdout",
     "output_type": "stream",
     "text": [
      "Type: EXEC \n",
      "....."
     ]
    },
    {
     "name": "stderr",
     "output_type": "stream",
     "text": [
      "📏 Fit for EN18218 — clam type 5 smoothing 0.1: 28.02\n",
      "✅ Finished core EN18218 — clam type 5 smoothing 0.1\n"
     ]
    },
    {
     "name": "stdout",
     "output_type": "stream",
     "text": [
      "Type: EXEC \n",
      "...."
     ]
    },
    {
     "name": "stderr",
     "output_type": "stream",
     "text": [
      "📏 Fit for EN18218 — clam type 5 smoothing 0.4: 634.73\n",
      "✅ Finished core EN18218 — clam type 5 smoothing 0.4\n"
     ]
    },
    {
     "name": "stdout",
     "output_type": "stream",
     "text": [
      ".Type: EXEC \n",
      ".."
     ]
    },
    {
     "name": "stderr",
     "output_type": "stream",
     "text": [
      "📏 Fit for EN18218 — clam type 5 smoothing 0.5: 1070.7\n",
      "✅ Finished core EN18218 — clam type 5 smoothing 0.5\n"
     ]
    },
    {
     "name": "stdout",
     "output_type": "stream",
     "text": [
      "Type: EXEC \n"
     ]
    },
    {
     "name": "stderr",
     "output_type": "stream",
     "text": [
      "📏 Fit for EN18218 — clam type 5 smoothing 0.3: 551.88\n",
      "✅ Finished core EN18218 — clam type 5 smoothing 0.3\n",
      "📏 Fit for EN18218 — clam type 5 smoothing 0.6: 1764.4\n",
      "✅ Finished core EN18218 — clam type 5 smoothing 0.6\n"
     ]
    },
    {
     "name": "stdout",
     "output_type": "stream",
     "text": [
      "............"
     ]
    },
    {
     "name": "stderr",
     "output_type": "stream",
     "text": [
      "📏 Fit for EN18218 — clam type 5 smoothing 0.7: 2195.1\n",
      "✅ Finished core EN18218 — clam type 5 smoothing 0.7\n"
     ]
    },
    {
     "name": "stdout",
     "output_type": "stream",
     "text": [
      "..."
     ]
    },
    {
     "name": "stderr",
     "output_type": "stream",
     "text": [
      "📏 Fit for EN18218 — clam type 5 smoothing 0.8: 2396.6\n",
      "✅ Finished core EN18218 — clam type 5 smoothing 0.8\n"
     ]
    },
    {
     "name": "stdout",
     "output_type": "stream",
     "text": [
      ".."
     ]
    },
    {
     "name": "stderr",
     "output_type": "stream",
     "text": [
      "📏 Fit for EN18218 — clam type 5 smoothing 0.9: 2686.8\n",
      "✅ Finished core EN18218 — clam type 5 smoothing 0.9\n",
      "📏 Fit for EN18218 — clam type 5 smoothing 1.0: NA\n",
      "✅ Finished core EN18218 — clam type 5 smoothing 1.0\n"
     ]
    },
    {
     "name": "stdout",
     "output_type": "stream",
     "text": [
      "Type: DONE \n",
      "Type: DONE \n",
      "Type: DONE \n",
      "Type: DONE \n",
      "Type: DONE \n",
      "Type: DONE \n"
     ]
    },
    {
     "name": "stderr",
     "output_type": "stream",
     "text": [
      "\n",
      "\n"
     ]
    }
   ],
   "source": [
    "source('src/Run_clam.R', local = TRUE)"
   ]
  },
  {
   "cell_type": "code",
   "execution_count": 58,
   "metadata": {
    "kernel": "R"
   },
   "outputs": [],
   "source": [
    "%put clam_core_results"
   ]
  },
  {
   "cell_type": "markdown",
   "metadata": {
    "kernel": "R"
   },
   "source": [
    "#### Aggregate"
   ]
  },
  {
   "cell_type": "code",
   "execution_count": 59,
   "metadata": {
    "kernel": "SoS"
   },
   "outputs": [],
   "source": [
    "aggcl = aggregate.AggDataClam(clam_core_results, dttp = aggRC.dttp)\n",
    "aggcl.results_agg()"
   ]
  },
  {
   "cell_type": "markdown",
   "metadata": {
    "kernel": "SoS"
   },
   "source": [
    "#### Calculating sedimentation rate"
   ]
  },
  {
   "cell_type": "code",
   "execution_count": 60,
   "metadata": {
    "kernel": "SoS"
   },
   "outputs": [],
   "source": [
    "SRcl = sedi_rate.CalculateSediRate(aggcl, model = 'clam', coreid = CoreIDs, mode = SR_mode)\n",
    "SRcl.calculating_SR()"
   ]
  },
  {
   "cell_type": "markdown",
   "metadata": {
    "kernel": "SoS"
   },
   "source": [
    "#### Push results to database"
   ]
  },
  {
   "cell_type": "code",
   "execution_count": 61,
   "metadata": {
    "kernel": "SoS"
   },
   "outputs": [
    {
     "name": "stdout",
     "output_type": "stream",
     "text": [
      "Information: LANDO is not connected to a database, so nothing was uploaded.\n"
     ]
    }
   ],
   "source": [
    "push = push_data.PushIt(agg = aggcl,\n",
    "                        engine = dates.engine,\n",
    "                        model = 'clam')\n",
    "push.push_to_db()"
   ]
  },
  {
   "cell_type": "markdown",
   "metadata": {
    "kernel": "SoS"
   },
   "source": [
    "# Plotting"
   ]
  },
  {
   "cell_type": "code",
   "execution_count": 26,
   "metadata": {
    "kernel": "SoS"
   },
   "outputs": [],
   "source": [
    "plot_data = {#'Undatable' : [aggU.age_model_result_Undatable, SRUn.SR_model_result_Undatable],\n",
    "             #'Bchron': [aggBc.age_model_result_Bchron, SRBc.SR_model_result_Bchron],\n",
    "             #'hamstr': [aggh.age_model_result_hamstr, SRh.SR_model_result_hamstr],\n",
    "             'Bacon': [aggBa.age_model_result_Bacon, SRBa.SR_model_result_Bacon],\n",
    "             #'clam': [aggcl.age_model_result_clam, SRcl.SR_model_result_clam],\n",
    "             'calib_dates': calib_dates}"
   ]
  },
  {
   "cell_type": "code",
   "execution_count": 27,
   "metadata": {
    "kernel": "SoS"
   },
   "outputs": [],
   "source": [
    "ASRplot = age_sr_plot.PlotAgeSR(plot_data, coreid = CoreIDs, dttp = aggRC.dttp)"
   ]
  },
  {
   "cell_type": "code",
   "execution_count": 28,
   "metadata": {
    "kernel": "SoS"
   },
   "outputs": [
    {
     "data": {
      "image/png": "[encoded data removed]",
      "text/plain": [
       "<Figure size 1200x700 with 2 Axes>"
      ]
     },
     "metadata": {},
     "output_type": "display_data"
    }
   ],
   "source": [
    "ASRplot.plot_graph(orig_dir = orig_dir, sigma_range = 'both',\n",
    "                   bin_size = 1000, xlim_max = 21000, number_col = 8, reduce_plot_axis = True,\n",
    "                   only_combined = False, save = False, for_color_blind = False, as_jpg = False)"
   ]
  },
  {
   "cell_type": "markdown",
   "metadata": {
    "kernel": "SoS"
   },
   "source": [
    "# Optimization"
   ]
  },
  {
   "cell_type": "code",
   "execution_count": null,
   "metadata": {
    "kernel": "SoS"
   },
   "outputs": [],
   "source": [
    "proxy = gd.ProxyFromFile()"
   ]
  },
  {
   "cell_type": "code",
   "execution_count": null,
   "metadata": {
    "kernel": "SoS",
    "scrolled": true
   },
   "outputs": [],
   "source": [
    "proxy_ts = proxy.get_proxy()\n",
    "###\n",
    "dict_model_name = ASRplot.dict_model_name\n",
    "dict_SR_median_age = ASRplot.dict_SR_median_age"
   ]
  },
  {
   "cell_type": "code",
   "execution_count": null,
   "metadata": {
    "kernel": "R"
   },
   "outputs": [],
   "source": [
    "%get dict_SR_median_age --from SoS\n",
    "%get dict_model_name --from SoS\n",
    "%get proxy_ts --from SoS"
   ]
  },
  {
   "cell_type": "code",
   "execution_count": null,
   "metadata": {
    "kernel": "R"
   },
   "outputs": [],
   "source": [
    "curr_nreps     <- 1000\n",
    "curr_minseg    <- 50\n",
    "curr_cptmethod <- \"mean+variance\""
   ]
  },
  {
   "cell_type": "code",
   "execution_count": null,
   "metadata": {
    "kernel": "R",
    "scrolled": true
   },
   "outputs": [],
   "source": [
    "source('src/Run_Optimization.R', local = TRUE)"
   ]
  },
  {
   "cell_type": "code",
   "execution_count": null,
   "metadata": {
    "kernel": "R"
   },
   "outputs": [],
   "source": [
    "%put result_list \n",
    "%put fitting_values"
   ]
  },
  {
   "cell_type": "code",
   "execution_count": null,
   "metadata": {
    "kernel": "SoS"
   },
   "outputs": [],
   "source": [
    "optimizedASRplot = age_sr_plot.PlotAgeSR(plot_data, coreid = CoreIDs, dttp = aggRC.dttp)"
   ]
  },
  {
   "cell_type": "code",
   "execution_count": null,
   "metadata": {
    "kernel": "SoS"
   },
   "outputs": [],
   "source": [
    "optimizedASRplot.plot_optimized_graph(optimization_values = result_list, fitting_values = fitting_values, \n",
    "                                      proxy = proxy.name, proxy_data = proxy_ts, orig_dir = orig_dir, \n",
    "                                      sigma_range = 'both', inclusion_threshold = 0.03, show_fitting_models = True,\n",
    "                                      bin_size = 1000, xlim_max = 21000, number_col = 8, reduce_plot_axis = True,\n",
    "                                      only_combined = True, save = True, for_color_blind = False, as_jpg = False)"
   ]
  },
  {
   "cell_type": "code",
   "execution_count": null,
   "metadata": {
    "kernel": "SoS"
   },
   "outputs": [],
   "source": []
  }
 ],
 "metadata": {
  "kernelspec": {
   "display_name": "SoS",
   "language": "sos",
   "name": "sos"
  },
  "language_info": {
   "codemirror_mode": "sos",
   "file_extension": ".sos",
   "mimetype": "text/x-sos",
   "name": "sos",
   "nbconvert_exporter": "sos_notebook.converter.SoS_Exporter",
   "pygments_lexer": "sos"
  },
  "sos": {
   "kernels": [
    [
     "Octave",
     "octave",
     "Octave",
     "#dff8fb",
     ""
    ],
    [
     "R",
     "ir",
     "R",
     "lightgrey",
     "r"
    ],
    [
     "SoS",
     "sos",
     "",
     "",
     "sos"
    ]
   ],
   "panel": {
    "displayed": false,
    "height": 0
   },
   "version": "0.24.4"
  }
 },
 "nbformat": 4,
 "nbformat_minor": 4
}

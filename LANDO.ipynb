{
 "cells": [
  {
   "cell_type": "markdown",
   "metadata": {
    "kernel": "SoS"
   },
   "source": [
    "# Setup"
   ]
  },
  {
   "cell_type": "markdown",
   "metadata": {
    "kernel": "SoS"
   },
   "source": [
    "### Import libraries"
   ]
  },
  {
   "cell_type": "code",
   "execution_count": 1,
   "metadata": {
    "kernel": "SoS",
    "tags": []
   },
   "outputs": [],
   "source": [
    "import numpy as np\n",
    "import pandas as pd\n",
    "import matplotlib.pyplot as plt\n",
    "import seaborn as sns\n",
    "import os\n",
    "import sys\n",
    "import datetime\n",
    "from src import (get_data as gd, \n",
    "                 prepare as prep, \n",
    "                 aggregate_data as aggregate,\n",
    "                 push_data,\n",
    "                 sedi_rate,\n",
    "                 age_sr_plot)\n",
    "###\n",
    "orig_dir = os.getcwd()"
   ]
  },
  {
   "cell_type": "markdown",
   "metadata": {
    "kernel": "SoS"
   },
   "source": [
    "# Main Data"
   ]
  },
  {
   "cell_type": "markdown",
   "metadata": {
    "kernel": "SoS"
   },
   "source": [
    "### Retrieve data "
   ]
  },
  {
   "cell_type": "code",
   "execution_count": 2,
   "metadata": {
    "kernel": "SoS",
    "tags": []
   },
   "outputs": [
    {
     "data": {
      "application/vnd.jupyter.widget-view+json": {
       "model_id": "1aa33c452d6e4a06875b1c3b435c3328",
       "version_major": 2,
       "version_minor": 0
      },
      "text/plain": [
       "FileChooser(path='/home/jovyan/work/input_files', filename='', title='', show_hidden=False, select_desc='Selec…"
      ]
     },
     "metadata": {},
     "output_type": "display_data"
    }
   ],
   "source": [
    "dates = gd.AgeFromFileOneCore()"
   ]
  },
  {
   "cell_type": "code",
   "execution_count": 3,
   "metadata": {
    "kernel": "SoS",
    "tags": []
   },
   "outputs": [],
   "source": [
    "dates.get_dates()"
   ]
  },
  {
   "cell_type": "markdown",
   "metadata": {
    "kernel": "SoS"
   },
   "source": [
    "### Add calibration curve to data"
   ]
  },
  {
   "cell_type": "code",
   "execution_count": 4,
   "metadata": {
    "kernel": "SoS",
    "tags": []
   },
   "outputs": [],
   "source": [
    "dates.select_calibration_curve(default_curve = 'IntCal20', user_selection = False)"
   ]
  },
  {
   "cell_type": "code",
   "execution_count": 5,
   "metadata": {
    "kernel": "SoS",
    "tags": []
   },
   "outputs": [],
   "source": [
    "dates.add_calibration_curve()"
   ]
  },
  {
   "cell_type": "markdown",
   "metadata": {
    "kernel": "SoS"
   },
   "source": [
    "### Put data in variables"
   ]
  },
  {
   "cell_type": "code",
   "execution_count": 6,
   "metadata": {
    "kernel": "SoS",
    "tags": []
   },
   "outputs": [],
   "source": [
    "AllAges = dates.all_ages\n",
    "CoreIDs = dates.all_coreid_list\n",
    "CoreLengths = dates.all_core_lengths\n",
    "SR_mode = 'naive'"
   ]
  },
  {
   "cell_type": "code",
   "execution_count": 7,
   "metadata": {
    "kernel": "SoS",
    "tags": []
   },
   "outputs": [],
   "source": [
    "aggRC = lambda: None\n",
    "aggRC.dttp = \"No\""
   ]
  },
  {
   "cell_type": "markdown",
   "metadata": {
    "kernel": "SoS"
   },
   "source": [
    "# Reservoir correction"
   ]
  },
  {
   "cell_type": "markdown",
   "metadata": {
    "kernel": "SoS"
   },
   "source": [
    "#### Prep"
   ]
  },
  {
   "cell_type": "code",
   "execution_count": 8,
   "metadata": {
    "kernel": "SoS",
    "tags": []
   },
   "outputs": [],
   "source": [
    "os.chdir(orig_dir)\n",
    "RC = prep.PrepForReservoirCorrection(all_ages = AllAges)\n",
    "RC.prep_it()\n",
    "RC_Frame = RC.RC_Frame\n",
    "RC_CoreIDs = RC.RC_CoreIDs\n",
    "RC_CoreLengths = CoreLengths[CoreLengths.coreid.isin(RC_CoreIDs)]"
   ]
  },
  {
   "cell_type": "markdown",
   "metadata": {
    "kernel": "SoS"
   },
   "source": [
    "#### R run"
   ]
  },
  {
   "cell_type": "code",
   "execution_count": 9,
   "metadata": {
    "kernel": "R",
    "tags": []
   },
   "outputs": [],
   "source": [
    "%get RC_Frame\n",
    "%get RC_CoreIDs \n",
    "%get RC_CoreLengths"
   ]
  },
  {
   "cell_type": "code",
   "execution_count": 10,
   "metadata": {
    "kernel": "R",
    "tags": []
   },
   "outputs": [],
   "source": [
    "K_fine <- 100\n",
    "source('src/Run_DefineReservoir.R', local = TRUE)"
   ]
  },
  {
   "cell_type": "code",
   "execution_count": 11,
   "metadata": {
    "kernel": "R",
    "tags": []
   },
   "outputs": [],
   "source": [
    "%put reservoir_core_results"
   ]
  },
  {
   "cell_type": "markdown",
   "metadata": {
    "kernel": "R"
   },
   "source": [
    "#### Aggregate results"
   ]
  },
  {
   "cell_type": "code",
   "execution_count": 12,
   "metadata": {
    "kernel": "SoS",
    "tags": []
   },
   "outputs": [],
   "source": [
    "aggRC = aggregate.AggDataReservoir(results = reservoir_core_results,\n",
    "                                   surface_dates = RC.desired_surface_dates,\n",
    "                                   verbose = 0)\n",
    "aggRC.results_agg()"
   ]
  },
  {
   "cell_type": "code",
   "execution_count": 13,
   "metadata": {
    "kernel": "SoS",
    "tags": []
   },
   "outputs": [],
   "source": [
    "AllAges = aggRC.add_reservoir(all_ages = AllAges)"
   ]
  },
  {
   "cell_type": "markdown",
   "metadata": {
    "kernel": "SoS"
   },
   "source": [
    "# Calibration\n",
    "#### Prep"
   ]
  },
  {
   "cell_type": "code",
   "execution_count": 14,
   "metadata": {
    "kernel": "SoS"
   },
   "outputs": [],
   "source": [
    "calib = prep.PrepForCalibration(all_ages = AllAges)\n",
    "calib.prep_it()\n",
    "calib_Frame = calib.calib_Frame"
   ]
  },
  {
   "cell_type": "markdown",
   "metadata": {
    "kernel": "SoS"
   },
   "source": [
    "#### R run"
   ]
  },
  {
   "cell_type": "code",
   "execution_count": 15,
   "metadata": {
    "kernel": "R"
   },
   "outputs": [],
   "source": [
    "%get calib_Frame --from SoS"
   ]
  },
  {
   "cell_type": "code",
   "execution_count": 16,
   "metadata": {
    "kernel": "R"
   },
   "outputs": [],
   "source": [
    "source('src/Run_calibration.R', local = TRUE)"
   ]
  },
  {
   "cell_type": "code",
   "execution_count": 17,
   "metadata": {
    "kernel": "R"
   },
   "outputs": [],
   "source": [
    "%put calib_dates"
   ]
  },
  {
   "cell_type": "markdown",
   "metadata": {
    "kernel": "SoS"
   },
   "source": [
    "# Age Modeling\n",
    "### UNDATABLE\n",
    "#### Prep"
   ]
  },
  {
   "cell_type": "code",
   "execution_count": 18,
   "metadata": {
    "kernel": "SoS",
    "scrolled": true
   },
   "outputs": [
    {
     "name": "stdout",
     "output_type": "stream",
     "text": [
      "Information: New files for Undatable created!\n"
     ]
    }
   ],
   "source": [
    "Undatable = prep.PrepForUndatable(all_ages = AllAges, \n",
    "                                  all_coreid_list = CoreIDs)\n",
    "Undatable.prep_it()\n",
    "CoreID_array = Undatable.CoreID_array"
   ]
  },
  {
   "cell_type": "markdown",
   "metadata": {
    "kernel": "SoS"
   },
   "source": [
    "#### Octave run"
   ]
  },
  {
   "cell_type": "code",
   "execution_count": 19,
   "metadata": {
    "kernel": "Octave"
   },
   "outputs": [
    {
     "name": "stdout",
     "output_type": "stream",
     "text": [
      "\u001b[?2004l\n",
      "a =\n",
      "\n",
      "  scalar structure containing the fields:\n",
      "\n",
      "    obj =\n",
      "    {\n",
      "      [1,1] = EN18218\n",
      "    }\n",
      "\n",
      "\n",
      "repr =\n",
      "{\n",
      "  [1,1] = EN18218\n",
      "}\n",
      "\n",
      "CoreID_array =\n",
      "{\n",
      "  [1,1] = EN18218\n",
      "}\n",
      "\n",
      "\u001b[?2004h"
     ]
    }
   ],
   "source": [
    "%get CoreID_array"
   ]
  },
  {
   "cell_type": "code",
   "execution_count": 20,
   "metadata": {
    "kernel": "Octave"
   },
   "outputs": [
    {
     "name": "stdout",
     "output_type": "stream",
     "text": [
      "\u001b[?2004l\n",
      "\u001b[?2004h\u001b[?2004l\n",
      "\u001b[?2004h\u001b[?2004l\n",
      "\u001b[?2004h"
     ]
    }
   ],
   "source": [
    "xfactor = 0.1;\n",
    "bootpc = 30;\n",
    "run_Undatable(CoreID_array, xfactor, bootpc);"
   ]
  },
  {
   "cell_type": "markdown",
   "metadata": {
    "kernel": "MATLAB"
   },
   "source": [
    "#### Aggregate results"
   ]
  },
  {
   "cell_type": "code",
   "execution_count": 21,
   "metadata": {
    "kernel": "SoS"
   },
   "outputs": [],
   "source": [
    "aggU = aggregate.AggDataUndatable(Undatable, orig_dir, dttp = aggRC.dttp)\n",
    "aggU.results_agg()"
   ]
  },
  {
   "cell_type": "markdown",
   "metadata": {
    "kernel": "SoS"
   },
   "source": [
    "#### Calculate sedimentation rate"
   ]
  },
  {
   "cell_type": "code",
   "execution_count": 22,
   "metadata": {
    "kernel": "SoS"
   },
   "outputs": [],
   "source": [
    "SRUn = sedi_rate.CalculateSediRate(aggU, model = 'Undatable', coreid = CoreIDs, mode = SR_mode)\n",
    "SRUn.calculating_SR()"
   ]
  },
  {
   "cell_type": "markdown",
   "metadata": {
    "kernel": "SoS"
   },
   "source": [
    "#### Push results to database"
   ]
  },
  {
   "cell_type": "code",
   "execution_count": 23,
   "metadata": {
    "kernel": "SoS"
   },
   "outputs": [
    {
     "name": "stdout",
     "output_type": "stream",
     "text": [
      "Information: LANDO is not connected to a database, so nothing was uploaded.\n"
     ]
    }
   ],
   "source": [
    "push = push_data.PushIt(agg = aggU,\n",
    "                        engine = dates.engine,\n",
    "                        model = 'Undatable')\n",
    "push.push_to_db()"
   ]
  },
  {
   "cell_type": "code",
   "execution_count": 24,
   "metadata": {
    "kernel": "SoS"
   },
   "outputs": [
    {
     "name": "stdout",
     "output_type": "stream",
     "text": [
      "Information: All unwanted Undatable files have been deleted\n"
     ]
    }
   ],
   "source": [
    "os.chdir(orig_dir)\n",
    "push.delete_files(location_UndatableFolder = Undatable.location_UndatableFolder,\n",
    "                  coreids = Undatable.coreid_df)"
   ]
  },
  {
   "cell_type": "markdown",
   "metadata": {
    "kernel": "SoS"
   },
   "source": [
    "### Bchron"
   ]
  },
  {
   "cell_type": "markdown",
   "metadata": {
    "kernel": "SoS"
   },
   "source": [
    "#### Prep"
   ]
  },
  {
   "cell_type": "code",
   "execution_count": 25,
   "metadata": {
    "kernel": "SoS"
   },
   "outputs": [],
   "source": [
    "os.chdir(orig_dir)\n",
    "Bchron = prep.PrepForBchron(all_ages = AllAges)\n",
    "Bchron.prep_it()\n",
    "Bchron_Frame = Bchron.Bchron_Frame"
   ]
  },
  {
   "cell_type": "markdown",
   "metadata": {
    "kernel": "SoS"
   },
   "source": [
    "#### R run"
   ]
  },
  {
   "cell_type": "code",
   "execution_count": 26,
   "metadata": {
    "kernel": "R"
   },
   "outputs": [],
   "source": [
    "%get Bchron_Frame --from SoS \n",
    "%get CoreIDs --from SoS\n",
    "%get CoreLengths --from SoS"
   ]
  },
  {
   "cell_type": "code",
   "execution_count": 27,
   "metadata": {
    "kernel": "R"
   },
   "outputs": [
    {
     "name": "stdout",
     "output_type": "stream",
     "text": [
      "Running Bchronology...\n",
      "  |============================================================| 100%\n",
      "Run completed!\n"
     ]
    },
    {
     "name": "stderr",
     "output_type": "stream",
     "text": [
      " Done with core EN18218 - Number 1 out of 1\n",
      "\n"
     ]
    }
   ],
   "source": [
    "source('src/Run_Bchron.R')"
   ]
  },
  {
   "cell_type": "code",
   "execution_count": 28,
   "metadata": {
    "kernel": "R"
   },
   "outputs": [],
   "source": [
    "%put Bchron_core_results"
   ]
  },
  {
   "cell_type": "markdown",
   "metadata": {
    "kernel": "R"
   },
   "source": [
    "#### Aggregate results"
   ]
  },
  {
   "cell_type": "code",
   "execution_count": 29,
   "metadata": {
    "kernel": "SoS"
   },
   "outputs": [],
   "source": [
    "aggBc = aggregate.AggDataBchron(Bchron_core_results, dttp = aggRC.dttp)\n",
    "aggBc.results_agg()"
   ]
  },
  {
   "cell_type": "markdown",
   "metadata": {
    "kernel": "SoS"
   },
   "source": [
    "#### Calculating sedimentation rate"
   ]
  },
  {
   "cell_type": "code",
   "execution_count": 30,
   "metadata": {
    "kernel": "SoS"
   },
   "outputs": [],
   "source": [
    "SRBc = sedi_rate.CalculateSediRate(aggBc, model = 'Bchron', coreid = CoreIDs, mode = SR_mode)\n",
    "SRBc.calculating_SR()"
   ]
  },
  {
   "cell_type": "markdown",
   "metadata": {
    "kernel": "SoS"
   },
   "source": [
    "#### Push results to database"
   ]
  },
  {
   "cell_type": "code",
   "execution_count": 31,
   "metadata": {
    "kernel": "SoS"
   },
   "outputs": [
    {
     "name": "stdout",
     "output_type": "stream",
     "text": [
      "Information: LANDO is not connected to a database, so nothing was uploaded.\n"
     ]
    }
   ],
   "source": [
    "push = push_data.PushIt(agg = aggBc,\n",
    "                        engine = dates.engine,\n",
    "                        model = 'Bchron')\n",
    "push.push_to_db()"
   ]
  },
  {
   "cell_type": "markdown",
   "metadata": {
    "kernel": "SoS"
   },
   "source": [
    "### hamstr"
   ]
  },
  {
   "cell_type": "markdown",
   "metadata": {
    "kernel": "SoS"
   },
   "source": [
    "#### Prep"
   ]
  },
  {
   "cell_type": "code",
   "execution_count": 32,
   "metadata": {
    "kernel": "SoS"
   },
   "outputs": [],
   "source": [
    "hamstr = prep.PrepForHamstr(all_ages = AllAges)\n",
    "hamstr.prep_it()\n",
    "hamstr_Frame = hamstr.hamstr_Frame"
   ]
  },
  {
   "cell_type": "markdown",
   "metadata": {
    "kernel": "SoS"
   },
   "source": [
    "#### R Run"
   ]
  },
  {
   "cell_type": "code",
   "execution_count": 33,
   "metadata": {
    "kernel": "R"
   },
   "outputs": [],
   "source": [
    "%get hamstr_Frame --from SoS \n",
    "%get CoreIDs --from SoS\n",
    "%get CoreLengths --from SoS"
   ]
  },
  {
   "cell_type": "code",
   "execution_count": 34,
   "metadata": {
    "kernel": "R",
    "scrolled": true
   },
   "outputs": [
    {
     "name": "stderr",
     "output_type": "stream",
     "text": [
      "Done with core: EN18218\n",
      "\n"
     ]
    }
   ],
   "source": [
    "K_fine <- 100\n",
    "source('src/Run_hamstr.R', local = TRUE)"
   ]
  },
  {
   "cell_type": "code",
   "execution_count": 35,
   "metadata": {
    "kernel": "R"
   },
   "outputs": [],
   "source": [
    "%put hamstr_core_results"
   ]
  },
  {
   "cell_type": "markdown",
   "metadata": {
    "kernel": "R"
   },
   "source": [
    "#### Aggregate"
   ]
  },
  {
   "cell_type": "code",
   "execution_count": 36,
   "metadata": {
    "kernel": "SoS"
   },
   "outputs": [],
   "source": [
    "aggh = aggregate.AggDataHamstr(hamstr_core_results, dttp = aggRC.dttp)\n",
    "aggh.results_agg()"
   ]
  },
  {
   "cell_type": "markdown",
   "metadata": {
    "kernel": "SoS"
   },
   "source": [
    "#### Calculating sedimentation rate"
   ]
  },
  {
   "cell_type": "code",
   "execution_count": 37,
   "metadata": {
    "kernel": "SoS"
   },
   "outputs": [],
   "source": [
    "SRh = sedi_rate.CalculateSediRate(aggh, model = 'hamstr', coreid = CoreIDs, mode = SR_mode)\n",
    "SRh.calculating_SR()"
   ]
  },
  {
   "cell_type": "markdown",
   "metadata": {
    "kernel": "SoS"
   },
   "source": [
    "#### Push results to database"
   ]
  },
  {
   "cell_type": "code",
   "execution_count": 38,
   "metadata": {
    "kernel": "SoS"
   },
   "outputs": [
    {
     "name": "stdout",
     "output_type": "stream",
     "text": [
      "Information: LANDO is not connected to a database, so nothing was uploaded.\n"
     ]
    }
   ],
   "source": [
    "push = push_data.PushIt(agg = aggh,\n",
    "                        engine = dates.engine,\n",
    "                        model = 'hamstr')\n",
    "push.push_to_db()"
   ]
  },
  {
   "cell_type": "markdown",
   "metadata": {
    "kernel": "SoS"
   },
   "source": [
    "### Bacon"
   ]
  },
  {
   "cell_type": "markdown",
   "metadata": {
    "kernel": "SoS"
   },
   "source": [
    "#### Prep"
   ]
  },
  {
   "cell_type": "code",
   "execution_count": 43,
   "metadata": {
    "kernel": "SoS"
   },
   "outputs": [],
   "source": [
    "Bacon = prep.PrepForBacon(all_ages = AllAges)\n",
    "Bacon.prep_it()\n",
    "Bacon_Frame = Bacon.Bacon_Frame"
   ]
  },
  {
   "cell_type": "markdown",
   "metadata": {
    "kernel": "SoS"
   },
   "source": [
    "#### R Run"
   ]
  },
  {
   "cell_type": "code",
   "execution_count": 44,
   "metadata": {
    "kernel": "R"
   },
   "outputs": [],
   "source": [
    "%get Bacon_Frame --from SoS \n",
    "%get CoreIDs --from SoS\n",
    "%get CoreLengths --from SoS"
   ]
  },
  {
   "cell_type": "code",
   "execution_count": 83,
   "metadata": {
    "kernel": "R"
   },
   "outputs": [
    {
     "name": "stderr",
     "output_type": "stream",
     "text": [
      "Detected <=16GB RAM: using thick = 5\n",
      "\n",
      "Pre-calibrating radiocarbon dates (if needed)...\n",
      "\n",
      "Warning message in file(file, \"rt\"):\n",
      "“cannot open file 'cal_curves/intcal20.14c': No such file or directory”\n",
      "⚠️ Calibration failed for EN18218 18.75: cannot open the connection\n",
      "\n",
      "Warning message in file(file, \"rt\"):\n",
      "“cannot open file 'cal_curves/intcal20.14c': No such file or directory”\n",
      "⚠️ Calibration failed for EN18218 35.25: cannot open the connection\n",
      "\n",
      "Warning message in file(file, \"rt\"):\n",
      "“cannot open file 'cal_curves/intcal20.14c': No such file or directory”\n",
      "⚠️ Calibration failed for EN18218 59.75: cannot open the connection\n",
      "\n",
      "Warning message in file(file, \"rt\"):\n",
      "“cannot open file 'cal_curves/intcal20.14c': No such file or directory”\n",
      "⚠️ Calibration failed for EN18218 81.25: cannot open the connection\n",
      "\n",
      "Warning message in file(file, \"rt\"):\n",
      "“cannot open file 'cal_curves/intcal20.14c': No such file or directory”\n",
      "⚠️ Calibration failed for EN18218 114.75: cannot open the connection\n",
      "\n",
      "Warning message in file(file, \"rt\"):\n",
      "“cannot open file 'cal_curves/intcal20.14c': No such file or directory”\n",
      "⚠️ Calibration failed for EN18218 138.75: cannot open the connection\n",
      "\n",
      "Warning message in file(file, \"rt\"):\n",
      "“cannot open file 'cal_curves/intcal20.14c': No such file or directory”\n",
      "⚠️ Calibration failed for EN18218 162.75: cannot open the connection\n",
      "\n",
      "Warning message in file(file, \"rt\"):\n",
      "“cannot open file 'cal_curves/intcal20.14c': No such file or directory”\n",
      "⚠️ Calibration failed for EN18218 187.75: cannot open the connection\n",
      "\n",
      "Warning message in file(file, \"rt\"):\n",
      "“cannot open file 'cal_curves/intcal20.14c': No such file or directory”\n",
      "⚠️ Calibration failed for EN18218 221.75: cannot open the connection\n",
      "\n",
      "Warning message in file(file, \"rt\"):\n",
      "“cannot open file 'cal_curves/intcal20.14c': No such file or directory”\n",
      "⚠️ Calibration failed for EN18218 248.75: cannot open the connection\n",
      "\n",
      "Warning message in file(file, \"rt\"):\n",
      "“cannot open file 'cal_curves/intcal20.14c': No such file or directory”\n",
      "⚠️ Calibration failed for EN18218 270.75: cannot open the connection\n",
      "\n",
      "Warning message in file(file, \"rt\"):\n",
      "“cannot open file 'cal_curves/intcal20.14c': No such file or directory”\n",
      "⚠️ Calibration failed for EN18218 293.25: cannot open the connection\n",
      "\n",
      "Warning message in file(file, \"rt\"):\n",
      "“cannot open file 'cal_curves/intcal20.14c': No such file or directory”\n",
      "⚠️ Calibration failed for EN18218 316.75: cannot open the connection\n",
      "\n",
      "Warning message in file(file, \"rt\"):\n",
      "“cannot open file 'cal_curves/intcal20.14c': No such file or directory”\n",
      "⚠️ Calibration failed for EN18218 338.75: cannot open the connection\n",
      "\n",
      "Warning message in file(file, \"rt\"):\n",
      "“cannot open file 'cal_curves/intcal20.14c': No such file or directory”\n",
      "⚠️ Calibration failed for EN18218 362.75: cannot open the connection\n",
      "\n",
      "Warning message in file(file, \"rt\"):\n",
      "“cannot open file 'cal_curves/intcal20.14c': No such file or directory”\n",
      "⚠️ Calibration failed for EN18218 383.75: cannot open the connection\n",
      "\n",
      "Warning message in file(file, \"rt\"):\n",
      "“cannot open file 'cal_curves/intcal20.14c': No such file or directory”\n",
      "⚠️ Calibration failed for EN18218 404.75: cannot open the connection\n",
      "\n",
      "Warning message in file(file, \"rt\"):\n",
      "“cannot open file 'cal_curves/intcal20.14c': No such file or directory”\n",
      "⚠️ Calibration failed for EN18218 443.75: cannot open the connection\n",
      "\n",
      "Warning message in file(file, \"rt\"):\n",
      "“cannot open file 'cal_curves/intcal20.14c': No such file or directory”\n",
      "⚠️ Calibration failed for EN18218 474.75: cannot open the connection\n",
      "\n",
      "Warning message in file(file, \"rt\"):\n",
      "“cannot open file 'cal_curves/intcal20.14c': No such file or directory”\n",
      "⚠️ Calibration failed for EN18218 503.75: cannot open the connection\n",
      "\n",
      "Warning message in file(file, \"rt\"):\n",
      "“cannot open file 'cal_curves/intcal20.14c': No such file or directory”\n",
      "⚠️ Calibration failed for EN18218 536.25: cannot open the connection\n",
      "\n",
      "Warning message in file(file, \"rt\"):\n",
      "“cannot open file 'cal_curves/intcal20.14c': No such file or directory”\n",
      "⚠️ Calibration failed for EN18218 565.75: cannot open the connection\n",
      "\n",
      "Warning message in file(file, \"rt\"):\n",
      "“cannot open file 'cal_curves/intcal20.14c': No such file or directory”\n",
      "⚠️ Calibration failed for EN18218 596.25: cannot open the connection\n",
      "\n",
      "Warning message in file(file, \"rt\"):\n",
      "“cannot open file 'cal_curves/intcal20.14c': No such file or directory”\n",
      "⚠️ Calibration failed for EN18218 624.25: cannot open the connection\n",
      "\n",
      "Warning message in file(file, \"rt\"):\n",
      "“cannot open file 'cal_curves/intcal20.14c': No such file or directory”\n",
      "⚠️ Calibration failed for EN18218 646.25: cannot open the connection\n",
      "\n"
     ]
    },
    {
     "name": "stdout",
     "output_type": "stream",
     "text": [
      "starting worker for localhost:11348 \n",
      "Type: EXEC \n",
      "Type: EXEC \n",
      "Type: EXEC \n",
      "Type: EXEC \n",
      "Type: EXEC \n",
      "Type: EXEC \n",
      "Type: EXEC \n",
      "Type: EXEC \n",
      "Type: EXEC \n",
      "Type: EXEC \n",
      "Type: EXEC \n",
      "Type: EXEC \n",
      "Type: EXEC \n"
     ]
    },
    {
     "name": "stderr",
     "output_type": "stream",
     "text": [
      "Loading required package: foreach\n",
      "Loading required package: rngtools\n"
     ]
    },
    {
     "name": "stdout",
     "output_type": "stream",
     "text": [
      "The run's files will be put in this folder: /tmp/RtmpHyGH95/EN18218\n",
      "The run's files will be put in this folder: /tmp/RtmpHyGH95/EN18218\n",
      "The run's files will be put in this folder: /tmp/RtmpHyGH95/EN18218\n",
      "The run's files will be put in this folder: /tmp/RtmpHyGH95/EN18218\n",
      "The run's files will be put in this folder: /tmp/RtmpHyGH95/EN18218\n",
      "Type: DONE \n"
     ]
    },
    {
     "name": "stderr",
     "output_type": "stream",
     "text": [
      "Running Bacon for core EN18218 (attempt 1, ssize = 10000)\n",
      "❌ Bacon error on attempt 1: missing value where TRUE/FALSE needed\n",
      "Running Bacon for core EN18218 (attempt 2, ssize = 15000)\n",
      "❌ Bacon error on attempt 2: missing value where TRUE/FALSE needed\n",
      "Running Bacon for core EN18218 (attempt 3, ssize = 22500)\n",
      "❌ Bacon error on attempt 3: missing value where TRUE/FALSE needed\n",
      "Running Bacon for core EN18218 (attempt 4, ssize = 33750)\n",
      "❌ Bacon error on attempt 4: missing value where TRUE/FALSE needed\n",
      "Running Bacon for core EN18218 (attempt 5, ssize = 50625)\n",
      "❌ Bacon error on attempt 5: missing value where TRUE/FALSE needed\n",
      "⚠️ Error in core EN18218: ❌ Failed to generate ≥10001 iterations for core EN18218 after 5 attempts\n"
     ]
    }
   ],
   "source": [
    "acc.shape <- 1.5\n",
    "acc.mean <- 20\n",
    "mem.strength <- 10\n",
    "mem.mean <- 0.5\n",
    "ssize <- 10000\n",
    "rbacon.change.acc.mean <- FALSE\n",
    "rbacon.change.thick <- FALSE\n",
    "source('src/Run_Bacon.R', local = TRUE)"
   ]
  },
  {
   "cell_type": "code",
   "execution_count": 74,
   "metadata": {
    "kernel": "R"
   },
   "outputs": [],
   "source": [
    "warnings()"
   ]
  },
  {
   "cell_type": "code",
   "execution_count": 75,
   "metadata": {
    "kernel": "R"
   },
   "outputs": [],
   "source": [
    "%put Bacon_core_results"
   ]
  },
  {
   "cell_type": "markdown",
   "metadata": {
    "editable": true,
    "kernel": "SoS",
    "slideshow": {
     "slide_type": ""
    },
    "tags": []
   },
   "source": [
    "#### Aggregate"
   ]
  },
  {
   "cell_type": "code",
   "execution_count": 47,
   "metadata": {
    "kernel": "SoS"
   },
   "outputs": [],
   "source": [
    "aggBa = aggregate.AggDataBacon(Bacon_core_results, dttp = aggRC.dttp)\n",
    "aggBa.results_agg()"
   ]
  },
  {
   "cell_type": "markdown",
   "metadata": {
    "kernel": "SoS"
   },
   "source": [
    "#### Calculating sedimentation rate"
   ]
  },
  {
   "cell_type": "code",
   "execution_count": 48,
   "metadata": {
    "kernel": "SoS"
   },
   "outputs": [],
   "source": [
    "SRBa = sedi_rate.CalculateSediRate(aggBa, model = 'Bacon', coreid = CoreIDs, mode = SR_mode)\n",
    "SRBa.calculating_SR()"
   ]
  },
  {
   "cell_type": "markdown",
   "metadata": {
    "kernel": "SoS"
   },
   "source": [
    "#### Push results to database"
   ]
  },
  {
   "cell_type": "code",
   "execution_count": 49,
   "metadata": {
    "kernel": "SoS"
   },
   "outputs": [
    {
     "name": "stdout",
     "output_type": "stream",
     "text": [
      "Information: LANDO is not connected to a database, so nothing was uploaded.\n"
     ]
    }
   ],
   "source": [
    "push = push_data.PushIt(agg = aggBa,\n",
    "                        engine = dates.engine,\n",
    "                        model = 'Bacon')\n",
    "push.push_to_db()"
   ]
  },
  {
   "cell_type": "markdown",
   "metadata": {
    "kernel": "SoS"
   },
   "source": [
    "### Clam"
   ]
  },
  {
   "cell_type": "markdown",
   "metadata": {
    "kernel": "SoS"
   },
   "source": [
    "#### Prep"
   ]
  },
  {
   "cell_type": "code",
   "execution_count": 54,
   "metadata": {
    "kernel": "SoS"
   },
   "outputs": [],
   "source": [
    "clam = prep.PrepForClam(all_ages = AllAges)\n",
    "clam.prep_it()\n",
    "clam_Frame = clam.clam_Frame"
   ]
  },
  {
   "cell_type": "markdown",
   "metadata": {
    "kernel": "SoS"
   },
   "source": [
    "#### R Run"
   ]
  },
  {
   "cell_type": "code",
   "execution_count": 55,
   "metadata": {
    "kernel": "R"
   },
   "outputs": [],
   "source": [
    "%get clam_Frame --from SoS\n",
    "%get CoreIDs --from SoS\n",
    "%get CoreLengths --from SoS"
   ]
  },
  {
   "cell_type": "code",
   "execution_count": 56,
   "metadata": {
    "kernel": "R"
   },
   "outputs": [],
   "source": [
    "types_curve <- 1:5\n",
    "smoothness_curve <- 0.1*(1:10)\n",
    "poly_degree_curve <- 1:4\n",
    "best_fit <- TRUE"
   ]
  },
  {
   "cell_type": "code",
   "execution_count": 57,
   "metadata": {
    "kernel": "R"
   },
   "outputs": [
    {
     "name": "stderr",
     "output_type": "stream",
     "text": [
      "🌍 Starting core EN18218 (1 of 1)\n",
      "\n"
     ]
    },
    {
     "name": "stdout",
     "output_type": "stream",
     "text": [
      "starting worker for localhost:11348 \n",
      "starting worker for localhost:11348 \n",
      "starting worker for localhost:11348 \n",
      "starting worker for localhost:11348 \n",
      "starting worker for localhost:11348 \n",
      "starting worker for localhost:11348 \n",
      "Type: EXEC \n",
      "Type: EXEC \n",
      "Type: EXEC \n",
      "Type: EXEC \n",
      "Type: EXEC \n",
      "Type: EXEC \n",
      "Type: EXEC \n",
      "Type: EXEC \n",
      "Type: EXEC \n",
      "Type: EXEC \n",
      "Type: EXEC \n",
      "Type: EXEC \n",
      " extrapolating beyond dated levels, dangerous!\n",
      "  extrapolating beyond dated levels, dangerous!\n",
      "  extrapolating beyond dated levels, dangerous!\n",
      "  extrapolating beyond dated levels, dangerous!\n",
      "  extrapolating beyond dated levels, dangerous!\n",
      "  extrapolating beyond dated levels, dangerous!\n",
      "  Interpolating, sampling.........."
     ]
    },
    {
     "name": "stderr",
     "output_type": "stream",
     "text": [
      "📏 Fit for EN18218 — clam type 3: 28.93\n",
      "✅ Finished core EN18218 — clam type 3\n"
     ]
    },
    {
     "name": "stdout",
     "output_type": "stream",
     "text": [
      "Type: EXEC \n",
      " extrapolating beyond dated levels, dangerous!\n",
      " "
     ]
    },
    {
     "name": "stderr",
     "output_type": "stream",
     "text": [
      "📏 Fit for EN18218 — clam type 1: 27.26\n",
      "✅ Finished core EN18218 — clam type 1\n"
     ]
    },
    {
     "name": "stdout",
     "output_type": "stream",
     "text": [
      "Type: EXEC \n",
      " extrapolating beyond dated levels, dangerous!\n",
      " .................."
     ]
    },
    {
     "name": "stderr",
     "output_type": "stream",
     "text": [
      "📏 Fit for EN18218 — clam type 4 smoothing 0.1: 71.2\n",
      "✅ Finished core EN18218 — clam type 4 smoothing 0.1\n"
     ]
    },
    {
     "name": "stdout",
     "output_type": "stream",
     "text": [
      "Type: EXEC \n",
      " extrapolating beyond dated levels, dangerous!\n",
      " "
     ]
    },
    {
     "name": "stderr",
     "output_type": "stream",
     "text": [
      "📏 Fit for EN18218 — clam type 4 smoothing 0.2: 82.76\n",
      "✅ Finished core EN18218 — clam type 4 smoothing 0.2\n"
     ]
    },
    {
     "name": "stdout",
     "output_type": "stream",
     "text": [
      "Type: EXEC \n",
      " extrapolating beyond dated levels, dangerous!\n",
      " .............."
     ]
    },
    {
     "name": "stderr",
     "output_type": "stream",
     "text": [
      "📏 Fit for EN18218 — clam type 4 smoothing 0.3: 150.84\n",
      "✅ Finished core EN18218 — clam type 4 smoothing 0.3\n"
     ]
    },
    {
     "name": "stdout",
     "output_type": "stream",
     "text": [
      "Type: EXEC \n",
      " extrapolating beyond dated levels, dangerous!\n",
      " ."
     ]
    },
    {
     "name": "stderr",
     "output_type": "stream",
     "text": [
      "📏 Fit for EN18218 — clam type 4 smoothing 0.4: 283.19\n",
      "✅ Finished core EN18218 — clam type 4 smoothing 0.4\n"
     ]
    },
    {
     "name": "stdout",
     "output_type": "stream",
     "text": [
      ".Type: EXEC \n",
      " extrapolating beyond dated levels, dangerous!\n",
      " ............"
     ]
    },
    {
     "name": "stderr",
     "output_type": "stream",
     "text": [
      "📏 Fit for EN18218 — clam type 2 degree 1: NA\n",
      "✅ Finished core EN18218 — clam type 2 degree 1\n"
     ]
    },
    {
     "name": "stdout",
     "output_type": "stream",
     "text": [
      "."
     ]
    },
    {
     "name": "stderr",
     "output_type": "stream",
     "text": [
      "📏 Fit for EN18218 — clam type 2 degree 2: NA\n",
      "✅ Finished core EN18218 — clam type 2 degree 2\n"
     ]
    },
    {
     "name": "stdout",
     "output_type": "stream",
     "text": [
      "..Type: EXEC \n",
      "Type: EXEC \n",
      " extrapolating beyond dated levels, dangerous!\n",
      "  extrapolating beyond dated levels, dangerous!\n",
      " "
     ]
    },
    {
     "name": "stderr",
     "output_type": "stream",
     "text": [
      "📏 Fit for EN18218 — clam type 2 degree 3: 2180.5\n",
      "✅ Finished core EN18218 — clam type 2 degree 3\n"
     ]
    },
    {
     "name": "stdout",
     "output_type": "stream",
     "text": [
      "Type: EXEC \n",
      " extrapolating beyond dated levels, dangerous!\n",
      " ."
     ]
    },
    {
     "name": "stderr",
     "output_type": "stream",
     "text": [
      "📏 Fit for EN18218 — clam type 2 degree 4: 1201.4\n",
      "✅ Finished core EN18218 — clam type 2 degree 4\n",
      "📏 Fit for EN18218 — clam type 4 smoothing 0.5: 485.81\n",
      "✅ Finished core EN18218 — clam type 4 smoothing 0.5\n"
     ]
    },
    {
     "name": "stdout",
     "output_type": "stream",
     "text": [
      "Type: EXEC \n",
      "Type: EXEC \n",
      " extrapolating beyond dated levels, dangerous!\n",
      " .."
     ]
    },
    {
     "name": "stderr",
     "output_type": "stream",
     "text": [
      "📏 Fit for EN18218 — clam type 4 smoothing 0.6: 602.92\n",
      "✅ Finished core EN18218 — clam type 4 smoothing 0.6\n"
     ]
    },
    {
     "name": "stdout",
     "output_type": "stream",
     "text": [
      "Type: EXEC \n",
      "..................."
     ]
    },
    {
     "name": "stderr",
     "output_type": "stream",
     "text": [
      "📏 Fit for EN18218 — clam type 4 smoothing 0.7: 883.8\n",
      "✅ Finished core EN18218 — clam type 4 smoothing 0.7\n",
      "📏 Fit for EN18218 — clam type 4 smoothing 0.8: 1436.9\n",
      "✅ Finished core EN18218 — clam type 4 smoothing 0.8\n"
     ]
    },
    {
     "name": "stdout",
     "output_type": "stream",
     "text": [
      ".Type: EXEC \n",
      "Type: EXEC \n"
     ]
    },
    {
     "name": "stderr",
     "output_type": "stream",
     "text": [
      "📏 Fit for EN18218 — clam type 4 smoothing 0.9: 2203.5\n",
      "✅ Finished core EN18218 — clam type 4 smoothing 0.9\n"
     ]
    },
    {
     "name": "stdout",
     "output_type": "stream",
     "text": [
      ".Type: EXEC \n"
     ]
    },
    {
     "name": "stderr",
     "output_type": "stream",
     "text": [
      "📏 Fit for EN18218 — clam type 4 smoothing 1.0: 2872.9\n",
      "✅ Finished core EN18218 — clam type 4 smoothing 1.0\n"
     ]
    },
    {
     "name": "stdout",
     "output_type": "stream",
     "text": [
      ".Type: EXEC \n",
      "................."
     ]
    },
    {
     "name": "stderr",
     "output_type": "stream",
     "text": [
      "📏 Fit for EN18218 — clam type 5 smoothing 0.2: 130.12\n",
      "✅ Finished core EN18218 — clam type 5 smoothing 0.2\n"
     ]
    },
    {
     "name": "stdout",
     "output_type": "stream",
     "text": [
      "Type: EXEC \n",
      "....."
     ]
    },
    {
     "name": "stderr",
     "output_type": "stream",
     "text": [
      "📏 Fit for EN18218 — clam type 5 smoothing 0.1: 28.02\n",
      "✅ Finished core EN18218 — clam type 5 smoothing 0.1\n"
     ]
    },
    {
     "name": "stdout",
     "output_type": "stream",
     "text": [
      "Type: EXEC \n",
      "...."
     ]
    },
    {
     "name": "stderr",
     "output_type": "stream",
     "text": [
      "📏 Fit for EN18218 — clam type 5 smoothing 0.4: 634.73\n",
      "✅ Finished core EN18218 — clam type 5 smoothing 0.4\n"
     ]
    },
    {
     "name": "stdout",
     "output_type": "stream",
     "text": [
      ".Type: EXEC \n",
      ".."
     ]
    },
    {
     "name": "stderr",
     "output_type": "stream",
     "text": [
      "📏 Fit for EN18218 — clam type 5 smoothing 0.5: 1070.7\n",
      "✅ Finished core EN18218 — clam type 5 smoothing 0.5\n"
     ]
    },
    {
     "name": "stdout",
     "output_type": "stream",
     "text": [
      "Type: EXEC \n"
     ]
    },
    {
     "name": "stderr",
     "output_type": "stream",
     "text": [
      "📏 Fit for EN18218 — clam type 5 smoothing 0.3: 551.88\n",
      "✅ Finished core EN18218 — clam type 5 smoothing 0.3\n",
      "📏 Fit for EN18218 — clam type 5 smoothing 0.6: 1764.4\n",
      "✅ Finished core EN18218 — clam type 5 smoothing 0.6\n"
     ]
    },
    {
     "name": "stdout",
     "output_type": "stream",
     "text": [
      "............"
     ]
    },
    {
     "name": "stderr",
     "output_type": "stream",
     "text": [
      "📏 Fit for EN18218 — clam type 5 smoothing 0.7: 2195.1\n",
      "✅ Finished core EN18218 — clam type 5 smoothing 0.7\n"
     ]
    },
    {
     "name": "stdout",
     "output_type": "stream",
     "text": [
      "..."
     ]
    },
    {
     "name": "stderr",
     "output_type": "stream",
     "text": [
      "📏 Fit for EN18218 — clam type 5 smoothing 0.8: 2396.6\n",
      "✅ Finished core EN18218 — clam type 5 smoothing 0.8\n"
     ]
    },
    {
     "name": "stdout",
     "output_type": "stream",
     "text": [
      ".."
     ]
    },
    {
     "name": "stderr",
     "output_type": "stream",
     "text": [
      "📏 Fit for EN18218 — clam type 5 smoothing 0.9: 2686.8\n",
      "✅ Finished core EN18218 — clam type 5 smoothing 0.9\n",
      "📏 Fit for EN18218 — clam type 5 smoothing 1.0: NA\n",
      "✅ Finished core EN18218 — clam type 5 smoothing 1.0\n"
     ]
    },
    {
     "name": "stdout",
     "output_type": "stream",
     "text": [
      "Type: DONE \n",
      "Type: DONE \n",
      "Type: DONE \n",
      "Type: DONE \n",
      "Type: DONE \n",
      "Type: DONE \n"
     ]
    },
    {
     "name": "stderr",
     "output_type": "stream",
     "text": [
      "\n",
      "\n"
     ]
    }
   ],
   "source": [
    "source('src/Run_clam.R', local = TRUE)"
   ]
  },
  {
   "cell_type": "code",
   "execution_count": 58,
   "metadata": {
    "kernel": "R"
   },
   "outputs": [],
   "source": [
    "%put clam_core_results"
   ]
  },
  {
   "cell_type": "markdown",
   "metadata": {
    "kernel": "R"
   },
   "source": [
    "#### Aggregate"
   ]
  },
  {
   "cell_type": "code",
   "execution_count": 59,
   "metadata": {
    "kernel": "SoS"
   },
   "outputs": [],
   "source": [
    "aggcl = aggregate.AggDataClam(clam_core_results, dttp = aggRC.dttp)\n",
    "aggcl.results_agg()"
   ]
  },
  {
   "cell_type": "markdown",
   "metadata": {
    "kernel": "SoS"
   },
   "source": [
    "#### Calculating sedimentation rate"
   ]
  },
  {
   "cell_type": "code",
   "execution_count": 60,
   "metadata": {
    "kernel": "SoS"
   },
   "outputs": [],
   "source": [
    "SRcl = sedi_rate.CalculateSediRate(aggcl, model = 'clam', coreid = CoreIDs, mode = SR_mode)\n",
    "SRcl.calculating_SR()"
   ]
  },
  {
   "cell_type": "markdown",
   "metadata": {
    "kernel": "SoS"
   },
   "source": [
    "#### Push results to database"
   ]
  },
  {
   "cell_type": "code",
   "execution_count": 61,
   "metadata": {
    "kernel": "SoS"
   },
   "outputs": [
    {
     "name": "stdout",
     "output_type": "stream",
     "text": [
      "Information: LANDO is not connected to a database, so nothing was uploaded.\n"
     ]
    }
   ],
   "source": [
    "push = push_data.PushIt(agg = aggcl,\n",
    "                        engine = dates.engine,\n",
    "                        model = 'clam')\n",
    "push.push_to_db()"
   ]
  },
  {
   "cell_type": "markdown",
   "metadata": {
    "kernel": "SoS"
   },
   "source": [
    "# Plotting"
   ]
  },
  {
   "cell_type": "code",
   "execution_count": 65,
   "metadata": {
    "kernel": "SoS"
   },
   "outputs": [],
   "source": [
    "plot_data = {'Undatable' : [aggU.age_model_result_Undatable, SRUn.SR_model_result_Undatable],\n",
    "             'Bchron': [aggBc.age_model_result_Bchron, SRBc.SR_model_result_Bchron],\n",
    "             'hamstr': [aggh.age_model_result_hamstr, SRh.SR_model_result_hamstr],\n",
    "             #'Bacon': [aggBa.age_model_result_Bacon, SRBa.SR_model_result_Bacon],\n",
    "             'clam': [aggcl.age_model_result_clam, SRcl.SR_model_result_clam],\n",
    "             'calib_dates': calib_dates}"
   ]
  },
  {
   "cell_type": "code",
   "execution_count": 66,
   "metadata": {
    "kernel": "SoS"
   },
   "outputs": [],
   "source": [
    "ASRplot = age_sr_plot.PlotAgeSR(plot_data, coreid = CoreIDs, dttp = aggRC.dttp)"
   ]
  },
  {
   "cell_type": "code",
   "execution_count": 67,
   "metadata": {
    "kernel": "SoS"
   },
   "outputs": [
    {
     "data": {
      "image/png": "[encoded data removed]",
      "text/plain": [
       "<Figure size 1200x700 with 2 Axes>"
      ]
     },
     "metadata": {},
     "output_type": "display_data"
    }
   ],
   "source": [
    "ASRplot.plot_graph(orig_dir = orig_dir, sigma_range = 'both',\n",
    "                   bin_size = 1000, xlim_max = 21000, number_col = 8, reduce_plot_axis = True,\n",
    "                   only_combined = False, save = False, for_color_blind = False, as_jpg = False)"
   ]
  },
  {
   "cell_type": "markdown",
   "metadata": {
    "kernel": "SoS"
   },
   "source": [
    "# Optimization"
   ]
  },
  {
   "cell_type": "code",
   "execution_count": null,
   "metadata": {
    "kernel": "SoS"
   },
   "outputs": [],
   "source": [
    "proxy = gd.ProxyFromFile()"
   ]
  },
  {
   "cell_type": "code",
   "execution_count": null,
   "metadata": {
    "kernel": "SoS",
    "scrolled": true
   },
   "outputs": [],
   "source": [
    "proxy_ts = proxy.get_proxy()\n",
    "###\n",
    "dict_model_name = ASRplot.dict_model_name\n",
    "dict_SR_median_age = ASRplot.dict_SR_median_age"
   ]
  },
  {
   "cell_type": "code",
   "execution_count": null,
   "metadata": {
    "kernel": "R"
   },
   "outputs": [],
   "source": [
    "%get dict_SR_median_age --from SoS\n",
    "%get dict_model_name --from SoS\n",
    "%get proxy_ts --from SoS"
   ]
  },
  {
   "cell_type": "code",
   "execution_count": null,
   "metadata": {
    "kernel": "R"
   },
   "outputs": [],
   "source": [
    "curr_nreps     <- 1000\n",
    "curr_minseg    <- 50\n",
    "curr_cptmethod <- \"mean+variance\""
   ]
  },
  {
   "cell_type": "code",
   "execution_count": null,
   "metadata": {
    "kernel": "R",
    "scrolled": true
   },
   "outputs": [],
   "source": [
    "source('src/Run_Optimization.R', local = TRUE)"
   ]
  },
  {
   "cell_type": "code",
   "execution_count": null,
   "metadata": {
    "kernel": "R"
   },
   "outputs": [],
   "source": [
    "%put result_list \n",
    "%put fitting_values"
   ]
  },
  {
   "cell_type": "code",
   "execution_count": null,
   "metadata": {
    "kernel": "SoS"
   },
   "outputs": [],
   "source": [
    "optimizedASRplot = age_sr_plot.PlotAgeSR(plot_data, coreid = CoreIDs, dttp = aggRC.dttp)"
   ]
  },
  {
   "cell_type": "code",
   "execution_count": null,
   "metadata": {
    "kernel": "SoS"
   },
   "outputs": [],
   "source": [
    "optimizedASRplot.plot_optimized_graph(optimization_values = result_list, fitting_values = fitting_values, \n",
    "                                      proxy = proxy.name, proxy_data = proxy_ts, orig_dir = orig_dir, \n",
    "                                      sigma_range = 'both', inclusion_threshold = 0.03, show_fitting_models = True,\n",
    "                                      bin_size = 1000, xlim_max = 21000, number_col = 8, reduce_plot_axis = True,\n",
    "                                      only_combined = True, save = True, for_color_blind = False, as_jpg = False)"
   ]
  },
  {
   "cell_type": "code",
   "execution_count": null,
   "metadata": {
    "kernel": "SoS"
   },
   "outputs": [],
   "source": []
  }
 ],
 "metadata": {
  "kernelspec": {
   "display_name": "SoS",
   "language": "sos",
   "name": "sos"
  },
  "language_info": {
   "codemirror_mode": "sos",
   "file_extension": ".sos",
   "mimetype": "text/x-sos",
   "name": "sos",
   "nbconvert_exporter": "sos_notebook.converter.SoS_Exporter",
   "pygments_lexer": "sos"
  },
  "sos": {
   "kernels": [
    [
     "Octave",
     "octave",
     "Octave",
     "#dff8fb",
     ""
    ],
    [
     "R",
     "ir",
     "R",
     "lightgrey",
     "r"
    ],
    [
     "SoS",
     "sos",
     "",
     "",
     "sos"
    ]
   ],
   "panel": {
    "displayed": false,
    "height": 0
   },
   "version": "0.24.4"
  }
 },
 "nbformat": 4,
 "nbformat_minor": 4
}
